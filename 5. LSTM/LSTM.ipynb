{
 "cells": [
  {
   "cell_type": "markdown",
   "metadata": {
    "toc": true
   },
   "source": [
    "<h1>Table of Contents<span class=\"tocSkip\"></span></h1>\n",
    "<div class=\"toc\"><ul class=\"toc-item\"><li><span><a href=\"#Import-Libraries\" data-toc-modified-id=\"Import-Libraries-1\"><span class=\"toc-item-num\">1&nbsp;&nbsp;</span>Import Libraries</a></span></li><li><span><a href=\"#Preprocessing\" data-toc-modified-id=\"Preprocessing-2\"><span class=\"toc-item-num\">2&nbsp;&nbsp;</span>Preprocessing</a></span><ul class=\"toc-item\"><li><span><a href=\"#Financials-df\" data-toc-modified-id=\"Financials-df-2.1\"><span class=\"toc-item-num\">2.1&nbsp;&nbsp;</span>Financials df</a></span></li><li><span><a href=\"#Options-df\" data-toc-modified-id=\"Options-df-2.2\"><span class=\"toc-item-num\">2.2&nbsp;&nbsp;</span>Options df</a></span></li><li><span><a href=\"#Stock-List-df\" data-toc-modified-id=\"Stock-List-df-2.3\"><span class=\"toc-item-num\">2.3&nbsp;&nbsp;</span>Stock List df</a></span></li><li><span><a href=\"#Secondary-Stock-Prices-df\" data-toc-modified-id=\"Secondary-Stock-Prices-df-2.4\"><span class=\"toc-item-num\">2.4&nbsp;&nbsp;</span>Secondary Stock Prices df</a></span></li><li><span><a href=\"#Trades-df\" data-toc-modified-id=\"Trades-df-2.5\"><span class=\"toc-item-num\">2.5&nbsp;&nbsp;</span>Trades df</a></span></li><li><span><a href=\"#Prices-df\" data-toc-modified-id=\"Prices-df-2.6\"><span class=\"toc-item-num\">2.6&nbsp;&nbsp;</span>Prices df</a></span></li></ul></li><li><span><a href=\"#Split-Data\" data-toc-modified-id=\"Split-Data-3\"><span class=\"toc-item-num\">3&nbsp;&nbsp;</span>Split Data</a></span><ul class=\"toc-item\"><li><span><a href=\"#Train,-Val,-Test\" data-toc-modified-id=\"Train,-Val,-Test-3.1\"><span class=\"toc-item-num\">3.1&nbsp;&nbsp;</span>Train, Val, Test</a></span></li><li><span><a href=\"#Check-train/test-shape\" data-toc-modified-id=\"Check-train/test-shape-3.2\"><span class=\"toc-item-num\">3.2&nbsp;&nbsp;</span>Check train/test shape</a></span></li></ul></li><li><span><a href=\"#Seasonal-Patterns\" data-toc-modified-id=\"Seasonal-Patterns-4\"><span class=\"toc-item-num\">4&nbsp;&nbsp;</span>Seasonal Patterns</a></span></li><li><span><a href=\"#Feature-Engineering\" data-toc-modified-id=\"Feature-Engineering-5\"><span class=\"toc-item-num\">5&nbsp;&nbsp;</span>Feature Engineering</a></span></li><li><span><a href=\"#Indexes-and-offsets\" data-toc-modified-id=\"Indexes-and-offsets-6\"><span class=\"toc-item-num\">6&nbsp;&nbsp;</span>Indexes and offsets</a></span></li><li><span><a href=\"#Split\" data-toc-modified-id=\"Split-7\"><span class=\"toc-item-num\">7&nbsp;&nbsp;</span>Split</a></span></li><li><span><a href=\"#Plot\" data-toc-modified-id=\"Plot-8\"><span class=\"toc-item-num\">8&nbsp;&nbsp;</span>Plot</a></span></li><li><span><a href=\"#Create-tf.data.Dataset_s\" data-toc-modified-id=\"Create-tf.data.Dataset_s-9\"><span class=\"toc-item-num\">9&nbsp;&nbsp;</span>Create tf.data.Dataset_s</a></span></li><li><span><a href=\"#Single-Step-Models\" data-toc-modified-id=\"Single-Step-Models-10\"><span class=\"toc-item-num\">10&nbsp;&nbsp;</span>Single Step Models</a></span><ul class=\"toc-item\"><li><span><a href=\"#Baseline\" data-toc-modified-id=\"Baseline-10.1\"><span class=\"toc-item-num\">10.1&nbsp;&nbsp;</span>Baseline</a></span></li><li><span><a href=\"#Linear-Model\" data-toc-modified-id=\"Linear-Model-10.2\"><span class=\"toc-item-num\">10.2&nbsp;&nbsp;</span>Linear Model</a></span></li><li><span><a href=\"#Dense\" data-toc-modified-id=\"Dense-10.3\"><span class=\"toc-item-num\">10.3&nbsp;&nbsp;</span>Dense</a></span><ul class=\"toc-item\"><li><span><a href=\"#Multi-Step-Dense\" data-toc-modified-id=\"Multi-Step-Dense-10.3.1\"><span class=\"toc-item-num\">10.3.1&nbsp;&nbsp;</span>Multi-Step Dense</a></span></li></ul></li><li><span><a href=\"#Convolutional-Neural-Network\" data-toc-modified-id=\"Convolutional-Neural-Network-10.4\"><span class=\"toc-item-num\">10.4&nbsp;&nbsp;</span>Convolutional Neural Network</a></span></li><li><span><a href=\"#Recurrent-Neural-Network\" data-toc-modified-id=\"Recurrent-Neural-Network-10.5\"><span class=\"toc-item-num\">10.5&nbsp;&nbsp;</span>Recurrent Neural Network</a></span></li><li><span><a href=\"#Performance\" data-toc-modified-id=\"Performance-10.6\"><span class=\"toc-item-num\">10.6&nbsp;&nbsp;</span>Performance</a></span></li></ul></li><li><span><a href=\"#Final-Output\" data-toc-modified-id=\"Final-Output-11\"><span class=\"toc-item-num\">11&nbsp;&nbsp;</span>Final Output</a></span></li></ul></div>"
   ]
  },
  {
   "cell_type": "markdown",
   "metadata": {},
   "source": [
    "# Import Libraries"
   ]
  },
  {
   "cell_type": "code",
   "execution_count": 1,
   "metadata": {
    "ExecuteTime": {
     "end_time": "2022-05-31T15:04:09.306468Z",
     "start_time": "2022-05-31T15:03:54.691736Z"
    }
   },
   "outputs": [],
   "source": [
    "# Import all packages that I might need:\n",
    "import sys \n",
    "import numpy as np # linear algebra\n",
    "from scipy.stats import randint\n",
    "import pandas as pd # data processing, CSV file I/O (e.g. pd.read_csv), data manipulation as in SQL\n",
    "import matplotlib.pyplot as plt # this is used for the plot the graph \n",
    "import seaborn as sns # used for plot interactive graph. \n",
    "from sklearn.model_selection import train_test_split # to split the data into two parts\n",
    "from sklearn.model_selection import KFold # use for cross validation\n",
    "from sklearn.preprocessing import StandardScaler # for normalization\n",
    "from sklearn.preprocessing import MinMaxScaler\n",
    "from sklearn.pipeline import Pipeline # pipeline making\n",
    "from sklearn.model_selection import cross_val_score\n",
    "from sklearn.feature_selection import SelectFromModel\n",
    "from sklearn import metrics # for the check the error and accuracy of the model\n",
    "from sklearn.metrics import mean_squared_error,r2_score\n",
    "from scipy import stats\n",
    "import IPython\n",
    "import IPython.display\n",
    "\n",
    "## for Deep-learing:\n",
    "import keras\n",
    "from keras.layers import Dense\n",
    "from keras.models import Sequential\n",
    "from tensorflow.keras.utils import to_categorical\n",
    "from tensorflow.keras.optimizers import SGD \n",
    "from keras.callbacks import EarlyStopping\n",
    "from keras.utils import np_utils\n",
    "import itertools\n",
    "from keras.layers import LSTM\n",
    "from keras.layers.convolutional import Conv1D\n",
    "from keras.layers.convolutional import MaxPooling1D\n",
    "from keras.layers import Dropout\n",
    "import tensorflow as tf"
   ]
  },
  {
   "cell_type": "markdown",
   "metadata": {},
   "source": [
    "# Preprocessing"
   ]
  },
  {
   "cell_type": "code",
   "execution_count": 135,
   "metadata": {
    "ExecuteTime": {
     "end_time": "2022-05-31T16:07:20.622747Z",
     "start_time": "2022-05-31T16:06:20.270657Z"
    }
   },
   "outputs": [
    {
     "name": "stderr",
     "output_type": "stream",
     "text": [
      "/Users/jimpetoskey/opt/anaconda3/envs/learn-env/lib/python3.8/site-packages/IPython/core/interactiveshell.py:3145: DtypeWarning: Columns (14,15,16,17,18,19,42,44) have mixed types.Specify dtype option on import or set low_memory=False.\n",
      "  has_raised = await self.run_ast_nodes(code_ast.body, cell_name,\n",
      "/Users/jimpetoskey/opt/anaconda3/envs/learn-env/lib/python3.8/site-packages/IPython/core/interactiveshell.py:3145: DtypeWarning: Columns (7,8,9,10) have mixed types.Specify dtype option on import or set low_memory=False.\n",
      "  has_raised = await self.run_ast_nodes(code_ast.body, cell_name,\n"
     ]
    }
   ],
   "source": [
    "# Create dataframes\n",
    "prices = pd.read_csv(\n",
    "    r'/Users/jimpetoskey/Documents/Flatiron/phase5/data/stock_prices.csv')\n",
    "financials = pd.read_csv(\n",
    "    r'/Users/jimpetoskey/Documents/Flatiron/phase5/data/financials.csv')\n",
    "options = pd.read_csv(\n",
    "    r'/Users/jimpetoskey/Documents/Flatiron/phase5/data/options.csv')\n",
    "secondary_stock_prices = pd.read_csv(\n",
    "    r'/Users/jimpetoskey/Documents/Flatiron/phase5/data/secondary_stock_prices.csv')\n",
    "stock_list = pd.read_csv(\n",
    "    r'/Users/jimpetoskey/Documents/Flatiron/phase5/data/stock_list.csv')\n",
    "trades = pd.read_csv(\n",
    "    r'/Users/jimpetoskey/Documents/Flatiron/phase5/data/trades.csv')"
   ]
  },
  {
   "cell_type": "markdown",
   "metadata": {},
   "source": [
    "## Financials df"
   ]
  },
  {
   "cell_type": "code",
   "execution_count": 136,
   "metadata": {
    "ExecuteTime": {
     "end_time": "2022-05-31T16:07:21.444054Z",
     "start_time": "2022-05-31T16:07:20.639341Z"
    }
   },
   "outputs": [
    {
     "name": "stdout",
     "output_type": "stream",
     "text": [
      "<class 'pandas.core.frame.DataFrame'>\n",
      "RangeIndex: 92956 entries, 0 to 92955\n",
      "Data columns (total 45 columns):\n",
      " #   Column                                                                        Non-Null Count  Dtype  \n",
      "---  ------                                                                        --------------  -----  \n",
      " 0   DisclosureNumber                                                              92954 non-null  float64\n",
      " 1   DateCode                                                                      92954 non-null  object \n",
      " 2   Date                                                                          92956 non-null  object \n",
      " 3   SecuritiesCode                                                                92954 non-null  float64\n",
      " 4   DisclosedDate                                                                 92954 non-null  object \n",
      " 5   DisclosedTime                                                                 92954 non-null  object \n",
      " 6   DisclosedUnixTime                                                             92954 non-null  float64\n",
      " 7   TypeOfDocument                                                                92954 non-null  object \n",
      " 8   CurrentPeriodEndDate                                                          92954 non-null  object \n",
      " 9   TypeOfCurrentPeriod                                                           92954 non-null  object \n",
      " 10  CurrentFiscalYearStartDate                                                    92954 non-null  object \n",
      " 11  CurrentFiscalYearEndDate                                                      92954 non-null  object \n",
      " 12  NetSales                                                                      75448 non-null  object \n",
      " 13  OperatingProfit                                                               73446 non-null  object \n",
      " 14  OrdinaryProfit                                                                75328 non-null  object \n",
      " 15  Profit                                                                        75380 non-null  object \n",
      " 16  EarningsPerShare                                                              74958 non-null  object \n",
      " 17  TotalAssets                                                                   75433 non-null  object \n",
      " 18  Equity                                                                        75431 non-null  object \n",
      " 19  EquityToAssetRatio                                                            74739 non-null  object \n",
      " 20  BookValuePerShare                                                             35773 non-null  object \n",
      " 21  ResultDividendPerShare1stQuarter                                              74380 non-null  object \n",
      " 22  ResultDividendPerShare2ndQuarter                                              55940 non-null  object \n",
      " 23  ResultDividendPerShare3rdQuarter                                              37677 non-null  object \n",
      " 24  ResultDividendPerShareFiscalYearEnd                                           19416 non-null  object \n",
      " 25  ResultDividendPerShareAnnual                                                  19415 non-null  object \n",
      " 26  ForecastDividendPerShare1stQuarter                                            19241 non-null  object \n",
      " 27  ForecastDividendPerShare2ndQuarter                                            42619 non-null  object \n",
      " 28  ForecastDividendPerShare3rdQuarter                                            60807 non-null  object \n",
      " 29  ForecastDividendPerShareFiscalYearEnd                                         79021 non-null  object \n",
      " 30  ForecastDividendPerShareAnnual                                                79022 non-null  object \n",
      " 31  ForecastNetSales                                                              82842 non-null  object \n",
      " 32  ForecastOperatingProfit                                                       81083 non-null  object \n",
      " 33  ForecastOrdinaryProfit                                                        82718 non-null  object \n",
      " 34  ForecastProfit                                                                83856 non-null  object \n",
      " 35  ForecastEarningsPerShare                                                      82842 non-null  object \n",
      " 36  ApplyingOfSpecificAccountingOfTheQuarterlyFinancialStatements                 7249 non-null   object \n",
      " 37  MaterialChangesInSubsidiaries                                                 64504 non-null  object \n",
      " 38  ChangesBasedOnRevisionsOfAccountingStandard                                   74895 non-null  object \n",
      " 39  ChangesOtherThanOnesBasedOnRevisionsOfAccountingStandard                      74895 non-null  object \n",
      " 40  ChangesInAccountingEstimates                                                  74126 non-null  object \n",
      " 41  RetrospectiveRestatement                                                      70396 non-null  object \n",
      " 42  NumberOfIssuedAndOutstandingSharesAtTheEndOfFiscalYearIncludingTreasuryStock  74918 non-null  object \n",
      " 43  NumberOfTreasuryStockAtTheEndOfFiscalYear                                     74918 non-null  object \n",
      " 44  AverageNumberOfShares                                                         74349 non-null  object \n",
      "dtypes: float64(3), object(42)\n",
      "memory usage: 31.9+ MB\n"
     ]
    }
   ],
   "source": [
    "financials.info()"
   ]
  },
  {
   "cell_type": "code",
   "execution_count": 92,
   "metadata": {
    "ExecuteTime": {
     "end_time": "2022-05-31T15:32:05.084276Z",
     "start_time": "2022-05-31T15:32:05.021486Z"
    }
   },
   "outputs": [
    {
     "data": {
      "text/html": [
       "<div>\n",
       "<style scoped>\n",
       "    .dataframe tbody tr th:only-of-type {\n",
       "        vertical-align: middle;\n",
       "    }\n",
       "\n",
       "    .dataframe tbody tr th {\n",
       "        vertical-align: top;\n",
       "    }\n",
       "\n",
       "    .dataframe thead th {\n",
       "        text-align: right;\n",
       "    }\n",
       "</style>\n",
       "<table border=\"1\" class=\"dataframe\">\n",
       "  <thead>\n",
       "    <tr style=\"text-align: right;\">\n",
       "      <th></th>\n",
       "      <th>DisclosureNumber</th>\n",
       "      <th>DateCode</th>\n",
       "      <th>Date</th>\n",
       "      <th>SecuritiesCode</th>\n",
       "      <th>DisclosedDate</th>\n",
       "      <th>DisclosedTime</th>\n",
       "      <th>DisclosedUnixTime</th>\n",
       "      <th>TypeOfDocument</th>\n",
       "      <th>CurrentPeriodEndDate</th>\n",
       "      <th>TypeOfCurrentPeriod</th>\n",
       "      <th>...</th>\n",
       "      <th>ForecastEarningsPerShare</th>\n",
       "      <th>ApplyingOfSpecificAccountingOfTheQuarterlyFinancialStatements</th>\n",
       "      <th>MaterialChangesInSubsidiaries</th>\n",
       "      <th>ChangesBasedOnRevisionsOfAccountingStandard</th>\n",
       "      <th>ChangesOtherThanOnesBasedOnRevisionsOfAccountingStandard</th>\n",
       "      <th>ChangesInAccountingEstimates</th>\n",
       "      <th>RetrospectiveRestatement</th>\n",
       "      <th>NumberOfIssuedAndOutstandingSharesAtTheEndOfFiscalYearIncludingTreasuryStock</th>\n",
       "      <th>NumberOfTreasuryStockAtTheEndOfFiscalYear</th>\n",
       "      <th>AverageNumberOfShares</th>\n",
       "    </tr>\n",
       "  </thead>\n",
       "  <tbody>\n",
       "    <tr>\n",
       "      <th>0</th>\n",
       "      <td>2.016121e+13</td>\n",
       "      <td>20170104_2753</td>\n",
       "      <td>2017-01-04</td>\n",
       "      <td>2753.0</td>\n",
       "      <td>2017-01-04</td>\n",
       "      <td>07:30:00</td>\n",
       "      <td>1.483483e+09</td>\n",
       "      <td>3QFinancialStatements_Consolidated_JP</td>\n",
       "      <td>2016-12-31</td>\n",
       "      <td>3Q</td>\n",
       "      <td>...</td>\n",
       "      <td>319.76</td>\n",
       "      <td>NaN</td>\n",
       "      <td>False</td>\n",
       "      <td>True</td>\n",
       "      <td>False</td>\n",
       "      <td>False</td>\n",
       "      <td>False</td>\n",
       "      <td>6.8488e+06</td>\n",
       "      <td>－</td>\n",
       "      <td>6.8488e+06</td>\n",
       "    </tr>\n",
       "    <tr>\n",
       "      <th>1</th>\n",
       "      <td>2.017010e+13</td>\n",
       "      <td>20170104_3353</td>\n",
       "      <td>2017-01-04</td>\n",
       "      <td>3353.0</td>\n",
       "      <td>2017-01-04</td>\n",
       "      <td>15:00:00</td>\n",
       "      <td>1.483510e+09</td>\n",
       "      <td>3QFinancialStatements_Consolidated_JP</td>\n",
       "      <td>2016-11-30</td>\n",
       "      <td>3Q</td>\n",
       "      <td>...</td>\n",
       "      <td>485.36</td>\n",
       "      <td>NaN</td>\n",
       "      <td>False</td>\n",
       "      <td>True</td>\n",
       "      <td>False</td>\n",
       "      <td>False</td>\n",
       "      <td>False</td>\n",
       "      <td>2.035e+06</td>\n",
       "      <td>118917</td>\n",
       "      <td>1.91608e+06</td>\n",
       "    </tr>\n",
       "  </tbody>\n",
       "</table>\n",
       "<p>2 rows × 45 columns</p>\n",
       "</div>"
      ],
      "text/plain": [
       "   DisclosureNumber       DateCode        Date  SecuritiesCode DisclosedDate  \\\n",
       "0      2.016121e+13  20170104_2753  2017-01-04          2753.0    2017-01-04   \n",
       "1      2.017010e+13  20170104_3353  2017-01-04          3353.0    2017-01-04   \n",
       "\n",
       "  DisclosedTime  DisclosedUnixTime                         TypeOfDocument  \\\n",
       "0      07:30:00       1.483483e+09  3QFinancialStatements_Consolidated_JP   \n",
       "1      15:00:00       1.483510e+09  3QFinancialStatements_Consolidated_JP   \n",
       "\n",
       "  CurrentPeriodEndDate TypeOfCurrentPeriod  ... ForecastEarningsPerShare  \\\n",
       "0           2016-12-31                  3Q  ...                   319.76   \n",
       "1           2016-11-30                  3Q  ...                   485.36   \n",
       "\n",
       "  ApplyingOfSpecificAccountingOfTheQuarterlyFinancialStatements  \\\n",
       "0                                                NaN              \n",
       "1                                                NaN              \n",
       "\n",
       "  MaterialChangesInSubsidiaries ChangesBasedOnRevisionsOfAccountingStandard  \\\n",
       "0                         False                                        True   \n",
       "1                         False                                        True   \n",
       "\n",
       "  ChangesOtherThanOnesBasedOnRevisionsOfAccountingStandard  \\\n",
       "0                                              False         \n",
       "1                                              False         \n",
       "\n",
       "  ChangesInAccountingEstimates RetrospectiveRestatement  \\\n",
       "0                        False                    False   \n",
       "1                        False                    False   \n",
       "\n",
       "  NumberOfIssuedAndOutstandingSharesAtTheEndOfFiscalYearIncludingTreasuryStock  \\\n",
       "0                                         6.8488e+06                             \n",
       "1                                          2.035e+06                             \n",
       "\n",
       "  NumberOfTreasuryStockAtTheEndOfFiscalYear AverageNumberOfShares  \n",
       "0                                         －            6.8488e+06  \n",
       "1                                    118917           1.91608e+06  \n",
       "\n",
       "[2 rows x 45 columns]"
      ]
     },
     "execution_count": 92,
     "metadata": {},
     "output_type": "execute_result"
    }
   ],
   "source": [
    "financials.head(2)"
   ]
  },
  {
   "cell_type": "code",
   "execution_count": 138,
   "metadata": {
    "ExecuteTime": {
     "end_time": "2022-05-31T16:09:00.209851Z",
     "start_time": "2022-05-31T16:09:00.151464Z"
    }
   },
   "outputs": [
    {
     "data": {
      "text/html": [
       "<div>\n",
       "<style scoped>\n",
       "    .dataframe tbody tr th:only-of-type {\n",
       "        vertical-align: middle;\n",
       "    }\n",
       "\n",
       "    .dataframe tbody tr th {\n",
       "        vertical-align: top;\n",
       "    }\n",
       "\n",
       "    .dataframe thead th {\n",
       "        text-align: right;\n",
       "    }\n",
       "</style>\n",
       "<table border=\"1\" class=\"dataframe\">\n",
       "  <thead>\n",
       "    <tr style=\"text-align: right;\">\n",
       "      <th></th>\n",
       "      <th>DisclosureNumber</th>\n",
       "      <th>DateCode</th>\n",
       "      <th>Date</th>\n",
       "      <th>SecuritiesCode</th>\n",
       "      <th>DisclosedDate</th>\n",
       "      <th>DisclosedTime</th>\n",
       "      <th>DisclosedUnixTime</th>\n",
       "      <th>TypeOfDocument</th>\n",
       "      <th>CurrentPeriodEndDate</th>\n",
       "      <th>TypeOfCurrentPeriod</th>\n",
       "      <th>...</th>\n",
       "      <th>ForecastEarningsPerShare</th>\n",
       "      <th>ApplyingOfSpecificAccountingOfTheQuarterlyFinancialStatements</th>\n",
       "      <th>MaterialChangesInSubsidiaries</th>\n",
       "      <th>ChangesBasedOnRevisionsOfAccountingStandard</th>\n",
       "      <th>ChangesOtherThanOnesBasedOnRevisionsOfAccountingStandard</th>\n",
       "      <th>ChangesInAccountingEstimates</th>\n",
       "      <th>RetrospectiveRestatement</th>\n",
       "      <th>NumberOfIssuedAndOutstandingSharesAtTheEndOfFiscalYearIncludingTreasuryStock</th>\n",
       "      <th>NumberOfTreasuryStockAtTheEndOfFiscalYear</th>\n",
       "      <th>AverageNumberOfShares</th>\n",
       "    </tr>\n",
       "  </thead>\n",
       "  <tbody>\n",
       "    <tr>\n",
       "      <th>2781</th>\n",
       "      <td>2.016113e+13</td>\n",
       "      <td>20170210_1301</td>\n",
       "      <td>2017-02-10</td>\n",
       "      <td>1301.0</td>\n",
       "      <td>2017-02-10</td>\n",
       "      <td>11:30:00</td>\n",
       "      <td>1.486694e+09</td>\n",
       "      <td>3QFinancialStatements_Consolidated_JP</td>\n",
       "      <td>2016-12-31</td>\n",
       "      <td>3Q</td>\n",
       "      <td>...</td>\n",
       "      <td>199.94</td>\n",
       "      <td>NaN</td>\n",
       "      <td>False</td>\n",
       "      <td>True</td>\n",
       "      <td>False</td>\n",
       "      <td>False</td>\n",
       "      <td>False</td>\n",
       "      <td>1.09283e+07</td>\n",
       "      <td>425455</td>\n",
       "      <td>1.0503e+07</td>\n",
       "    </tr>\n",
       "    <tr>\n",
       "      <th>3940</th>\n",
       "      <td>2.017022e+13</td>\n",
       "      <td>20170217_1301</td>\n",
       "      <td>2017-02-17</td>\n",
       "      <td>1301.0</td>\n",
       "      <td>2017-02-17</td>\n",
       "      <td>15:00:00</td>\n",
       "      <td>1.487311e+09</td>\n",
       "      <td>ForecastRevision</td>\n",
       "      <td>2017-03-31</td>\n",
       "      <td>FY</td>\n",
       "      <td>...</td>\n",
       "      <td>NaN</td>\n",
       "      <td>NaN</td>\n",
       "      <td>NaN</td>\n",
       "      <td>NaN</td>\n",
       "      <td>NaN</td>\n",
       "      <td>NaN</td>\n",
       "      <td>NaN</td>\n",
       "      <td>NaN</td>\n",
       "      <td>NaN</td>\n",
       "      <td>NaN</td>\n",
       "    </tr>\n",
       "    <tr>\n",
       "      <th>6892</th>\n",
       "      <td>2.017033e+13</td>\n",
       "      <td>20170511_1301</td>\n",
       "      <td>2017-05-11</td>\n",
       "      <td>1301.0</td>\n",
       "      <td>2017-05-11</td>\n",
       "      <td>11:30:00</td>\n",
       "      <td>1.494470e+09</td>\n",
       "      <td>FYFinancialStatements_Consolidated_JP</td>\n",
       "      <td>2017-03-31</td>\n",
       "      <td>FY</td>\n",
       "      <td>...</td>\n",
       "      <td>257.07</td>\n",
       "      <td>NaN</td>\n",
       "      <td>False</td>\n",
       "      <td>True</td>\n",
       "      <td>False</td>\n",
       "      <td>False</td>\n",
       "      <td>False</td>\n",
       "      <td>1.09283e+07</td>\n",
       "      <td>425510</td>\n",
       "      <td>1.0503e+07</td>\n",
       "    </tr>\n",
       "    <tr>\n",
       "      <th>11274</th>\n",
       "      <td>2.017062e+13</td>\n",
       "      <td>20170804_1301</td>\n",
       "      <td>2017-08-04</td>\n",
       "      <td>1301.0</td>\n",
       "      <td>2017-08-04</td>\n",
       "      <td>13:00:00</td>\n",
       "      <td>1.501819e+09</td>\n",
       "      <td>1QFinancialStatements_Consolidated_JP</td>\n",
       "      <td>2017-06-30</td>\n",
       "      <td>1Q</td>\n",
       "      <td>...</td>\n",
       "      <td>257.07</td>\n",
       "      <td>NaN</td>\n",
       "      <td>False</td>\n",
       "      <td>False</td>\n",
       "      <td>False</td>\n",
       "      <td>False</td>\n",
       "      <td>False</td>\n",
       "      <td>1.09283e+07</td>\n",
       "      <td>425510</td>\n",
       "      <td>1.05028e+07</td>\n",
       "    </tr>\n",
       "    <tr>\n",
       "      <th>15877</th>\n",
       "      <td>2.017091e+13</td>\n",
       "      <td>20171106_1301</td>\n",
       "      <td>2017-11-06</td>\n",
       "      <td>1301.0</td>\n",
       "      <td>2017-11-06</td>\n",
       "      <td>11:30:00</td>\n",
       "      <td>1.509935e+09</td>\n",
       "      <td>2QFinancialStatements_Consolidated_JP</td>\n",
       "      <td>2017-09-30</td>\n",
       "      <td>2Q</td>\n",
       "      <td>...</td>\n",
       "      <td>257.07</td>\n",
       "      <td>NaN</td>\n",
       "      <td>False</td>\n",
       "      <td>False</td>\n",
       "      <td>False</td>\n",
       "      <td>False</td>\n",
       "      <td>False</td>\n",
       "      <td>1.09283e+07</td>\n",
       "      <td>422090</td>\n",
       "      <td>1.05033e+07</td>\n",
       "    </tr>\n",
       "  </tbody>\n",
       "</table>\n",
       "<p>5 rows × 45 columns</p>\n",
       "</div>"
      ],
      "text/plain": [
       "       DisclosureNumber       DateCode        Date  SecuritiesCode  \\\n",
       "2781       2.016113e+13  20170210_1301  2017-02-10          1301.0   \n",
       "3940       2.017022e+13  20170217_1301  2017-02-17          1301.0   \n",
       "6892       2.017033e+13  20170511_1301  2017-05-11          1301.0   \n",
       "11274      2.017062e+13  20170804_1301  2017-08-04          1301.0   \n",
       "15877      2.017091e+13  20171106_1301  2017-11-06          1301.0   \n",
       "\n",
       "      DisclosedDate DisclosedTime  DisclosedUnixTime  \\\n",
       "2781     2017-02-10      11:30:00       1.486694e+09   \n",
       "3940     2017-02-17      15:00:00       1.487311e+09   \n",
       "6892     2017-05-11      11:30:00       1.494470e+09   \n",
       "11274    2017-08-04      13:00:00       1.501819e+09   \n",
       "15877    2017-11-06      11:30:00       1.509935e+09   \n",
       "\n",
       "                              TypeOfDocument CurrentPeriodEndDate  \\\n",
       "2781   3QFinancialStatements_Consolidated_JP           2016-12-31   \n",
       "3940                        ForecastRevision           2017-03-31   \n",
       "6892   FYFinancialStatements_Consolidated_JP           2017-03-31   \n",
       "11274  1QFinancialStatements_Consolidated_JP           2017-06-30   \n",
       "15877  2QFinancialStatements_Consolidated_JP           2017-09-30   \n",
       "\n",
       "      TypeOfCurrentPeriod  ... ForecastEarningsPerShare  \\\n",
       "2781                   3Q  ...                   199.94   \n",
       "3940                   FY  ...                      NaN   \n",
       "6892                   FY  ...                   257.07   \n",
       "11274                  1Q  ...                   257.07   \n",
       "15877                  2Q  ...                   257.07   \n",
       "\n",
       "      ApplyingOfSpecificAccountingOfTheQuarterlyFinancialStatements  \\\n",
       "2781                                                 NaN              \n",
       "3940                                                 NaN              \n",
       "6892                                                 NaN              \n",
       "11274                                                NaN              \n",
       "15877                                                NaN              \n",
       "\n",
       "      MaterialChangesInSubsidiaries  \\\n",
       "2781                          False   \n",
       "3940                            NaN   \n",
       "6892                          False   \n",
       "11274                         False   \n",
       "15877                         False   \n",
       "\n",
       "      ChangesBasedOnRevisionsOfAccountingStandard  \\\n",
       "2781                                         True   \n",
       "3940                                          NaN   \n",
       "6892                                         True   \n",
       "11274                                       False   \n",
       "15877                                       False   \n",
       "\n",
       "      ChangesOtherThanOnesBasedOnRevisionsOfAccountingStandard  \\\n",
       "2781                                               False         \n",
       "3940                                                 NaN         \n",
       "6892                                               False         \n",
       "11274                                              False         \n",
       "15877                                              False         \n",
       "\n",
       "      ChangesInAccountingEstimates RetrospectiveRestatement  \\\n",
       "2781                         False                    False   \n",
       "3940                           NaN                      NaN   \n",
       "6892                         False                    False   \n",
       "11274                        False                    False   \n",
       "15877                        False                    False   \n",
       "\n",
       "      NumberOfIssuedAndOutstandingSharesAtTheEndOfFiscalYearIncludingTreasuryStock  \\\n",
       "2781                                         1.09283e+07                             \n",
       "3940                                                 NaN                             \n",
       "6892                                         1.09283e+07                             \n",
       "11274                                        1.09283e+07                             \n",
       "15877                                        1.09283e+07                             \n",
       "\n",
       "      NumberOfTreasuryStockAtTheEndOfFiscalYear AverageNumberOfShares  \n",
       "2781                                     425455            1.0503e+07  \n",
       "3940                                        NaN                   NaN  \n",
       "6892                                     425510            1.0503e+07  \n",
       "11274                                    425510           1.05028e+07  \n",
       "15877                                    422090           1.05033e+07  \n",
       "\n",
       "[5 rows x 45 columns]"
      ]
     },
     "execution_count": 138,
     "metadata": {},
     "output_type": "execute_result"
    }
   ],
   "source": [
    "financials.loc[financials['SecuritiesCode']==1301][:5]"
   ]
  },
  {
   "cell_type": "code",
   "execution_count": 139,
   "metadata": {
    "ExecuteTime": {
     "end_time": "2022-05-31T16:09:10.349765Z",
     "start_time": "2022-05-31T16:09:07.600273Z"
    }
   },
   "outputs": [],
   "source": [
    "fin = financials.copy()\n",
    "\n",
    "# Set fin to datetime index\n",
    "fin['Date'] = pd.to_datetime(fin['Date'], format='%Y/%m/%d', errors='coerce')\n",
    "mask = fin['Date'].isnull()\n",
    "fin.loc[mask, 'Date'] = pd.to_datetime(fin['Date'], format='%Y/%m/%d',\n",
    "                                                 errors='coerce')\n",
    "fin = fin.set_index('Date')\n",
    "\n",
    "# Set pri to datetime index\n",
    "pri = prices.copy()\n",
    "pri['Date'] = pd.to_datetime(pri['Date'], format='%Y/%m/%d', errors='coerce')\n",
    "mask = pri['Date'].isnull()\n",
    "pri.loc[mask, 'Date'] = pd.to_datetime(pri['Date'], format='%Y/%m/%d',\n",
    "                                                 errors='coerce')\n",
    "pri = pri.set_index('Date')"
   ]
  },
  {
   "cell_type": "code",
   "execution_count": 140,
   "metadata": {
    "ExecuteTime": {
     "end_time": "2022-05-31T16:09:10.398518Z",
     "start_time": "2022-05-31T16:09:10.354205Z"
    }
   },
   "outputs": [
    {
     "data": {
      "text/plain": [
       "2"
      ]
     },
     "execution_count": 140,
     "metadata": {},
     "output_type": "execute_result"
    }
   ],
   "source": [
    "# determine number of missing Securities Codes in fin\n",
    "fin['SecuritiesCode'].isna().sum()"
   ]
  },
  {
   "cell_type": "code",
   "execution_count": 141,
   "metadata": {
    "ExecuteTime": {
     "end_time": "2022-05-31T16:09:10.575700Z",
     "start_time": "2022-05-31T16:09:10.403393Z"
    }
   },
   "outputs": [
    {
     "data": {
      "text/plain": [
       "0"
      ]
     },
     "execution_count": 141,
     "metadata": {},
     "output_type": "execute_result"
    }
   ],
   "source": [
    "# Drop rows with missing securities codes\n",
    "fin = fin.dropna(subset=['SecuritiesCode'])\n",
    "#fin['SecuritiesCode'] = fin['SecuritiesCode'].dropna()\n",
    "fin['SecuritiesCode'].isna().sum()"
   ]
  },
  {
   "cell_type": "code",
   "execution_count": 142,
   "metadata": {
    "ExecuteTime": {
     "end_time": "2022-05-31T16:09:13.635273Z",
     "start_time": "2022-05-31T16:09:13.605757Z"
    }
   },
   "outputs": [
    {
     "data": {
      "text/plain": [
       "Date\n",
       "2017-01-04    2753\n",
       "2017-01-04    3353\n",
       "2017-01-04    4575\n",
       "2017-01-05    2659\n",
       "2017-01-05    3050\n",
       "              ... \n",
       "2021-12-03    6040\n",
       "2021-12-03    6898\n",
       "2021-12-03    6969\n",
       "2021-12-03    8057\n",
       "2021-12-03    9627\n",
       "Name: SecuritiesCode, Length: 92954, dtype: int64"
      ]
     },
     "execution_count": 142,
     "metadata": {},
     "output_type": "execute_result"
    }
   ],
   "source": [
    "# Convert fin SecuritiesCode to int\n",
    "fin['SecuritiesCode'] = fin['SecuritiesCode'].astype(int)\n",
    "fin['SecuritiesCode'][:2]"
   ]
  },
  {
   "cell_type": "code",
   "execution_count": 143,
   "metadata": {
    "ExecuteTime": {
     "end_time": "2022-05-31T16:10:03.081623Z",
     "start_time": "2022-05-31T16:10:03.052479Z"
    }
   },
   "outputs": [
    {
     "data": {
      "text/plain": [
       "Date\n",
       "2017-01-04    1301\n",
       "2017-01-04    1332\n",
       "Name: SecuritiesCode, dtype: int64"
      ]
     },
     "execution_count": 143,
     "metadata": {},
     "output_type": "execute_result"
    }
   ],
   "source": [
    "pri['SecuritiesCode'][:2]"
   ]
  },
  {
   "cell_type": "code",
   "execution_count": 144,
   "metadata": {
    "ExecuteTime": {
     "end_time": "2022-05-31T16:11:20.801643Z",
     "start_time": "2022-05-31T16:11:20.747463Z"
    }
   },
   "outputs": [
    {
     "data": {
      "text/plain": [
       "array([1301, 1332, 1333, ..., 4168, 7342, 4169])"
      ]
     },
     "execution_count": 144,
     "metadata": {},
     "output_type": "execute_result"
    }
   ],
   "source": [
    "pri_list = pri.SecuritiesCode.unique()\n",
    "pri_list"
   ]
  },
  {
   "cell_type": "code",
   "execution_count": 145,
   "metadata": {
    "ExecuteTime": {
     "end_time": "2022-05-31T16:11:21.618085Z",
     "start_time": "2022-05-31T16:11:21.611571Z"
    }
   },
   "outputs": [
    {
     "data": {
      "text/plain": [
       "[1301, 1332, 1333, 1376, 1377]"
      ]
     },
     "execution_count": 145,
     "metadata": {},
     "output_type": "execute_result"
    }
   ],
   "source": [
    "pri_list = pri_list.tolist()\n",
    "pri_list[:5]"
   ]
  },
  {
   "cell_type": "code",
   "execution_count": 129,
   "metadata": {
    "ExecuteTime": {
     "end_time": "2022-05-31T16:02:03.134947Z",
     "start_time": "2022-05-31T16:02:03.099207Z"
    }
   },
   "outputs": [],
   "source": [
    "def checkIfValuesExists1(dfObj, listOfValues):\n",
    "    ''' Check if given elements exists in dictionary or not.\n",
    "        It returns a dictionary of elements as key and thier existence value as bool'''\n",
    "    resultDict = {}\n",
    "    # Iterate over the list of elements one by one\n",
    "    for elem in listOfValues:\n",
    "        # Check if the element exists in dataframe values\n",
    "        if elem in dfObj.values:\n",
    "            resultDict[elem] = True\n",
    "        else:\n",
    "            resultDict[elem] = False\n",
    "    # Returns a dictionary of values & thier existence flag        \n",
    "    return resultDict"
   ]
  },
  {
   "cell_type": "code",
   "execution_count": 132,
   "metadata": {
    "ExecuteTime": {
     "end_time": "2022-05-31T16:04:12.664727Z",
     "start_time": "2022-05-31T16:04:12.457905Z"
    }
   },
   "outputs": [
    {
     "name": "stdout",
     "output_type": "stream",
     "text": [
      "Dictionary representing if the given keys exists in DataFrame or not : \n",
      "{1301: True, 1332: True, 1333: True, 1376: True, 1377: True, 1379: True, 1381: True, 1407: True, 1414: True, 1417: True, 1419: True, 1429: True, 1435: True, 1515: True, 1518: True, 1605: True, 1662: True, 1663: True, 1712: True, 1716: True, 1719: True, 1720: True, 1721: True, 1723: True, 1726: True, 1762: True, 1766: True, 1775: True, 1780: True, 1787: True, 1793: True, 1799: True, 1801: True, 1802: True, 1803: True, 1805: True, 1808: True, 1810: True, 1811: True, 1812: True, 1813: True, 1814: True, 1815: True, 1820: True, 1821: True, 1822: True, 1833: True, 1835: True, 1852: True, 1860: True, 1861: True, 1870: True, 1871: True, 1873: True, 1878: True, 1879: True, 1882: True, 1884: True, 1885: True, 1888: True, 1890: True, 1893: True, 1898: True, 1899: True, 1911: True, 1914: True, 1921: True, 1925: True, 1926: True, 1928: True, 1929: True, 1930: True, 1934: True, 1938: True, 1939: True, 1941: True, 1942: True, 1944: True, 1945: True, 1946: True, 1949: True, 1950: True, 1951: True, 1952: True, 1954: True, 1959: True, 1961: True, 1963: True, 1965: True, 1967: True, 1968: True, 1969: True, 1973: True, 1975: True, 1976: True, 1979: True, 1980: True, 1981: True, 1982: True, 2001: True, 2002: True, 2003: True, 2004: True, 2009: True, 2053: True, 2060: True, 2108: True, 2109: True, 2114: True, 2117: True, 2120: True, 2121: True, 2124: True, 2127: True, 2130: True, 2146: True, 2148: True, 2150: True, 2153: True, 2154: True, 2157: True, 2158: True, 2160: True, 2168: True, 2170: True, 2175: True, 2181: True, 2183: True, 2185: True, 2193: True, 2198: True, 2201: True, 2204: True, 2206: True, 2207: True, 2208: True, 2209: True, 2211: True, 2212: True, 2217: True, 2220: True, 2221: True, 2222: True, 2226: True, 2229: True, 2264: True, 2266: True, 2267: True, 2268: True, 2269: True, 2270: True, 2281: True, 2282: True, 2288: True, 2292: True, 2294: True, 2296: True, 2301: True, 2305: True, 2307: True, 2309: True, 2315: True, 2317: True, 2325: True, 2326: True, 2327: True, 2329: True, 2331: True, 2335: True, 2337: True, 2349: True, 2353: True, 2359: True, 2371: True, 2372: True, 2374: True, 2378: True, 2379: True, 2384: True, 2389: True, 2393: True, 2395: True, 2412: True, 2413: True, 2418: True, 2427: True, 2429: True, 2432: True, 2433: True, 2440: True, 2445: True, 2453: True, 2461: True, 2462: True, 2469: True, 2471: True, 2475: True, 2477: True, 2484: True, 2489: True, 2491: True, 2492: True, 2497: True, 2498: True, 2501: True, 2502: True, 2503: True, 2531: True, 2533: True, 2540: True, 2573: True, 2579: True, 2587: True, 2588: True, 2590: True, 2593: True, 2594: True, 2602: True, 2607: True, 2612: True, 2613: True, 2651: True, 2653: True, 2659: True, 2664: True, 2669: True, 2670: True, 2676: True, 2678: True, 2681: True, 2685: True, 2686: True, 2692: True, 2694: True, 2695: True, 2698: True, 2702: True, 2705: True, 2715: True, 2726: True, 2729: True, 2730: True, 2733: True, 2734: True, 2737: True, 2742: True, 2749: True, 2751: True, 2752: True, 2753: True, 2760: True, 2761: True, 2763: True, 2767: True, 2768: True, 2780: True, 2782: True, 2784: True, 2790: True, 2791: True, 2792: True, 2801: True, 2802: True, 2804: True, 2805: True, 2806: True, 2809: True, 2810: True, 2811: True, 2814: True, 2815: True, 2819: True, 2830: True, 2831: True, 2871: True, 2874: True, 2875: True, 2882: True, 2884: True, 2897: True, 2899: True, 2904: True, 2908: True, 2910: True, 2914: True, 2915: True, 2918: True, 2922: True, 2923: True, 2925: True, 2929: True, 2930: True, 2931: True, 3001: True, 3002: True, 3003: True, 3028: True, 3031: True, 3034: True, 3036: True, 3038: True, 3040: True, 3046: True, 3048: True, 3050: True, 3064: True, 3075: True, 3076: True, 3085: True, 3086: True, 3087: True, 3088: True, 3091: True, 3092: True, 3097: True, 3099: True, 3101: True, 3103: True, 3104: True, 3105: True, 3106: True, 3107: True, 3110: True, 3116: True, 3132: True, 3134: True, 3139: True, 3141: True, 3148: True, 3150: True, 3151: True, 3153: True, 3154: True, 3156: True, 3157: True, 3159: True, 3166: True, 3167: True, 3176: True, 3178: True, 3179: True, 3180: True, 3182: True, 3183: True, 3186: True, 3191: True, 3193: True, 3196: True, 3197: True, 3198: True, 3199: True, 3201: True, 3221: True, 3222: True, 3228: True, 3231: True, 3232: True, 3244: True, 3245: True, 3252: True, 3254: True, 3264: True, 3276: True, 3284: True, 3288: True, 3289: True, 3291: True, 3302: True, 3315: True, 3319: True, 3328: True, 3333: True, 3341: True, 3349: True, 3355: True, 3360: True, 3361: True, 3371: True, 3377: True, 3382: True, 3387: True, 3388: True, 3391: True, 3395: True, 3397: True, 3401: True, 3402: True, 3405: True, 3407: True, 3415: True, 3421: True, 3431: True, 3433: True, 3436: True, 3443: True, 3445: True, 3457: True, 3458: True, 3465: True, 3475: True, 3539: True, 3540: True, 3543: True, 3546: True, 3547: True, 3548: True, 3549: True, 3553: True, 3569: True, 3580: True, 3591: True, 3593: True, 3597: True, 3608: True, 3626: True, 3628: True, 3632: True, 3635: True, 3636: True, 3648: True, 3649: True, 3656: True, 3657: True, 3659: True, 3660: True, 3662: True, 3663: True, 3665: True, 3668: True, 3673: True, 3675: True, 3676: True, 3677: True, 3678: True, 3679: True, 3681: True, 3687: True, 3688: True, 3694: True, 3696: True, 3697: True, 3708: True, 3733: True, 3738: True, 3762: True, 3763: True, 3765: True, 3769: True, 3771: True, 3772: True, 3774: True, 3778: True, 3784: True, 3788: True, 3798: True, 3800: True, 3817: True, 3825: True, 3834: True, 3835: True, 3836: True, 3837: True, 3843: True, 3844: True, 3853: True, 3854: True, 3856: True, 3857: True, 3861: True, 3863: True, 3865: True, 3880: True, 3891: True, 3900: True, 3901: True, 3902: True, 3903: True, 3906: True, 3914: True, 3915: True, 3916: True, 3919: True, 3921: True, 3922: True, 3923: True, 3925: True, 3926: True, 3932: True, 3934: True, 3937: True, 3939: True, 3941: True, 3946: True, 3950: True, 3951: True, 3962: True, 3966: True, 3969: True, 4004: True, 4005: True, 4008: True, 4021: True, 4023: True, 4025: True, 4026: True, 4027: True, 4028: True, 4041: True, 4042: True, 4043: True, 4044: True, 4045: True, 4046: True, 4047: True, 4061: True, 4062: True, 4063: True, 4078: True, 4080: True, 4082: True, 4088: True, 4091: True, 4092: True, 4094: True, 4095: True, 4097: True, 4099: True, 4100: True, 4107: True, 4109: True, 4112: True, 4113: True, 4114: True, 4116: True, 4118: True, 4151: True, 4182: True, 4183: True, 4185: True, 4186: True, 4187: True, 4188: True, 4189: True, 4202: True, 4203: True, 4204: True, 4205: True, 4206: True, 4208: True, 4212: True, 4215: True, 4216: True, 4218: True, 4220: True, 4221: True, 4228: True, 4229: True, 4235: True, 4238: True, 4246: True, 4272: True, 4275: True, 4286: True, 4290: True, 4293: True, 4298: True, 4301: True, 4307: True, 4308: True, 4310: True, 4312: True, 4318: True, 4323: True, 4324: True, 4326: True, 4327: True, 4337: True, 4343: True, 4344: True, 4345: True, 4348: True, 4350: True, 4362: True, 4365: True, 4368: True, 4369: True, 4401: True, 4403: True, 4410: True, 4452: True, 4461: True, 4462: True, 4463: True, 4464: True, 4471: True, 4502: True, 4503: True, 4506: True, 4507: True, 4516: True, 4519: True, 4521: True, 4523: True, 4526: True, 4527: True, 4528: True, 4530: True, 4534: True, 4536: True, 4538: True, 4540: True, 4541: True, 4543: True, 4544: True, 4547: True, 4548: True, 4549: True, 4550: True, 4551: True, 4552: True, 4553: True, 4554: True, 4559: True, 4563: True, 4565: True, 4568: True, 4569: True, 4571: True, 4572: True, 4574: True, 4577: True, 4578: True, 4579: True, 4581: True, 4582: True, 4584: True, 4587: True, 4592: True, 4593: True, 4595: True, 4611: True, 4612: True, 4613: True, 4617: True, 4619: True, 4620: True, 4621: True, 4626: True, 4628: True, 4631: True, 4633: True, 4634: True, 4636: True, 4641: True, 4658: True, 4659: True, 4661: True, 4662: True, 4665: True, 4666: True, 4668: True, 4671: True, 4674: True, 4676: True, 4680: True, 4681: True, 4684: True, 4686: True, 4687: True, 4689: True, 4694: True, 4699: True, 4704: True, 4708: True, 4709: True, 4714: True, 4716: True, 4718: True, 4719: True, 4722: True, 4725: True, 4726: True, 4732: True, 4733: True, 4739: True, 4743: True, 4745: True, 4746: True, 4751: True, 4755: True, 4763: True, 4765: True, 4767: True, 4768: True, 4771: True, 4772: True, 4776: True, 4781: True, 4792: True, 4800: True, 4801: True, 4809: True, 4812: True, 4813: True, 4816: True, 4819: True, 4820: True, 4825: True, 4826: True, 4828: True, 4832: True, 4837: True, 4839: True, 4847: True, 4848: True, 4849: True, 4901: True, 4902: True, 4911: True, 4912: True, 4914: True, 4917: True, 4919: True, 4921: True, 4922: True, 4923: True, 4927: True, 4928: True, 4951: True, 4955: True, 4956: True, 4958: True, 4963: True, 4966: True, 4967: True, 4968: True, 4970: True, 4971: True, 4973: True, 4974: True, 4975: True, 4978: True, 4980: True, 4985: True, 4992: True, 4994: True, 4996: True, 4997: True, 4998: True, 5008: True, 5011: True, 5013: True, 5015: True, 5017: True, 5019: True, 5020: True, 5021: True, 5101: True, 5105: True, 5108: True, 5110: True, 5121: True, 5122: True, 5142: True, 5161: True, 5184: True, 5185: True, 5186: True, 5191: True, 5192: True, 5195: True, 5201: True, 5202: True, 5208: True, 5214: True, 5217: True, 5218: True, 5232: True, 5233: True, 5261: True, 5262: True, 5269: True, 5273: True, 5288: True, 5301: True, 5302: True, 5304: True, 5310: True, 5331: True, 5332: True, 5333: True, 5334: True, 5344: True, 5351: True, 5352: True, 5357: True, 5384: True, 5388: True, 5393: True, 5401: True, 5406: True, 5408: True, 5410: True, 5411: True, 5423: True, 5440: True, 5444: True, 5449: True, 5451: True, 5463: True, 5464: True, 5471: True, 5480: True, 5481: True, 5482: True, 5486: True, 5541: True, 5563: True, 5602: True, 5631: True, 5632: True, 5659: True, 5698: True, 5702: True, 5703: True, 5706: True, 5707: True, 5711: True, 5713: True, 5714: True, 5715: True, 5726: True, 5727: True, 5741: True, 5801: True, 5802: True, 5803: True, 5805: True, 5807: True, 5809: True, 5821: True, 5851: True, 5857: True, 5901: True, 5902: True, 5909: True, 5911: True, 5918: True, 5929: True, 5930: True, 5932: True, 5933: True, 5938: True, 5943: True, 5945: True, 5946: True, 5947: True, 5949: True, 5951: True, 5957: True, 5959: True, 5970: True, 5975: True, 5976: True, 5982: True, 5985: True, 5988: True, 5989: True, 5991: True, 5992: True, 5999: True, 6005: True, 6013: True, 6023: True, 6027: True, 6028: True, 6030: True, 6035: True, 6036: True, 6047: True, 6050: True, 6055: True, 6058: True, 6062: True, 6067: True, 6070: True, 6071: True, 6073: True, 6078: True, 6080: True, 6082: True, 6088: True, 6089: True, 6094: True, 6095: True, 6098: True, 6099: True, 6101: True, 6103: True, 6104: True, 6113: True, 6118: True, 6125: True, 6134: True, 6135: True, 6136: True, 6140: True, 6141: True, 6143: True, 6144: True, 6145: True, 6146: True, 6149: True, 6151: True, 6157: True, 6178: True, 6182: True, 6183: True, 6184: True, 6191: True, 6194: True, 6196: True, 6197: True, 6199: True, 6200: True, 6201: True, 6222: True, 6237: True, 6238: True, 6240: True, 6245: True, 6246: True, 6247: True, 6250: True, 6254: True, 6257: True, 6258: True, 6264: True, 6266: True, 6268: True, 6269: True, 6272: True, 6273: True, 6277: True, 6278: True, 6279: True, 6282: True, 6284: True, 6287: True, 6289: True, 6293: True, 6301: True, 6302: True, 6305: True, 6306: True, 6309: True, 6310: True, 6315: True, 6323: True, 6324: True, 6326: True, 6328: True, 6330: True, 6331: True, 6332: True, 6333: True, 6339: True, 6340: True, 6345: True, 6349: True, 6351: True, 6357: True, 6361: True, 6363: True, 6364: True, 6365: True, 6366: True, 6367: True, 6368: True, 6369: True, 6370: True, 6371: True, 6376: True, 6378: True, 6379: True, 6381: True, 6382: True, 6383: True, 6387: True, 6395: True, 6406: True, 6407: True, 6409: True, 6411: True, 6412: True, 6413: True, 6417: True, 6418: True, 6419: True, 6420: True, 6425: True, 6430: True, 6432: True, 6436: True, 6440: True, 6444: True, 6448: True, 6454: True, 6455: True, 6457: True, 6458: True, 6459: True, 6460: True, 6462: True, 6463: True, 6464: True, 6465: True, 6470: True, 6471: True, 6472: True, 6473: True, 6474: True, 6479: True, 6480: True, 6481: True, 6482: True, 6484: True, 6485: True, 6486: True, 6490: True, 6498: True, 6501: True, 6502: True, 6503: True, 6504: True, 6506: True, 6507: True, 6508: True, 6516: True, 6517: True, 6532: True, 6533: True, 6535: True, 6538: True, 6539: True, 6584: True, 6586: True, 6588: True, 6590: True, 6592: True, 6594: True, 6616: True, 6617: True, 6619: True, 6620: True, 6622: True, 6625: True, 6626: True, 6627: True, 6629: True, 6630: True, 6632: True, 6637: True, 6638: True, 6640: True, 6641: True, 6644: True, 6645: True, 6651: True, 6652: True, 6668: True, 6670: True, 6674: True, 6676: True, 6701: True, 6702: True, 6703: True, 6706: True, 6707: True, 6718: True, 6723: True, 6724: True, 6727: True, 6728: True, 6736: True, 6737: True, 6740: True, 6741: True, 6742: True, 6744: True, 6745: True, 6750: True, 6752: True, 6753: True, 6754: True, 6755: True, 6758: True, 6762: True, 6768: True, 6769: True, 6770: True, 6777: True, 6779: True, 6787: True, 6788: True, 6789: True, 6794: True, 6798: True, 6800: True, 6804: True, 6806: True, 6807: True, 6809: True, 6810: True, 6814: True, 6815: True, 6817: True, 6820: True, 6823: True, 6824: True, 6832: True, 6834: True, 6841: True, 6844: True, 6845: True, 6848: True, 6849: True, 6850: True, 6855: True, 6856: True, 6857: True, 6859: True, 6861: True, 6866: True, 6869: True, 6871: True, 6875: True, 6877: True, 6879: True, 6881: True, 6882: True, 6890: True, 6902: True, 6904: True, 6905: True, 6908: True, 6912: True, 6914: True, 6915: True, 6918: True, 6920: True, 6923: True, 6924: True, 6925: True, 6929: True, 6932: True, 6937: True, 6938: True, 6941: True, 6947: True, 6951: True, 6952: True, 6954: True, 6955: True, 6957: True, 6958: True, 6960: True, 6961: True, 6962: True, 6963: True, 6965: True, 6966: True, 6967: True, 6971: True, 6976: True, 6981: True, 6986: True, 6988: True, 6994: True, 6995: True, 6996: True, 6997: True, 6999: True, 7003: True, 7004: True, 7011: True, 7012: True, 7013: True, 7102: True, 7105: True, 7148: True, 7157: True, 7164: True, 7167: True, 7169: True, 7172: True, 7173: True, 7177: True, 7180: True, 7181: True, 7182: True, 7184: True, 7186: True, 7187: True, 7189: True, 7191: True, 7192: True, 7201: True, 7202: True, 7203: True, 7205: True, 7211: True, 7220: True, 7222: True, 7224: True, 7226: True, 7229: True, 7231: True, 7236: True, 7238: True, 7239: True, 7240: True, 7241: True, 7242: True, 7244: True, 7245: True, 7246: True, 7250: True, 7254: True, 7259: True, 7261: True, 7267: True, 7269: True, 7270: True, 7272: True, 7276: True, 7278: True, 7279: True, 7280: True, 7282: True, 7283: True, 7287: True, 7292: True, 7294: True, 7296: True, 7298: True, 7309: True, 7313: True, 7315: True, 7408: True, 7412: True, 7414: True, 7419: True, 7420: True, 7421: True, 7433: True, 7438: True, 7445: True, 7447: True, 7451: True, 7453: True, 7456: True, 7458: True, 7459: True, 7463: True, 7466: True, 7467: True, 7475: True, 7476: True, 7480: True, 7482: True, 7483: True, 7487: True, 7500: True, 7504: True, 7508: True, 7510: True, 7512: True, 7513: True, 7516: True, 7518: True, 7520: True, 7522: True, 7532: True, 7537: True, 7545: True, 7550: True, 7552: True, 7554: True, 7564: True, 7570: True, 7575: True, 7581: True, 7593: True, 7595: True, 7596: True, 7599: True, 7600: True, 7605: True, 7606: True, 7607: True, 7609: True, 7611: True, 7613: True, 7616: True, 7618: True, 7621: True, 7628: True, 7630: True, 7636: True, 7637: True, 7638: True, 7649: True, 7701: True, 7702: True, 7705: True, 7715: True, 7716: True, 7717: True, 7718: True, 7721: True, 7723: True, 7725: True, 7726: True, 7729: True, 7730: True, 7731: True, 7732: True, 7733: True, 7734: True, 7735: True, 7739: True, 7740: True, 7741: True, 7744: True, 7745: True, 7747: True, 7749: True, 7751: True, 7752: True, 7762: True, 7774: True, 7775: True, 7777: True, 7779: True, 7780: True, 7814: True, 7816: True, 7817: True, 7818: True, 7820: True, 7821: True, 7823: True, 7826: True, 7832: True, 7839: True, 7840: True, 7844: True, 7846: True, 7856: True, 7860: True, 7864: True, 7867: True, 7868: True, 7874: True, 7879: True, 7893: True, 7905: True, 7906: True, 7911: True, 7912: True, 7914: True, 7915: True, 7917: True, 7921: True, 7925: True, 7936: True, 7937: True, 7942: True, 7943: True, 7947: True, 7949: True, 7951: True, 7952: True, 7955: True, 7956: True, 7958: True, 7962: True, 7965: True, 7966: True, 7970: True, 7972: True, 7974: True, 7976: True, 7979: True, 7981: True, 7984: True, 7987: True, 7988: True, 7989: True, 7990: True, 7994: True, 7995: True, 8001: True, 8002: True, 8005: True, 8008: True, 8012: True, 8014: True, 8015: True, 8016: True, 8018: True, 8020: True, 8022: True, 8031: True, 8032: True, 8035: True, 8037: True, 8038: True, 8041: True, 8043: True, 8050: True, 8051: True, 8052: True, 8053: True, 8056: True, 8057: True, 8058: True, 8059: True, 8060: True, 8061: True, 8065: True, 8066: True, 8068: True, 8070: True, 8074: True, 8075: True, 8078: True, 8079: True, 8081: True, 8084: True, 8086: True, 8088: True, 8089: True, 8093: True, 8095: True, 8096: True, 8097: True, 8098: True, 8101: True, 8103: True, 8111: True, 8113: True, 8114: True, 8117: True, 8125: True, 8129: True, 8130: True, 8131: True, 8132: True, 8133: True, 8136: True, 8137: True, 8140: True, 8141: True, 8150: True, 8151: True, 8153: True, 8154: True, 8155: True, 8157: True, 8158: True, 8159: True, 8160: True, 8163: True, 8165: True, 8167: True, 8168: True, 8173: True, 8174: True, 8179: True, 8182: True, 8185: True, 8194: True, 8198: True, 8200: True, 8202: True, 8203: True, 8214: True, 8217: True, 8218: True, 8219: True, 8227: True, 8233: True, 8237: True, 8242: True, 8244: True, 8249: True, 8252: True, 8253: True, 8255: True, 8267: True, 8273: True, 8275: True, 8276: True, 8278: True, 8279: True, 8281: True, 8282: True, 8283: True, 8285: True, 8289: True, 8291: True, 8303: True, 8304: True, 8306: True, 8308: True, 8309: True, 8316: True, 8331: True, 8334: True, 8336: True, 8337: True, 8338: True, 8341: True, 8343: True, 8344: True, 8345: True, 8346: True, 8354: True, 8355: True, 8358: True, 8359: True, 8360: True, 8361: True, 8362: True, 8364: True, 8366: True, 8367: True, 8368: True, 8369: True, 8370: True, 8377: True, 8381: True, 8382: True, 8385: True, 8386: True, 8387: True, 8388: True, 8392: True, 8393: True, 8395: True, 8399: True, 8410: True, 8411: True, 8418: True, 8424: True, 8425: True, 8439: True, 8473: True, 8508: True, 8511: True, 8515: True, 8522: True, 8524: True, 8527: True, 8530: True, 8541: True, 8544: True, 8550: True, 8558: True, 8566: True, 8570: True, 8572: True, 8584: True, 8585: True, 8591: True, 8593: True, 8595: True, 8596: True, 8600: True, 8601: True, 8604: True, 8609: True, 8613: True, 8616: True, 8622: True, 8624: True, 8628: True, 8630: True, 8697: True, 8698: True, 8699: True, 8706: True, 8707: True, 8708: True, 8713: True, 8714: True, 8715: True, 8725: True, 8739: True, 8750: True, 8766: True, 8771: True, 8772: True, 8793: True, 8795: True, 8798: True, 8801: True, 8802: True, 8803: True, 8804: True, 8806: True, 8818: True, 8830: True, 8841: True, 8842: True, 8844: True, 8848: True, 8850: True, 8860: True, 8864: True, 8869: True, 8871: True, 8876: True, 8877: True, 8881: True, 8890: True, 8892: True, 8897: True, 8905: True, 8909: True, 8914: True, 8917: True, 8920: True, 8923: True, 8925: True, 8928: True, 8929: True, 8934: True, 8935: True, 8999: True, 9001: True, 9003: True, 9005: True, 9006: True, 9007: True, 9008: True, 9009: True, 9010: True, 9014: True, 9020: True, 9021: True, 9022: True, 9024: True, 9025: True, 9028: True, 9031: True, 9033: True, 9037: True, 9039: True, 9041: True, 9042: True, 9044: True, 9045: True, 9046: True, 9048: True, 9052: True, 9055: True, 9057: True, 9058: True, 9064: True, 9065: True, 9066: True, 9068: True, 9069: True, 9070: True, 9072: True, 9075: True, 9076: True, 9081: True, 9083: True, 9086: True, 9090: True, 9099: True, 9101: True, 9104: True, 9107: True, 9110: True, 9115: True, 9119: True, 9142: True, 9201: True, 9202: True, 9232: True, 9233: True, 9301: True, 9302: True, 9303: True, 9304: True, 9305: True, 9308: True, 9310: True, 9319: True, 9324: True, 9364: True, 9368: True, 9369: True, 9375: True, 9381: True, 9384: True, 9386: True, 9401: True, 9404: True, 9405: True, 9409: True, 9412: True, 9413: True, 9414: True, 9416: True, 9418: True, 9422: True, 9424: True, 9432: True, 9433: True, 9435: True, 9436: True, 9438: True, 9441: True, 9449: True, 9467: True, 9468: True, 9470: True, 9474: True, 9501: True, 9502: True, 9503: True, 9504: True, 9505: True, 9506: True, 9507: True, 9508: True, 9509: True, 9511: True, 9513: True, 9517: True, 9531: True, 9532: True, 9533: True, 9534: True, 9535: True, 9536: True, 9537: True, 9539: True, 9543: True, 9551: True, 9600: True, 9601: True, 9602: True, 9603: True, 9605: True, 9612: True, 9613: True, 9616: True, 9619: True, 9621: True, 9622: True, 9627: True, 9628: True, 9629: True, 9631: True, 9632: True, 9639: True, 9640: True, 9641: True, 9658: True, 9661: True, 9663: True, 9672: True, 9678: True, 9682: True, 9684: True, 9687: True, 9692: True, 9697: True, 9699: True, 9706: True, 9708: True, 9715: True, 9716: True, 9717: True, 9719: True, 9722: True, 9726: True, 9728: True, 9729: True, 9733: True, 9735: True, 9739: True, 9740: True, 9742: True, 9743: True, 9744: True, 9746: True, 9749: True, 9755: True, 9757: True, 9759: True, 9766: True, 9769: True, 9783: True, 9787: True, 9788: True, 9790: True, 9793: True, 9795: True, 9810: True, 9823: True, 9824: True, 9828: True, 9830: True, 9831: True, 9832: True, 9837: True, 9842: True, 9843: True, 9850: True, 9856: True, 9861: True, 9869: True, 9873: True, 9880: True, 9882: True, 9887: True, 9889: True, 9896: True, 9900: True, 9902: True, 9903: True, 9906: True, 9919: True, 9928: True, 9932: True, 9934: True, 9936: True, 9945: True, 9946: True, 9948: True, 9955: True, 9956: True, 9960: True, 9962: True, 9974: True, 9977: True, 9979: True, 9982: True, 9983: True, 9984: True, 9987: True, 9989: True, 9990: True, 9991: True, 9993: True, 9994: True, 9997: True, 9519: True, 3558: True, 6544: True, 3561: True, 5757: True, 1413: True, 3978: True, 3983: True, 3479: True, 3964: True, 3563: True, 3984: True, 3480: True, 3990: True, 3993: True, 7809: True, 3482: True, 3994: True, 9260: True, 6556: True, 3484: True, 6653: True, 8919: True, 9143: True, 7198: True, 4249: True, 6235: True, 7199: True, 9267: True, 6565: True, 6566: True, 6569: True, 9270: True, 6571: True, 9450: True, 6572: True, 7322: True, 4382: True, 4384: True, 4385: True, 9273: True, 6580: True, 9274: True, 4390: True, 7030: True, 7806: True, 7033: True, 3491: True, 3496: True, 7036: True, 7326: True, 3612: True, 5290: True, 7327: True, 9278: True, 9279: True, 3498: True, 4423: True, 7931: True, 4425: True, 9434: True, 6232: True, 6564: True, 7047: True, 7048: True, 4431: True, 4433: True, 1887: True, 4434: True, 4435: True, 4436: True, 7060: True, 7061: True, 2975: True, 7065: True, 1431: True, 4443: True, 4931: True, 4446: True, 7803: True, 4599: True, 7679: True, 4449: True, 4448: True, 4475: True, 7071: True, 4477: True, 4880: True, 4251: True, 7683: True, 3449: True, 4479: True, 4480: True, 4481: True, 4483: True, 4478: True, 4482: True, 4485: True, 7685: True, 2980: True, 4488: True, 7082: True, 7085: True, 7088: True, 4490: True, 7089: True, 4493: True, 7094: True, 7095: True, 7351: True, 4499: True, 4051: True, 4495: True, 4053: True, 4054: True, 4883: True, 4056: True, 1375: True, 4058: True, 2932: True, 4933: True, 7337: True, 7339: True, 2987: True, 7354: True, 4934: True, 6612: True, 7092: True, 7944: True, 4165: True, 4167: True, 7358: True, 4168: True, 7342: True, 4169: True}\n"
     ]
    }
   ],
   "source": [
    "# Check if given values exists in the DataFrame or not\n",
    "result = checkIfValuesExists1(fin['SecuritiesCode'], pri_list)\n",
    "print('Dictionary representing if the given keys exists in DataFrame or not : ')\n",
    "print(result)"
   ]
  },
  {
   "cell_type": "code",
   "execution_count": 146,
   "metadata": {
    "ExecuteTime": {
     "end_time": "2022-05-31T16:12:19.539333Z",
     "start_time": "2022-05-31T16:12:19.227526Z"
    }
   },
   "outputs": [
    {
     "data": {
      "text/html": [
       "<div>\n",
       "<style scoped>\n",
       "    .dataframe tbody tr th:only-of-type {\n",
       "        vertical-align: middle;\n",
       "    }\n",
       "\n",
       "    .dataframe tbody tr th {\n",
       "        vertical-align: top;\n",
       "    }\n",
       "\n",
       "    .dataframe thead th {\n",
       "        text-align: right;\n",
       "    }\n",
       "</style>\n",
       "<table border=\"1\" class=\"dataframe\">\n",
       "  <thead>\n",
       "    <tr style=\"text-align: right;\">\n",
       "      <th></th>\n",
       "      <th>DisclosureNumber</th>\n",
       "      <th>DateCode</th>\n",
       "      <th>SecuritiesCode</th>\n",
       "      <th>DisclosedDate</th>\n",
       "      <th>DisclosedTime</th>\n",
       "      <th>DisclosedUnixTime</th>\n",
       "      <th>TypeOfDocument</th>\n",
       "      <th>CurrentPeriodEndDate</th>\n",
       "      <th>TypeOfCurrentPeriod</th>\n",
       "      <th>CurrentFiscalYearStartDate</th>\n",
       "      <th>...</th>\n",
       "      <th>ForecastEarningsPerShare</th>\n",
       "      <th>ApplyingOfSpecificAccountingOfTheQuarterlyFinancialStatements</th>\n",
       "      <th>MaterialChangesInSubsidiaries</th>\n",
       "      <th>ChangesBasedOnRevisionsOfAccountingStandard</th>\n",
       "      <th>ChangesOtherThanOnesBasedOnRevisionsOfAccountingStandard</th>\n",
       "      <th>ChangesInAccountingEstimates</th>\n",
       "      <th>RetrospectiveRestatement</th>\n",
       "      <th>NumberOfIssuedAndOutstandingSharesAtTheEndOfFiscalYearIncludingTreasuryStock</th>\n",
       "      <th>NumberOfTreasuryStockAtTheEndOfFiscalYear</th>\n",
       "      <th>AverageNumberOfShares</th>\n",
       "    </tr>\n",
       "    <tr>\n",
       "      <th>Date</th>\n",
       "      <th></th>\n",
       "      <th></th>\n",
       "      <th></th>\n",
       "      <th></th>\n",
       "      <th></th>\n",
       "      <th></th>\n",
       "      <th></th>\n",
       "      <th></th>\n",
       "      <th></th>\n",
       "      <th></th>\n",
       "      <th></th>\n",
       "      <th></th>\n",
       "      <th></th>\n",
       "      <th></th>\n",
       "      <th></th>\n",
       "      <th></th>\n",
       "      <th></th>\n",
       "      <th></th>\n",
       "      <th></th>\n",
       "      <th></th>\n",
       "      <th></th>\n",
       "    </tr>\n",
       "  </thead>\n",
       "  <tbody>\n",
       "    <tr>\n",
       "      <th>2017-01-04</th>\n",
       "      <td>2.017010e+13</td>\n",
       "      <td>20170104_3353</td>\n",
       "      <td>3353</td>\n",
       "      <td>2017-01-04</td>\n",
       "      <td>15:00:00</td>\n",
       "      <td>1.483510e+09</td>\n",
       "      <td>3QFinancialStatements_Consolidated_JP</td>\n",
       "      <td>2016-11-30</td>\n",
       "      <td>3Q</td>\n",
       "      <td>2016-03-01</td>\n",
       "      <td>...</td>\n",
       "      <td>485.36</td>\n",
       "      <td>NaN</td>\n",
       "      <td>False</td>\n",
       "      <td>True</td>\n",
       "      <td>False</td>\n",
       "      <td>False</td>\n",
       "      <td>False</td>\n",
       "      <td>2.035e+06</td>\n",
       "      <td>118917</td>\n",
       "      <td>1.91608e+06</td>\n",
       "    </tr>\n",
       "    <tr>\n",
       "      <th>2017-01-04</th>\n",
       "      <td>2.016123e+13</td>\n",
       "      <td>20170104_4575</td>\n",
       "      <td>4575</td>\n",
       "      <td>2017-01-04</td>\n",
       "      <td>12:00:00</td>\n",
       "      <td>1.483499e+09</td>\n",
       "      <td>ForecastRevision</td>\n",
       "      <td>2016-12-31</td>\n",
       "      <td>2Q</td>\n",
       "      <td>2016-07-01</td>\n",
       "      <td>...</td>\n",
       "      <td>-93.11</td>\n",
       "      <td>NaN</td>\n",
       "      <td>NaN</td>\n",
       "      <td>NaN</td>\n",
       "      <td>NaN</td>\n",
       "      <td>NaN</td>\n",
       "      <td>NaN</td>\n",
       "      <td>NaN</td>\n",
       "      <td>NaN</td>\n",
       "      <td>NaN</td>\n",
       "    </tr>\n",
       "    <tr>\n",
       "      <th>2017-01-05</th>\n",
       "      <td>2.017010e+13</td>\n",
       "      <td>20170105_3282</td>\n",
       "      <td>3282</td>\n",
       "      <td>2017-01-05</td>\n",
       "      <td>15:30:00</td>\n",
       "      <td>1.483598e+09</td>\n",
       "      <td>ForecastRevision_REIT</td>\n",
       "      <td>2017-01-31</td>\n",
       "      <td>FY</td>\n",
       "      <td>2016-02-01</td>\n",
       "      <td>...</td>\n",
       "      <td>4558</td>\n",
       "      <td>NaN</td>\n",
       "      <td>NaN</td>\n",
       "      <td>NaN</td>\n",
       "      <td>NaN</td>\n",
       "      <td>NaN</td>\n",
       "      <td>NaN</td>\n",
       "      <td>NaN</td>\n",
       "      <td>NaN</td>\n",
       "      <td>NaN</td>\n",
       "    </tr>\n",
       "    <tr>\n",
       "      <th>2017-01-05</th>\n",
       "      <td>2.017011e+13</td>\n",
       "      <td>20170105_3344</td>\n",
       "      <td>3344</td>\n",
       "      <td>2017-01-05</td>\n",
       "      <td>15:00:00</td>\n",
       "      <td>1.483596e+09</td>\n",
       "      <td>3QFinancialStatements_Consolidated_JP</td>\n",
       "      <td>2016-11-30</td>\n",
       "      <td>3Q</td>\n",
       "      <td>2016-03-01</td>\n",
       "      <td>...</td>\n",
       "      <td>47.7</td>\n",
       "      <td>NaN</td>\n",
       "      <td>False</td>\n",
       "      <td>True</td>\n",
       "      <td>False</td>\n",
       "      <td>False</td>\n",
       "      <td>False</td>\n",
       "      <td>5.57918e+06</td>\n",
       "      <td>1372</td>\n",
       "      <td>5.57826e+06</td>\n",
       "    </tr>\n",
       "    <tr>\n",
       "      <th>2017-01-05</th>\n",
       "      <td>2.017011e+13</td>\n",
       "      <td>20170105_7847</td>\n",
       "      <td>7847</td>\n",
       "      <td>2017-01-05</td>\n",
       "      <td>15:00:00</td>\n",
       "      <td>1.483596e+09</td>\n",
       "      <td>ForecastRevision</td>\n",
       "      <td>2017-02-28</td>\n",
       "      <td>FY</td>\n",
       "      <td>2016-02-29</td>\n",
       "      <td>...</td>\n",
       "      <td>36.55</td>\n",
       "      <td>NaN</td>\n",
       "      <td>NaN</td>\n",
       "      <td>NaN</td>\n",
       "      <td>NaN</td>\n",
       "      <td>NaN</td>\n",
       "      <td>NaN</td>\n",
       "      <td>NaN</td>\n",
       "      <td>NaN</td>\n",
       "      <td>NaN</td>\n",
       "    </tr>\n",
       "    <tr>\n",
       "      <th>...</th>\n",
       "      <td>...</td>\n",
       "      <td>...</td>\n",
       "      <td>...</td>\n",
       "      <td>...</td>\n",
       "      <td>...</td>\n",
       "      <td>...</td>\n",
       "      <td>...</td>\n",
       "      <td>...</td>\n",
       "      <td>...</td>\n",
       "      <td>...</td>\n",
       "      <td>...</td>\n",
       "      <td>...</td>\n",
       "      <td>...</td>\n",
       "      <td>...</td>\n",
       "      <td>...</td>\n",
       "      <td>...</td>\n",
       "      <td>...</td>\n",
       "      <td>...</td>\n",
       "      <td>...</td>\n",
       "      <td>...</td>\n",
       "      <td>...</td>\n",
       "    </tr>\n",
       "    <tr>\n",
       "      <th>2021-12-03</th>\n",
       "      <td>2.021120e+13</td>\n",
       "      <td>20211203_4421</td>\n",
       "      <td>4421</td>\n",
       "      <td>2021-12-03</td>\n",
       "      <td>15:00:00</td>\n",
       "      <td>1.638511e+09</td>\n",
       "      <td>NumericalCorrection</td>\n",
       "      <td>2021-09-30</td>\n",
       "      <td>FY</td>\n",
       "      <td>2020-10-01</td>\n",
       "      <td>...</td>\n",
       "      <td>52.97</td>\n",
       "      <td>NaN</td>\n",
       "      <td>False</td>\n",
       "      <td>False</td>\n",
       "      <td>False</td>\n",
       "      <td>False</td>\n",
       "      <td>False</td>\n",
       "      <td>3.055e+06</td>\n",
       "      <td>224</td>\n",
       "      <td>3.05178e+06</td>\n",
       "    </tr>\n",
       "    <tr>\n",
       "      <th>2021-12-03</th>\n",
       "      <td>2.021113e+13</td>\n",
       "      <td>20211203_4707</td>\n",
       "      <td>4707</td>\n",
       "      <td>2021-12-03</td>\n",
       "      <td>15:00:00</td>\n",
       "      <td>1.638511e+09</td>\n",
       "      <td>FYFinancialStatements_Consolidated_JP</td>\n",
       "      <td>2021-10-20</td>\n",
       "      <td>FY</td>\n",
       "      <td>2020-10-21</td>\n",
       "      <td>...</td>\n",
       "      <td>35.53</td>\n",
       "      <td>NaN</td>\n",
       "      <td>False</td>\n",
       "      <td>False</td>\n",
       "      <td>False</td>\n",
       "      <td>False</td>\n",
       "      <td>False</td>\n",
       "      <td>5.96902e+06</td>\n",
       "      <td>368575</td>\n",
       "      <td>5.60045e+06</td>\n",
       "    </tr>\n",
       "    <tr>\n",
       "      <th>2021-12-03</th>\n",
       "      <td>2.021112e+13</td>\n",
       "      <td>20211203_6040</td>\n",
       "      <td>6040</td>\n",
       "      <td>2021-12-03</td>\n",
       "      <td>15:00:00</td>\n",
       "      <td>1.638511e+09</td>\n",
       "      <td>1QFinancialStatements_Consolidated_JP</td>\n",
       "      <td>2021-10-31</td>\n",
       "      <td>1Q</td>\n",
       "      <td>2021-08-01</td>\n",
       "      <td>...</td>\n",
       "      <td>－</td>\n",
       "      <td>NaN</td>\n",
       "      <td>False</td>\n",
       "      <td>True</td>\n",
       "      <td>False</td>\n",
       "      <td>False</td>\n",
       "      <td>False</td>\n",
       "      <td>1.60004e+07</td>\n",
       "      <td>836400</td>\n",
       "      <td>1.5164e+07</td>\n",
       "    </tr>\n",
       "    <tr>\n",
       "      <th>2021-12-03</th>\n",
       "      <td>2.021120e+13</td>\n",
       "      <td>20211203_6898</td>\n",
       "      <td>6898</td>\n",
       "      <td>2021-12-03</td>\n",
       "      <td>16:00:00</td>\n",
       "      <td>1.638515e+09</td>\n",
       "      <td>3QFinancialStatements_Consolidated_JP</td>\n",
       "      <td>2021-10-31</td>\n",
       "      <td>3Q</td>\n",
       "      <td>2021-02-01</td>\n",
       "      <td>...</td>\n",
       "      <td>142.01</td>\n",
       "      <td>NaN</td>\n",
       "      <td>False</td>\n",
       "      <td>False</td>\n",
       "      <td>False</td>\n",
       "      <td>False</td>\n",
       "      <td>False</td>\n",
       "      <td>816979</td>\n",
       "      <td>157541</td>\n",
       "      <td>659486</td>\n",
       "    </tr>\n",
       "    <tr>\n",
       "      <th>2021-12-03</th>\n",
       "      <td>2.021120e+13</td>\n",
       "      <td>20211203_6969</td>\n",
       "      <td>6969</td>\n",
       "      <td>2021-12-03</td>\n",
       "      <td>15:00:00</td>\n",
       "      <td>1.638511e+09</td>\n",
       "      <td>ForecastRevision</td>\n",
       "      <td>2022-03-31</td>\n",
       "      <td>FY</td>\n",
       "      <td>2021-04-01</td>\n",
       "      <td>...</td>\n",
       "      <td>-147.87</td>\n",
       "      <td>NaN</td>\n",
       "      <td>NaN</td>\n",
       "      <td>NaN</td>\n",
       "      <td>NaN</td>\n",
       "      <td>NaN</td>\n",
       "      <td>NaN</td>\n",
       "      <td>NaN</td>\n",
       "      <td>NaN</td>\n",
       "      <td>NaN</td>\n",
       "    </tr>\n",
       "  </tbody>\n",
       "</table>\n",
       "<p>44812 rows × 44 columns</p>\n",
       "</div>"
      ],
      "text/plain": [
       "            DisclosureNumber       DateCode  SecuritiesCode DisclosedDate  \\\n",
       "Date                                                                        \n",
       "2017-01-04      2.017010e+13  20170104_3353            3353    2017-01-04   \n",
       "2017-01-04      2.016123e+13  20170104_4575            4575    2017-01-04   \n",
       "2017-01-05      2.017010e+13  20170105_3282            3282    2017-01-05   \n",
       "2017-01-05      2.017011e+13  20170105_3344            3344    2017-01-05   \n",
       "2017-01-05      2.017011e+13  20170105_7847            7847    2017-01-05   \n",
       "...                      ...            ...             ...           ...   \n",
       "2021-12-03      2.021120e+13  20211203_4421            4421    2021-12-03   \n",
       "2021-12-03      2.021113e+13  20211203_4707            4707    2021-12-03   \n",
       "2021-12-03      2.021112e+13  20211203_6040            6040    2021-12-03   \n",
       "2021-12-03      2.021120e+13  20211203_6898            6898    2021-12-03   \n",
       "2021-12-03      2.021120e+13  20211203_6969            6969    2021-12-03   \n",
       "\n",
       "           DisclosedTime  DisclosedUnixTime  \\\n",
       "Date                                          \n",
       "2017-01-04      15:00:00       1.483510e+09   \n",
       "2017-01-04      12:00:00       1.483499e+09   \n",
       "2017-01-05      15:30:00       1.483598e+09   \n",
       "2017-01-05      15:00:00       1.483596e+09   \n",
       "2017-01-05      15:00:00       1.483596e+09   \n",
       "...                  ...                ...   \n",
       "2021-12-03      15:00:00       1.638511e+09   \n",
       "2021-12-03      15:00:00       1.638511e+09   \n",
       "2021-12-03      15:00:00       1.638511e+09   \n",
       "2021-12-03      16:00:00       1.638515e+09   \n",
       "2021-12-03      15:00:00       1.638511e+09   \n",
       "\n",
       "                                   TypeOfDocument CurrentPeriodEndDate  \\\n",
       "Date                                                                     \n",
       "2017-01-04  3QFinancialStatements_Consolidated_JP           2016-11-30   \n",
       "2017-01-04                       ForecastRevision           2016-12-31   \n",
       "2017-01-05                  ForecastRevision_REIT           2017-01-31   \n",
       "2017-01-05  3QFinancialStatements_Consolidated_JP           2016-11-30   \n",
       "2017-01-05                       ForecastRevision           2017-02-28   \n",
       "...                                           ...                  ...   \n",
       "2021-12-03                    NumericalCorrection           2021-09-30   \n",
       "2021-12-03  FYFinancialStatements_Consolidated_JP           2021-10-20   \n",
       "2021-12-03  1QFinancialStatements_Consolidated_JP           2021-10-31   \n",
       "2021-12-03  3QFinancialStatements_Consolidated_JP           2021-10-31   \n",
       "2021-12-03                       ForecastRevision           2022-03-31   \n",
       "\n",
       "           TypeOfCurrentPeriod CurrentFiscalYearStartDate  ...  \\\n",
       "Date                                                       ...   \n",
       "2017-01-04                  3Q                 2016-03-01  ...   \n",
       "2017-01-04                  2Q                 2016-07-01  ...   \n",
       "2017-01-05                  FY                 2016-02-01  ...   \n",
       "2017-01-05                  3Q                 2016-03-01  ...   \n",
       "2017-01-05                  FY                 2016-02-29  ...   \n",
       "...                        ...                        ...  ...   \n",
       "2021-12-03                  FY                 2020-10-01  ...   \n",
       "2021-12-03                  FY                 2020-10-21  ...   \n",
       "2021-12-03                  1Q                 2021-08-01  ...   \n",
       "2021-12-03                  3Q                 2021-02-01  ...   \n",
       "2021-12-03                  FY                 2021-04-01  ...   \n",
       "\n",
       "           ForecastEarningsPerShare  \\\n",
       "Date                                  \n",
       "2017-01-04                   485.36   \n",
       "2017-01-04                   -93.11   \n",
       "2017-01-05                     4558   \n",
       "2017-01-05                     47.7   \n",
       "2017-01-05                    36.55   \n",
       "...                             ...   \n",
       "2021-12-03                    52.97   \n",
       "2021-12-03                    35.53   \n",
       "2021-12-03                        －   \n",
       "2021-12-03                   142.01   \n",
       "2021-12-03                  -147.87   \n",
       "\n",
       "           ApplyingOfSpecificAccountingOfTheQuarterlyFinancialStatements  \\\n",
       "Date                                                                       \n",
       "2017-01-04                                                NaN              \n",
       "2017-01-04                                                NaN              \n",
       "2017-01-05                                                NaN              \n",
       "2017-01-05                                                NaN              \n",
       "2017-01-05                                                NaN              \n",
       "...                                                       ...              \n",
       "2021-12-03                                                NaN              \n",
       "2021-12-03                                                NaN              \n",
       "2021-12-03                                                NaN              \n",
       "2021-12-03                                                NaN              \n",
       "2021-12-03                                                NaN              \n",
       "\n",
       "           MaterialChangesInSubsidiaries  \\\n",
       "Date                                       \n",
       "2017-01-04                         False   \n",
       "2017-01-04                           NaN   \n",
       "2017-01-05                           NaN   \n",
       "2017-01-05                         False   \n",
       "2017-01-05                           NaN   \n",
       "...                                  ...   \n",
       "2021-12-03                         False   \n",
       "2021-12-03                         False   \n",
       "2021-12-03                         False   \n",
       "2021-12-03                         False   \n",
       "2021-12-03                           NaN   \n",
       "\n",
       "           ChangesBasedOnRevisionsOfAccountingStandard  \\\n",
       "Date                                                     \n",
       "2017-01-04                                        True   \n",
       "2017-01-04                                         NaN   \n",
       "2017-01-05                                         NaN   \n",
       "2017-01-05                                        True   \n",
       "2017-01-05                                         NaN   \n",
       "...                                                ...   \n",
       "2021-12-03                                       False   \n",
       "2021-12-03                                       False   \n",
       "2021-12-03                                        True   \n",
       "2021-12-03                                       False   \n",
       "2021-12-03                                         NaN   \n",
       "\n",
       "           ChangesOtherThanOnesBasedOnRevisionsOfAccountingStandard  \\\n",
       "Date                                                                  \n",
       "2017-01-04                                              False         \n",
       "2017-01-04                                                NaN         \n",
       "2017-01-05                                                NaN         \n",
       "2017-01-05                                              False         \n",
       "2017-01-05                                                NaN         \n",
       "...                                                       ...         \n",
       "2021-12-03                                              False         \n",
       "2021-12-03                                              False         \n",
       "2021-12-03                                              False         \n",
       "2021-12-03                                              False         \n",
       "2021-12-03                                                NaN         \n",
       "\n",
       "           ChangesInAccountingEstimates RetrospectiveRestatement  \\\n",
       "Date                                                               \n",
       "2017-01-04                        False                    False   \n",
       "2017-01-04                          NaN                      NaN   \n",
       "2017-01-05                          NaN                      NaN   \n",
       "2017-01-05                        False                    False   \n",
       "2017-01-05                          NaN                      NaN   \n",
       "...                                 ...                      ...   \n",
       "2021-12-03                        False                    False   \n",
       "2021-12-03                        False                    False   \n",
       "2021-12-03                        False                    False   \n",
       "2021-12-03                        False                    False   \n",
       "2021-12-03                          NaN                      NaN   \n",
       "\n",
       "           NumberOfIssuedAndOutstandingSharesAtTheEndOfFiscalYearIncludingTreasuryStock  \\\n",
       "Date                                                                                      \n",
       "2017-01-04                                          2.035e+06                             \n",
       "2017-01-04                                                NaN                             \n",
       "2017-01-05                                                NaN                             \n",
       "2017-01-05                                        5.57918e+06                             \n",
       "2017-01-05                                                NaN                             \n",
       "...                                                       ...                             \n",
       "2021-12-03                                          3.055e+06                             \n",
       "2021-12-03                                        5.96902e+06                             \n",
       "2021-12-03                                        1.60004e+07                             \n",
       "2021-12-03                                             816979                             \n",
       "2021-12-03                                                NaN                             \n",
       "\n",
       "           NumberOfTreasuryStockAtTheEndOfFiscalYear AverageNumberOfShares  \n",
       "Date                                                                        \n",
       "2017-01-04                                    118917           1.91608e+06  \n",
       "2017-01-04                                       NaN                   NaN  \n",
       "2017-01-05                                       NaN                   NaN  \n",
       "2017-01-05                                      1372           5.57826e+06  \n",
       "2017-01-05                                       NaN                   NaN  \n",
       "...                                              ...                   ...  \n",
       "2021-12-03                                       224           3.05178e+06  \n",
       "2021-12-03                                    368575           5.60045e+06  \n",
       "2021-12-03                                    836400            1.5164e+07  \n",
       "2021-12-03                                    157541                659486  \n",
       "2021-12-03                                       NaN                   NaN  \n",
       "\n",
       "[44812 rows x 44 columns]"
      ]
     },
     "execution_count": 146,
     "metadata": {},
     "output_type": "execute_result"
    }
   ],
   "source": [
    "fin2 = fin.copy()\n",
    "fin2 = fin2[~fin2['SecuritiesCode'].isin(pri_list)]\n",
    "fin2"
   ]
  },
  {
   "cell_type": "code",
   "execution_count": 153,
   "metadata": {
    "ExecuteTime": {
     "end_time": "2022-05-31T16:25:51.365281Z",
     "start_time": "2022-05-31T16:25:51.135975Z"
    }
   },
   "outputs": [
    {
     "data": {
      "text/html": [
       "<div>\n",
       "<style scoped>\n",
       "    .dataframe tbody tr th:only-of-type {\n",
       "        vertical-align: middle;\n",
       "    }\n",
       "\n",
       "    .dataframe tbody tr th {\n",
       "        vertical-align: top;\n",
       "    }\n",
       "\n",
       "    .dataframe thead th {\n",
       "        text-align: right;\n",
       "    }\n",
       "</style>\n",
       "<table border=\"1\" class=\"dataframe\">\n",
       "  <thead>\n",
       "    <tr style=\"text-align: right;\">\n",
       "      <th></th>\n",
       "      <th>DisclosureNumber</th>\n",
       "      <th>DateCode</th>\n",
       "      <th>SecuritiesCode</th>\n",
       "      <th>DisclosedDate</th>\n",
       "      <th>DisclosedTime</th>\n",
       "      <th>DisclosedUnixTime</th>\n",
       "      <th>TypeOfDocument</th>\n",
       "      <th>CurrentPeriodEndDate</th>\n",
       "      <th>TypeOfCurrentPeriod</th>\n",
       "      <th>CurrentFiscalYearStartDate</th>\n",
       "      <th>...</th>\n",
       "      <th>ForecastEarningsPerShare</th>\n",
       "      <th>ApplyingOfSpecificAccountingOfTheQuarterlyFinancialStatements</th>\n",
       "      <th>MaterialChangesInSubsidiaries</th>\n",
       "      <th>ChangesBasedOnRevisionsOfAccountingStandard</th>\n",
       "      <th>ChangesOtherThanOnesBasedOnRevisionsOfAccountingStandard</th>\n",
       "      <th>ChangesInAccountingEstimates</th>\n",
       "      <th>RetrospectiveRestatement</th>\n",
       "      <th>NumberOfIssuedAndOutstandingSharesAtTheEndOfFiscalYearIncludingTreasuryStock</th>\n",
       "      <th>NumberOfTreasuryStockAtTheEndOfFiscalYear</th>\n",
       "      <th>AverageNumberOfShares</th>\n",
       "    </tr>\n",
       "    <tr>\n",
       "      <th>Date</th>\n",
       "      <th></th>\n",
       "      <th></th>\n",
       "      <th></th>\n",
       "      <th></th>\n",
       "      <th></th>\n",
       "      <th></th>\n",
       "      <th></th>\n",
       "      <th></th>\n",
       "      <th></th>\n",
       "      <th></th>\n",
       "      <th></th>\n",
       "      <th></th>\n",
       "      <th></th>\n",
       "      <th></th>\n",
       "      <th></th>\n",
       "      <th></th>\n",
       "      <th></th>\n",
       "      <th></th>\n",
       "      <th></th>\n",
       "      <th></th>\n",
       "      <th></th>\n",
       "    </tr>\n",
       "  </thead>\n",
       "  <tbody>\n",
       "    <tr>\n",
       "      <th>2017-01-04</th>\n",
       "      <td>2.017010e+13</td>\n",
       "      <td>20170104_3353</td>\n",
       "      <td>3353</td>\n",
       "      <td>2017-01-04</td>\n",
       "      <td>15:00:00</td>\n",
       "      <td>1.483510e+09</td>\n",
       "      <td>3QFinancialStatements_Consolidated_JP</td>\n",
       "      <td>2016-11-30</td>\n",
       "      <td>3Q</td>\n",
       "      <td>2016-03-01</td>\n",
       "      <td>...</td>\n",
       "      <td>485.36</td>\n",
       "      <td>NaN</td>\n",
       "      <td>False</td>\n",
       "      <td>True</td>\n",
       "      <td>False</td>\n",
       "      <td>False</td>\n",
       "      <td>False</td>\n",
       "      <td>2.035e+06</td>\n",
       "      <td>118917</td>\n",
       "      <td>1.91608e+06</td>\n",
       "    </tr>\n",
       "    <tr>\n",
       "      <th>2017-01-04</th>\n",
       "      <td>2.016123e+13</td>\n",
       "      <td>20170104_4575</td>\n",
       "      <td>4575</td>\n",
       "      <td>2017-01-04</td>\n",
       "      <td>12:00:00</td>\n",
       "      <td>1.483499e+09</td>\n",
       "      <td>ForecastRevision</td>\n",
       "      <td>2016-12-31</td>\n",
       "      <td>2Q</td>\n",
       "      <td>2016-07-01</td>\n",
       "      <td>...</td>\n",
       "      <td>-93.11</td>\n",
       "      <td>NaN</td>\n",
       "      <td>NaN</td>\n",
       "      <td>NaN</td>\n",
       "      <td>NaN</td>\n",
       "      <td>NaN</td>\n",
       "      <td>NaN</td>\n",
       "      <td>NaN</td>\n",
       "      <td>NaN</td>\n",
       "      <td>NaN</td>\n",
       "    </tr>\n",
       "    <tr>\n",
       "      <th>2017-01-05</th>\n",
       "      <td>2.017010e+13</td>\n",
       "      <td>20170105_3282</td>\n",
       "      <td>3282</td>\n",
       "      <td>2017-01-05</td>\n",
       "      <td>15:30:00</td>\n",
       "      <td>1.483598e+09</td>\n",
       "      <td>ForecastRevision_REIT</td>\n",
       "      <td>2017-01-31</td>\n",
       "      <td>FY</td>\n",
       "      <td>2016-02-01</td>\n",
       "      <td>...</td>\n",
       "      <td>4558</td>\n",
       "      <td>NaN</td>\n",
       "      <td>NaN</td>\n",
       "      <td>NaN</td>\n",
       "      <td>NaN</td>\n",
       "      <td>NaN</td>\n",
       "      <td>NaN</td>\n",
       "      <td>NaN</td>\n",
       "      <td>NaN</td>\n",
       "      <td>NaN</td>\n",
       "    </tr>\n",
       "    <tr>\n",
       "      <th>2017-01-05</th>\n",
       "      <td>2.017011e+13</td>\n",
       "      <td>20170105_3344</td>\n",
       "      <td>3344</td>\n",
       "      <td>2017-01-05</td>\n",
       "      <td>15:00:00</td>\n",
       "      <td>1.483596e+09</td>\n",
       "      <td>3QFinancialStatements_Consolidated_JP</td>\n",
       "      <td>2016-11-30</td>\n",
       "      <td>3Q</td>\n",
       "      <td>2016-03-01</td>\n",
       "      <td>...</td>\n",
       "      <td>47.7</td>\n",
       "      <td>NaN</td>\n",
       "      <td>False</td>\n",
       "      <td>True</td>\n",
       "      <td>False</td>\n",
       "      <td>False</td>\n",
       "      <td>False</td>\n",
       "      <td>5.57918e+06</td>\n",
       "      <td>1372</td>\n",
       "      <td>5.57826e+06</td>\n",
       "    </tr>\n",
       "    <tr>\n",
       "      <th>2017-01-05</th>\n",
       "      <td>2.017011e+13</td>\n",
       "      <td>20170105_7847</td>\n",
       "      <td>7847</td>\n",
       "      <td>2017-01-05</td>\n",
       "      <td>15:00:00</td>\n",
       "      <td>1.483596e+09</td>\n",
       "      <td>ForecastRevision</td>\n",
       "      <td>2017-02-28</td>\n",
       "      <td>FY</td>\n",
       "      <td>2016-02-29</td>\n",
       "      <td>...</td>\n",
       "      <td>36.55</td>\n",
       "      <td>NaN</td>\n",
       "      <td>NaN</td>\n",
       "      <td>NaN</td>\n",
       "      <td>NaN</td>\n",
       "      <td>NaN</td>\n",
       "      <td>NaN</td>\n",
       "      <td>NaN</td>\n",
       "      <td>NaN</td>\n",
       "      <td>NaN</td>\n",
       "    </tr>\n",
       "    <tr>\n",
       "      <th>...</th>\n",
       "      <td>...</td>\n",
       "      <td>...</td>\n",
       "      <td>...</td>\n",
       "      <td>...</td>\n",
       "      <td>...</td>\n",
       "      <td>...</td>\n",
       "      <td>...</td>\n",
       "      <td>...</td>\n",
       "      <td>...</td>\n",
       "      <td>...</td>\n",
       "      <td>...</td>\n",
       "      <td>...</td>\n",
       "      <td>...</td>\n",
       "      <td>...</td>\n",
       "      <td>...</td>\n",
       "      <td>...</td>\n",
       "      <td>...</td>\n",
       "      <td>...</td>\n",
       "      <td>...</td>\n",
       "      <td>...</td>\n",
       "      <td>...</td>\n",
       "    </tr>\n",
       "    <tr>\n",
       "      <th>2021-12-03</th>\n",
       "      <td>2.021120e+13</td>\n",
       "      <td>20211203_4421</td>\n",
       "      <td>4421</td>\n",
       "      <td>2021-12-03</td>\n",
       "      <td>15:00:00</td>\n",
       "      <td>1.638511e+09</td>\n",
       "      <td>NumericalCorrection</td>\n",
       "      <td>2021-09-30</td>\n",
       "      <td>FY</td>\n",
       "      <td>2020-10-01</td>\n",
       "      <td>...</td>\n",
       "      <td>52.97</td>\n",
       "      <td>NaN</td>\n",
       "      <td>False</td>\n",
       "      <td>False</td>\n",
       "      <td>False</td>\n",
       "      <td>False</td>\n",
       "      <td>False</td>\n",
       "      <td>3.055e+06</td>\n",
       "      <td>224</td>\n",
       "      <td>3.05178e+06</td>\n",
       "    </tr>\n",
       "    <tr>\n",
       "      <th>2021-12-03</th>\n",
       "      <td>2.021113e+13</td>\n",
       "      <td>20211203_4707</td>\n",
       "      <td>4707</td>\n",
       "      <td>2021-12-03</td>\n",
       "      <td>15:00:00</td>\n",
       "      <td>1.638511e+09</td>\n",
       "      <td>FYFinancialStatements_Consolidated_JP</td>\n",
       "      <td>2021-10-20</td>\n",
       "      <td>FY</td>\n",
       "      <td>2020-10-21</td>\n",
       "      <td>...</td>\n",
       "      <td>35.53</td>\n",
       "      <td>NaN</td>\n",
       "      <td>False</td>\n",
       "      <td>False</td>\n",
       "      <td>False</td>\n",
       "      <td>False</td>\n",
       "      <td>False</td>\n",
       "      <td>5.96902e+06</td>\n",
       "      <td>368575</td>\n",
       "      <td>5.60045e+06</td>\n",
       "    </tr>\n",
       "    <tr>\n",
       "      <th>2021-12-03</th>\n",
       "      <td>2.021112e+13</td>\n",
       "      <td>20211203_6040</td>\n",
       "      <td>6040</td>\n",
       "      <td>2021-12-03</td>\n",
       "      <td>15:00:00</td>\n",
       "      <td>1.638511e+09</td>\n",
       "      <td>1QFinancialStatements_Consolidated_JP</td>\n",
       "      <td>2021-10-31</td>\n",
       "      <td>1Q</td>\n",
       "      <td>2021-08-01</td>\n",
       "      <td>...</td>\n",
       "      <td>－</td>\n",
       "      <td>NaN</td>\n",
       "      <td>False</td>\n",
       "      <td>True</td>\n",
       "      <td>False</td>\n",
       "      <td>False</td>\n",
       "      <td>False</td>\n",
       "      <td>1.60004e+07</td>\n",
       "      <td>836400</td>\n",
       "      <td>1.5164e+07</td>\n",
       "    </tr>\n",
       "    <tr>\n",
       "      <th>2021-12-03</th>\n",
       "      <td>2.021120e+13</td>\n",
       "      <td>20211203_6898</td>\n",
       "      <td>6898</td>\n",
       "      <td>2021-12-03</td>\n",
       "      <td>16:00:00</td>\n",
       "      <td>1.638515e+09</td>\n",
       "      <td>3QFinancialStatements_Consolidated_JP</td>\n",
       "      <td>2021-10-31</td>\n",
       "      <td>3Q</td>\n",
       "      <td>2021-02-01</td>\n",
       "      <td>...</td>\n",
       "      <td>142.01</td>\n",
       "      <td>NaN</td>\n",
       "      <td>False</td>\n",
       "      <td>False</td>\n",
       "      <td>False</td>\n",
       "      <td>False</td>\n",
       "      <td>False</td>\n",
       "      <td>816979</td>\n",
       "      <td>157541</td>\n",
       "      <td>659486</td>\n",
       "    </tr>\n",
       "    <tr>\n",
       "      <th>2021-12-03</th>\n",
       "      <td>2.021120e+13</td>\n",
       "      <td>20211203_6969</td>\n",
       "      <td>6969</td>\n",
       "      <td>2021-12-03</td>\n",
       "      <td>15:00:00</td>\n",
       "      <td>1.638511e+09</td>\n",
       "      <td>ForecastRevision</td>\n",
       "      <td>2022-03-31</td>\n",
       "      <td>FY</td>\n",
       "      <td>2021-04-01</td>\n",
       "      <td>...</td>\n",
       "      <td>-147.87</td>\n",
       "      <td>NaN</td>\n",
       "      <td>NaN</td>\n",
       "      <td>NaN</td>\n",
       "      <td>NaN</td>\n",
       "      <td>NaN</td>\n",
       "      <td>NaN</td>\n",
       "      <td>NaN</td>\n",
       "      <td>NaN</td>\n",
       "      <td>NaN</td>\n",
       "    </tr>\n",
       "  </tbody>\n",
       "</table>\n",
       "<p>44812 rows × 44 columns</p>\n",
       "</div>"
      ],
      "text/plain": [
       "            DisclosureNumber       DateCode  SecuritiesCode DisclosedDate  \\\n",
       "Date                                                                        \n",
       "2017-01-04      2.017010e+13  20170104_3353            3353    2017-01-04   \n",
       "2017-01-04      2.016123e+13  20170104_4575            4575    2017-01-04   \n",
       "2017-01-05      2.017010e+13  20170105_3282            3282    2017-01-05   \n",
       "2017-01-05      2.017011e+13  20170105_3344            3344    2017-01-05   \n",
       "2017-01-05      2.017011e+13  20170105_7847            7847    2017-01-05   \n",
       "...                      ...            ...             ...           ...   \n",
       "2021-12-03      2.021120e+13  20211203_4421            4421    2021-12-03   \n",
       "2021-12-03      2.021113e+13  20211203_4707            4707    2021-12-03   \n",
       "2021-12-03      2.021112e+13  20211203_6040            6040    2021-12-03   \n",
       "2021-12-03      2.021120e+13  20211203_6898            6898    2021-12-03   \n",
       "2021-12-03      2.021120e+13  20211203_6969            6969    2021-12-03   \n",
       "\n",
       "           DisclosedTime  DisclosedUnixTime  \\\n",
       "Date                                          \n",
       "2017-01-04      15:00:00       1.483510e+09   \n",
       "2017-01-04      12:00:00       1.483499e+09   \n",
       "2017-01-05      15:30:00       1.483598e+09   \n",
       "2017-01-05      15:00:00       1.483596e+09   \n",
       "2017-01-05      15:00:00       1.483596e+09   \n",
       "...                  ...                ...   \n",
       "2021-12-03      15:00:00       1.638511e+09   \n",
       "2021-12-03      15:00:00       1.638511e+09   \n",
       "2021-12-03      15:00:00       1.638511e+09   \n",
       "2021-12-03      16:00:00       1.638515e+09   \n",
       "2021-12-03      15:00:00       1.638511e+09   \n",
       "\n",
       "                                   TypeOfDocument CurrentPeriodEndDate  \\\n",
       "Date                                                                     \n",
       "2017-01-04  3QFinancialStatements_Consolidated_JP           2016-11-30   \n",
       "2017-01-04                       ForecastRevision           2016-12-31   \n",
       "2017-01-05                  ForecastRevision_REIT           2017-01-31   \n",
       "2017-01-05  3QFinancialStatements_Consolidated_JP           2016-11-30   \n",
       "2017-01-05                       ForecastRevision           2017-02-28   \n",
       "...                                           ...                  ...   \n",
       "2021-12-03                    NumericalCorrection           2021-09-30   \n",
       "2021-12-03  FYFinancialStatements_Consolidated_JP           2021-10-20   \n",
       "2021-12-03  1QFinancialStatements_Consolidated_JP           2021-10-31   \n",
       "2021-12-03  3QFinancialStatements_Consolidated_JP           2021-10-31   \n",
       "2021-12-03                       ForecastRevision           2022-03-31   \n",
       "\n",
       "           TypeOfCurrentPeriod CurrentFiscalYearStartDate  ...  \\\n",
       "Date                                                       ...   \n",
       "2017-01-04                  3Q                 2016-03-01  ...   \n",
       "2017-01-04                  2Q                 2016-07-01  ...   \n",
       "2017-01-05                  FY                 2016-02-01  ...   \n",
       "2017-01-05                  3Q                 2016-03-01  ...   \n",
       "2017-01-05                  FY                 2016-02-29  ...   \n",
       "...                        ...                        ...  ...   \n",
       "2021-12-03                  FY                 2020-10-01  ...   \n",
       "2021-12-03                  FY                 2020-10-21  ...   \n",
       "2021-12-03                  1Q                 2021-08-01  ...   \n",
       "2021-12-03                  3Q                 2021-02-01  ...   \n",
       "2021-12-03                  FY                 2021-04-01  ...   \n",
       "\n",
       "           ForecastEarningsPerShare  \\\n",
       "Date                                  \n",
       "2017-01-04                   485.36   \n",
       "2017-01-04                   -93.11   \n",
       "2017-01-05                     4558   \n",
       "2017-01-05                     47.7   \n",
       "2017-01-05                    36.55   \n",
       "...                             ...   \n",
       "2021-12-03                    52.97   \n",
       "2021-12-03                    35.53   \n",
       "2021-12-03                        －   \n",
       "2021-12-03                   142.01   \n",
       "2021-12-03                  -147.87   \n",
       "\n",
       "           ApplyingOfSpecificAccountingOfTheQuarterlyFinancialStatements  \\\n",
       "Date                                                                       \n",
       "2017-01-04                                                NaN              \n",
       "2017-01-04                                                NaN              \n",
       "2017-01-05                                                NaN              \n",
       "2017-01-05                                                NaN              \n",
       "2017-01-05                                                NaN              \n",
       "...                                                       ...              \n",
       "2021-12-03                                                NaN              \n",
       "2021-12-03                                                NaN              \n",
       "2021-12-03                                                NaN              \n",
       "2021-12-03                                                NaN              \n",
       "2021-12-03                                                NaN              \n",
       "\n",
       "           MaterialChangesInSubsidiaries  \\\n",
       "Date                                       \n",
       "2017-01-04                         False   \n",
       "2017-01-04                           NaN   \n",
       "2017-01-05                           NaN   \n",
       "2017-01-05                         False   \n",
       "2017-01-05                           NaN   \n",
       "...                                  ...   \n",
       "2021-12-03                         False   \n",
       "2021-12-03                         False   \n",
       "2021-12-03                         False   \n",
       "2021-12-03                         False   \n",
       "2021-12-03                           NaN   \n",
       "\n",
       "           ChangesBasedOnRevisionsOfAccountingStandard  \\\n",
       "Date                                                     \n",
       "2017-01-04                                        True   \n",
       "2017-01-04                                         NaN   \n",
       "2017-01-05                                         NaN   \n",
       "2017-01-05                                        True   \n",
       "2017-01-05                                         NaN   \n",
       "...                                                ...   \n",
       "2021-12-03                                       False   \n",
       "2021-12-03                                       False   \n",
       "2021-12-03                                        True   \n",
       "2021-12-03                                       False   \n",
       "2021-12-03                                         NaN   \n",
       "\n",
       "           ChangesOtherThanOnesBasedOnRevisionsOfAccountingStandard  \\\n",
       "Date                                                                  \n",
       "2017-01-04                                              False         \n",
       "2017-01-04                                                NaN         \n",
       "2017-01-05                                                NaN         \n",
       "2017-01-05                                              False         \n",
       "2017-01-05                                                NaN         \n",
       "...                                                       ...         \n",
       "2021-12-03                                              False         \n",
       "2021-12-03                                              False         \n",
       "2021-12-03                                              False         \n",
       "2021-12-03                                              False         \n",
       "2021-12-03                                                NaN         \n",
       "\n",
       "           ChangesInAccountingEstimates RetrospectiveRestatement  \\\n",
       "Date                                                               \n",
       "2017-01-04                        False                    False   \n",
       "2017-01-04                          NaN                      NaN   \n",
       "2017-01-05                          NaN                      NaN   \n",
       "2017-01-05                        False                    False   \n",
       "2017-01-05                          NaN                      NaN   \n",
       "...                                 ...                      ...   \n",
       "2021-12-03                        False                    False   \n",
       "2021-12-03                        False                    False   \n",
       "2021-12-03                        False                    False   \n",
       "2021-12-03                        False                    False   \n",
       "2021-12-03                          NaN                      NaN   \n",
       "\n",
       "           NumberOfIssuedAndOutstandingSharesAtTheEndOfFiscalYearIncludingTreasuryStock  \\\n",
       "Date                                                                                      \n",
       "2017-01-04                                          2.035e+06                             \n",
       "2017-01-04                                                NaN                             \n",
       "2017-01-05                                                NaN                             \n",
       "2017-01-05                                        5.57918e+06                             \n",
       "2017-01-05                                                NaN                             \n",
       "...                                                       ...                             \n",
       "2021-12-03                                          3.055e+06                             \n",
       "2021-12-03                                        5.96902e+06                             \n",
       "2021-12-03                                        1.60004e+07                             \n",
       "2021-12-03                                             816979                             \n",
       "2021-12-03                                                NaN                             \n",
       "\n",
       "           NumberOfTreasuryStockAtTheEndOfFiscalYear AverageNumberOfShares  \n",
       "Date                                                                        \n",
       "2017-01-04                                    118917           1.91608e+06  \n",
       "2017-01-04                                       NaN                   NaN  \n",
       "2017-01-05                                       NaN                   NaN  \n",
       "2017-01-05                                      1372           5.57826e+06  \n",
       "2017-01-05                                       NaN                   NaN  \n",
       "...                                              ...                   ...  \n",
       "2021-12-03                                       224           3.05178e+06  \n",
       "2021-12-03                                    368575           5.60045e+06  \n",
       "2021-12-03                                    836400            1.5164e+07  \n",
       "2021-12-03                                    157541                659486  \n",
       "2021-12-03                                       NaN                   NaN  \n",
       "\n",
       "[44812 rows x 44 columns]"
      ]
     },
     "execution_count": 153,
     "metadata": {},
     "output_type": "execute_result"
    }
   ],
   "source": [
    "fin2"
   ]
  },
  {
   "cell_type": "code",
   "execution_count": null,
   "metadata": {
    "ExecuteTime": {
     "start_time": "2022-05-31T16:32:27.304Z"
    }
   },
   "outputs": [],
   "source": [
    "# Concat pri and fin\n",
    "fin3 = pd.merge(fin2, pri, left_index=True, left_on='Date')\n",
    "\n",
    "#fin3 = pd.merge(fin2, pri, on=['Date', 'SecuritiesCode'])\n",
    "fin3.head(2)"
   ]
  },
  {
   "cell_type": "code",
   "execution_count": 151,
   "metadata": {
    "ExecuteTime": {
     "end_time": "2022-05-31T16:25:12.837347Z",
     "start_time": "2022-05-31T16:24:59.514018Z"
    }
   },
   "outputs": [
    {
     "ename": "ValueError",
     "evalue": "columns overlap but no suffix specified: Index(['SecuritiesCode'], dtype='object')",
     "output_type": "error",
     "traceback": [
      "\u001b[0;31m---------------------------------------------------------------------------\u001b[0m",
      "\u001b[0;31mValueError\u001b[0m                                Traceback (most recent call last)",
      "\u001b[0;32m<ipython-input-151-417f09726333>\u001b[0m in \u001b[0;36m<module>\u001b[0;34m\u001b[0m\n\u001b[0;32m----> 1\u001b[0;31m \u001b[0mfin3\u001b[0m \u001b[0;34m=\u001b[0m \u001b[0mfin2\u001b[0m\u001b[0;34m.\u001b[0m\u001b[0mjoin\u001b[0m\u001b[0;34m(\u001b[0m\u001b[0mpri\u001b[0m\u001b[0;34m)\u001b[0m\u001b[0;34m\u001b[0m\u001b[0;34m\u001b[0m\u001b[0m\n\u001b[0m\u001b[1;32m      2\u001b[0m \u001b[0mfin3\u001b[0m\u001b[0;34m.\u001b[0m\u001b[0mhead\u001b[0m\u001b[0;34m(\u001b[0m\u001b[0;36m2\u001b[0m\u001b[0;34m)\u001b[0m\u001b[0;34m\u001b[0m\u001b[0;34m\u001b[0m\u001b[0m\n",
      "\u001b[0;32m~/opt/anaconda3/envs/learn-env/lib/python3.8/site-packages/pandas/core/frame.py\u001b[0m in \u001b[0;36mjoin\u001b[0;34m(self, other, on, how, lsuffix, rsuffix, sort)\u001b[0m\n\u001b[1;32m   7868\u001b[0m         \u001b[0;36m5\u001b[0m  \u001b[0mK5\u001b[0m  \u001b[0mA5\u001b[0m  \u001b[0mNaN\u001b[0m\u001b[0;34m\u001b[0m\u001b[0;34m\u001b[0m\u001b[0m\n\u001b[1;32m   7869\u001b[0m         \"\"\"\n\u001b[0;32m-> 7870\u001b[0;31m         return self._join_compat(\n\u001b[0m\u001b[1;32m   7871\u001b[0m             \u001b[0mother\u001b[0m\u001b[0;34m,\u001b[0m \u001b[0mon\u001b[0m\u001b[0;34m=\u001b[0m\u001b[0mon\u001b[0m\u001b[0;34m,\u001b[0m \u001b[0mhow\u001b[0m\u001b[0;34m=\u001b[0m\u001b[0mhow\u001b[0m\u001b[0;34m,\u001b[0m \u001b[0mlsuffix\u001b[0m\u001b[0;34m=\u001b[0m\u001b[0mlsuffix\u001b[0m\u001b[0;34m,\u001b[0m \u001b[0mrsuffix\u001b[0m\u001b[0;34m=\u001b[0m\u001b[0mrsuffix\u001b[0m\u001b[0;34m,\u001b[0m \u001b[0msort\u001b[0m\u001b[0;34m=\u001b[0m\u001b[0msort\u001b[0m\u001b[0;34m\u001b[0m\u001b[0;34m\u001b[0m\u001b[0m\n\u001b[1;32m   7872\u001b[0m         )\n",
      "\u001b[0;32m~/opt/anaconda3/envs/learn-env/lib/python3.8/site-packages/pandas/core/frame.py\u001b[0m in \u001b[0;36m_join_compat\u001b[0;34m(self, other, on, how, lsuffix, rsuffix, sort)\u001b[0m\n\u001b[1;32m   7884\u001b[0m \u001b[0;34m\u001b[0m\u001b[0m\n\u001b[1;32m   7885\u001b[0m         \u001b[0;32mif\u001b[0m \u001b[0misinstance\u001b[0m\u001b[0;34m(\u001b[0m\u001b[0mother\u001b[0m\u001b[0;34m,\u001b[0m \u001b[0mDataFrame\u001b[0m\u001b[0;34m)\u001b[0m\u001b[0;34m:\u001b[0m\u001b[0;34m\u001b[0m\u001b[0;34m\u001b[0m\u001b[0m\n\u001b[0;32m-> 7886\u001b[0;31m             return merge(\n\u001b[0m\u001b[1;32m   7887\u001b[0m                 \u001b[0mself\u001b[0m\u001b[0;34m,\u001b[0m\u001b[0;34m\u001b[0m\u001b[0;34m\u001b[0m\u001b[0m\n\u001b[1;32m   7888\u001b[0m                 \u001b[0mother\u001b[0m\u001b[0;34m,\u001b[0m\u001b[0;34m\u001b[0m\u001b[0;34m\u001b[0m\u001b[0m\n",
      "\u001b[0;32m~/opt/anaconda3/envs/learn-env/lib/python3.8/site-packages/pandas/core/reshape/merge.py\u001b[0m in \u001b[0;36mmerge\u001b[0;34m(left, right, how, on, left_on, right_on, left_index, right_index, sort, suffixes, copy, indicator, validate)\u001b[0m\n\u001b[1;32m     87\u001b[0m         \u001b[0mvalidate\u001b[0m\u001b[0;34m=\u001b[0m\u001b[0mvalidate\u001b[0m\u001b[0;34m,\u001b[0m\u001b[0;34m\u001b[0m\u001b[0;34m\u001b[0m\u001b[0m\n\u001b[1;32m     88\u001b[0m     )\n\u001b[0;32m---> 89\u001b[0;31m     \u001b[0;32mreturn\u001b[0m \u001b[0mop\u001b[0m\u001b[0;34m.\u001b[0m\u001b[0mget_result\u001b[0m\u001b[0;34m(\u001b[0m\u001b[0;34m)\u001b[0m\u001b[0;34m\u001b[0m\u001b[0;34m\u001b[0m\u001b[0m\n\u001b[0m\u001b[1;32m     90\u001b[0m \u001b[0;34m\u001b[0m\u001b[0m\n\u001b[1;32m     91\u001b[0m \u001b[0;34m\u001b[0m\u001b[0m\n",
      "\u001b[0;32m~/opt/anaconda3/envs/learn-env/lib/python3.8/site-packages/pandas/core/reshape/merge.py\u001b[0m in \u001b[0;36mget_result\u001b[0;34m(self)\u001b[0m\n\u001b[1;32m    668\u001b[0m         \u001b[0mjoin_index\u001b[0m\u001b[0;34m,\u001b[0m \u001b[0mleft_indexer\u001b[0m\u001b[0;34m,\u001b[0m \u001b[0mright_indexer\u001b[0m \u001b[0;34m=\u001b[0m \u001b[0mself\u001b[0m\u001b[0;34m.\u001b[0m\u001b[0m_get_join_info\u001b[0m\u001b[0;34m(\u001b[0m\u001b[0;34m)\u001b[0m\u001b[0;34m\u001b[0m\u001b[0;34m\u001b[0m\u001b[0m\n\u001b[1;32m    669\u001b[0m \u001b[0;34m\u001b[0m\u001b[0m\n\u001b[0;32m--> 670\u001b[0;31m         llabels, rlabels = _items_overlap_with_suffix(\n\u001b[0m\u001b[1;32m    671\u001b[0m             \u001b[0mself\u001b[0m\u001b[0;34m.\u001b[0m\u001b[0mleft\u001b[0m\u001b[0;34m.\u001b[0m\u001b[0m_info_axis\u001b[0m\u001b[0;34m,\u001b[0m \u001b[0mself\u001b[0m\u001b[0;34m.\u001b[0m\u001b[0mright\u001b[0m\u001b[0;34m.\u001b[0m\u001b[0m_info_axis\u001b[0m\u001b[0;34m,\u001b[0m \u001b[0mself\u001b[0m\u001b[0;34m.\u001b[0m\u001b[0msuffixes\u001b[0m\u001b[0;34m\u001b[0m\u001b[0;34m\u001b[0m\u001b[0m\n\u001b[1;32m    672\u001b[0m         )\n",
      "\u001b[0;32m~/opt/anaconda3/envs/learn-env/lib/python3.8/site-packages/pandas/core/reshape/merge.py\u001b[0m in \u001b[0;36m_items_overlap_with_suffix\u001b[0;34m(left, right, suffixes)\u001b[0m\n\u001b[1;32m   2089\u001b[0m \u001b[0;34m\u001b[0m\u001b[0m\n\u001b[1;32m   2090\u001b[0m     \u001b[0;32mif\u001b[0m \u001b[0;32mnot\u001b[0m \u001b[0mlsuffix\u001b[0m \u001b[0;32mand\u001b[0m \u001b[0;32mnot\u001b[0m \u001b[0mrsuffix\u001b[0m\u001b[0;34m:\u001b[0m\u001b[0;34m\u001b[0m\u001b[0;34m\u001b[0m\u001b[0m\n\u001b[0;32m-> 2091\u001b[0;31m         \u001b[0;32mraise\u001b[0m \u001b[0mValueError\u001b[0m\u001b[0;34m(\u001b[0m\u001b[0;34mf\"columns overlap but no suffix specified: {to_rename}\"\u001b[0m\u001b[0;34m)\u001b[0m\u001b[0;34m\u001b[0m\u001b[0;34m\u001b[0m\u001b[0m\n\u001b[0m\u001b[1;32m   2092\u001b[0m \u001b[0;34m\u001b[0m\u001b[0m\n\u001b[1;32m   2093\u001b[0m     \u001b[0;32mdef\u001b[0m \u001b[0mrenamer\u001b[0m\u001b[0;34m(\u001b[0m\u001b[0mx\u001b[0m\u001b[0;34m,\u001b[0m \u001b[0msuffix\u001b[0m\u001b[0;34m)\u001b[0m\u001b[0;34m:\u001b[0m\u001b[0;34m\u001b[0m\u001b[0;34m\u001b[0m\u001b[0m\n",
      "\u001b[0;31mValueError\u001b[0m: columns overlap but no suffix specified: Index(['SecuritiesCode'], dtype='object')"
     ]
    }
   ],
   "source": [
    "fin3 = fin2.join(pri)\n",
    "fin3.head(2)"
   ]
  },
  {
   "cell_type": "code",
   "execution_count": 120,
   "metadata": {
    "ExecuteTime": {
     "end_time": "2022-05-31T15:47:48.520457Z",
     "start_time": "2022-05-31T15:47:48.216143Z"
    }
   },
   "outputs": [
    {
     "data": {
      "text/plain": [
       "RowId                                                                           92954\n",
       "SecuritiesCode                                                                      0\n",
       "Open                                                                            92954\n",
       "High                                                                            92954\n",
       "Low                                                                             92954\n",
       "Close                                                                           92954\n",
       "Volume                                                                          92954\n",
       "AdjustmentFactor                                                                92954\n",
       "ExpectedDividend                                                                92954\n",
       "SupervisionFlag                                                                 92954\n",
       "Target                                                                          92954\n",
       "DisclosureNumber                                                                    0\n",
       "DateCode                                                                            0\n",
       "DisclosedDate                                                                       0\n",
       "DisclosedTime                                                                       0\n",
       "DisclosedUnixTime                                                                   0\n",
       "TypeOfDocument                                                                      0\n",
       "CurrentPeriodEndDate                                                                0\n",
       "TypeOfCurrentPeriod                                                                 0\n",
       "CurrentFiscalYearStartDate                                                          0\n",
       "CurrentFiscalYearEndDate                                                            0\n",
       "NetSales                                                                        17506\n",
       "OperatingProfit                                                                 19508\n",
       "OrdinaryProfit                                                                  17626\n",
       "Profit                                                                          17574\n",
       "EarningsPerShare                                                                17996\n",
       "TotalAssets                                                                     17521\n",
       "Equity                                                                          17523\n",
       "EquityToAssetRatio                                                              18215\n",
       "BookValuePerShare                                                               57181\n",
       "ResultDividendPerShare1stQuarter                                                18574\n",
       "ResultDividendPerShare2ndQuarter                                                37014\n",
       "ResultDividendPerShare3rdQuarter                                                55277\n",
       "ResultDividendPerShareFiscalYearEnd                                             73538\n",
       "ResultDividendPerShareAnnual                                                    73539\n",
       "ForecastDividendPerShare1stQuarter                                              73713\n",
       "ForecastDividendPerShare2ndQuarter                                              50335\n",
       "ForecastDividendPerShare3rdQuarter                                              32147\n",
       "ForecastDividendPerShareFiscalYearEnd                                           13933\n",
       "ForecastDividendPerShareAnnual                                                  13932\n",
       "ForecastNetSales                                                                10112\n",
       "ForecastOperatingProfit                                                         11871\n",
       "ForecastOrdinaryProfit                                                          10236\n",
       "ForecastProfit                                                                   9098\n",
       "ForecastEarningsPerShare                                                        10112\n",
       "ApplyingOfSpecificAccountingOfTheQuarterlyFinancialStatements                   85705\n",
       "MaterialChangesInSubsidiaries                                                   28450\n",
       "ChangesBasedOnRevisionsOfAccountingStandard                                     18059\n",
       "ChangesOtherThanOnesBasedOnRevisionsOfAccountingStandard                        18059\n",
       "ChangesInAccountingEstimates                                                    18828\n",
       "RetrospectiveRestatement                                                        22558\n",
       "NumberOfIssuedAndOutstandingSharesAtTheEndOfFiscalYearIncludingTreasuryStock    18036\n",
       "NumberOfTreasuryStockAtTheEndOfFiscalYear                                       18036\n",
       "AverageNumberOfShares                                                           18605\n",
       "dtype: int64"
      ]
     },
     "execution_count": 120,
     "metadata": {},
     "output_type": "execute_result"
    }
   ],
   "source": [
    "fin = fin.dropna(subset=['DisclosureNumber'])\n",
    "fin.isna().sum()"
   ]
  },
  {
   "cell_type": "code",
   "execution_count": null,
   "metadata": {},
   "outputs": [],
   "source": []
  },
  {
   "cell_type": "code",
   "execution_count": null,
   "metadata": {},
   "outputs": [],
   "source": []
  },
  {
   "cell_type": "markdown",
   "metadata": {},
   "source": [
    "## Options df"
   ]
  },
  {
   "cell_type": "code",
   "execution_count": 83,
   "metadata": {
    "ExecuteTime": {
     "end_time": "2022-05-31T15:12:09.408517Z",
     "start_time": "2022-05-31T15:12:09.376068Z"
    }
   },
   "outputs": [
    {
     "name": "stdout",
     "output_type": "stream",
     "text": [
      "<class 'pandas.core.frame.DataFrame'>\n",
      "RangeIndex: 3567694 entries, 0 to 3567693\n",
      "Data columns (total 31 columns):\n",
      " #   Column               Dtype  \n",
      "---  ------               -----  \n",
      " 0   DateCode             object \n",
      " 1   Date                 object \n",
      " 2   OptionsCode          int64  \n",
      " 3   WholeDayOpen         float64\n",
      " 4   WholeDayHigh         float64\n",
      " 5   WholeDayLow          float64\n",
      " 6   WholeDayClose        float64\n",
      " 7   NightSessionOpen     object \n",
      " 8   NightSessionHigh     object \n",
      " 9   NightSessionLow      object \n",
      " 10  NightSessionClose    object \n",
      " 11  DaySessionOpen       float64\n",
      " 12  DaySessionHigh       float64\n",
      " 13  DaySessionLow        float64\n",
      " 14  DaySessionClose      float64\n",
      " 15  TradingVolume        int64  \n",
      " 16  OpenInterest         int64  \n",
      " 17  TradingValue         int64  \n",
      " 18  ContractMonth        int64  \n",
      " 19  StrikePrice          float64\n",
      " 20  WholeDayVolume       int64  \n",
      " 21  Putcall              int64  \n",
      " 22  LastTradingDay       int64  \n",
      " 23  SpecialQuotationDay  int64  \n",
      " 24  SettlementPrice      float64\n",
      " 25  TheoreticalPrice     float64\n",
      " 26  BaseVolatility       float64\n",
      " 27  ImpliedVolatility    float64\n",
      " 28  InterestRate         float64\n",
      " 29  DividendRate         float64\n",
      " 30  Dividend             float64\n",
      "dtypes: float64(16), int64(9), object(6)\n",
      "memory usage: 843.8+ MB\n"
     ]
    }
   ],
   "source": [
    "options.info()"
   ]
  },
  {
   "cell_type": "markdown",
   "metadata": {},
   "source": [
    "## Stock List df"
   ]
  },
  {
   "cell_type": "code",
   "execution_count": 84,
   "metadata": {
    "ExecuteTime": {
     "end_time": "2022-05-31T15:12:18.149102Z",
     "start_time": "2022-05-31T15:12:18.120815Z"
    }
   },
   "outputs": [
    {
     "name": "stdout",
     "output_type": "stream",
     "text": [
      "<class 'pandas.core.frame.DataFrame'>\n",
      "RangeIndex: 4417 entries, 0 to 4416\n",
      "Data columns (total 16 columns):\n",
      " #   Column                  Non-Null Count  Dtype  \n",
      "---  ------                  --------------  -----  \n",
      " 0   SecuritiesCode          4417 non-null   int64  \n",
      " 1   EffectiveDate           4417 non-null   int64  \n",
      " 2   Name                    4417 non-null   object \n",
      " 3   Section/Products        4417 non-null   object \n",
      " 4   NewMarketSegment        3772 non-null   object \n",
      " 5   33SectorCode            4417 non-null   object \n",
      " 6   33SectorName            4417 non-null   object \n",
      " 7   17SectorCode            4417 non-null   object \n",
      " 8   17SectorName            4417 non-null   object \n",
      " 9   NewIndexSeriesSizeCode  4417 non-null   object \n",
      " 10  NewIndexSeriesSize      4417 non-null   object \n",
      " 11  TradeDate               4121 non-null   float64\n",
      " 12  Close                   4121 non-null   float64\n",
      " 13  IssuedShares            4121 non-null   float64\n",
      " 14  MarketCapitalization    4121 non-null   float64\n",
      " 15  Universe0               4417 non-null   bool   \n",
      "dtypes: bool(1), float64(4), int64(2), object(9)\n",
      "memory usage: 522.1+ KB\n"
     ]
    }
   ],
   "source": [
    "stock_list.info()"
   ]
  },
  {
   "cell_type": "markdown",
   "metadata": {},
   "source": [
    "## Secondary Stock Prices df"
   ]
  },
  {
   "cell_type": "code",
   "execution_count": 85,
   "metadata": {
    "ExecuteTime": {
     "end_time": "2022-05-31T15:12:33.605472Z",
     "start_time": "2022-05-31T15:12:33.582484Z"
    }
   },
   "outputs": [
    {
     "name": "stdout",
     "output_type": "stream",
     "text": [
      "<class 'pandas.core.frame.DataFrame'>\n",
      "RangeIndex: 2384575 entries, 0 to 2384574\n",
      "Data columns (total 12 columns):\n",
      " #   Column            Dtype  \n",
      "---  ------            -----  \n",
      " 0   RowId             object \n",
      " 1   Date              object \n",
      " 2   SecuritiesCode    int64  \n",
      " 3   Open              float64\n",
      " 4   High              float64\n",
      " 5   Low               float64\n",
      " 6   Close             float64\n",
      " 7   Volume            int64  \n",
      " 8   AdjustmentFactor  float64\n",
      " 9   ExpectedDividend  float64\n",
      " 10  SupervisionFlag   bool   \n",
      " 11  Target            float64\n",
      "dtypes: bool(1), float64(7), int64(2), object(2)\n",
      "memory usage: 202.4+ MB\n"
     ]
    }
   ],
   "source": [
    "secondary_stock_prices.info()"
   ]
  },
  {
   "cell_type": "markdown",
   "metadata": {},
   "source": [
    "## Trades df"
   ]
  },
  {
   "cell_type": "code",
   "execution_count": 86,
   "metadata": {
    "ExecuteTime": {
     "end_time": "2022-05-31T15:12:39.990031Z",
     "start_time": "2022-05-31T15:12:39.947801Z"
    }
   },
   "outputs": [
    {
     "name": "stdout",
     "output_type": "stream",
     "text": [
      "<class 'pandas.core.frame.DataFrame'>\n",
      "RangeIndex: 1712 entries, 0 to 1711\n",
      "Data columns (total 56 columns):\n",
      " #   Column                               Non-Null Count  Dtype  \n",
      "---  ------                               --------------  -----  \n",
      " 0   Date                                 1712 non-null   object \n",
      " 1   StartDate                            765 non-null    object \n",
      " 2   EndDate                              765 non-null    object \n",
      " 3   Section                              765 non-null    object \n",
      " 4   TotalSales                           765 non-null    float64\n",
      " 5   TotalPurchases                       765 non-null    float64\n",
      " 6   TotalTotal                           765 non-null    float64\n",
      " 7   TotalBalance                         765 non-null    float64\n",
      " 8   ProprietarySales                     765 non-null    float64\n",
      " 9   ProprietaryPurchases                 765 non-null    float64\n",
      " 10  ProprietaryTotal                     765 non-null    float64\n",
      " 11  ProprietaryBalance                   765 non-null    float64\n",
      " 12  BrokerageSales                       765 non-null    float64\n",
      " 13  BrokeragePurchases                   765 non-null    float64\n",
      " 14  BrokerageTotal                       765 non-null    float64\n",
      " 15  BrokerageBalance                     765 non-null    float64\n",
      " 16  IndividualsSales                     765 non-null    float64\n",
      " 17  IndividualsPurchases                 765 non-null    float64\n",
      " 18  IndividualsTotal                     765 non-null    float64\n",
      " 19  IndividualsBalance                   765 non-null    float64\n",
      " 20  ForeignersSales                      765 non-null    float64\n",
      " 21  ForeignersPurchases                  765 non-null    float64\n",
      " 22  ForeignersTotal                      765 non-null    float64\n",
      " 23  ForeignersBalance                    765 non-null    float64\n",
      " 24  SecuritiesCosSales                   765 non-null    float64\n",
      " 25  SecuritiesCosPurchases               765 non-null    float64\n",
      " 26  SecuritiesCosTotal                   765 non-null    float64\n",
      " 27  SecuritiesCosBalance                 765 non-null    float64\n",
      " 28  InvestmentTrustsSales                765 non-null    float64\n",
      " 29  InvestmentTrustsPurchases            765 non-null    float64\n",
      " 30  InvestmentTrustsTotal                765 non-null    float64\n",
      " 31  InvestmentTrustsBalance              765 non-null    float64\n",
      " 32  BusinessCosSales                     765 non-null    float64\n",
      " 33  BusinessCosPurchases                 765 non-null    float64\n",
      " 34  BusinessCosTotal                     765 non-null    float64\n",
      " 35  BusinessCosBalance                   765 non-null    float64\n",
      " 36  OtherInstitutionsSales               765 non-null    float64\n",
      " 37  OtherInstitutionsPurchases           765 non-null    float64\n",
      " 38  OtherInstitutionsTotal               765 non-null    float64\n",
      " 39  OtherInstitutionsBalance             765 non-null    float64\n",
      " 40  InsuranceCosSales                    765 non-null    float64\n",
      " 41  InsuranceCosPurchases                765 non-null    float64\n",
      " 42  InsuranceCosTotal                    765 non-null    float64\n",
      " 43  InsuranceCosBalance                  765 non-null    float64\n",
      " 44  CityBKsRegionalBKsEtcSales           765 non-null    float64\n",
      " 45  CityBKsRegionalBKsEtcPurchase        765 non-null    float64\n",
      " 46  CityBKsRegionalBKsEtcTotal           765 non-null    float64\n",
      " 47  CityBKsRegionalBKsEtcBalance         765 non-null    float64\n",
      " 48  TrustBanksSales                      765 non-null    float64\n",
      " 49  TrustBanksPurchases                  765 non-null    float64\n",
      " 50  TrustBanksTotal                      765 non-null    float64\n",
      " 51  TrustBanksBalance                    765 non-null    float64\n",
      " 52  OtherFinancialInstitutionsSales      765 non-null    float64\n",
      " 53  OtherFinancialInstitutionsPurchases  765 non-null    float64\n",
      " 54  OtherFinancialInstitutionsTotal      765 non-null    float64\n",
      " 55  OtherFinancialInstitutionsBalance    765 non-null    float64\n",
      "dtypes: float64(52), object(4)\n",
      "memory usage: 749.1+ KB\n"
     ]
    }
   ],
   "source": [
    "trades.info()"
   ]
  },
  {
   "cell_type": "markdown",
   "metadata": {},
   "source": [
    "## Prices df"
   ]
  },
  {
   "cell_type": "code",
   "execution_count": 87,
   "metadata": {
    "ExecuteTime": {
     "end_time": "2022-05-31T15:23:29.708796Z",
     "start_time": "2022-05-31T15:23:29.690083Z"
    }
   },
   "outputs": [
    {
     "name": "stdout",
     "output_type": "stream",
     "text": [
      "<class 'pandas.core.frame.DataFrame'>\n",
      "RangeIndex: 2332531 entries, 0 to 2332530\n",
      "Data columns (total 12 columns):\n",
      " #   Column            Dtype  \n",
      "---  ------            -----  \n",
      " 0   RowId             object \n",
      " 1   Date              object \n",
      " 2   SecuritiesCode    int64  \n",
      " 3   Open              float64\n",
      " 4   High              float64\n",
      " 5   Low               float64\n",
      " 6   Close             float64\n",
      " 7   Volume            int64  \n",
      " 8   AdjustmentFactor  float64\n",
      " 9   ExpectedDividend  float64\n",
      " 10  SupervisionFlag   bool   \n",
      " 11  Target            float64\n",
      "dtypes: bool(1), float64(7), int64(2), object(2)\n",
      "memory usage: 198.0+ MB\n"
     ]
    }
   ],
   "source": [
    "prices.info()"
   ]
  },
  {
   "cell_type": "code",
   "execution_count": 9,
   "metadata": {
    "ExecuteTime": {
     "end_time": "2022-05-31T15:05:54.241203Z",
     "start_time": "2022-05-31T15:05:52.101592Z"
    }
   },
   "outputs": [
    {
     "data": {
      "text/html": [
       "<div>\n",
       "<style scoped>\n",
       "    .dataframe tbody tr th:only-of-type {\n",
       "        vertical-align: middle;\n",
       "    }\n",
       "\n",
       "    .dataframe tbody tr th {\n",
       "        vertical-align: top;\n",
       "    }\n",
       "\n",
       "    .dataframe thead th {\n",
       "        text-align: right;\n",
       "    }\n",
       "</style>\n",
       "<table border=\"1\" class=\"dataframe\">\n",
       "  <thead>\n",
       "    <tr style=\"text-align: right;\">\n",
       "      <th></th>\n",
       "      <th>RowId</th>\n",
       "      <th>Date</th>\n",
       "      <th>SecuritiesCode</th>\n",
       "      <th>Open</th>\n",
       "      <th>High</th>\n",
       "      <th>Low</th>\n",
       "      <th>Close</th>\n",
       "      <th>Volume</th>\n",
       "      <th>AdjustmentFactor</th>\n",
       "      <th>ExpectedDividend</th>\n",
       "      <th>SupervisionFlag</th>\n",
       "      <th>Target</th>\n",
       "    </tr>\n",
       "  </thead>\n",
       "  <tbody>\n",
       "    <tr>\n",
       "      <th>0</th>\n",
       "      <td>20170104_1301</td>\n",
       "      <td>2017-01-04</td>\n",
       "      <td>1301</td>\n",
       "      <td>2734.0</td>\n",
       "      <td>2755.0</td>\n",
       "      <td>2730.0</td>\n",
       "      <td>2742.0</td>\n",
       "      <td>31400</td>\n",
       "      <td>1.0</td>\n",
       "      <td>NaN</td>\n",
       "      <td>False</td>\n",
       "      <td>0.000730</td>\n",
       "    </tr>\n",
       "    <tr>\n",
       "      <th>1</th>\n",
       "      <td>20170104_1332</td>\n",
       "      <td>2017-01-04</td>\n",
       "      <td>1332</td>\n",
       "      <td>568.0</td>\n",
       "      <td>576.0</td>\n",
       "      <td>563.0</td>\n",
       "      <td>571.0</td>\n",
       "      <td>2798500</td>\n",
       "      <td>1.0</td>\n",
       "      <td>NaN</td>\n",
       "      <td>False</td>\n",
       "      <td>0.012324</td>\n",
       "    </tr>\n",
       "    <tr>\n",
       "      <th>2</th>\n",
       "      <td>20170104_1333</td>\n",
       "      <td>2017-01-04</td>\n",
       "      <td>1333</td>\n",
       "      <td>3150.0</td>\n",
       "      <td>3210.0</td>\n",
       "      <td>3140.0</td>\n",
       "      <td>3210.0</td>\n",
       "      <td>270800</td>\n",
       "      <td>1.0</td>\n",
       "      <td>NaN</td>\n",
       "      <td>False</td>\n",
       "      <td>0.006154</td>\n",
       "    </tr>\n",
       "    <tr>\n",
       "      <th>3</th>\n",
       "      <td>20170104_1376</td>\n",
       "      <td>2017-01-04</td>\n",
       "      <td>1376</td>\n",
       "      <td>1510.0</td>\n",
       "      <td>1550.0</td>\n",
       "      <td>1510.0</td>\n",
       "      <td>1550.0</td>\n",
       "      <td>11300</td>\n",
       "      <td>1.0</td>\n",
       "      <td>NaN</td>\n",
       "      <td>False</td>\n",
       "      <td>0.011053</td>\n",
       "    </tr>\n",
       "    <tr>\n",
       "      <th>4</th>\n",
       "      <td>20170104_1377</td>\n",
       "      <td>2017-01-04</td>\n",
       "      <td>1377</td>\n",
       "      <td>3270.0</td>\n",
       "      <td>3350.0</td>\n",
       "      <td>3270.0</td>\n",
       "      <td>3330.0</td>\n",
       "      <td>150800</td>\n",
       "      <td>1.0</td>\n",
       "      <td>NaN</td>\n",
       "      <td>False</td>\n",
       "      <td>0.003026</td>\n",
       "    </tr>\n",
       "  </tbody>\n",
       "</table>\n",
       "</div>"
      ],
      "text/plain": [
       "           RowId        Date  SecuritiesCode    Open    High     Low   Close  \\\n",
       "0  20170104_1301  2017-01-04            1301  2734.0  2755.0  2730.0  2742.0   \n",
       "1  20170104_1332  2017-01-04            1332   568.0   576.0   563.0   571.0   \n",
       "2  20170104_1333  2017-01-04            1333  3150.0  3210.0  3140.0  3210.0   \n",
       "3  20170104_1376  2017-01-04            1376  1510.0  1550.0  1510.0  1550.0   \n",
       "4  20170104_1377  2017-01-04            1377  3270.0  3350.0  3270.0  3330.0   \n",
       "\n",
       "    Volume  AdjustmentFactor  ExpectedDividend  SupervisionFlag    Target  \n",
       "0    31400               1.0               NaN            False  0.000730  \n",
       "1  2798500               1.0               NaN            False  0.012324  \n",
       "2   270800               1.0               NaN            False  0.006154  \n",
       "3    11300               1.0               NaN            False  0.011053  \n",
       "4   150800               1.0               NaN            False  0.003026  "
      ]
     },
     "execution_count": 9,
     "metadata": {},
     "output_type": "execute_result"
    }
   ],
   "source": [
    "# make copy of prices\n",
    "df1 = prices.copy()\n",
    "\n",
    "# Look at top-performing stocks, choose top-performer to model\n",
    "df1.sort_values(by='Target', ascending=False)\n",
    "\n",
    "df1.head(5)"
   ]
  },
  {
   "cell_type": "code",
   "execution_count": 10,
   "metadata": {
    "ExecuteTime": {
     "end_time": "2022-05-31T15:05:55.121296Z",
     "start_time": "2022-05-31T15:05:55.057145Z"
    }
   },
   "outputs": [
    {
     "data": {
      "text/html": [
       "<div>\n",
       "<style scoped>\n",
       "    .dataframe tbody tr th:only-of-type {\n",
       "        vertical-align: middle;\n",
       "    }\n",
       "\n",
       "    .dataframe tbody tr th {\n",
       "        vertical-align: top;\n",
       "    }\n",
       "\n",
       "    .dataframe thead th {\n",
       "        text-align: right;\n",
       "    }\n",
       "</style>\n",
       "<table border=\"1\" class=\"dataframe\">\n",
       "  <thead>\n",
       "    <tr style=\"text-align: right;\">\n",
       "      <th></th>\n",
       "      <th>RowId</th>\n",
       "      <th>Date</th>\n",
       "      <th>SecuritiesCode</th>\n",
       "      <th>Open</th>\n",
       "      <th>High</th>\n",
       "      <th>Low</th>\n",
       "      <th>Close</th>\n",
       "      <th>Volume</th>\n",
       "      <th>AdjustmentFactor</th>\n",
       "      <th>ExpectedDividend</th>\n",
       "      <th>SupervisionFlag</th>\n",
       "      <th>Target</th>\n",
       "    </tr>\n",
       "  </thead>\n",
       "  <tbody>\n",
       "    <tr>\n",
       "      <th>1450</th>\n",
       "      <td>20170104_8103</td>\n",
       "      <td>2017-01-04</td>\n",
       "      <td>8103</td>\n",
       "      <td>406.0</td>\n",
       "      <td>413.0</td>\n",
       "      <td>395.0</td>\n",
       "      <td>413.0</td>\n",
       "      <td>82600</td>\n",
       "      <td>1.0</td>\n",
       "      <td>NaN</td>\n",
       "      <td>False</td>\n",
       "      <td>-0.024213</td>\n",
       "    </tr>\n",
       "    <tr>\n",
       "      <th>3315</th>\n",
       "      <td>20170105_8103</td>\n",
       "      <td>2017-01-05</td>\n",
       "      <td>8103</td>\n",
       "      <td>415.0</td>\n",
       "      <td>419.0</td>\n",
       "      <td>408.0</td>\n",
       "      <td>413.0</td>\n",
       "      <td>57500</td>\n",
       "      <td>1.0</td>\n",
       "      <td>NaN</td>\n",
       "      <td>False</td>\n",
       "      <td>-0.002481</td>\n",
       "    </tr>\n",
       "  </tbody>\n",
       "</table>\n",
       "</div>"
      ],
      "text/plain": [
       "              RowId        Date  SecuritiesCode   Open   High    Low  Close  \\\n",
       "1450  20170104_8103  2017-01-04            8103  406.0  413.0  395.0  413.0   \n",
       "3315  20170105_8103  2017-01-05            8103  415.0  419.0  408.0  413.0   \n",
       "\n",
       "      Volume  AdjustmentFactor  ExpectedDividend  SupervisionFlag    Target  \n",
       "1450   82600               1.0               NaN            False -0.024213  \n",
       "3315   57500               1.0               NaN            False -0.002481  "
      ]
     },
     "execution_count": 10,
     "metadata": {},
     "output_type": "execute_result"
    }
   ],
   "source": [
    "# Pull one stock's values for given stock from stock_prices\n",
    "values8103 = df1.loc[df1['SecuritiesCode'] == 8103] \n",
    "values8103_copy = values8103.copy()\n",
    "values8103_copy.head(2)"
   ]
  },
  {
   "cell_type": "code",
   "execution_count": 11,
   "metadata": {
    "ExecuteTime": {
     "end_time": "2022-05-31T15:05:58.979318Z",
     "start_time": "2022-05-31T15:05:58.974516Z"
    }
   },
   "outputs": [],
   "source": [
    "# Practice - Date to datetime index with 'coerce' due to string error\n",
    "#values8103_copy['Date'] = pd.to_datetime(values8103_copy['Date'], format='%Y/%m/%d', errors='coerce')\n",
    "#mask = values8103_copy['Date'].isnull()\n",
    "#values8103_copy.loc[mask, 'Date'] = pd.to_datetime(values8103_copy['Date'], format='%Y/%m/%d',\n",
    "#                                             errors='coerce')\n",
    "#values8103_copy = values8103_copy.set_index('Date')\n",
    "#values8103_copy.info()"
   ]
  },
  {
   "cell_type": "code",
   "execution_count": 12,
   "metadata": {
    "ExecuteTime": {
     "end_time": "2022-05-31T15:05:59.263314Z",
     "start_time": "2022-05-31T15:05:59.256669Z"
    }
   },
   "outputs": [],
   "source": [
    "#values8103.set_index('Date')"
   ]
  },
  {
   "cell_type": "code",
   "execution_count": 13,
   "metadata": {
    "ExecuteTime": {
     "end_time": "2022-05-31T15:05:59.552829Z",
     "start_time": "2022-05-31T15:05:59.512118Z"
    }
   },
   "outputs": [
    {
     "name": "stdout",
     "output_type": "stream",
     "text": [
      "<class 'pandas.core.frame.DataFrame'>\n",
      "Int64Index: 1202 entries, 1450 to 2332104\n",
      "Data columns (total 12 columns):\n",
      " #   Column            Non-Null Count  Dtype  \n",
      "---  ------            --------------  -----  \n",
      " 0   RowId             1202 non-null   object \n",
      " 1   Date              1202 non-null   object \n",
      " 2   SecuritiesCode    1202 non-null   int64  \n",
      " 3   Open              1201 non-null   float64\n",
      " 4   High              1201 non-null   float64\n",
      " 5   Low               1201 non-null   float64\n",
      " 6   Close             1201 non-null   float64\n",
      " 7   Volume            1202 non-null   int64  \n",
      " 8   AdjustmentFactor  1202 non-null   float64\n",
      " 9   ExpectedDividend  10 non-null     float64\n",
      " 10  SupervisionFlag   1202 non-null   bool   \n",
      " 11  Target            1202 non-null   float64\n",
      "dtypes: bool(1), float64(7), int64(2), object(2)\n",
      "memory usage: 113.9+ KB\n"
     ]
    }
   ],
   "source": [
    "values8103.info()"
   ]
  },
  {
   "cell_type": "markdown",
   "metadata": {},
   "source": [
    "# Split Data"
   ]
  },
  {
   "cell_type": "markdown",
   "metadata": {},
   "source": [
    "## Train, Val, Test"
   ]
  },
  {
   "cell_type": "code",
   "execution_count": 14,
   "metadata": {
    "ExecuteTime": {
     "end_time": "2022-05-31T15:06:00.992063Z",
     "start_time": "2022-05-31T15:06:00.982555Z"
    }
   },
   "outputs": [],
   "source": [
    "# Split df into train, val, test\n",
    "column_indices = {name: i for i, name in enumerate(df1.columns)}\n",
    "\n",
    "n = len(values8103)\n",
    "train_df = values8103[0:int(n*0.7)]\n",
    "val_df = values8103[int(n*0.7):int(n*0.9)]\n",
    "test_df = values8103[int(n*0.9):]\n",
    "\n",
    "num_features = values8103.shape[1]"
   ]
  },
  {
   "cell_type": "code",
   "execution_count": 15,
   "metadata": {
    "ExecuteTime": {
     "end_time": "2022-05-31T15:06:01.783879Z",
     "start_time": "2022-05-31T15:06:01.776315Z"
    }
   },
   "outputs": [
    {
     "data": {
      "text/plain": [
       "12"
      ]
     },
     "execution_count": 15,
     "metadata": {},
     "output_type": "execute_result"
    }
   ],
   "source": [
    "num_features"
   ]
  },
  {
   "cell_type": "markdown",
   "metadata": {},
   "source": [
    "## Check train/test shape"
   ]
  },
  {
   "cell_type": "code",
   "execution_count": 16,
   "metadata": {
    "ExecuteTime": {
     "end_time": "2022-05-31T15:06:02.604964Z",
     "start_time": "2022-05-31T15:06:02.598345Z"
    }
   },
   "outputs": [
    {
     "name": "stdout",
     "output_type": "stream",
     "text": [
      "Training Shape: (841, 12)\n",
      "Validation Shape: (240, 12)\n",
      "Test Shape: (121, 12)\n"
     ]
    }
   ],
   "source": [
    "print('Training Shape:', train_df.shape)\n",
    "print('Validation Shape:', val_df.shape)\n",
    "print('Test Shape:', test_df.shape)"
   ]
  },
  {
   "cell_type": "markdown",
   "metadata": {},
   "source": [
    "# Seasonal Patterns\n",
    "* Fast Fourier Transform indicates there is not much of a seasonal pattern."
   ]
  },
  {
   "cell_type": "code",
   "execution_count": 17,
   "metadata": {
    "ExecuteTime": {
     "end_time": "2022-05-31T15:06:04.133127Z",
     "start_time": "2022-05-31T15:06:03.516048Z"
    }
   },
   "outputs": [
    {
     "data": {
      "image/png": "[encoded data removed]",
      "text/plain": [
       "<Figure size 432x288 with 1 Axes>"
      ]
     },
     "metadata": {
      "needs_background": "light"
     },
     "output_type": "display_data"
    }
   ],
   "source": [
    "# Implement Fast Fourier Transform with Target over time\n",
    "fft = tf.signal.rfft(values8103['Target'])\n",
    "f_per_dataset = np.arange(0, len(fft))\n",
    "\n",
    "n_samples_h = len(values8103['Target'])\n",
    "# Number of trading days per year\n",
    "days_per_year = 253\n",
    "# Also worth noting that no pattern is observed when 365 is used\n",
    "\n",
    "years_per_dataset = n_samples_h/(days_per_year)\n",
    "\n",
    "# Plot Transform\n",
    "f_per_year = f_per_dataset/years_per_dataset\n",
    "plt.step(f_per_year, np.abs(fft))\n",
    "plt.xscale('log')\n",
    "plt.ylim(0, 4)\n",
    "plt.xlim([0.1, max(plt.xlim())])\n",
    "plt.xticks([1, 365.2524], labels=['1/Year', '1/day'])\n",
    "_ = plt.xlabel('Frequency (log scale)')"
   ]
  },
  {
   "cell_type": "markdown",
   "metadata": {},
   "source": [
    "# Feature Engineering"
   ]
  },
  {
   "cell_type": "code",
   "execution_count": 18,
   "metadata": {
    "ExecuteTime": {
     "end_time": "2022-05-31T15:06:04.468359Z",
     "start_time": "2022-05-31T15:06:04.449745Z"
    }
   },
   "outputs": [],
   "source": [
    "def feature_eng(train):\n",
    "    \n",
    "    # Set Datetime index\n",
    "    #date = train['Date'].astype('datetime64[ns]')\n",
    "    #date = pd.DataFrame(date)\n",
    "    #train = train.drop('Date', axis=1)\n",
    "    #train['Date'] = date['Date']\n",
    "    #train = train.set_index('Date')\n",
    "#values8103_copy['Date'] = pd.to_datetime(values8103_copy['Date'], format='%Y/%m/%d', errors='coerce')\n",
    "#mask = values8103_copy['Date'].isnull()\n",
    "#values8103_copy.loc[mask, 'Date'] = pd.to_datetime(values8103_copy['Date'], format='%Y/%m/%d',\n",
    "#                                             errors='coerce')\n",
    "#values8103_copy = values8103_copy.set_index('Date')\n",
    "#values8103_copy.info()\n",
    "\n",
    "    train['Date'] = pd.to_datetime(train['Date'], format='%Y/%m/%d', errors='coerce')\n",
    "    mask = train['Date'].isnull()\n",
    "    train.loc[mask, 'Date'] = pd.to_datetime(train['Date'], format='%Y/%m/%d',\n",
    "                                                 errors='coerce')\n",
    "    train = train.set_index('Date')\n",
    "    \n",
    "    # Drop irrelevant columns for training\n",
    "    train = train.drop(\n",
    "                        ['RowId', \n",
    "                         'SecuritiesCode', \n",
    "                         'ExpectedDividend', \n",
    "                         'SupervisionFlag',\n",
    "                         'AdjustmentFactor'], axis=1)\n",
    "    \n",
    "    # Bool to int for SupervisionFlag\n",
    "    #train[\"SupervisionFlag\"] = train[\"SupervisionFlag\"].astype(int)\n",
    "    \n",
    "    # Forward, then backward fill missing values in cols\n",
    "    cols = ['Open', 'High', 'Low', 'Close', 'Target']\n",
    "    train.loc[:,cols] = train.loc[:,cols].ffill()\n",
    "    train.loc[:,cols] = train.loc[:,cols].bfill()\n",
    "    \n",
    "    # Replace missing values in ExpectedDividend with 0\n",
    "    #train['ExpectedDividend'] = train['ExpectedDividend'].fillna(0)\n",
    "    \n",
    "    # Add Features\n",
    "    train['Daily_Spread'] = train['Close'] - train['Open']\n",
    "    train['Daily_Max_Min'] = train['High'] - train['Low']\n",
    "    train['1_Day_Spread'] = train['Close'].diff()\n",
    "    train['2_Day_Spread'] = train['Close'].diff(periods=2)\n",
    "    train['1_Week_Spread'] = train['Close'].diff(periods=5)\n",
    "    train['MA_Prior_1day'] = train['Close'].diff(periods= -1)\n",
    "    train['MA_Prior_2day'] = train['Close'].diff(periods= -2)\n",
    "    train = train.fillna(0)\n",
    "    train['MA_Prior_diff'] = train['MA_Prior_1day'] - train['MA_Prior_2day']\n",
    "    \n",
    "    # Fill missing values with 0\n",
    "    train = train.fillna(0)\n",
    "        \n",
    "    # Add rolling ratio of mean/std of forward 1 day return\n",
    "    indexer = pd.api.indexers.FixedForwardWindowIndexer(window_size=2)\n",
    "    train['ExPost_SR'] = (train['MA_Prior_diff'].rolling(\n",
    "        window=indexer, min_periods=1).mean())/(\n",
    "        train['MA_Prior_diff'].std())\n",
    "    \n",
    "    # Add zscored columns and drop raw columns\n",
    "    #columns = train.columns.values.tolist()\n",
    "    \n",
    "    # Z-Score Normalize each column (-1 to 1 scale)\n",
    "    #for c in columns:\n",
    "    #    train[str(c)] = stats.zscore(train[str(c)])\n",
    "    \n",
    "    scaler = MinMaxScaler()\n",
    "    scaled = scaler.fit_transform(train)\n",
    "    train_cols = train.columns.values.tolist()\n",
    "    trained = pd.DataFrame(data=scaled, columns=train_cols, index=train.index)\n",
    "    \n",
    "    # Fill missing values with 0\n",
    "    #train = train.fillna(0)\n",
    "    \n",
    "    return trained"
   ]
  },
  {
   "cell_type": "code",
   "execution_count": 19,
   "metadata": {
    "ExecuteTime": {
     "end_time": "2022-05-31T15:06:04.925714Z",
     "start_time": "2022-05-31T15:06:04.722562Z"
    },
    "scrolled": true
   },
   "outputs": [
    {
     "name": "stderr",
     "output_type": "stream",
     "text": [
      "<ipython-input-18-2ef34da42442>:16: SettingWithCopyWarning: \n",
      "A value is trying to be set on a copy of a slice from a DataFrame.\n",
      "Try using .loc[row_indexer,col_indexer] = value instead\n",
      "\n",
      "See the caveats in the documentation: https://pandas.pydata.org/pandas-docs/stable/user_guide/indexing.html#returning-a-view-versus-a-copy\n",
      "  train['Date'] = pd.to_datetime(train['Date'], format='%Y/%m/%d', errors='coerce')\n",
      "<ipython-input-18-2ef34da42442>:16: SettingWithCopyWarning: \n",
      "A value is trying to be set on a copy of a slice from a DataFrame.\n",
      "Try using .loc[row_indexer,col_indexer] = value instead\n",
      "\n",
      "See the caveats in the documentation: https://pandas.pydata.org/pandas-docs/stable/user_guide/indexing.html#returning-a-view-versus-a-copy\n",
      "  train['Date'] = pd.to_datetime(train['Date'], format='%Y/%m/%d', errors='coerce')\n",
      "<ipython-input-18-2ef34da42442>:16: SettingWithCopyWarning: \n",
      "A value is trying to be set on a copy of a slice from a DataFrame.\n",
      "Try using .loc[row_indexer,col_indexer] = value instead\n",
      "\n",
      "See the caveats in the documentation: https://pandas.pydata.org/pandas-docs/stable/user_guide/indexing.html#returning-a-view-versus-a-copy\n",
      "  train['Date'] = pd.to_datetime(train['Date'], format='%Y/%m/%d', errors='coerce')\n"
     ]
    }
   ],
   "source": [
    "train_df = feature_eng(train_df)\n",
    "val_df = feature_eng(val_df)\n",
    "test_df = feature_eng(test_df)"
   ]
  },
  {
   "cell_type": "code",
   "execution_count": 20,
   "metadata": {
    "ExecuteTime": {
     "end_time": "2022-05-31T15:06:05.381474Z",
     "start_time": "2022-05-31T15:06:05.265944Z"
    }
   },
   "outputs": [
    {
     "data": {
      "text/html": [
       "<div>\n",
       "<style scoped>\n",
       "    .dataframe tbody tr th:only-of-type {\n",
       "        vertical-align: middle;\n",
       "    }\n",
       "\n",
       "    .dataframe tbody tr th {\n",
       "        vertical-align: top;\n",
       "    }\n",
       "\n",
       "    .dataframe thead th {\n",
       "        text-align: right;\n",
       "    }\n",
       "</style>\n",
       "<table border=\"1\" class=\"dataframe\">\n",
       "  <thead>\n",
       "    <tr style=\"text-align: right;\">\n",
       "      <th></th>\n",
       "      <th>count</th>\n",
       "      <th>mean</th>\n",
       "      <th>std</th>\n",
       "      <th>min</th>\n",
       "      <th>25%</th>\n",
       "      <th>50%</th>\n",
       "      <th>75%</th>\n",
       "      <th>max</th>\n",
       "    </tr>\n",
       "  </thead>\n",
       "  <tbody>\n",
       "    <tr>\n",
       "      <th>Open</th>\n",
       "      <td>841.0</td>\n",
       "      <td>0.436931</td>\n",
       "      <td>0.213760</td>\n",
       "      <td>0.0</td>\n",
       "      <td>0.280528</td>\n",
       "      <td>0.435644</td>\n",
       "      <td>0.534653</td>\n",
       "      <td>1.0</td>\n",
       "    </tr>\n",
       "    <tr>\n",
       "      <th>High</th>\n",
       "      <td>841.0</td>\n",
       "      <td>0.387683</td>\n",
       "      <td>0.194860</td>\n",
       "      <td>0.0</td>\n",
       "      <td>0.244048</td>\n",
       "      <td>0.386905</td>\n",
       "      <td>0.479167</td>\n",
       "      <td>1.0</td>\n",
       "    </tr>\n",
       "    <tr>\n",
       "      <th>Low</th>\n",
       "      <td>841.0</td>\n",
       "      <td>0.441390</td>\n",
       "      <td>0.211605</td>\n",
       "      <td>0.0</td>\n",
       "      <td>0.291391</td>\n",
       "      <td>0.440397</td>\n",
       "      <td>0.539735</td>\n",
       "      <td>1.0</td>\n",
       "    </tr>\n",
       "    <tr>\n",
       "      <th>Close</th>\n",
       "      <td>841.0</td>\n",
       "      <td>0.429251</td>\n",
       "      <td>0.216582</td>\n",
       "      <td>0.0</td>\n",
       "      <td>0.270903</td>\n",
       "      <td>0.424749</td>\n",
       "      <td>0.528428</td>\n",
       "      <td>1.0</td>\n",
       "    </tr>\n",
       "    <tr>\n",
       "      <th>Volume</th>\n",
       "      <td>841.0</td>\n",
       "      <td>0.033519</td>\n",
       "      <td>0.072777</td>\n",
       "      <td>0.0</td>\n",
       "      <td>0.006126</td>\n",
       "      <td>0.011594</td>\n",
       "      <td>0.028821</td>\n",
       "      <td>1.0</td>\n",
       "    </tr>\n",
       "    <tr>\n",
       "      <th>Target</th>\n",
       "      <td>841.0</td>\n",
       "      <td>0.335246</td>\n",
       "      <td>0.067935</td>\n",
       "      <td>0.0</td>\n",
       "      <td>0.306626</td>\n",
       "      <td>0.333964</td>\n",
       "      <td>0.362442</td>\n",
       "      <td>1.0</td>\n",
       "    </tr>\n",
       "    <tr>\n",
       "      <th>Daily_Spread</th>\n",
       "      <td>841.0</td>\n",
       "      <td>0.389458</td>\n",
       "      <td>0.076751</td>\n",
       "      <td>0.0</td>\n",
       "      <td>0.355932</td>\n",
       "      <td>0.389831</td>\n",
       "      <td>0.423729</td>\n",
       "      <td>1.0</td>\n",
       "    </tr>\n",
       "    <tr>\n",
       "      <th>Daily_Max_Min</th>\n",
       "      <td>841.0</td>\n",
       "      <td>0.161648</td>\n",
       "      <td>0.113453</td>\n",
       "      <td>0.0</td>\n",
       "      <td>0.094595</td>\n",
       "      <td>0.135135</td>\n",
       "      <td>0.189189</td>\n",
       "      <td>1.0</td>\n",
       "    </tr>\n",
       "    <tr>\n",
       "      <th>1_Day_Spread</th>\n",
       "      <td>841.0</td>\n",
       "      <td>0.448579</td>\n",
       "      <td>0.073679</td>\n",
       "      <td>0.0</td>\n",
       "      <td>0.420690</td>\n",
       "      <td>0.448276</td>\n",
       "      <td>0.475862</td>\n",
       "      <td>1.0</td>\n",
       "    </tr>\n",
       "    <tr>\n",
       "      <th>2_Day_Spread</th>\n",
       "      <td>841.0</td>\n",
       "      <td>0.507948</td>\n",
       "      <td>0.079232</td>\n",
       "      <td>0.0</td>\n",
       "      <td>0.477612</td>\n",
       "      <td>0.507463</td>\n",
       "      <td>0.537313</td>\n",
       "      <td>1.0</td>\n",
       "    </tr>\n",
       "    <tr>\n",
       "      <th>1_Week_Spread</th>\n",
       "      <td>841.0</td>\n",
       "      <td>0.448775</td>\n",
       "      <td>0.083670</td>\n",
       "      <td>0.0</td>\n",
       "      <td>0.416667</td>\n",
       "      <td>0.450617</td>\n",
       "      <td>0.484568</td>\n",
       "      <td>1.0</td>\n",
       "    </tr>\n",
       "    <tr>\n",
       "      <th>MA_Prior_1day</th>\n",
       "      <td>841.0</td>\n",
       "      <td>0.551421</td>\n",
       "      <td>0.073679</td>\n",
       "      <td>0.0</td>\n",
       "      <td>0.524138</td>\n",
       "      <td>0.551724</td>\n",
       "      <td>0.579310</td>\n",
       "      <td>1.0</td>\n",
       "    </tr>\n",
       "    <tr>\n",
       "      <th>MA_Prior_2day</th>\n",
       "      <td>841.0</td>\n",
       "      <td>0.492052</td>\n",
       "      <td>0.079232</td>\n",
       "      <td>0.0</td>\n",
       "      <td>0.462687</td>\n",
       "      <td>0.492537</td>\n",
       "      <td>0.522388</td>\n",
       "      <td>1.0</td>\n",
       "    </tr>\n",
       "    <tr>\n",
       "      <th>MA_Prior_diff</th>\n",
       "      <td>841.0</td>\n",
       "      <td>0.448645</td>\n",
       "      <td>0.073703</td>\n",
       "      <td>0.0</td>\n",
       "      <td>0.420690</td>\n",
       "      <td>0.448276</td>\n",
       "      <td>0.475862</td>\n",
       "      <td>1.0</td>\n",
       "    </tr>\n",
       "    <tr>\n",
       "      <th>ExPost_SR</th>\n",
       "      <td>841.0</td>\n",
       "      <td>0.508054</td>\n",
       "      <td>0.079224</td>\n",
       "      <td>0.0</td>\n",
       "      <td>0.477612</td>\n",
       "      <td>0.507463</td>\n",
       "      <td>0.537313</td>\n",
       "      <td>1.0</td>\n",
       "    </tr>\n",
       "  </tbody>\n",
       "</table>\n",
       "</div>"
      ],
      "text/plain": [
       "               count      mean       std  min       25%       50%       75%  \\\n",
       "Open           841.0  0.436931  0.213760  0.0  0.280528  0.435644  0.534653   \n",
       "High           841.0  0.387683  0.194860  0.0  0.244048  0.386905  0.479167   \n",
       "Low            841.0  0.441390  0.211605  0.0  0.291391  0.440397  0.539735   \n",
       "Close          841.0  0.429251  0.216582  0.0  0.270903  0.424749  0.528428   \n",
       "Volume         841.0  0.033519  0.072777  0.0  0.006126  0.011594  0.028821   \n",
       "Target         841.0  0.335246  0.067935  0.0  0.306626  0.333964  0.362442   \n",
       "Daily_Spread   841.0  0.389458  0.076751  0.0  0.355932  0.389831  0.423729   \n",
       "Daily_Max_Min  841.0  0.161648  0.113453  0.0  0.094595  0.135135  0.189189   \n",
       "1_Day_Spread   841.0  0.448579  0.073679  0.0  0.420690  0.448276  0.475862   \n",
       "2_Day_Spread   841.0  0.507948  0.079232  0.0  0.477612  0.507463  0.537313   \n",
       "1_Week_Spread  841.0  0.448775  0.083670  0.0  0.416667  0.450617  0.484568   \n",
       "MA_Prior_1day  841.0  0.551421  0.073679  0.0  0.524138  0.551724  0.579310   \n",
       "MA_Prior_2day  841.0  0.492052  0.079232  0.0  0.462687  0.492537  0.522388   \n",
       "MA_Prior_diff  841.0  0.448645  0.073703  0.0  0.420690  0.448276  0.475862   \n",
       "ExPost_SR      841.0  0.508054  0.079224  0.0  0.477612  0.507463  0.537313   \n",
       "\n",
       "               max  \n",
       "Open           1.0  \n",
       "High           1.0  \n",
       "Low            1.0  \n",
       "Close          1.0  \n",
       "Volume         1.0  \n",
       "Target         1.0  \n",
       "Daily_Spread   1.0  \n",
       "Daily_Max_Min  1.0  \n",
       "1_Day_Spread   1.0  \n",
       "2_Day_Spread   1.0  \n",
       "1_Week_Spread  1.0  \n",
       "MA_Prior_1day  1.0  \n",
       "MA_Prior_2day  1.0  \n",
       "MA_Prior_diff  1.0  \n",
       "ExPost_SR      1.0  "
      ]
     },
     "execution_count": 20,
     "metadata": {},
     "output_type": "execute_result"
    }
   ],
   "source": [
    "train_df.describe().transpose()"
   ]
  },
  {
   "cell_type": "code",
   "execution_count": 21,
   "metadata": {
    "ExecuteTime": {
     "end_time": "2022-05-31T15:06:06.061843Z",
     "start_time": "2022-05-31T15:06:06.043217Z"
    }
   },
   "outputs": [
    {
     "name": "stdout",
     "output_type": "stream",
     "text": [
      "<class 'pandas.core.frame.DataFrame'>\n",
      "DatetimeIndex: 841 entries, 2017-01-04 to 2020-06-15\n",
      "Data columns (total 15 columns):\n",
      " #   Column         Non-Null Count  Dtype  \n",
      "---  ------         --------------  -----  \n",
      " 0   Open           841 non-null    float64\n",
      " 1   High           841 non-null    float64\n",
      " 2   Low            841 non-null    float64\n",
      " 3   Close          841 non-null    float64\n",
      " 4   Volume         841 non-null    float64\n",
      " 5   Target         841 non-null    float64\n",
      " 6   Daily_Spread   841 non-null    float64\n",
      " 7   Daily_Max_Min  841 non-null    float64\n",
      " 8   1_Day_Spread   841 non-null    float64\n",
      " 9   2_Day_Spread   841 non-null    float64\n",
      " 10  1_Week_Spread  841 non-null    float64\n",
      " 11  MA_Prior_1day  841 non-null    float64\n",
      " 12  MA_Prior_2day  841 non-null    float64\n",
      " 13  MA_Prior_diff  841 non-null    float64\n",
      " 14  ExPost_SR      841 non-null    float64\n",
      "dtypes: float64(15)\n",
      "memory usage: 105.1 KB\n"
     ]
    }
   ],
   "source": [
    "train_df.info()"
   ]
  },
  {
   "cell_type": "code",
   "execution_count": 22,
   "metadata": {
    "ExecuteTime": {
     "end_time": "2022-05-31T15:06:07.132945Z",
     "start_time": "2022-05-31T15:06:06.667468Z"
    }
   },
   "outputs": [
    {
     "data": {
      "image/png": "[encoded data removed]",
      "text/plain": [
       "<Figure size 1080x576 with 1 Axes>"
      ]
     },
     "metadata": {
      "needs_background": "light"
     },
     "output_type": "display_data"
    }
   ],
   "source": [
    "# Plot the timeseries \n",
    "pd.plotting.register_matplotlib_converters()\n",
    "ax = train_df['Target'].plot(figsize=(15, 8), linewidth=2)\n",
    "ax.set_ylabel('Target')\n",
    "ax.set_xlabel('Date')\n",
    "\n",
    "plt.show()"
   ]
  },
  {
   "cell_type": "code",
   "execution_count": 23,
   "metadata": {
    "ExecuteTime": {
     "end_time": "2022-05-31T15:06:08.137700Z",
     "start_time": "2022-05-31T15:06:07.137291Z"
    }
   },
   "outputs": [
    {
     "data": {
      "image/png": "[encoded data removed]",
      "text/plain": [
       "<Figure size 864x432 with 1 Axes>"
      ]
     },
     "metadata": {
      "needs_background": "light"
     },
     "output_type": "display_data"
    }
   ],
   "source": [
    "df_std = train_df.melt(var_name='Column', value_name='Normalized')\n",
    "plt.figure(figsize=(12, 6))\n",
    "ax = sns.violinplot(x='Column', y='Normalized', data=df_std)\n",
    "_ = ax.set_xticklabels(train_df.keys(), rotation=45)"
   ]
  },
  {
   "cell_type": "code",
   "execution_count": 24,
   "metadata": {
    "ExecuteTime": {
     "end_time": "2022-05-31T15:06:08.167831Z",
     "start_time": "2022-05-31T15:06:08.141857Z"
    }
   },
   "outputs": [
    {
     "data": {
      "text/html": [
       "<div>\n",
       "<style scoped>\n",
       "    .dataframe tbody tr th:only-of-type {\n",
       "        vertical-align: middle;\n",
       "    }\n",
       "\n",
       "    .dataframe tbody tr th {\n",
       "        vertical-align: top;\n",
       "    }\n",
       "\n",
       "    .dataframe thead th {\n",
       "        text-align: right;\n",
       "    }\n",
       "</style>\n",
       "<table border=\"1\" class=\"dataframe\">\n",
       "  <thead>\n",
       "    <tr style=\"text-align: right;\">\n",
       "      <th></th>\n",
       "      <th>Open</th>\n",
       "      <th>Volume</th>\n",
       "      <th>Target</th>\n",
       "      <th>Daily_Spread</th>\n",
       "      <th>Daily_Max_Min</th>\n",
       "      <th>1_Day_Spread</th>\n",
       "      <th>2_Day_Spread</th>\n",
       "      <th>MA_Prior_1day</th>\n",
       "      <th>MA_Prior_diff</th>\n",
       "    </tr>\n",
       "    <tr>\n",
       "      <th>Date</th>\n",
       "      <th></th>\n",
       "      <th></th>\n",
       "      <th></th>\n",
       "      <th></th>\n",
       "      <th></th>\n",
       "      <th></th>\n",
       "      <th></th>\n",
       "      <th></th>\n",
       "      <th></th>\n",
       "    </tr>\n",
       "  </thead>\n",
       "  <tbody>\n",
       "    <tr>\n",
       "      <th>2017-01-04</th>\n",
       "      <td>0.217822</td>\n",
       "      <td>0.026252</td>\n",
       "      <td>0.262805</td>\n",
       "      <td>0.449153</td>\n",
       "      <td>0.243243</td>\n",
       "      <td>0.448276</td>\n",
       "      <td>0.507463</td>\n",
       "      <td>0.551724</td>\n",
       "      <td>0.379310</td>\n",
       "    </tr>\n",
       "    <tr>\n",
       "      <th>2017-01-05</th>\n",
       "      <td>0.247525</td>\n",
       "      <td>0.017984</td>\n",
       "      <td>0.326672</td>\n",
       "      <td>0.372881</td>\n",
       "      <td>0.148649</td>\n",
       "      <td>0.448276</td>\n",
       "      <td>0.507463</td>\n",
       "      <td>0.620690</td>\n",
       "      <td>0.441379</td>\n",
       "    </tr>\n",
       "  </tbody>\n",
       "</table>\n",
       "</div>"
      ],
      "text/plain": [
       "                Open    Volume    Target  Daily_Spread  Daily_Max_Min  \\\n",
       "Date                                                                    \n",
       "2017-01-04  0.217822  0.026252  0.262805      0.449153       0.243243   \n",
       "2017-01-05  0.247525  0.017984  0.326672      0.372881       0.148649   \n",
       "\n",
       "            1_Day_Spread  2_Day_Spread  MA_Prior_1day  MA_Prior_diff  \n",
       "Date                                                                  \n",
       "2017-01-04      0.448276      0.507463       0.551724       0.379310  \n",
       "2017-01-05      0.448276      0.507463       0.620690       0.441379  "
      ]
     },
     "execution_count": 24,
     "metadata": {},
     "output_type": "execute_result"
    }
   ],
   "source": [
    "train_small = train_df.drop(['MA_Prior_2day','1_Week_Spread','Close','Low','High','ExPost_SR'], axis=1)\n",
    "train_small.head(2)"
   ]
  },
  {
   "cell_type": "code",
   "execution_count": 25,
   "metadata": {
    "ExecuteTime": {
     "end_time": "2022-05-31T15:06:08.181182Z",
     "start_time": "2022-05-31T15:06:08.170721Z"
    }
   },
   "outputs": [
    {
     "data": {
      "text/plain": [
       "Open             0\n",
       "Volume           0\n",
       "Target           0\n",
       "Daily_Spread     0\n",
       "Daily_Max_Min    0\n",
       "1_Day_Spread     0\n",
       "2_Day_Spread     0\n",
       "MA_Prior_1day    0\n",
       "MA_Prior_diff    0\n",
       "dtype: int64"
      ]
     },
     "execution_count": 25,
     "metadata": {},
     "output_type": "execute_result"
    }
   ],
   "source": [
    "# Double-check for missing values\n",
    "train_small.isna().sum()"
   ]
  },
  {
   "cell_type": "code",
   "execution_count": 26,
   "metadata": {
    "ExecuteTime": {
     "end_time": "2022-05-31T15:06:09.029881Z",
     "start_time": "2022-05-31T15:06:08.408217Z"
    }
   },
   "outputs": [
    {
     "data": {
      "image/png": "[encoded data removed]",
      "text/plain": [
       "<Figure size 864x432 with 1 Axes>"
      ]
     },
     "metadata": {
      "needs_background": "light"
     },
     "output_type": "display_data"
    }
   ],
   "source": [
    "df_std = train_small.melt(var_name='Column', value_name='Normalized')\n",
    "plt.figure(figsize=(12, 6))\n",
    "ax = sns.violinplot(x='Column', y='Normalized', data=df_std)\n",
    "_ = ax.set_xticklabels(train_small.keys(), rotation=45)"
   ]
  },
  {
   "cell_type": "markdown",
   "metadata": {},
   "source": [
    "# Indexes and offsets\n",
    "* Window Generator"
   ]
  },
  {
   "cell_type": "code",
   "execution_count": 27,
   "metadata": {
    "ExecuteTime": {
     "end_time": "2022-05-31T15:06:09.593428Z",
     "start_time": "2022-05-31T15:06:09.579529Z"
    }
   },
   "outputs": [],
   "source": [
    "class WindowGenerator():\n",
    "  def __init__(self, input_width, label_width, shift,\n",
    "               train_df=train_df, val_df=val_df, test_df=test_df,\n",
    "               label_columns=None):\n",
    "    # Store the raw data.\n",
    "    self.train_df = train_df\n",
    "    self.val_df = val_df\n",
    "    self.test_df = test_df\n",
    "\n",
    "    # Work out the label column indices.\n",
    "    self.label_columns = label_columns\n",
    "    if label_columns is not None:\n",
    "      self.label_columns_indices = {name: i for i, name in\n",
    "                                    enumerate(label_columns)}\n",
    "    self.column_indices = {name: i for i, name in\n",
    "                           enumerate(train_df.columns)}\n",
    "\n",
    "    # Work out the window parameters.\n",
    "    self.input_width = input_width\n",
    "    self.label_width = label_width\n",
    "    self.shift = shift\n",
    "\n",
    "    self.total_window_size = input_width + shift\n",
    "\n",
    "    self.input_slice = slice(0, input_width)\n",
    "    self.input_indices = np.arange(self.total_window_size)[self.input_slice]\n",
    "\n",
    "    self.label_start = self.total_window_size - self.label_width\n",
    "    self.labels_slice = slice(self.label_start, None)\n",
    "    self.label_indices = np.arange(self.total_window_size)[self.labels_slice]\n",
    "\n",
    "  def __repr__(self):\n",
    "    return '\\n'.join([\n",
    "        f'Total window size: {self.total_window_size}',\n",
    "        f'Input indices: {self.input_indices}',\n",
    "        f'Label indices: {self.label_indices}',\n",
    "        f'Label column name(s): {self.label_columns}'])"
   ]
  },
  {
   "cell_type": "code",
   "execution_count": 28,
   "metadata": {
    "ExecuteTime": {
     "end_time": "2022-05-31T15:06:09.951621Z",
     "start_time": "2022-05-31T15:06:09.943371Z"
    }
   },
   "outputs": [
    {
     "data": {
      "text/plain": [
       "Total window size: 21\n",
       "Input indices: [ 0  1  2  3  4  5  6  7  8  9 10 11 12 13 14 15 16 17 18 19]\n",
       "Label indices: [20]\n",
       "Label column name(s): ['Target']"
      ]
     },
     "execution_count": 28,
     "metadata": {},
     "output_type": "execute_result"
    }
   ],
   "source": [
    "w1 = WindowGenerator(input_width=20, label_width=1, shift=1,\n",
    "                     label_columns=['Target'])\n",
    "w1"
   ]
  },
  {
   "cell_type": "code",
   "execution_count": 29,
   "metadata": {
    "ExecuteTime": {
     "end_time": "2022-05-31T15:06:10.415637Z",
     "start_time": "2022-05-31T15:06:10.406843Z"
    }
   },
   "outputs": [
    {
     "data": {
      "text/plain": [
       "Total window size: 7\n",
       "Input indices: [0 1 2 3 4 5]\n",
       "Label indices: [6]\n",
       "Label column name(s): ['Target']"
      ]
     },
     "execution_count": 29,
     "metadata": {},
     "output_type": "execute_result"
    }
   ],
   "source": [
    "w2 = WindowGenerator(input_width=6, label_width=1, shift=1,\n",
    "                     label_columns=['Target'])\n",
    "w2"
   ]
  },
  {
   "cell_type": "markdown",
   "metadata": {},
   "source": [
    "# Split"
   ]
  },
  {
   "cell_type": "code",
   "execution_count": 30,
   "metadata": {
    "ExecuteTime": {
     "end_time": "2022-05-31T15:06:11.194330Z",
     "start_time": "2022-05-31T15:06:11.184410Z"
    }
   },
   "outputs": [],
   "source": [
    "def split_window(self, features):\n",
    "  inputs = features[:, self.input_slice, :]\n",
    "  labels = features[:, self.labels_slice, :]\n",
    "  if self.label_columns is not None:\n",
    "    labels = tf.stack(\n",
    "        [labels[:, :, self.column_indices[name]] for name in self.label_columns],\n",
    "        axis=-1)\n",
    "\n",
    "  # Slicing doesn't preserve static shape information, so set the shapes\n",
    "  # manually. This way the `tf.data.Datasets` are easier to inspect.\n",
    "  inputs.set_shape([None, self.input_width, None])\n",
    "  labels.set_shape([None, self.label_width, None])\n",
    "\n",
    "  return inputs, labels\n",
    "\n",
    "WindowGenerator.split_window = split_window"
   ]
  },
  {
   "cell_type": "code",
   "execution_count": 31,
   "metadata": {
    "ExecuteTime": {
     "end_time": "2022-05-31T15:06:11.681518Z",
     "start_time": "2022-05-31T15:06:11.678116Z"
    }
   },
   "outputs": [],
   "source": [
    "## Stopped here 5/27 after starting to figure out how to create an output df"
   ]
  },
  {
   "cell_type": "code",
   "execution_count": 32,
   "metadata": {
    "ExecuteTime": {
     "end_time": "2022-05-31T15:06:12.276150Z",
     "start_time": "2022-05-31T15:06:12.248005Z"
    }
   },
   "outputs": [
    {
     "data": {
      "text/html": [
       "<div>\n",
       "<style scoped>\n",
       "    .dataframe tbody tr th:only-of-type {\n",
       "        vertical-align: middle;\n",
       "    }\n",
       "\n",
       "    .dataframe tbody tr th {\n",
       "        vertical-align: top;\n",
       "    }\n",
       "\n",
       "    .dataframe thead th {\n",
       "        text-align: right;\n",
       "    }\n",
       "</style>\n",
       "<table border=\"1\" class=\"dataframe\">\n",
       "  <thead>\n",
       "    <tr style=\"text-align: right;\">\n",
       "      <th></th>\n",
       "      <th>Open</th>\n",
       "      <th>High</th>\n",
       "      <th>Low</th>\n",
       "      <th>Close</th>\n",
       "      <th>Volume</th>\n",
       "      <th>Target</th>\n",
       "      <th>Daily_Spread</th>\n",
       "      <th>Daily_Max_Min</th>\n",
       "      <th>1_Day_Spread</th>\n",
       "      <th>2_Day_Spread</th>\n",
       "      <th>1_Week_Spread</th>\n",
       "      <th>MA_Prior_1day</th>\n",
       "      <th>MA_Prior_2day</th>\n",
       "      <th>MA_Prior_diff</th>\n",
       "      <th>ExPost_SR</th>\n",
       "    </tr>\n",
       "    <tr>\n",
       "      <th>Date</th>\n",
       "      <th></th>\n",
       "      <th></th>\n",
       "      <th></th>\n",
       "      <th></th>\n",
       "      <th></th>\n",
       "      <th></th>\n",
       "      <th></th>\n",
       "      <th></th>\n",
       "      <th></th>\n",
       "      <th></th>\n",
       "      <th></th>\n",
       "      <th></th>\n",
       "      <th></th>\n",
       "      <th></th>\n",
       "      <th></th>\n",
       "    </tr>\n",
       "  </thead>\n",
       "  <tbody>\n",
       "    <tr>\n",
       "      <th>2017-10-24</th>\n",
       "      <td>0.554455</td>\n",
       "      <td>0.511905</td>\n",
       "      <td>0.572848</td>\n",
       "      <td>0.568562</td>\n",
       "      <td>0.027009</td>\n",
       "      <td>0.316608</td>\n",
       "      <td>0.440678</td>\n",
       "      <td>0.189189</td>\n",
       "      <td>0.496552</td>\n",
       "      <td>0.567164</td>\n",
       "      <td>0.490741</td>\n",
       "      <td>0.593103</td>\n",
       "      <td>0.537313</td>\n",
       "      <td>0.427586</td>\n",
       "      <td>0.557214</td>\n",
       "    </tr>\n",
       "    <tr>\n",
       "      <th>2017-10-25</th>\n",
       "      <td>0.574257</td>\n",
       "      <td>0.502976</td>\n",
       "      <td>0.576159</td>\n",
       "      <td>0.548495</td>\n",
       "      <td>0.014625</td>\n",
       "      <td>0.409618</td>\n",
       "      <td>0.338983</td>\n",
       "      <td>0.135135</td>\n",
       "      <td>0.406897</td>\n",
       "      <td>0.512438</td>\n",
       "      <td>0.462963</td>\n",
       "      <td>0.572414</td>\n",
       "      <td>0.442786</td>\n",
       "      <td>0.537931</td>\n",
       "      <td>0.611940</td>\n",
       "    </tr>\n",
       "    <tr>\n",
       "      <th>2017-10-26</th>\n",
       "      <td>0.554455</td>\n",
       "      <td>0.482143</td>\n",
       "      <td>0.566225</td>\n",
       "      <td>0.538462</td>\n",
       "      <td>0.011232</td>\n",
       "      <td>0.379352</td>\n",
       "      <td>0.364407</td>\n",
       "      <td>0.081081</td>\n",
       "      <td>0.427586</td>\n",
       "      <td>0.462687</td>\n",
       "      <td>0.444444</td>\n",
       "      <td>0.462069</td>\n",
       "      <td>0.388060</td>\n",
       "      <td>0.503448</td>\n",
       "      <td>0.517413</td>\n",
       "    </tr>\n",
       "    <tr>\n",
       "      <th>2017-10-27</th>\n",
       "      <td>0.547855</td>\n",
       "      <td>0.508929</td>\n",
       "      <td>0.572848</td>\n",
       "      <td>0.581940</td>\n",
       "      <td>0.014427</td>\n",
       "      <td>0.300441</td>\n",
       "      <td>0.491525</td>\n",
       "      <td>0.175676</td>\n",
       "      <td>0.537931</td>\n",
       "      <td>0.557214</td>\n",
       "      <td>0.496914</td>\n",
       "      <td>0.496552</td>\n",
       "      <td>0.482587</td>\n",
       "      <td>0.406897</td>\n",
       "      <td>0.552239</td>\n",
       "    </tr>\n",
       "    <tr>\n",
       "      <th>2017-10-30</th>\n",
       "      <td>0.584158</td>\n",
       "      <td>0.538690</td>\n",
       "      <td>0.605960</td>\n",
       "      <td>0.608696</td>\n",
       "      <td>0.025791</td>\n",
       "      <td>0.418740</td>\n",
       "      <td>0.466102</td>\n",
       "      <td>0.175676</td>\n",
       "      <td>0.503448</td>\n",
       "      <td>0.611940</td>\n",
       "      <td>0.506173</td>\n",
       "      <td>0.593103</td>\n",
       "      <td>0.447761</td>\n",
       "      <td>0.551724</td>\n",
       "      <td>0.621891</td>\n",
       "    </tr>\n",
       "    <tr>\n",
       "      <th>2017-10-31</th>\n",
       "      <td>0.613861</td>\n",
       "      <td>0.529762</td>\n",
       "      <td>0.619205</td>\n",
       "      <td>0.588629</td>\n",
       "      <td>0.009585</td>\n",
       "      <td>0.377910</td>\n",
       "      <td>0.338983</td>\n",
       "      <td>0.081081</td>\n",
       "      <td>0.406897</td>\n",
       "      <td>0.517413</td>\n",
       "      <td>0.466049</td>\n",
       "      <td>0.448276</td>\n",
       "      <td>0.378109</td>\n",
       "      <td>0.503448</td>\n",
       "      <td>0.497512</td>\n",
       "    </tr>\n",
       "    <tr>\n",
       "      <th>2017-11-01</th>\n",
       "      <td>0.610561</td>\n",
       "      <td>0.562500</td>\n",
       "      <td>0.599338</td>\n",
       "      <td>0.638796</td>\n",
       "      <td>0.033729</td>\n",
       "      <td>0.279841</td>\n",
       "      <td>0.474576</td>\n",
       "      <td>0.310811</td>\n",
       "      <td>0.551724</td>\n",
       "      <td>0.552239</td>\n",
       "      <td>0.530864</td>\n",
       "      <td>0.496552</td>\n",
       "      <td>0.502488</td>\n",
       "      <td>0.379310</td>\n",
       "      <td>0.447761</td>\n",
       "    </tr>\n",
       "  </tbody>\n",
       "</table>\n",
       "</div>"
      ],
      "text/plain": [
       "                Open      High       Low     Close    Volume    Target  \\\n",
       "Date                                                                     \n",
       "2017-10-24  0.554455  0.511905  0.572848  0.568562  0.027009  0.316608   \n",
       "2017-10-25  0.574257  0.502976  0.576159  0.548495  0.014625  0.409618   \n",
       "2017-10-26  0.554455  0.482143  0.566225  0.538462  0.011232  0.379352   \n",
       "2017-10-27  0.547855  0.508929  0.572848  0.581940  0.014427  0.300441   \n",
       "2017-10-30  0.584158  0.538690  0.605960  0.608696  0.025791  0.418740   \n",
       "2017-10-31  0.613861  0.529762  0.619205  0.588629  0.009585  0.377910   \n",
       "2017-11-01  0.610561  0.562500  0.599338  0.638796  0.033729  0.279841   \n",
       "\n",
       "            Daily_Spread  Daily_Max_Min  1_Day_Spread  2_Day_Spread  \\\n",
       "Date                                                                  \n",
       "2017-10-24      0.440678       0.189189      0.496552      0.567164   \n",
       "2017-10-25      0.338983       0.135135      0.406897      0.512438   \n",
       "2017-10-26      0.364407       0.081081      0.427586      0.462687   \n",
       "2017-10-27      0.491525       0.175676      0.537931      0.557214   \n",
       "2017-10-30      0.466102       0.175676      0.503448      0.611940   \n",
       "2017-10-31      0.338983       0.081081      0.406897      0.517413   \n",
       "2017-11-01      0.474576       0.310811      0.551724      0.552239   \n",
       "\n",
       "            1_Week_Spread  MA_Prior_1day  MA_Prior_2day  MA_Prior_diff  \\\n",
       "Date                                                                     \n",
       "2017-10-24       0.490741       0.593103       0.537313       0.427586   \n",
       "2017-10-25       0.462963       0.572414       0.442786       0.537931   \n",
       "2017-10-26       0.444444       0.462069       0.388060       0.503448   \n",
       "2017-10-27       0.496914       0.496552       0.482587       0.406897   \n",
       "2017-10-30       0.506173       0.593103       0.447761       0.551724   \n",
       "2017-10-31       0.466049       0.448276       0.378109       0.503448   \n",
       "2017-11-01       0.530864       0.496552       0.502488       0.379310   \n",
       "\n",
       "            ExPost_SR  \n",
       "Date                   \n",
       "2017-10-24   0.557214  \n",
       "2017-10-25   0.611940  \n",
       "2017-10-26   0.517413  \n",
       "2017-10-27   0.552239  \n",
       "2017-10-30   0.621891  \n",
       "2017-10-31   0.497512  \n",
       "2017-11-01   0.447761  "
      ]
     },
     "execution_count": 32,
     "metadata": {},
     "output_type": "execute_result"
    }
   ],
   "source": [
    "train_df[200:200+w2.total_window_size]"
   ]
  },
  {
   "cell_type": "code",
   "execution_count": 33,
   "metadata": {
    "ExecuteTime": {
     "end_time": "2022-05-31T15:06:13.162636Z",
     "start_time": "2022-05-31T15:06:13.124479Z"
    }
   },
   "outputs": [
    {
     "data": {
      "text/html": [
       "<div>\n",
       "<style scoped>\n",
       "    .dataframe tbody tr th:only-of-type {\n",
       "        vertical-align: middle;\n",
       "    }\n",
       "\n",
       "    .dataframe tbody tr th {\n",
       "        vertical-align: top;\n",
       "    }\n",
       "\n",
       "    .dataframe thead th {\n",
       "        text-align: right;\n",
       "    }\n",
       "</style>\n",
       "<table border=\"1\" class=\"dataframe\">\n",
       "  <thead>\n",
       "    <tr style=\"text-align: right;\">\n",
       "      <th></th>\n",
       "      <th>Open</th>\n",
       "      <th>High</th>\n",
       "      <th>Low</th>\n",
       "      <th>Close</th>\n",
       "      <th>Volume</th>\n",
       "      <th>Target</th>\n",
       "      <th>Daily_Spread</th>\n",
       "      <th>Daily_Max_Min</th>\n",
       "      <th>1_Day_Spread</th>\n",
       "      <th>2_Day_Spread</th>\n",
       "      <th>1_Week_Spread</th>\n",
       "      <th>MA_Prior_1day</th>\n",
       "      <th>MA_Prior_2day</th>\n",
       "      <th>MA_Prior_diff</th>\n",
       "      <th>ExPost_SR</th>\n",
       "    </tr>\n",
       "    <tr>\n",
       "      <th>Date</th>\n",
       "      <th></th>\n",
       "      <th></th>\n",
       "      <th></th>\n",
       "      <th></th>\n",
       "      <th></th>\n",
       "      <th></th>\n",
       "      <th></th>\n",
       "      <th></th>\n",
       "      <th></th>\n",
       "      <th></th>\n",
       "      <th></th>\n",
       "      <th></th>\n",
       "      <th></th>\n",
       "      <th></th>\n",
       "      <th></th>\n",
       "    </tr>\n",
       "  </thead>\n",
       "  <tbody>\n",
       "    <tr>\n",
       "      <th>2018-03-23</th>\n",
       "      <td>0.521452</td>\n",
       "      <td>0.446429</td>\n",
       "      <td>0.473510</td>\n",
       "      <td>0.468227</td>\n",
       "      <td>0.020883</td>\n",
       "      <td>0.407131</td>\n",
       "      <td>0.271186</td>\n",
       "      <td>0.297297</td>\n",
       "      <td>0.406897</td>\n",
       "      <td>0.492537</td>\n",
       "      <td>0.441358</td>\n",
       "      <td>0.565517</td>\n",
       "      <td>0.442786</td>\n",
       "      <td>0.531034</td>\n",
       "      <td>0.547264</td>\n",
       "    </tr>\n",
       "    <tr>\n",
       "      <th>2018-03-26</th>\n",
       "      <td>0.475248</td>\n",
       "      <td>0.407738</td>\n",
       "      <td>0.470199</td>\n",
       "      <td>0.461538</td>\n",
       "      <td>0.008959</td>\n",
       "      <td>0.310167</td>\n",
       "      <td>0.372881</td>\n",
       "      <td>0.135135</td>\n",
       "      <td>0.434483</td>\n",
       "      <td>0.467662</td>\n",
       "      <td>0.422840</td>\n",
       "      <td>0.468966</td>\n",
       "      <td>0.452736</td>\n",
       "      <td>0.420690</td>\n",
       "      <td>0.512438</td>\n",
       "    </tr>\n",
       "    <tr>\n",
       "      <th>2018-03-27</th>\n",
       "      <td>0.481848</td>\n",
       "      <td>0.434524</td>\n",
       "      <td>0.503311</td>\n",
       "      <td>0.501672</td>\n",
       "      <td>0.007576</td>\n",
       "      <td>0.363953</td>\n",
       "      <td>0.457627</td>\n",
       "      <td>0.121622</td>\n",
       "      <td>0.531034</td>\n",
       "      <td>0.557214</td>\n",
       "      <td>0.472222</td>\n",
       "      <td>0.579310</td>\n",
       "      <td>0.487562</td>\n",
       "      <td>0.482759</td>\n",
       "      <td>0.532338</td>\n",
       "    </tr>\n",
       "    <tr>\n",
       "      <th>2018-03-28</th>\n",
       "      <td>0.458746</td>\n",
       "      <td>0.431548</td>\n",
       "      <td>0.476821</td>\n",
       "      <td>0.488294</td>\n",
       "      <td>0.010277</td>\n",
       "      <td>0.333964</td>\n",
       "      <td>0.483051</td>\n",
       "      <td>0.216216</td>\n",
       "      <td>0.420690</td>\n",
       "      <td>0.547264</td>\n",
       "      <td>0.456790</td>\n",
       "      <td>0.517241</td>\n",
       "      <td>0.467662</td>\n",
       "      <td>0.448276</td>\n",
       "      <td>0.522388</td>\n",
       "    </tr>\n",
       "    <tr>\n",
       "      <th>2018-03-29</th>\n",
       "      <td>0.521452</td>\n",
       "      <td>0.446429</td>\n",
       "      <td>0.506623</td>\n",
       "      <td>0.505017</td>\n",
       "      <td>0.004710</td>\n",
       "      <td>0.351775</td>\n",
       "      <td>0.364407</td>\n",
       "      <td>0.162162</td>\n",
       "      <td>0.482759</td>\n",
       "      <td>0.512438</td>\n",
       "      <td>0.462963</td>\n",
       "      <td>0.551724</td>\n",
       "      <td>0.477612</td>\n",
       "      <td>0.468966</td>\n",
       "      <td>0.537313</td>\n",
       "    </tr>\n",
       "    <tr>\n",
       "      <th>2018-03-30</th>\n",
       "      <td>0.524752</td>\n",
       "      <td>0.449405</td>\n",
       "      <td>0.526490</td>\n",
       "      <td>0.505017</td>\n",
       "      <td>0.006522</td>\n",
       "      <td>0.351668</td>\n",
       "      <td>0.355932</td>\n",
       "      <td>0.094595</td>\n",
       "      <td>0.448276</td>\n",
       "      <td>0.532338</td>\n",
       "      <td>0.481481</td>\n",
       "      <td>0.531034</td>\n",
       "      <td>0.462687</td>\n",
       "      <td>0.468966</td>\n",
       "      <td>0.567164</td>\n",
       "    </tr>\n",
       "    <tr>\n",
       "      <th>2018-04-02</th>\n",
       "      <td>0.524752</td>\n",
       "      <td>0.449405</td>\n",
       "      <td>0.536424</td>\n",
       "      <td>0.515050</td>\n",
       "      <td>0.005698</td>\n",
       "      <td>0.386758</td>\n",
       "      <td>0.381356</td>\n",
       "      <td>0.054054</td>\n",
       "      <td>0.468966</td>\n",
       "      <td>0.522388</td>\n",
       "      <td>0.496914</td>\n",
       "      <td>0.531034</td>\n",
       "      <td>0.432836</td>\n",
       "      <td>0.510345</td>\n",
       "      <td>0.557214</td>\n",
       "    </tr>\n",
       "  </tbody>\n",
       "</table>\n",
       "</div>"
      ],
      "text/plain": [
       "                Open      High       Low     Close    Volume    Target  \\\n",
       "Date                                                                     \n",
       "2018-03-23  0.521452  0.446429  0.473510  0.468227  0.020883  0.407131   \n",
       "2018-03-26  0.475248  0.407738  0.470199  0.461538  0.008959  0.310167   \n",
       "2018-03-27  0.481848  0.434524  0.503311  0.501672  0.007576  0.363953   \n",
       "2018-03-28  0.458746  0.431548  0.476821  0.488294  0.010277  0.333964   \n",
       "2018-03-29  0.521452  0.446429  0.506623  0.505017  0.004710  0.351775   \n",
       "2018-03-30  0.524752  0.449405  0.526490  0.505017  0.006522  0.351668   \n",
       "2018-04-02  0.524752  0.449405  0.536424  0.515050  0.005698  0.386758   \n",
       "\n",
       "            Daily_Spread  Daily_Max_Min  1_Day_Spread  2_Day_Spread  \\\n",
       "Date                                                                  \n",
       "2018-03-23      0.271186       0.297297      0.406897      0.492537   \n",
       "2018-03-26      0.372881       0.135135      0.434483      0.467662   \n",
       "2018-03-27      0.457627       0.121622      0.531034      0.557214   \n",
       "2018-03-28      0.483051       0.216216      0.420690      0.547264   \n",
       "2018-03-29      0.364407       0.162162      0.482759      0.512438   \n",
       "2018-03-30      0.355932       0.094595      0.448276      0.532338   \n",
       "2018-04-02      0.381356       0.054054      0.468966      0.522388   \n",
       "\n",
       "            1_Week_Spread  MA_Prior_1day  MA_Prior_2day  MA_Prior_diff  \\\n",
       "Date                                                                     \n",
       "2018-03-23       0.441358       0.565517       0.442786       0.531034   \n",
       "2018-03-26       0.422840       0.468966       0.452736       0.420690   \n",
       "2018-03-27       0.472222       0.579310       0.487562       0.482759   \n",
       "2018-03-28       0.456790       0.517241       0.467662       0.448276   \n",
       "2018-03-29       0.462963       0.551724       0.477612       0.468966   \n",
       "2018-03-30       0.481481       0.531034       0.462687       0.468966   \n",
       "2018-04-02       0.496914       0.531034       0.432836       0.510345   \n",
       "\n",
       "            ExPost_SR  \n",
       "Date                   \n",
       "2018-03-23   0.547264  \n",
       "2018-03-26   0.512438  \n",
       "2018-03-27   0.532338  \n",
       "2018-03-28   0.522388  \n",
       "2018-03-29   0.537313  \n",
       "2018-03-30   0.567164  \n",
       "2018-04-02   0.557214  "
      ]
     },
     "execution_count": 33,
     "metadata": {},
     "output_type": "execute_result"
    }
   ],
   "source": [
    "train_df[300:300+w2.total_window_size]"
   ]
  },
  {
   "cell_type": "code",
   "execution_count": 34,
   "metadata": {
    "ExecuteTime": {
     "end_time": "2022-05-31T15:06:13.638251Z",
     "start_time": "2022-05-31T15:06:13.600406Z"
    }
   },
   "outputs": [
    {
     "data": {
      "text/html": [
       "<div>\n",
       "<style scoped>\n",
       "    .dataframe tbody tr th:only-of-type {\n",
       "        vertical-align: middle;\n",
       "    }\n",
       "\n",
       "    .dataframe tbody tr th {\n",
       "        vertical-align: top;\n",
       "    }\n",
       "\n",
       "    .dataframe thead th {\n",
       "        text-align: right;\n",
       "    }\n",
       "</style>\n",
       "<table border=\"1\" class=\"dataframe\">\n",
       "  <thead>\n",
       "    <tr style=\"text-align: right;\">\n",
       "      <th></th>\n",
       "      <th>Open</th>\n",
       "      <th>High</th>\n",
       "      <th>Low</th>\n",
       "      <th>Close</th>\n",
       "      <th>Volume</th>\n",
       "      <th>Target</th>\n",
       "      <th>Daily_Spread</th>\n",
       "      <th>Daily_Max_Min</th>\n",
       "      <th>1_Day_Spread</th>\n",
       "      <th>2_Day_Spread</th>\n",
       "      <th>1_Week_Spread</th>\n",
       "      <th>MA_Prior_1day</th>\n",
       "      <th>MA_Prior_2day</th>\n",
       "      <th>MA_Prior_diff</th>\n",
       "      <th>ExPost_SR</th>\n",
       "    </tr>\n",
       "    <tr>\n",
       "      <th>Date</th>\n",
       "      <th></th>\n",
       "      <th></th>\n",
       "      <th></th>\n",
       "      <th></th>\n",
       "      <th></th>\n",
       "      <th></th>\n",
       "      <th></th>\n",
       "      <th></th>\n",
       "      <th></th>\n",
       "      <th></th>\n",
       "      <th></th>\n",
       "      <th></th>\n",
       "      <th></th>\n",
       "      <th></th>\n",
       "      <th></th>\n",
       "    </tr>\n",
       "  </thead>\n",
       "  <tbody>\n",
       "    <tr>\n",
       "      <th>2017-01-04</th>\n",
       "      <td>0.217822</td>\n",
       "      <td>0.193452</td>\n",
       "      <td>0.205298</td>\n",
       "      <td>0.230769</td>\n",
       "      <td>0.026252</td>\n",
       "      <td>0.262805</td>\n",
       "      <td>0.449153</td>\n",
       "      <td>0.243243</td>\n",
       "      <td>0.448276</td>\n",
       "      <td>0.507463</td>\n",
       "      <td>0.447531</td>\n",
       "      <td>0.551724</td>\n",
       "      <td>0.542289</td>\n",
       "      <td>0.379310</td>\n",
       "      <td>0.452736</td>\n",
       "    </tr>\n",
       "    <tr>\n",
       "      <th>2017-01-05</th>\n",
       "      <td>0.247525</td>\n",
       "      <td>0.211310</td>\n",
       "      <td>0.248344</td>\n",
       "      <td>0.230769</td>\n",
       "      <td>0.017984</td>\n",
       "      <td>0.326672</td>\n",
       "      <td>0.372881</td>\n",
       "      <td>0.148649</td>\n",
       "      <td>0.448276</td>\n",
       "      <td>0.507463</td>\n",
       "      <td>0.447531</td>\n",
       "      <td>0.620690</td>\n",
       "      <td>0.547264</td>\n",
       "      <td>0.441379</td>\n",
       "      <td>0.467662</td>\n",
       "    </tr>\n",
       "    <tr>\n",
       "      <th>2017-01-06</th>\n",
       "      <td>0.211221</td>\n",
       "      <td>0.184524</td>\n",
       "      <td>0.225166</td>\n",
       "      <td>0.197324</td>\n",
       "      <td>0.019005</td>\n",
       "      <td>0.282789</td>\n",
       "      <td>0.381356</td>\n",
       "      <td>0.121622</td>\n",
       "      <td>0.379310</td>\n",
       "      <td>0.457711</td>\n",
       "      <td>0.447531</td>\n",
       "      <td>0.558621</td>\n",
       "      <td>0.532338</td>\n",
       "      <td>0.400000</td>\n",
       "      <td>0.487562</td>\n",
       "    </tr>\n",
       "    <tr>\n",
       "      <th>2017-01-10</th>\n",
       "      <td>0.211221</td>\n",
       "      <td>0.178571</td>\n",
       "      <td>0.215232</td>\n",
       "      <td>0.193980</td>\n",
       "      <td>0.012813</td>\n",
       "      <td>0.356285</td>\n",
       "      <td>0.372881</td>\n",
       "      <td>0.135135</td>\n",
       "      <td>0.441379</td>\n",
       "      <td>0.452736</td>\n",
       "      <td>0.447531</td>\n",
       "      <td>0.600000</td>\n",
       "      <td>0.512438</td>\n",
       "      <td>0.468966</td>\n",
       "      <td>0.542289</td>\n",
       "    </tr>\n",
       "    <tr>\n",
       "      <th>2017-01-11</th>\n",
       "      <td>0.214521</td>\n",
       "      <td>0.169643</td>\n",
       "      <td>0.188742</td>\n",
       "      <td>0.170569</td>\n",
       "      <td>0.017556</td>\n",
       "      <td>0.363501</td>\n",
       "      <td>0.305085</td>\n",
       "      <td>0.202703</td>\n",
       "      <td>0.400000</td>\n",
       "      <td>0.467662</td>\n",
       "      <td>0.447531</td>\n",
       "      <td>0.531034</td>\n",
       "      <td>0.457711</td>\n",
       "      <td>0.475862</td>\n",
       "      <td>0.492537</td>\n",
       "    </tr>\n",
       "    <tr>\n",
       "      <th>2017-01-12</th>\n",
       "      <td>0.178218</td>\n",
       "      <td>0.151786</td>\n",
       "      <td>0.182119</td>\n",
       "      <td>0.180602</td>\n",
       "      <td>0.012747</td>\n",
       "      <td>0.282789</td>\n",
       "      <td>0.423729</td>\n",
       "      <td>0.148649</td>\n",
       "      <td>0.468966</td>\n",
       "      <td>0.487562</td>\n",
       "      <td>0.401235</td>\n",
       "      <td>0.524138</td>\n",
       "      <td>0.507463</td>\n",
       "      <td>0.400000</td>\n",
       "      <td>0.422886</td>\n",
       "    </tr>\n",
       "    <tr>\n",
       "      <th>2017-01-13</th>\n",
       "      <td>0.188119</td>\n",
       "      <td>0.163690</td>\n",
       "      <td>0.205298</td>\n",
       "      <td>0.193980</td>\n",
       "      <td>0.008037</td>\n",
       "      <td>0.259562</td>\n",
       "      <td>0.432203</td>\n",
       "      <td>0.108108</td>\n",
       "      <td>0.475862</td>\n",
       "      <td>0.542289</td>\n",
       "      <td>0.413580</td>\n",
       "      <td>0.600000</td>\n",
       "      <td>0.577114</td>\n",
       "      <td>0.379310</td>\n",
       "      <td>0.447761</td>\n",
       "    </tr>\n",
       "  </tbody>\n",
       "</table>\n",
       "</div>"
      ],
      "text/plain": [
       "                Open      High       Low     Close    Volume    Target  \\\n",
       "Date                                                                     \n",
       "2017-01-04  0.217822  0.193452  0.205298  0.230769  0.026252  0.262805   \n",
       "2017-01-05  0.247525  0.211310  0.248344  0.230769  0.017984  0.326672   \n",
       "2017-01-06  0.211221  0.184524  0.225166  0.197324  0.019005  0.282789   \n",
       "2017-01-10  0.211221  0.178571  0.215232  0.193980  0.012813  0.356285   \n",
       "2017-01-11  0.214521  0.169643  0.188742  0.170569  0.017556  0.363501   \n",
       "2017-01-12  0.178218  0.151786  0.182119  0.180602  0.012747  0.282789   \n",
       "2017-01-13  0.188119  0.163690  0.205298  0.193980  0.008037  0.259562   \n",
       "\n",
       "            Daily_Spread  Daily_Max_Min  1_Day_Spread  2_Day_Spread  \\\n",
       "Date                                                                  \n",
       "2017-01-04      0.449153       0.243243      0.448276      0.507463   \n",
       "2017-01-05      0.372881       0.148649      0.448276      0.507463   \n",
       "2017-01-06      0.381356       0.121622      0.379310      0.457711   \n",
       "2017-01-10      0.372881       0.135135      0.441379      0.452736   \n",
       "2017-01-11      0.305085       0.202703      0.400000      0.467662   \n",
       "2017-01-12      0.423729       0.148649      0.468966      0.487562   \n",
       "2017-01-13      0.432203       0.108108      0.475862      0.542289   \n",
       "\n",
       "            1_Week_Spread  MA_Prior_1day  MA_Prior_2day  MA_Prior_diff  \\\n",
       "Date                                                                     \n",
       "2017-01-04       0.447531       0.551724       0.542289       0.379310   \n",
       "2017-01-05       0.447531       0.620690       0.547264       0.441379   \n",
       "2017-01-06       0.447531       0.558621       0.532338       0.400000   \n",
       "2017-01-10       0.447531       0.600000       0.512438       0.468966   \n",
       "2017-01-11       0.447531       0.531034       0.457711       0.475862   \n",
       "2017-01-12       0.401235       0.524138       0.507463       0.400000   \n",
       "2017-01-13       0.413580       0.600000       0.577114       0.379310   \n",
       "\n",
       "            ExPost_SR  \n",
       "Date                   \n",
       "2017-01-04   0.452736  \n",
       "2017-01-05   0.467662  \n",
       "2017-01-06   0.487562  \n",
       "2017-01-10   0.542289  \n",
       "2017-01-11   0.492537  \n",
       "2017-01-12   0.422886  \n",
       "2017-01-13   0.447761  "
      ]
     },
     "execution_count": 34,
     "metadata": {},
     "output_type": "execute_result"
    }
   ],
   "source": [
    "train_df[:w2.total_window_size]"
   ]
  },
  {
   "cell_type": "code",
   "execution_count": 35,
   "metadata": {
    "ExecuteTime": {
     "end_time": "2022-05-31T15:06:14.092292Z",
     "start_time": "2022-05-31T15:06:14.068784Z"
    }
   },
   "outputs": [
    {
     "name": "stdout",
     "output_type": "stream",
     "text": [
      "All shapes are: (batch, time, features)\n",
      "Window shape: (3, 7, 15)\n",
      "Inputs shape: (3, 6, 15)\n",
      "Labels shape: (3, 1, 1)\n"
     ]
    }
   ],
   "source": [
    "# Stack three slices, the length of the total window.\n",
    "example_window = tf.stack([np.array(train_df[:w2.total_window_size]),\n",
    "                           np.array(train_df[200:200+w2.total_window_size]),\n",
    "                           np.array(train_df[300:300+w2.total_window_size])])\n",
    "\n",
    "example_inputs, example_labels = w2.split_window(example_window)\n",
    "\n",
    "print('All shapes are: (batch, time, features)')\n",
    "print(f'Window shape: {example_window.shape}')\n",
    "print(f'Inputs shape: {example_inputs.shape}')\n",
    "print(f'Labels shape: {example_labels.shape}')"
   ]
  },
  {
   "cell_type": "markdown",
   "metadata": {},
   "source": [
    "# Plot"
   ]
  },
  {
   "cell_type": "code",
   "execution_count": 36,
   "metadata": {
    "ExecuteTime": {
     "end_time": "2022-05-31T15:06:14.839799Z",
     "start_time": "2022-05-31T15:06:14.834357Z"
    }
   },
   "outputs": [],
   "source": [
    "w2.example = example_inputs, example_labels"
   ]
  },
  {
   "cell_type": "code",
   "execution_count": 37,
   "metadata": {
    "ExecuteTime": {
     "end_time": "2022-05-31T15:06:15.146718Z",
     "start_time": "2022-05-31T15:06:15.129696Z"
    }
   },
   "outputs": [],
   "source": [
    "def plot(self, model=None, plot_col='Target', max_subplots=3):\n",
    "  inputs, labels = self.example\n",
    "  plt.figure(figsize=(12, 8))\n",
    "  plot_col_index = self.column_indices[plot_col]\n",
    "  max_n = min(max_subplots, len(inputs))\n",
    "  for n in range(max_n):\n",
    "    plt.subplot(max_n, 1, n+1)\n",
    "    plt.ylabel(f'{plot_col} [normed]')\n",
    "    plt.plot(self.input_indices, inputs[n, :, plot_col_index],\n",
    "             label='Inputs', marker='.', zorder=-10)\n",
    "\n",
    "    if self.label_columns:\n",
    "      label_col_index = self.label_columns_indices.get(plot_col, None)\n",
    "    else:\n",
    "      label_col_index = plot_col_index\n",
    "\n",
    "    if label_col_index is None:\n",
    "      continue\n",
    "\n",
    "    plt.scatter(self.label_indices, labels[n, :, label_col_index],\n",
    "                edgecolors='k', label='Labels', c='#2ca02c', s=64)\n",
    "    if model is not None:\n",
    "      predictions = model(inputs)\n",
    "      plt.scatter(self.label_indices, predictions[n, :, label_col_index],\n",
    "                  marker='X', edgecolors='k', label='Predictions',\n",
    "                  c='#ff7f0e', s=64)\n",
    "\n",
    "    if n == 0:\n",
    "      plt.legend()\n",
    "\n",
    "  plt.xlabel('Time [d]')\n",
    "\n",
    "WindowGenerator.plot = plot"
   ]
  },
  {
   "cell_type": "code",
   "execution_count": 38,
   "metadata": {
    "ExecuteTime": {
     "end_time": "2022-05-31T15:06:16.290125Z",
     "start_time": "2022-05-31T15:06:15.696648Z"
    }
   },
   "outputs": [
    {
     "data": {
      "image/png": "[encoded data removed]",
      "text/plain": [
       "<Figure size 864x576 with 3 Axes>"
      ]
     },
     "metadata": {
      "needs_background": "light"
     },
     "output_type": "display_data"
    }
   ],
   "source": [
    "w2.plot()"
   ]
  },
  {
   "cell_type": "markdown",
   "metadata": {},
   "source": [
    "# Create tf.data.Dataset_s"
   ]
  },
  {
   "cell_type": "code",
   "execution_count": 39,
   "metadata": {
    "ExecuteTime": {
     "end_time": "2022-05-31T15:06:17.399376Z",
     "start_time": "2022-05-31T15:06:17.390692Z"
    }
   },
   "outputs": [],
   "source": [
    "def make_dataset(self, data):\n",
    "  data = np.array(data, dtype=np.float32)\n",
    "  ds = tf.keras.utils.timeseries_dataset_from_array(\n",
    "      data=data,\n",
    "      targets=None,\n",
    "      sequence_length=self.total_window_size,\n",
    "      sequence_stride=1,\n",
    "      shuffle=True,\n",
    "      batch_size=32,)\n",
    "\n",
    "  ds = ds.map(self.split_window)\n",
    "\n",
    "  return ds\n",
    "\n",
    "WindowGenerator.make_dataset = make_dataset"
   ]
  },
  {
   "cell_type": "code",
   "execution_count": 40,
   "metadata": {
    "ExecuteTime": {
     "end_time": "2022-05-31T15:06:17.876526Z",
     "start_time": "2022-05-31T15:06:17.866234Z"
    }
   },
   "outputs": [],
   "source": [
    "@property\n",
    "def train(self):\n",
    "  return self.make_dataset(self.train_df)\n",
    "\n",
    "@property\n",
    "def val(self):\n",
    "  return self.make_dataset(self.val_df)\n",
    "\n",
    "@property\n",
    "def test(self):\n",
    "  return self.make_dataset(self.test_df)\n",
    "\n",
    "@property\n",
    "def example(self):\n",
    "  \"\"\"Get and cache an example batch of `inputs, labels` for plotting.\"\"\"\n",
    "  result = getattr(self, '_example', None)\n",
    "  if result is None:\n",
    "    # No example batch was found, so get one from the `.train` dataset\n",
    "    result = next(iter(self.train))\n",
    "    # And cache it for next time\n",
    "    self._example = result\n",
    "  return result\n",
    "\n",
    "WindowGenerator.train = train\n",
    "WindowGenerator.val = val\n",
    "WindowGenerator.test = test\n",
    "WindowGenerator.example = example"
   ]
  },
  {
   "cell_type": "code",
   "execution_count": 41,
   "metadata": {
    "ExecuteTime": {
     "end_time": "2022-05-31T15:06:18.687779Z",
     "start_time": "2022-05-31T15:06:18.199192Z"
    }
   },
   "outputs": [
    {
     "data": {
      "text/plain": [
       "(TensorSpec(shape=(None, 6, 15), dtype=tf.float32, name=None),\n",
       " TensorSpec(shape=(None, 1, 1), dtype=tf.float32, name=None))"
      ]
     },
     "execution_count": 41,
     "metadata": {},
     "output_type": "execute_result"
    }
   ],
   "source": [
    "# Each element is an (inputs, label) pair.\n",
    "w2.train.element_spec"
   ]
  },
  {
   "cell_type": "code",
   "execution_count": 42,
   "metadata": {
    "ExecuteTime": {
     "end_time": "2022-05-31T15:06:19.175690Z",
     "start_time": "2022-05-31T15:06:18.691377Z"
    }
   },
   "outputs": [
    {
     "name": "stdout",
     "output_type": "stream",
     "text": [
      "Inputs shape (batch, time, features): (32, 6, 15)\n",
      "Labels shape (batch, time, features): (32, 1, 1)\n"
     ]
    }
   ],
   "source": [
    "for example_inputs, example_labels in w2.train.take(1):\n",
    "  print(f'Inputs shape (batch, time, features): {example_inputs.shape}')\n",
    "  print(f'Labels shape (batch, time, features): {example_labels.shape}')"
   ]
  },
  {
   "cell_type": "markdown",
   "metadata": {},
   "source": [
    "# Single Step Models"
   ]
  },
  {
   "cell_type": "code",
   "execution_count": 43,
   "metadata": {
    "ExecuteTime": {
     "end_time": "2022-05-31T15:06:19.464237Z",
     "start_time": "2022-05-31T15:06:19.451113Z"
    }
   },
   "outputs": [
    {
     "data": {
      "text/plain": [
       "Total window size: 2\n",
       "Input indices: [0]\n",
       "Label indices: [1]\n",
       "Label column name(s): ['Target']"
      ]
     },
     "execution_count": 43,
     "metadata": {},
     "output_type": "execute_result"
    }
   ],
   "source": [
    "single_step_window = WindowGenerator(\n",
    "    input_width=1, label_width=1, shift=1,\n",
    "    label_columns=['Target'])\n",
    "single_step_window"
   ]
  },
  {
   "cell_type": "code",
   "execution_count": 44,
   "metadata": {
    "ExecuteTime": {
     "end_time": "2022-05-31T15:06:19.968781Z",
     "start_time": "2022-05-31T15:06:19.778047Z"
    }
   },
   "outputs": [
    {
     "name": "stdout",
     "output_type": "stream",
     "text": [
      "Inputs shape (batch, time, features): (32, 1, 15)\n",
      "Labels shape (batch, time, features): (32, 1, 1)\n"
     ]
    }
   ],
   "source": [
    "for example_inputs, example_labels in single_step_window.train.take(1):\n",
    "  print(f'Inputs shape (batch, time, features): {example_inputs.shape}')\n",
    "  print(f'Labels shape (batch, time, features): {example_labels.shape}')"
   ]
  },
  {
   "cell_type": "markdown",
   "metadata": {},
   "source": [
    "## Baseline"
   ]
  },
  {
   "cell_type": "code",
   "execution_count": 45,
   "metadata": {
    "ExecuteTime": {
     "end_time": "2022-05-31T15:06:20.637629Z",
     "start_time": "2022-05-31T15:06:20.629661Z"
    }
   },
   "outputs": [],
   "source": [
    "class Baseline(tf.keras.Model):\n",
    "  def __init__(self, label_index=None):\n",
    "    super().__init__()\n",
    "    self.label_index = label_index\n",
    "\n",
    "  def call(self, inputs):\n",
    "    if self.label_index is None:\n",
    "      return inputs\n",
    "    result = inputs[:, :, self.label_index]\n",
    "    return result[:, :, tf.newaxis]"
   ]
  },
  {
   "cell_type": "code",
   "execution_count": 46,
   "metadata": {
    "ExecuteTime": {
     "end_time": "2022-05-31T15:06:22.354415Z",
     "start_time": "2022-05-31T15:06:21.263116Z"
    }
   },
   "outputs": [
    {
     "name": "stdout",
     "output_type": "stream",
     "text": [
      "8/8 [==============================] - 0s 2ms/step - loss: 0.0470 - mean_absolute_error: 0.1697\n"
     ]
    }
   ],
   "source": [
    "baseline = Baseline(label_index=column_indices['Target'])\n",
    "\n",
    "baseline.compile(loss=tf.losses.MeanSquaredError(),\n",
    "                 metrics=[tf.metrics.MeanAbsoluteError()])\n",
    "\n",
    "val_performance = {}\n",
    "performance = {}\n",
    "val_performance['Baseline'] = baseline.evaluate(single_step_window.val)\n",
    "performance['Baseline'] = baseline.evaluate(single_step_window.test, verbose=0)"
   ]
  },
  {
   "cell_type": "code",
   "execution_count": 47,
   "metadata": {
    "ExecuteTime": {
     "end_time": "2022-05-31T15:06:22.369789Z",
     "start_time": "2022-05-31T15:06:22.358885Z"
    }
   },
   "outputs": [
    {
     "data": {
      "text/plain": [
       "Total window size: 25\n",
       "Input indices: [ 0  1  2  3  4  5  6  7  8  9 10 11 12 13 14 15 16 17 18 19 20 21 22 23]\n",
       "Label indices: [ 1  2  3  4  5  6  7  8  9 10 11 12 13 14 15 16 17 18 19 20 21 22 23 24]\n",
       "Label column name(s): ['Target']"
      ]
     },
     "execution_count": 47,
     "metadata": {},
     "output_type": "execute_result"
    }
   ],
   "source": [
    "wide_window = WindowGenerator(\n",
    "    input_width=24, label_width=24, shift=1,\n",
    "    label_columns=['Target'])\n",
    "\n",
    "wide_window"
   ]
  },
  {
   "cell_type": "code",
   "execution_count": 48,
   "metadata": {
    "ExecuteTime": {
     "end_time": "2022-05-31T15:06:22.578971Z",
     "start_time": "2022-05-31T15:06:22.373879Z"
    }
   },
   "outputs": [
    {
     "name": "stdout",
     "output_type": "stream",
     "text": [
      "Input shape: (32, 24, 15)\n",
      "Output shape: (32, 24, 1)\n"
     ]
    }
   ],
   "source": [
    "print('Input shape:', wide_window.example[0].shape)\n",
    "print('Output shape:', baseline(wide_window.example[0]).shape)"
   ]
  },
  {
   "cell_type": "code",
   "execution_count": 49,
   "metadata": {
    "ExecuteTime": {
     "end_time": "2022-05-31T15:06:23.883848Z",
     "start_time": "2022-05-31T15:06:23.294890Z"
    }
   },
   "outputs": [
    {
     "data": {
      "image/png": "[encoded data removed]",
      "text/plain": [
       "<Figure size 864x576 with 3 Axes>"
      ]
     },
     "metadata": {
      "needs_background": "light"
     },
     "output_type": "display_data"
    }
   ],
   "source": [
    "wide_window.plot(baseline)"
   ]
  },
  {
   "cell_type": "markdown",
   "metadata": {},
   "source": [
    "## Linear Model"
   ]
  },
  {
   "cell_type": "code",
   "execution_count": 50,
   "metadata": {
    "ExecuteTime": {
     "end_time": "2022-05-31T15:06:24.907699Z",
     "start_time": "2022-05-31T15:06:24.891930Z"
    }
   },
   "outputs": [],
   "source": [
    "linear = tf.keras.Sequential([\n",
    "    tf.keras.layers.Dense(units=1)\n",
    "])"
   ]
  },
  {
   "cell_type": "code",
   "execution_count": 51,
   "metadata": {
    "ExecuteTime": {
     "end_time": "2022-05-31T15:06:25.407946Z",
     "start_time": "2022-05-31T15:06:25.147297Z"
    }
   },
   "outputs": [
    {
     "name": "stdout",
     "output_type": "stream",
     "text": [
      "Input shape: (32, 1, 15)\n",
      "Output shape: (32, 1, 1)\n"
     ]
    }
   ],
   "source": [
    "print('Input shape:', single_step_window.example[0].shape)\n",
    "print('Output shape:', linear(single_step_window.example[0]).shape)"
   ]
  },
  {
   "cell_type": "code",
   "execution_count": 52,
   "metadata": {
    "ExecuteTime": {
     "end_time": "2022-05-31T15:06:25.433300Z",
     "start_time": "2022-05-31T15:06:25.426075Z"
    }
   },
   "outputs": [],
   "source": [
    "MAX_EPOCHS = 20\n",
    "\n",
    "def compile_and_fit(model, window, patience=2):\n",
    "  early_stopping = tf.keras.callbacks.EarlyStopping(monitor='val_loss',\n",
    "                                                    patience=patience,\n",
    "                                                    mode='min')\n",
    "\n",
    "  model.compile(loss=tf.losses.MeanSquaredError(),\n",
    "                optimizer=tf.optimizers.Adam(),\n",
    "                metrics=[tf.metrics.MeanAbsoluteError()])\n",
    "\n",
    "  history = model.fit(window.train, epochs=MAX_EPOCHS,\n",
    "                      validation_data=window.val,\n",
    "                      callbacks=[early_stopping])\n",
    "  return history"
   ]
  },
  {
   "cell_type": "code",
   "execution_count": 53,
   "metadata": {
    "ExecuteTime": {
     "end_time": "2022-05-31T15:06:27.764650Z",
     "start_time": "2022-05-31T15:06:25.716994Z"
    }
   },
   "outputs": [
    {
     "name": "stdout",
     "output_type": "stream",
     "text": [
      "Epoch 1/20\n",
      "27/27 [==============================] - 1s 11ms/step - loss: 0.0513 - mean_absolute_error: 0.1914 - val_loss: 0.0655 - val_mean_absolute_error: 0.2010\n",
      "Epoch 2/20\n",
      "27/27 [==============================] - 0s 8ms/step - loss: 0.0164 - mean_absolute_error: 0.0967 - val_loss: 0.1065 - val_mean_absolute_error: 0.2745\n",
      "Epoch 3/20\n",
      "27/27 [==============================] - 0s 6ms/step - loss: 0.0132 - mean_absolute_error: 0.0837 - val_loss: 0.1116 - val_mean_absolute_error: 0.2842\n",
      "8/8 [==============================] - 0s 4ms/step - loss: 0.1116 - mean_absolute_error: 0.2842\n"
     ]
    }
   ],
   "source": [
    "history = compile_and_fit(linear, single_step_window)\n",
    "\n",
    "val_performance['Linear'] = linear.evaluate(single_step_window.val)\n",
    "performance['Linear'] = linear.evaluate(single_step_window.test, verbose=0)"
   ]
  },
  {
   "cell_type": "code",
   "execution_count": 54,
   "metadata": {
    "ExecuteTime": {
     "end_time": "2022-05-31T15:06:27.793092Z",
     "start_time": "2022-05-31T15:06:27.768495Z"
    }
   },
   "outputs": [
    {
     "name": "stdout",
     "output_type": "stream",
     "text": [
      "Input shape: (32, 24, 15)\n",
      "Output shape: (32, 24, 1)\n"
     ]
    }
   ],
   "source": [
    "print('Input shape:', wide_window.example[0].shape)\n",
    "print('Output shape:', baseline(wide_window.example[0]).shape)"
   ]
  },
  {
   "cell_type": "code",
   "execution_count": 55,
   "metadata": {
    "ExecuteTime": {
     "end_time": "2022-05-31T15:06:28.554923Z",
     "start_time": "2022-05-31T15:06:27.800417Z"
    }
   },
   "outputs": [
    {
     "data": {
      "image/png": "[encoded data removed]",
      "text/plain": [
       "<Figure size 864x576 with 3 Axes>"
      ]
     },
     "metadata": {
      "needs_background": "light"
     },
     "output_type": "display_data"
    }
   ],
   "source": [
    "wide_window.plot(linear)"
   ]
  },
  {
   "cell_type": "code",
   "execution_count": 56,
   "metadata": {
    "ExecuteTime": {
     "end_time": "2022-05-31T15:06:29.043153Z",
     "start_time": "2022-05-31T15:06:28.658983Z"
    }
   },
   "outputs": [
    {
     "data": {
      "image/png": "[encoded data removed]",
      "text/plain": [
       "<Figure size 432x288 with 1 Axes>"
      ]
     },
     "metadata": {
      "needs_background": "light"
     },
     "output_type": "display_data"
    }
   ],
   "source": [
    "plt.bar(x = range(len(train_df.columns)),\n",
    "        height=linear.layers[0].kernel[:,0].numpy())\n",
    "axis = plt.gca()\n",
    "axis.set_xticks(range(len(train_df.columns)))\n",
    "_ = axis.set_xticklabels(train_df.columns, rotation=90)"
   ]
  },
  {
   "cell_type": "markdown",
   "metadata": {},
   "source": [
    "## Dense"
   ]
  },
  {
   "cell_type": "code",
   "execution_count": 57,
   "metadata": {
    "ExecuteTime": {
     "end_time": "2022-05-31T15:06:32.314926Z",
     "start_time": "2022-05-31T15:06:29.482016Z"
    },
    "scrolled": true
   },
   "outputs": [
    {
     "name": "stdout",
     "output_type": "stream",
     "text": [
      "Epoch 1/20\n",
      "27/27 [==============================] - 2s 18ms/step - loss: 0.0558 - mean_absolute_error: 0.1738 - val_loss: 0.0477 - val_mean_absolute_error: 0.1868\n",
      "Epoch 2/20\n",
      "27/27 [==============================] - 0s 8ms/step - loss: 0.0050 - mean_absolute_error: 0.0496 - val_loss: 0.0490 - val_mean_absolute_error: 0.1921\n",
      "Epoch 3/20\n",
      "27/27 [==============================] - 0s 7ms/step - loss: 0.0036 - mean_absolute_error: 0.0398 - val_loss: 0.0543 - val_mean_absolute_error: 0.2069\n",
      "8/8 [==============================] - 0s 6ms/step - loss: 0.0543 - mean_absolute_error: 0.2069\n"
     ]
    }
   ],
   "source": [
    "dense = tf.keras.Sequential([\n",
    "    tf.keras.layers.Dense(units=64, activation='relu'),\n",
    "    tf.keras.layers.Dense(units=64, activation='relu'),\n",
    "    tf.keras.layers.Dense(units=1)\n",
    "])\n",
    "\n",
    "history = compile_and_fit(dense, single_step_window)\n",
    "\n",
    "val_performance['Dense'] = dense.evaluate(single_step_window.val)\n",
    "performance['Dense'] = dense.evaluate(single_step_window.test, verbose=0)"
   ]
  },
  {
   "cell_type": "markdown",
   "metadata": {},
   "source": [
    "### Multi-Step Dense"
   ]
  },
  {
   "cell_type": "code",
   "execution_count": 58,
   "metadata": {
    "ExecuteTime": {
     "end_time": "2022-05-31T15:06:32.329130Z",
     "start_time": "2022-05-31T15:06:32.317198Z"
    }
   },
   "outputs": [
    {
     "data": {
      "text/plain": [
       "Total window size: 4\n",
       "Input indices: [0 1 2]\n",
       "Label indices: [3]\n",
       "Label column name(s): ['Target']"
      ]
     },
     "execution_count": 58,
     "metadata": {},
     "output_type": "execute_result"
    }
   ],
   "source": [
    "CONV_WIDTH = 3\n",
    "conv_window = WindowGenerator(\n",
    "    input_width=CONV_WIDTH,\n",
    "    label_width=1,\n",
    "    shift=1,\n",
    "    label_columns=['Target'])\n",
    "\n",
    "conv_window"
   ]
  },
  {
   "cell_type": "code",
   "execution_count": 59,
   "metadata": {
    "ExecuteTime": {
     "end_time": "2022-05-31T15:06:33.243633Z",
     "start_time": "2022-05-31T15:06:32.333001Z"
    }
   },
   "outputs": [
    {
     "data": {
      "text/plain": [
       "Text(0.5, 1.0, 'Given 3 days of inputs, predict 1 day into the future.')"
      ]
     },
     "execution_count": 59,
     "metadata": {},
     "output_type": "execute_result"
    },
    {
     "data": {
      "image/png": "[encoded data removed]",
      "text/plain": [
       "<Figure size 864x576 with 3 Axes>"
      ]
     },
     "metadata": {
      "needs_background": "light"
     },
     "output_type": "display_data"
    }
   ],
   "source": [
    "conv_window.plot()\n",
    "plt.title(\"Given 3 days of inputs, predict 1 day into the future.\")"
   ]
  },
  {
   "cell_type": "code",
   "execution_count": 60,
   "metadata": {
    "ExecuteTime": {
     "end_time": "2022-05-31T15:06:33.267147Z",
     "start_time": "2022-05-31T15:06:33.249721Z"
    }
   },
   "outputs": [],
   "source": [
    "multi_step_dense = tf.keras.Sequential([\n",
    "    # Shape: (time, features) => (time*features)\n",
    "    tf.keras.layers.Flatten(),\n",
    "    tf.keras.layers.Dense(units=32, activation='relu'),\n",
    "    tf.keras.layers.Dense(units=32, activation='relu'),\n",
    "    tf.keras.layers.Dense(units=1),\n",
    "    # Add back the time dimension.\n",
    "    # Shape: (outputs) => (1, outputs)\n",
    "    tf.keras.layers.Reshape([1, -1]),\n",
    "])"
   ]
  },
  {
   "cell_type": "code",
   "execution_count": 61,
   "metadata": {
    "ExecuteTime": {
     "end_time": "2022-05-31T15:06:33.345925Z",
     "start_time": "2022-05-31T15:06:33.270214Z"
    }
   },
   "outputs": [
    {
     "name": "stdout",
     "output_type": "stream",
     "text": [
      "Input shape: (32, 3, 15)\n",
      "Output shape: (32, 1, 1)\n"
     ]
    }
   ],
   "source": [
    "print('Input shape:', conv_window.example[0].shape)\n",
    "print('Output shape:', multi_step_dense(conv_window.example[0]).shape)"
   ]
  },
  {
   "cell_type": "code",
   "execution_count": 62,
   "metadata": {
    "ExecuteTime": {
     "end_time": "2022-05-31T15:06:37.888566Z",
     "start_time": "2022-05-31T15:06:33.348613Z"
    }
   },
   "outputs": [
    {
     "name": "stdout",
     "output_type": "stream",
     "text": [
      "8/8 [==============================] - 0s 2ms/step - loss: 0.0381 - mean_absolute_error: 0.1663\n"
     ]
    }
   ],
   "source": [
    "history = compile_and_fit(multi_step_dense, conv_window)\n",
    "\n",
    "IPython.display.clear_output()\n",
    "val_performance['Multi step dense'] = multi_step_dense.evaluate(conv_window.val)\n",
    "performance['Multi step dense'] = multi_step_dense.evaluate(conv_window.test, verbose=0)"
   ]
  },
  {
   "cell_type": "code",
   "execution_count": 63,
   "metadata": {
    "ExecuteTime": {
     "end_time": "2022-05-31T15:06:38.656935Z",
     "start_time": "2022-05-31T15:06:37.892734Z"
    }
   },
   "outputs": [
    {
     "data": {
      "image/png": "[encoded data removed]",
      "text/plain": [
       "<Figure size 864x576 with 3 Axes>"
      ]
     },
     "metadata": {
      "needs_background": "light"
     },
     "output_type": "display_data"
    }
   ],
   "source": [
    "conv_window.plot(multi_step_dense)"
   ]
  },
  {
   "cell_type": "code",
   "execution_count": 64,
   "metadata": {
    "ExecuteTime": {
     "end_time": "2022-05-31T15:06:38.736230Z",
     "start_time": "2022-05-31T15:06:38.663013Z"
    }
   },
   "outputs": [
    {
     "name": "stdout",
     "output_type": "stream",
     "text": [
      "Input shape: (32, 24, 15)\n",
      "\n",
      "ValueError:Exception encountered when calling layer \"sequential_2\" (type Sequential).\n",
      "\n",
      "Input 0 of layer \"dense_4\" is incompatible with the layer: expected axis -1 of input shape to have value 45, but received input with shape (32, 360)\n",
      "\n",
      "Call arguments received by layer \"sequential_2\" (type Sequential):\n",
      "  • inputs=tf.Tensor(shape=(32, 24, 15), dtype=float32)\n",
      "  • training=None\n",
      "  • mask=None\n"
     ]
    }
   ],
   "source": [
    "print('Input shape:', wide_window.example[0].shape)\n",
    "try:\n",
    "  print('Output shape:', multi_step_dense(wide_window.example[0]).shape)\n",
    "except Exception as e:\n",
    "  print(f'\\n{type(e).__name__}:{e}')"
   ]
  },
  {
   "cell_type": "markdown",
   "metadata": {},
   "source": [
    "## Convolutional Neural Network"
   ]
  },
  {
   "cell_type": "code",
   "execution_count": 65,
   "metadata": {
    "ExecuteTime": {
     "end_time": "2022-05-31T15:06:38.761357Z",
     "start_time": "2022-05-31T15:06:38.745382Z"
    }
   },
   "outputs": [],
   "source": [
    "conv_model = tf.keras.Sequential([\n",
    "    tf.keras.layers.Conv1D(filters=32,\n",
    "                           kernel_size=(CONV_WIDTH,),\n",
    "                           activation='relu'),\n",
    "    tf.keras.layers.Dense(units=32, activation='relu'),\n",
    "    tf.keras.layers.Dense(units=1),\n",
    "])"
   ]
  },
  {
   "cell_type": "code",
   "execution_count": 66,
   "metadata": {
    "ExecuteTime": {
     "end_time": "2022-05-31T15:06:38.857153Z",
     "start_time": "2022-05-31T15:06:38.764750Z"
    }
   },
   "outputs": [
    {
     "name": "stdout",
     "output_type": "stream",
     "text": [
      "Conv model on `conv_window`\n",
      "Input shape: (32, 3, 15)\n",
      "Output shape: (32, 1, 1)\n"
     ]
    }
   ],
   "source": [
    "print(\"Conv model on `conv_window`\")\n",
    "print('Input shape:', conv_window.example[0].shape)\n",
    "print('Output shape:', conv_model(conv_window.example[0]).shape)"
   ]
  },
  {
   "cell_type": "code",
   "execution_count": 67,
   "metadata": {
    "ExecuteTime": {
     "end_time": "2022-05-31T15:06:42.919139Z",
     "start_time": "2022-05-31T15:06:38.863228Z"
    }
   },
   "outputs": [
    {
     "name": "stdout",
     "output_type": "stream",
     "text": [
      "8/8 [==============================] - 0s 2ms/step - loss: 0.0623 - mean_absolute_error: 0.2286\n"
     ]
    }
   ],
   "source": [
    "history = compile_and_fit(conv_model, conv_window)\n",
    "\n",
    "IPython.display.clear_output()\n",
    "val_performance['Conv'] = conv_model.evaluate(conv_window.val)\n",
    "performance['Conv'] = conv_model.evaluate(conv_window.test, verbose=0)"
   ]
  },
  {
   "cell_type": "code",
   "execution_count": 68,
   "metadata": {
    "ExecuteTime": {
     "end_time": "2022-05-31T15:06:43.110172Z",
     "start_time": "2022-05-31T15:06:42.922694Z"
    }
   },
   "outputs": [
    {
     "name": "stdout",
     "output_type": "stream",
     "text": [
      "Wide window\n",
      "Input shape: (32, 24, 15)\n",
      "Labels shape: (32, 24, 1)\n",
      "Output shape: (32, 22, 1)\n"
     ]
    }
   ],
   "source": [
    "print(\"Wide window\")\n",
    "print('Input shape:', wide_window.example[0].shape)\n",
    "print('Labels shape:', wide_window.example[1].shape)\n",
    "print('Output shape:', conv_model(wide_window.example[0]).shape)"
   ]
  },
  {
   "cell_type": "code",
   "execution_count": 69,
   "metadata": {
    "ExecuteTime": {
     "end_time": "2022-05-31T15:06:43.131280Z",
     "start_time": "2022-05-31T15:06:43.116676Z"
    }
   },
   "outputs": [
    {
     "data": {
      "text/plain": [
       "Total window size: 23\n",
       "Input indices: [ 0  1  2  3  4  5  6  7  8  9 10 11 12 13 14 15 16 17 18 19 20 21]\n",
       "Label indices: [ 3  4  5  6  7  8  9 10 11 12 13 14 15 16 17 18 19 20 21 22]\n",
       "Label column name(s): ['Target']"
      ]
     },
     "execution_count": 69,
     "metadata": {},
     "output_type": "execute_result"
    }
   ],
   "source": [
    "LABEL_WIDTH = 20\n",
    "INPUT_WIDTH = LABEL_WIDTH + (CONV_WIDTH - 1)\n",
    "wide_conv_window = WindowGenerator(\n",
    "    input_width=INPUT_WIDTH,\n",
    "    label_width=LABEL_WIDTH,\n",
    "    shift=1,\n",
    "    label_columns=['Target'])\n",
    "\n",
    "wide_conv_window"
   ]
  },
  {
   "cell_type": "code",
   "execution_count": 70,
   "metadata": {
    "ExecuteTime": {
     "end_time": "2022-05-31T15:06:43.451299Z",
     "start_time": "2022-05-31T15:06:43.134706Z"
    }
   },
   "outputs": [
    {
     "name": "stdout",
     "output_type": "stream",
     "text": [
      "Wide conv window\n",
      "Input shape: (32, 22, 15)\n",
      "Labels shape: (32, 20, 1)\n",
      "Output shape: (32, 20, 1)\n"
     ]
    }
   ],
   "source": [
    "print(\"Wide conv window\")\n",
    "print('Input shape:', wide_conv_window.example[0].shape)\n",
    "print('Labels shape:', wide_conv_window.example[1].shape)\n",
    "print('Output shape:', conv_model(wide_conv_window.example[0]).shape)"
   ]
  },
  {
   "cell_type": "code",
   "execution_count": 71,
   "metadata": {
    "ExecuteTime": {
     "end_time": "2022-05-31T15:06:44.150321Z",
     "start_time": "2022-05-31T15:06:43.455782Z"
    }
   },
   "outputs": [
    {
     "data": {
      "image/png": "[encoded data removed]",
      "text/plain": [
       "<Figure size 864x576 with 3 Axes>"
      ]
     },
     "metadata": {
      "needs_background": "light"
     },
     "output_type": "display_data"
    }
   ],
   "source": [
    "wide_conv_window.plot(conv_model)"
   ]
  },
  {
   "cell_type": "code",
   "execution_count": 72,
   "metadata": {
    "ExecuteTime": {
     "end_time": "2022-05-31T15:06:44.160904Z",
     "start_time": "2022-05-31T15:06:44.153147Z"
    }
   },
   "outputs": [
    {
     "data": {
      "text/plain": [
       "<keras.engine.sequential.Sequential at 0x15e777c70>"
      ]
     },
     "execution_count": 72,
     "metadata": {},
     "output_type": "execute_result"
    }
   ],
   "source": [
    "conv_model"
   ]
  },
  {
   "cell_type": "markdown",
   "metadata": {},
   "source": [
    "## Recurrent Neural Network"
   ]
  },
  {
   "cell_type": "code",
   "execution_count": 73,
   "metadata": {
    "ExecuteTime": {
     "end_time": "2022-05-31T15:06:44.190858Z",
     "start_time": "2022-05-31T15:06:44.165396Z"
    }
   },
   "outputs": [],
   "source": [
    "lstm_model = tf.keras.models.Sequential([\n",
    "    # Shape [batch, time, features] => [batch, time, lstm_units]\n",
    "    tf.keras.layers.LSTM(32, return_sequences=True),\n",
    "    # Shape => [batch, time, features]\n",
    "    tf.keras.layers.Dense(units=1)\n",
    "])"
   ]
  },
  {
   "cell_type": "code",
   "execution_count": 74,
   "metadata": {
    "ExecuteTime": {
     "end_time": "2022-05-31T15:06:44.797866Z",
     "start_time": "2022-05-31T15:06:44.195917Z"
    }
   },
   "outputs": [
    {
     "name": "stdout",
     "output_type": "stream",
     "text": [
      "Input shape: (32, 24, 15)\n",
      "Output shape: (32, 24, 1)\n"
     ]
    }
   ],
   "source": [
    "print('Input shape:', wide_window.example[0].shape)\n",
    "print('Output shape:', lstm_model(wide_window.example[0]).shape)"
   ]
  },
  {
   "cell_type": "code",
   "execution_count": 75,
   "metadata": {
    "ExecuteTime": {
     "end_time": "2022-05-31T15:06:53.684820Z",
     "start_time": "2022-05-31T15:06:44.801822Z"
    }
   },
   "outputs": [
    {
     "name": "stdout",
     "output_type": "stream",
     "text": [
      "7/7 [==============================] - 0s 7ms/step - loss: 0.0596 - mean_absolute_error: 0.2121\n"
     ]
    }
   ],
   "source": [
    "history = compile_and_fit(lstm_model, wide_window)\n",
    "\n",
    "IPython.display.clear_output()\n",
    "val_performance['LSTM'] = lstm_model.evaluate(wide_window.val)\n",
    "performance['LSTM'] = lstm_model.evaluate(wide_window.test, verbose=0)"
   ]
  },
  {
   "cell_type": "code",
   "execution_count": 76,
   "metadata": {
    "ExecuteTime": {
     "end_time": "2022-05-31T15:06:54.870381Z",
     "start_time": "2022-05-31T15:06:53.687440Z"
    }
   },
   "outputs": [
    {
     "data": {
      "image/png": "[encoded data removed]",
      "text/plain": [
       "<Figure size 864x576 with 3 Axes>"
      ]
     },
     "metadata": {
      "needs_background": "light"
     },
     "output_type": "display_data"
    }
   ],
   "source": [
    "wide_window.plot(lstm_model)"
   ]
  },
  {
   "cell_type": "markdown",
   "metadata": {},
   "source": [
    "## Performance"
   ]
  },
  {
   "cell_type": "code",
   "execution_count": 77,
   "metadata": {
    "ExecuteTime": {
     "end_time": "2022-05-31T15:06:54.887028Z",
     "start_time": "2022-05-31T15:06:54.873661Z"
    }
   },
   "outputs": [
    {
     "data": {
      "text/plain": [
       "{'Baseline': [0.04704514145851135, 0.16966544091701508],\n",
       " 'Linear': [0.11164312809705734, 0.28419312834739685],\n",
       " 'Dense': [0.05427229404449463, 0.20685304701328278],\n",
       " 'Multi step dense': [0.03813351318240166, 0.16630199551582336],\n",
       " 'Conv': [0.062320731580257416, 0.22856684029102325],\n",
       " 'LSTM': [0.059596046805381775, 0.21209636330604553]}"
      ]
     },
     "execution_count": 77,
     "metadata": {},
     "output_type": "execute_result"
    }
   ],
   "source": [
    "val_performance"
   ]
  },
  {
   "cell_type": "code",
   "execution_count": 78,
   "metadata": {
    "ExecuteTime": {
     "end_time": "2022-05-31T15:06:54.897074Z",
     "start_time": "2022-05-31T15:06:54.889800Z"
    }
   },
   "outputs": [
    {
     "data": {
      "text/plain": [
       "{'Baseline': [0.3410443663597107, 0.5749886631965637],\n",
       " 'Linear': [0.04088069871068001, 0.17112185060977936],\n",
       " 'Dense': [0.008884944953024387, 0.07297289371490479],\n",
       " 'Multi step dense': [0.0349305123090744, 0.17825335264205933],\n",
       " 'Conv': [0.013995252549648285, 0.09233748912811279],\n",
       " 'LSTM': [0.03107299841940403, 0.15823432803153992]}"
      ]
     },
     "execution_count": 78,
     "metadata": {},
     "output_type": "execute_result"
    }
   ],
   "source": [
    "performance"
   ]
  },
  {
   "cell_type": "code",
   "execution_count": 79,
   "metadata": {
    "ExecuteTime": {
     "end_time": "2022-05-31T15:06:55.461864Z",
     "start_time": "2022-05-31T15:06:54.902820Z"
    }
   },
   "outputs": [
    {
     "data": {
      "image/png": "[encoded data removed]",
      "text/plain": [
       "<Figure size 432x288 with 1 Axes>"
      ]
     },
     "metadata": {
      "needs_background": "light"
     },
     "output_type": "display_data"
    }
   ],
   "source": [
    "x = np.arange(len(performance))\n",
    "width = 0.3\n",
    "metric_name = 'mean_absolute_error'\n",
    "metric_index = lstm_model.metrics_names.index('mean_absolute_error')\n",
    "val_mae = [v[metric_index] for v in val_performance.values()]\n",
    "test_mae = [v[metric_index] for v in performance.values()]\n",
    "\n",
    "plt.ylabel('mean_absolute_error [T (degC), normalized]')\n",
    "plt.bar(x - 0.17, val_mae, width, label='Validation')\n",
    "plt.bar(x + 0.17, test_mae, width, label='Test')\n",
    "plt.xticks(ticks=x, labels=performance.keys(),\n",
    "           rotation=45)\n",
    "_ = plt.legend()"
   ]
  },
  {
   "cell_type": "code",
   "execution_count": 80,
   "metadata": {
    "ExecuteTime": {
     "end_time": "2022-05-31T15:06:55.472727Z",
     "start_time": "2022-05-31T15:06:55.464330Z"
    }
   },
   "outputs": [
    {
     "name": "stdout",
     "output_type": "stream",
     "text": [
      "Baseline    : 0.5750\n",
      "Linear      : 0.1711\n",
      "Dense       : 0.0730\n",
      "Multi step dense: 0.1783\n",
      "Conv        : 0.0923\n",
      "LSTM        : 0.1582\n"
     ]
    }
   ],
   "source": [
    "for name, value in performance.items():\n",
    "  print(f'{name:12s}: {value[1]:0.4f}')"
   ]
  },
  {
   "cell_type": "markdown",
   "metadata": {},
   "source": [
    "# Final Output"
   ]
  },
  {
   "cell_type": "code",
   "execution_count": null,
   "metadata": {},
   "outputs": [],
   "source": [
    "# Stack three slices, the length of the total window.\n",
    "output_window = tf.stack([np.array(train_df[:w2.total_window_size]),\n",
    "                           np.array(train_df[1195:200+w2.total_window_size]),\n",
    "                           np.array(train_df[300:300+w2.total_window_size])])\n",
    "\n",
    "example_inputs, example_labels = w2.split_window(example_window)\n",
    "\n",
    "print('All shapes are: (batch, time, features)')\n",
    "print(f'Window shape: {example_window.shape}')\n",
    "print(f'Inputs shape: {example_inputs.shape}')\n",
    "print(f'Labels shape: {example_labels.shape}')"
   ]
  }
 ],
 "metadata": {
  "kernelspec": {
   "display_name": "Python 3",
   "language": "python",
   "name": "python3"
  },
  "language_info": {
   "codemirror_mode": {
    "name": "ipython",
    "version": 3
   },
   "file_extension": ".py",
   "mimetype": "text/x-python",
   "name": "python",
   "nbconvert_exporter": "python",
   "pygments_lexer": "ipython3",
   "version": "3.8.5"
  },
  "toc": {
   "base_numbering": 1,
   "nav_menu": {},
   "number_sections": true,
   "sideBar": true,
   "skip_h1_title": false,
   "title_cell": "Table of Contents",
   "title_sidebar": "Contents",
   "toc_cell": true,
   "toc_position": {
    "height": "calc(100% - 180px)",
    "left": "10px",
    "top": "150px",
    "width": "241.08px"
   },
   "toc_section_display": true,
   "toc_window_display": true
  }
 },
 "nbformat": 4,
 "nbformat_minor": 4
}

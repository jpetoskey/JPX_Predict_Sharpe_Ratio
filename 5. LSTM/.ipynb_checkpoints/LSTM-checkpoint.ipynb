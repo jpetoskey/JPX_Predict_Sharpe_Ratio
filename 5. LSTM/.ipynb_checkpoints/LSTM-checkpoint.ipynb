{
 "cells": [
  {
   "cell_type": "markdown",
   "metadata": {
    "toc": true
   },
   "source": [
    "<h1>Table of Contents<span class=\"tocSkip\"></span></h1>\n",
    "<div class=\"toc\"><ul class=\"toc-item\"><li><span><a href=\"#Import-Libraries\" data-toc-modified-id=\"Import-Libraries-1\"><span class=\"toc-item-num\">1&nbsp;&nbsp;</span>Import Libraries</a></span></li><li><span><a href=\"#Preprocessing\" data-toc-modified-id=\"Preprocessing-2\"><span class=\"toc-item-num\">2&nbsp;&nbsp;</span>Preprocessing</a></span></li><li><span><a href=\"#Split-Data\" data-toc-modified-id=\"Split-Data-3\"><span class=\"toc-item-num\">3&nbsp;&nbsp;</span>Split Data</a></span><ul class=\"toc-item\"><li><span><a href=\"#Train,-Val,-Test\" data-toc-modified-id=\"Train,-Val,-Test-3.1\"><span class=\"toc-item-num\">3.1&nbsp;&nbsp;</span>Train, Val, Test</a></span></li><li><span><a href=\"#Check-train/test-shape\" data-toc-modified-id=\"Check-train/test-shape-3.2\"><span class=\"toc-item-num\">3.2&nbsp;&nbsp;</span>Check train/test shape</a></span></li></ul></li><li><span><a href=\"#Seasonal-Patterns\" data-toc-modified-id=\"Seasonal-Patterns-4\"><span class=\"toc-item-num\">4&nbsp;&nbsp;</span>Seasonal Patterns</a></span></li><li><span><a href=\"#Feature-Engineering\" data-toc-modified-id=\"Feature-Engineering-5\"><span class=\"toc-item-num\">5&nbsp;&nbsp;</span>Feature Engineering</a></span></li><li><span><a href=\"#Indexes-and-offsets\" data-toc-modified-id=\"Indexes-and-offsets-6\"><span class=\"toc-item-num\">6&nbsp;&nbsp;</span>Indexes and offsets</a></span></li><li><span><a href=\"#Split\" data-toc-modified-id=\"Split-7\"><span class=\"toc-item-num\">7&nbsp;&nbsp;</span>Split</a></span></li><li><span><a href=\"#Plot\" data-toc-modified-id=\"Plot-8\"><span class=\"toc-item-num\">8&nbsp;&nbsp;</span>Plot</a></span></li><li><span><a href=\"#Create-tf.data.Dataset_s\" data-toc-modified-id=\"Create-tf.data.Dataset_s-9\"><span class=\"toc-item-num\">9&nbsp;&nbsp;</span>Create tf.data.Dataset_s</a></span></li><li><span><a href=\"#Single-Step-Models\" data-toc-modified-id=\"Single-Step-Models-10\"><span class=\"toc-item-num\">10&nbsp;&nbsp;</span>Single Step Models</a></span><ul class=\"toc-item\"><li><span><a href=\"#Baseline\" data-toc-modified-id=\"Baseline-10.1\"><span class=\"toc-item-num\">10.1&nbsp;&nbsp;</span>Baseline</a></span></li><li><span><a href=\"#Linear-Model\" data-toc-modified-id=\"Linear-Model-10.2\"><span class=\"toc-item-num\">10.2&nbsp;&nbsp;</span>Linear Model</a></span></li></ul></li></ul></div>"
   ]
  },
  {
   "cell_type": "markdown",
   "metadata": {},
   "source": [
    "# Import Libraries"
   ]
  },
  {
   "cell_type": "code",
   "execution_count": 85,
   "metadata": {
    "ExecuteTime": {
     "end_time": "2022-05-26T19:20:00.332033Z",
     "start_time": "2022-05-26T19:20:00.323926Z"
    }
   },
   "outputs": [],
   "source": [
    "# Import all packages that I might need:\n",
    "import sys \n",
    "import numpy as np # linear algebra\n",
    "from scipy.stats import randint\n",
    "import pandas as pd # data processing, CSV file I/O (e.g. pd.read_csv), data manipulation as in SQL\n",
    "import matplotlib.pyplot as plt # this is used for the plot the graph \n",
    "import seaborn as sns # used for plot interactive graph. \n",
    "from sklearn.model_selection import train_test_split # to split the data into two parts\n",
    "from sklearn.model_selection import KFold # use for cross validation\n",
    "from sklearn.preprocessing import StandardScaler # for normalization\n",
    "from sklearn.preprocessing import MinMaxScaler\n",
    "from sklearn.pipeline import Pipeline # pipeline making\n",
    "from sklearn.model_selection import cross_val_score\n",
    "from sklearn.feature_selection import SelectFromModel\n",
    "from sklearn import metrics # for the check the error and accuracy of the model\n",
    "from sklearn.metrics import mean_squared_error,r2_score\n",
    "from scipy import stats\n",
    "\n",
    "## for Deep-learing:\n",
    "import keras\n",
    "from keras.layers import Dense\n",
    "from keras.models import Sequential\n",
    "from tensorflow.keras.utils import to_categorical\n",
    "from tensorflow.keras.optimizers import SGD \n",
    "from keras.callbacks import EarlyStopping\n",
    "from keras.utils import np_utils\n",
    "import itertools\n",
    "from keras.layers import LSTM\n",
    "from keras.layers.convolutional import Conv1D\n",
    "from keras.layers.convolutional import MaxPooling1D\n",
    "from keras.layers import Dropout\n",
    "import tensorflow as tf"
   ]
  },
  {
   "cell_type": "markdown",
   "metadata": {},
   "source": [
    "# Preprocessing"
   ]
  },
  {
   "cell_type": "code",
   "execution_count": 2,
   "metadata": {
    "ExecuteTime": {
     "end_time": "2022-05-26T18:47:52.268572Z",
     "start_time": "2022-05-26T18:47:44.175345Z"
    }
   },
   "outputs": [
    {
     "data": {
      "text/html": [
       "<div>\n",
       "<style scoped>\n",
       "    .dataframe tbody tr th:only-of-type {\n",
       "        vertical-align: middle;\n",
       "    }\n",
       "\n",
       "    .dataframe tbody tr th {\n",
       "        vertical-align: top;\n",
       "    }\n",
       "\n",
       "    .dataframe thead th {\n",
       "        text-align: right;\n",
       "    }\n",
       "</style>\n",
       "<table border=\"1\" class=\"dataframe\">\n",
       "  <thead>\n",
       "    <tr style=\"text-align: right;\">\n",
       "      <th></th>\n",
       "      <th>RowId</th>\n",
       "      <th>Date</th>\n",
       "      <th>SecuritiesCode</th>\n",
       "      <th>Open</th>\n",
       "      <th>High</th>\n",
       "      <th>Low</th>\n",
       "      <th>Close</th>\n",
       "      <th>Volume</th>\n",
       "      <th>AdjustmentFactor</th>\n",
       "      <th>ExpectedDividend</th>\n",
       "      <th>SupervisionFlag</th>\n",
       "      <th>Target</th>\n",
       "    </tr>\n",
       "  </thead>\n",
       "  <tbody>\n",
       "    <tr>\n",
       "      <th>0</th>\n",
       "      <td>20170104_1301</td>\n",
       "      <td>2017-01-04</td>\n",
       "      <td>1301</td>\n",
       "      <td>2734.0</td>\n",
       "      <td>2755.0</td>\n",
       "      <td>2730.0</td>\n",
       "      <td>2742.0</td>\n",
       "      <td>31400</td>\n",
       "      <td>1.0</td>\n",
       "      <td>NaN</td>\n",
       "      <td>False</td>\n",
       "      <td>0.000730</td>\n",
       "    </tr>\n",
       "    <tr>\n",
       "      <th>1</th>\n",
       "      <td>20170104_1332</td>\n",
       "      <td>2017-01-04</td>\n",
       "      <td>1332</td>\n",
       "      <td>568.0</td>\n",
       "      <td>576.0</td>\n",
       "      <td>563.0</td>\n",
       "      <td>571.0</td>\n",
       "      <td>2798500</td>\n",
       "      <td>1.0</td>\n",
       "      <td>NaN</td>\n",
       "      <td>False</td>\n",
       "      <td>0.012324</td>\n",
       "    </tr>\n",
       "    <tr>\n",
       "      <th>2</th>\n",
       "      <td>20170104_1333</td>\n",
       "      <td>2017-01-04</td>\n",
       "      <td>1333</td>\n",
       "      <td>3150.0</td>\n",
       "      <td>3210.0</td>\n",
       "      <td>3140.0</td>\n",
       "      <td>3210.0</td>\n",
       "      <td>270800</td>\n",
       "      <td>1.0</td>\n",
       "      <td>NaN</td>\n",
       "      <td>False</td>\n",
       "      <td>0.006154</td>\n",
       "    </tr>\n",
       "    <tr>\n",
       "      <th>3</th>\n",
       "      <td>20170104_1376</td>\n",
       "      <td>2017-01-04</td>\n",
       "      <td>1376</td>\n",
       "      <td>1510.0</td>\n",
       "      <td>1550.0</td>\n",
       "      <td>1510.0</td>\n",
       "      <td>1550.0</td>\n",
       "      <td>11300</td>\n",
       "      <td>1.0</td>\n",
       "      <td>NaN</td>\n",
       "      <td>False</td>\n",
       "      <td>0.011053</td>\n",
       "    </tr>\n",
       "    <tr>\n",
       "      <th>4</th>\n",
       "      <td>20170104_1377</td>\n",
       "      <td>2017-01-04</td>\n",
       "      <td>1377</td>\n",
       "      <td>3270.0</td>\n",
       "      <td>3350.0</td>\n",
       "      <td>3270.0</td>\n",
       "      <td>3330.0</td>\n",
       "      <td>150800</td>\n",
       "      <td>1.0</td>\n",
       "      <td>NaN</td>\n",
       "      <td>False</td>\n",
       "      <td>0.003026</td>\n",
       "    </tr>\n",
       "  </tbody>\n",
       "</table>\n",
       "</div>"
      ],
      "text/plain": [
       "           RowId        Date  SecuritiesCode    Open    High     Low   Close  \\\n",
       "0  20170104_1301  2017-01-04            1301  2734.0  2755.0  2730.0  2742.0   \n",
       "1  20170104_1332  2017-01-04            1332   568.0   576.0   563.0   571.0   \n",
       "2  20170104_1333  2017-01-04            1333  3150.0  3210.0  3140.0  3210.0   \n",
       "3  20170104_1376  2017-01-04            1376  1510.0  1550.0  1510.0  1550.0   \n",
       "4  20170104_1377  2017-01-04            1377  3270.0  3350.0  3270.0  3330.0   \n",
       "\n",
       "    Volume  AdjustmentFactor  ExpectedDividend  SupervisionFlag    Target  \n",
       "0    31400               1.0               NaN            False  0.000730  \n",
       "1  2798500               1.0               NaN            False  0.012324  \n",
       "2   270800               1.0               NaN            False  0.006154  \n",
       "3    11300               1.0               NaN            False  0.011053  \n",
       "4   150800               1.0               NaN            False  0.003026  "
      ]
     },
     "execution_count": 2,
     "metadata": {},
     "output_type": "execute_result"
    }
   ],
   "source": [
    "# Create dataframe from zillow median home price data\n",
    "df = pd.read_csv(r'/Users/jimpetoskey/Documents/Flatiron/phase5/data/stock_prices.csv')\n",
    "\n",
    "# make copy of df\n",
    "df1 = df.copy()\n",
    "\n",
    "# Look at top-performing stocks, choose top-performer to model\n",
    "df1.sort_values(by='Target', ascending=False)\n",
    "\n",
    "df.head(5)"
   ]
  },
  {
   "cell_type": "code",
   "execution_count": 3,
   "metadata": {
    "ExecuteTime": {
     "end_time": "2022-05-26T18:47:52.390628Z",
     "start_time": "2022-05-26T18:47:52.273967Z"
    }
   },
   "outputs": [
    {
     "data": {
      "text/html": [
       "<div>\n",
       "<style scoped>\n",
       "    .dataframe tbody tr th:only-of-type {\n",
       "        vertical-align: middle;\n",
       "    }\n",
       "\n",
       "    .dataframe tbody tr th {\n",
       "        vertical-align: top;\n",
       "    }\n",
       "\n",
       "    .dataframe thead th {\n",
       "        text-align: right;\n",
       "    }\n",
       "</style>\n",
       "<table border=\"1\" class=\"dataframe\">\n",
       "  <thead>\n",
       "    <tr style=\"text-align: right;\">\n",
       "      <th></th>\n",
       "      <th>RowId</th>\n",
       "      <th>Date</th>\n",
       "      <th>SecuritiesCode</th>\n",
       "      <th>Open</th>\n",
       "      <th>High</th>\n",
       "      <th>Low</th>\n",
       "      <th>Close</th>\n",
       "      <th>Volume</th>\n",
       "      <th>AdjustmentFactor</th>\n",
       "      <th>ExpectedDividend</th>\n",
       "      <th>SupervisionFlag</th>\n",
       "      <th>Target</th>\n",
       "    </tr>\n",
       "  </thead>\n",
       "  <tbody>\n",
       "    <tr>\n",
       "      <th>1450</th>\n",
       "      <td>20170104_8103</td>\n",
       "      <td>2017-01-04</td>\n",
       "      <td>8103</td>\n",
       "      <td>406.0</td>\n",
       "      <td>413.0</td>\n",
       "      <td>395.0</td>\n",
       "      <td>413.0</td>\n",
       "      <td>82600</td>\n",
       "      <td>1.0</td>\n",
       "      <td>NaN</td>\n",
       "      <td>False</td>\n",
       "      <td>-0.024213</td>\n",
       "    </tr>\n",
       "    <tr>\n",
       "      <th>3315</th>\n",
       "      <td>20170105_8103</td>\n",
       "      <td>2017-01-05</td>\n",
       "      <td>8103</td>\n",
       "      <td>415.0</td>\n",
       "      <td>419.0</td>\n",
       "      <td>408.0</td>\n",
       "      <td>413.0</td>\n",
       "      <td>57500</td>\n",
       "      <td>1.0</td>\n",
       "      <td>NaN</td>\n",
       "      <td>False</td>\n",
       "      <td>-0.002481</td>\n",
       "    </tr>\n",
       "  </tbody>\n",
       "</table>\n",
       "</div>"
      ],
      "text/plain": [
       "              RowId        Date  SecuritiesCode   Open   High    Low  Close  \\\n",
       "1450  20170104_8103  2017-01-04            8103  406.0  413.0  395.0  413.0   \n",
       "3315  20170105_8103  2017-01-05            8103  415.0  419.0  408.0  413.0   \n",
       "\n",
       "      Volume  AdjustmentFactor  ExpectedDividend  SupervisionFlag    Target  \n",
       "1450   82600               1.0               NaN            False -0.024213  \n",
       "3315   57500               1.0               NaN            False -0.002481  "
      ]
     },
     "execution_count": 3,
     "metadata": {},
     "output_type": "execute_result"
    }
   ],
   "source": [
    "# Pull one stock's values for given stock from stock_prices\n",
    "values8103 = df1.loc[df1['SecuritiesCode'] == 8103]                   \n",
    "values8103.head(2)"
   ]
  },
  {
   "cell_type": "code",
   "execution_count": 115,
   "metadata": {
    "ExecuteTime": {
     "end_time": "2022-05-26T19:37:42.004983Z",
     "start_time": "2022-05-26T19:37:41.958525Z"
    }
   },
   "outputs": [
    {
     "name": "stdout",
     "output_type": "stream",
     "text": [
      "<class 'pandas.core.frame.DataFrame'>\n",
      "Int64Index: 1202 entries, 1450 to 2332104\n",
      "Data columns (total 12 columns):\n",
      " #   Column            Non-Null Count  Dtype  \n",
      "---  ------            --------------  -----  \n",
      " 0   RowId             1202 non-null   object \n",
      " 1   Date              1202 non-null   object \n",
      " 2   SecuritiesCode    1202 non-null   int64  \n",
      " 3   Open              1201 non-null   float64\n",
      " 4   High              1201 non-null   float64\n",
      " 5   Low               1201 non-null   float64\n",
      " 6   Close             1201 non-null   float64\n",
      " 7   Volume            1202 non-null   int64  \n",
      " 8   AdjustmentFactor  1202 non-null   float64\n",
      " 9   ExpectedDividend  10 non-null     float64\n",
      " 10  SupervisionFlag   1202 non-null   bool   \n",
      " 11  Target            1202 non-null   float64\n",
      "dtypes: bool(1), float64(7), int64(2), object(2)\n",
      "memory usage: 113.9+ KB\n"
     ]
    }
   ],
   "source": [
    "values8103.info()"
   ]
  },
  {
   "cell_type": "code",
   "execution_count": 187,
   "metadata": {
    "ExecuteTime": {
     "end_time": "2022-05-26T20:04:45.100964Z",
     "start_time": "2022-05-26T20:04:45.066748Z"
    }
   },
   "outputs": [
    {
     "name": "stdout",
     "output_type": "stream",
     "text": [
      "<class 'pandas.core.frame.DataFrame'>\n",
      "DatetimeIndex: 1202 entries, 2017-01-04 to 2021-12-03\n",
      "Data columns (total 11 columns):\n",
      " #   Column            Non-Null Count  Dtype  \n",
      "---  ------            --------------  -----  \n",
      " 0   RowId             1202 non-null   object \n",
      " 1   SecuritiesCode    1202 non-null   int64  \n",
      " 2   Open              1201 non-null   float64\n",
      " 3   High              1201 non-null   float64\n",
      " 4   Low               1201 non-null   float64\n",
      " 5   Close             1201 non-null   float64\n",
      " 6   Volume            1202 non-null   int64  \n",
      " 7   AdjustmentFactor  1202 non-null   float64\n",
      " 8   ExpectedDividend  10 non-null     float64\n",
      " 9   SupervisionFlag   1202 non-null   bool   \n",
      " 10  Target            1202 non-null   float64\n",
      "dtypes: bool(1), float64(7), int64(2), object(1)\n",
      "memory usage: 104.5+ KB\n"
     ]
    }
   ],
   "source": [
    "values8103 = df1.loc[df1['SecuritiesCode'] == 8103]\n",
    "#values8103.reset_index()\n",
    "values810 = values8103['Date'].astype('datetime64[ns]')\n",
    "values810 = pd.DataFrame(values810)\n",
    "values8103 = values8103.drop('Date', axis=1)\n",
    "values8103['Date'] = values810['Date']\n",
    "values8103 = values8103.set_index('Date')\n",
    "#values8103\n",
    "#values8103['Date'] = pd.to_numeric(values8103['Date'])\n",
    "#values8103['Date'] = values8103['Date'].astype(float, errors = 'raise')\n",
    "#values8103 = values8103.set_index(values8103['Date'])\n",
    "#values8103.index = pd.to_datetime(values8103.index)\n",
    "values8103.info()"
   ]
  },
  {
   "cell_type": "code",
   "execution_count": null,
   "metadata": {
    "ExecuteTime": {
     "end_time": "2022-05-26T18:27:29.663122Z",
     "start_time": "2022-05-26T18:27:29.640254Z"
    }
   },
   "outputs": [],
   "source": [
    "values8103 = df1.loc[df1['SecuritiesCode'] == 8103] \n",
    "values8103 = values8103.set_index(pd.DatetimeIndex(values8103['Date']))\n",
    "values8103.info()"
   ]
  },
  {
   "cell_type": "markdown",
   "metadata": {},
   "source": [
    "# Split Data"
   ]
  },
  {
   "cell_type": "markdown",
   "metadata": {},
   "source": [
    "## Train, Val, Test"
   ]
  },
  {
   "cell_type": "code",
   "execution_count": 189,
   "metadata": {
    "ExecuteTime": {
     "end_time": "2022-05-26T20:05:30.121548Z",
     "start_time": "2022-05-26T20:05:30.099546Z"
    }
   },
   "outputs": [],
   "source": [
    "# Pull one stock's values for given stock from stock_prices\n",
    "values8103 = df1.loc[df1['SecuritiesCode'] == 8103] \n",
    "\n",
    "column_indices = {name: i for i, name in enumerate(df.columns)}\n",
    "\n",
    "n = len(values8103)\n",
    "train_df = values8103[0:int(n*0.7)]\n",
    "val_df = values8103[int(n*0.7):int(n*0.9)]\n",
    "test_df = values8103[int(n*0.9):]\n",
    "\n",
    "num_features = values8103.shape[1]"
   ]
  },
  {
   "cell_type": "markdown",
   "metadata": {},
   "source": [
    "## Check train/test shape"
   ]
  },
  {
   "cell_type": "code",
   "execution_count": 67,
   "metadata": {
    "ExecuteTime": {
     "end_time": "2022-05-26T19:13:35.013140Z",
     "start_time": "2022-05-26T19:13:35.006129Z"
    }
   },
   "outputs": [
    {
     "name": "stdout",
     "output_type": "stream",
     "text": [
      "Training Shape: (841, 12)\n",
      "Validation Shape: (240, 12)\n",
      "Test Shape: (121, 12)\n"
     ]
    }
   ],
   "source": [
    "print('Training Shape:', train_df.shape)\n",
    "print('Validation Shape:', val_df.shape)\n",
    "print('Test Shape:', test_df.shape)"
   ]
  },
  {
   "cell_type": "markdown",
   "metadata": {},
   "source": [
    "# Seasonal Patterns\n",
    "* Fast Fourier Transform indicates there is not much of a seasonal pattern."
   ]
  },
  {
   "cell_type": "code",
   "execution_count": 90,
   "metadata": {
    "ExecuteTime": {
     "end_time": "2022-05-26T19:26:59.895106Z",
     "start_time": "2022-05-26T19:26:59.509567Z"
    }
   },
   "outputs": [
    {
     "data": {
      "image/png": "[encoded data removed]",
      "text/plain": [
       "<Figure size 432x288 with 1 Axes>"
      ]
     },
     "metadata": {
      "needs_background": "light"
     },
     "output_type": "display_data"
    }
   ],
   "source": [
    "# Implement Fast Fourier Transform with Target over time\n",
    "fft = tf.signal.rfft(values8103['Target'])\n",
    "f_per_dataset = np.arange(0, len(fft))\n",
    "\n",
    "n_samples_h = len(values8103['Target'])\n",
    "# Number of trading days per year\n",
    "days_per_year = 253\n",
    "# Also worth noting that no pattern is observed when 365 is used\n",
    "\n",
    "years_per_dataset = n_samples_h/(days_per_year)\n",
    "\n",
    "# Plot Transform\n",
    "f_per_year = f_per_dataset/years_per_dataset\n",
    "plt.step(f_per_year, np.abs(fft))\n",
    "plt.xscale('log')\n",
    "plt.ylim(0, 4)\n",
    "plt.xlim([0.1, max(plt.xlim())])\n",
    "plt.xticks([1, 365.2524], labels=['1/Year', '1/day'])\n",
    "_ = plt.xlabel('Frequency (log scale)')"
   ]
  },
  {
   "cell_type": "markdown",
   "metadata": {},
   "source": [
    "# Feature Engineering"
   ]
  },
  {
   "cell_type": "code",
   "execution_count": 188,
   "metadata": {
    "ExecuteTime": {
     "end_time": "2022-05-26T20:05:24.082497Z",
     "start_time": "2022-05-26T20:05:24.066987Z"
    }
   },
   "outputs": [],
   "source": [
    "def feature_eng(train):\n",
    "    \n",
    "    # Set Datetime index\n",
    "    date = train['Date'].astype('datetime64[ns]')\n",
    "    date = pd.DataFrame(date)\n",
    "    train = train.drop('Date', axis=1)\n",
    "    train['Date'] = date['Date']\n",
    "    train = train.set_index('Date')\n",
    "    \n",
    "    \n",
    "    # Drop irrelevant columns for training\n",
    "    train = train.drop(\n",
    "                        ['RowId', \n",
    "                         'SecuritiesCode', \n",
    "                         'ExpectedDividend', \n",
    "                         'SupervisionFlag',\n",
    "                         'AdjustmentFactor'], axis=1)\n",
    "    \n",
    "    # Bool to int for SupervisionFlag\n",
    "    #train[\"SupervisionFlag\"] = train[\"SupervisionFlag\"].astype(int)\n",
    "    \n",
    "    # Forward, then backward fill missing values in cols\n",
    "    cols = ['Open', 'High', 'Low', 'Close', 'Target']\n",
    "    train.loc[:,cols] = train.loc[:,cols].ffill()\n",
    "    train.loc[:,cols] = train.loc[:,cols].bfill()\n",
    "    \n",
    "    # Replace missing values in ExpectedDividend with 0\n",
    "    #train['ExpectedDividend'] = train['ExpectedDividend'].fillna(0)\n",
    "    \n",
    "    # Add Features\n",
    "    train['Daily_Spread'] = train['Close'] - train['Open']\n",
    "    train['Daily_Max_Min'] = train['High'] - train['Low']\n",
    "    train['1_Day_Spread'] = train['Close'].diff()\n",
    "    train['2_Day_Spread'] = train['Close'].diff(periods=2)\n",
    "    train['1_Week_Spread'] = train['Close'].diff(periods=5)\n",
    "    train['MA_Prior_1day'] = train['Close'].diff(periods= -1)\n",
    "    train['MA_Prior_2day'] = train['Close'].diff(periods= -2)\n",
    "    train = train.fillna(0)\n",
    "    train['MA_Prior_diff'] = train['MA_Prior_1day'] - train['MA_Prior_2day']\n",
    "    \n",
    "    # Fill missing values with 0\n",
    "    train = train.fillna(0)\n",
    "        \n",
    "    # Add rolling ratio of mean/std of forward 1 day return\n",
    "    indexer = pd.api.indexers.FixedForwardWindowIndexer(window_size=2)\n",
    "    train['ExPost_SR'] = (train['MA_Prior_diff'].rolling(\n",
    "        window=indexer, min_periods=1).mean())/(\n",
    "        train['MA_Prior_diff'].std())\n",
    "    \n",
    "    # Add zscored columns and drop raw columns\n",
    "    #columns = train.columns.values.tolist()\n",
    "    \n",
    "    # Z-Score Normalize each column (-1 to 1 scale)\n",
    "    #for c in columns:\n",
    "    #    train[str(c)] = stats.zscore(train[str(c)])\n",
    "    \n",
    "    scaler = MinMaxScaler()\n",
    "    scaler.fit(train)\n",
    "    scaled = scaler.transform(train)\n",
    "    train_cols = train.columns.values.tolist()\n",
    "    trained = pd.DataFrame(data=scaled, columns=train_cols, index=train.index)\n",
    "    \n",
    "    # Fill missing values with 0\n",
    "    #train = train.fillna(0)\n",
    "    \n",
    "    return trained"
   ]
  },
  {
   "cell_type": "code",
   "execution_count": 190,
   "metadata": {
    "ExecuteTime": {
     "end_time": "2022-05-26T20:05:33.983965Z",
     "start_time": "2022-05-26T20:05:33.904083Z"
    },
    "scrolled": true
   },
   "outputs": [],
   "source": [
    "train_df = feature_eng(train_df)\n",
    "val_df = feature_eng(val_df)"
   ]
  },
  {
   "cell_type": "code",
   "execution_count": 191,
   "metadata": {
    "ExecuteTime": {
     "end_time": "2022-05-26T20:05:36.395988Z",
     "start_time": "2022-05-26T20:05:36.318190Z"
    }
   },
   "outputs": [
    {
     "data": {
      "text/html": [
       "<div>\n",
       "<style scoped>\n",
       "    .dataframe tbody tr th:only-of-type {\n",
       "        vertical-align: middle;\n",
       "    }\n",
       "\n",
       "    .dataframe tbody tr th {\n",
       "        vertical-align: top;\n",
       "    }\n",
       "\n",
       "    .dataframe thead th {\n",
       "        text-align: right;\n",
       "    }\n",
       "</style>\n",
       "<table border=\"1\" class=\"dataframe\">\n",
       "  <thead>\n",
       "    <tr style=\"text-align: right;\">\n",
       "      <th></th>\n",
       "      <th>count</th>\n",
       "      <th>mean</th>\n",
       "      <th>std</th>\n",
       "      <th>min</th>\n",
       "      <th>25%</th>\n",
       "      <th>50%</th>\n",
       "      <th>75%</th>\n",
       "      <th>max</th>\n",
       "    </tr>\n",
       "  </thead>\n",
       "  <tbody>\n",
       "    <tr>\n",
       "      <th>Open</th>\n",
       "      <td>841.0</td>\n",
       "      <td>0.436931</td>\n",
       "      <td>0.213760</td>\n",
       "      <td>0.0</td>\n",
       "      <td>0.280528</td>\n",
       "      <td>0.435644</td>\n",
       "      <td>0.534653</td>\n",
       "      <td>1.0</td>\n",
       "    </tr>\n",
       "    <tr>\n",
       "      <th>High</th>\n",
       "      <td>841.0</td>\n",
       "      <td>0.387683</td>\n",
       "      <td>0.194860</td>\n",
       "      <td>0.0</td>\n",
       "      <td>0.244048</td>\n",
       "      <td>0.386905</td>\n",
       "      <td>0.479167</td>\n",
       "      <td>1.0</td>\n",
       "    </tr>\n",
       "    <tr>\n",
       "      <th>Low</th>\n",
       "      <td>841.0</td>\n",
       "      <td>0.441390</td>\n",
       "      <td>0.211605</td>\n",
       "      <td>0.0</td>\n",
       "      <td>0.291391</td>\n",
       "      <td>0.440397</td>\n",
       "      <td>0.539735</td>\n",
       "      <td>1.0</td>\n",
       "    </tr>\n",
       "    <tr>\n",
       "      <th>Close</th>\n",
       "      <td>841.0</td>\n",
       "      <td>0.429251</td>\n",
       "      <td>0.216582</td>\n",
       "      <td>0.0</td>\n",
       "      <td>0.270903</td>\n",
       "      <td>0.424749</td>\n",
       "      <td>0.528428</td>\n",
       "      <td>1.0</td>\n",
       "    </tr>\n",
       "    <tr>\n",
       "      <th>Volume</th>\n",
       "      <td>841.0</td>\n",
       "      <td>0.033519</td>\n",
       "      <td>0.072777</td>\n",
       "      <td>0.0</td>\n",
       "      <td>0.006126</td>\n",
       "      <td>0.011594</td>\n",
       "      <td>0.028821</td>\n",
       "      <td>1.0</td>\n",
       "    </tr>\n",
       "    <tr>\n",
       "      <th>Target</th>\n",
       "      <td>841.0</td>\n",
       "      <td>0.335246</td>\n",
       "      <td>0.067935</td>\n",
       "      <td>0.0</td>\n",
       "      <td>0.306626</td>\n",
       "      <td>0.333964</td>\n",
       "      <td>0.362442</td>\n",
       "      <td>1.0</td>\n",
       "    </tr>\n",
       "    <tr>\n",
       "      <th>Daily_Spread</th>\n",
       "      <td>841.0</td>\n",
       "      <td>0.389458</td>\n",
       "      <td>0.076751</td>\n",
       "      <td>0.0</td>\n",
       "      <td>0.355932</td>\n",
       "      <td>0.389831</td>\n",
       "      <td>0.423729</td>\n",
       "      <td>1.0</td>\n",
       "    </tr>\n",
       "    <tr>\n",
       "      <th>Daily_Max_Min</th>\n",
       "      <td>841.0</td>\n",
       "      <td>0.161648</td>\n",
       "      <td>0.113453</td>\n",
       "      <td>0.0</td>\n",
       "      <td>0.094595</td>\n",
       "      <td>0.135135</td>\n",
       "      <td>0.189189</td>\n",
       "      <td>1.0</td>\n",
       "    </tr>\n",
       "    <tr>\n",
       "      <th>1_Day_Spread</th>\n",
       "      <td>841.0</td>\n",
       "      <td>0.448579</td>\n",
       "      <td>0.073679</td>\n",
       "      <td>0.0</td>\n",
       "      <td>0.420690</td>\n",
       "      <td>0.448276</td>\n",
       "      <td>0.475862</td>\n",
       "      <td>1.0</td>\n",
       "    </tr>\n",
       "    <tr>\n",
       "      <th>2_Day_Spread</th>\n",
       "      <td>841.0</td>\n",
       "      <td>0.507948</td>\n",
       "      <td>0.079232</td>\n",
       "      <td>0.0</td>\n",
       "      <td>0.477612</td>\n",
       "      <td>0.507463</td>\n",
       "      <td>0.537313</td>\n",
       "      <td>1.0</td>\n",
       "    </tr>\n",
       "    <tr>\n",
       "      <th>1_Week_Spread</th>\n",
       "      <td>841.0</td>\n",
       "      <td>0.448775</td>\n",
       "      <td>0.083670</td>\n",
       "      <td>0.0</td>\n",
       "      <td>0.416667</td>\n",
       "      <td>0.450617</td>\n",
       "      <td>0.484568</td>\n",
       "      <td>1.0</td>\n",
       "    </tr>\n",
       "    <tr>\n",
       "      <th>MA_Prior_1day</th>\n",
       "      <td>841.0</td>\n",
       "      <td>0.551421</td>\n",
       "      <td>0.073679</td>\n",
       "      <td>0.0</td>\n",
       "      <td>0.524138</td>\n",
       "      <td>0.551724</td>\n",
       "      <td>0.579310</td>\n",
       "      <td>1.0</td>\n",
       "    </tr>\n",
       "    <tr>\n",
       "      <th>MA_Prior_2day</th>\n",
       "      <td>841.0</td>\n",
       "      <td>0.492052</td>\n",
       "      <td>0.079232</td>\n",
       "      <td>0.0</td>\n",
       "      <td>0.462687</td>\n",
       "      <td>0.492537</td>\n",
       "      <td>0.522388</td>\n",
       "      <td>1.0</td>\n",
       "    </tr>\n",
       "    <tr>\n",
       "      <th>MA_Prior_diff</th>\n",
       "      <td>841.0</td>\n",
       "      <td>0.448645</td>\n",
       "      <td>0.073703</td>\n",
       "      <td>0.0</td>\n",
       "      <td>0.420690</td>\n",
       "      <td>0.448276</td>\n",
       "      <td>0.475862</td>\n",
       "      <td>1.0</td>\n",
       "    </tr>\n",
       "    <tr>\n",
       "      <th>ExPost_SR</th>\n",
       "      <td>841.0</td>\n",
       "      <td>0.508054</td>\n",
       "      <td>0.079224</td>\n",
       "      <td>0.0</td>\n",
       "      <td>0.477612</td>\n",
       "      <td>0.507463</td>\n",
       "      <td>0.537313</td>\n",
       "      <td>1.0</td>\n",
       "    </tr>\n",
       "  </tbody>\n",
       "</table>\n",
       "</div>"
      ],
      "text/plain": [
       "               count      mean       std  min       25%       50%       75%  \\\n",
       "Open           841.0  0.436931  0.213760  0.0  0.280528  0.435644  0.534653   \n",
       "High           841.0  0.387683  0.194860  0.0  0.244048  0.386905  0.479167   \n",
       "Low            841.0  0.441390  0.211605  0.0  0.291391  0.440397  0.539735   \n",
       "Close          841.0  0.429251  0.216582  0.0  0.270903  0.424749  0.528428   \n",
       "Volume         841.0  0.033519  0.072777  0.0  0.006126  0.011594  0.028821   \n",
       "Target         841.0  0.335246  0.067935  0.0  0.306626  0.333964  0.362442   \n",
       "Daily_Spread   841.0  0.389458  0.076751  0.0  0.355932  0.389831  0.423729   \n",
       "Daily_Max_Min  841.0  0.161648  0.113453  0.0  0.094595  0.135135  0.189189   \n",
       "1_Day_Spread   841.0  0.448579  0.073679  0.0  0.420690  0.448276  0.475862   \n",
       "2_Day_Spread   841.0  0.507948  0.079232  0.0  0.477612  0.507463  0.537313   \n",
       "1_Week_Spread  841.0  0.448775  0.083670  0.0  0.416667  0.450617  0.484568   \n",
       "MA_Prior_1day  841.0  0.551421  0.073679  0.0  0.524138  0.551724  0.579310   \n",
       "MA_Prior_2day  841.0  0.492052  0.079232  0.0  0.462687  0.492537  0.522388   \n",
       "MA_Prior_diff  841.0  0.448645  0.073703  0.0  0.420690  0.448276  0.475862   \n",
       "ExPost_SR      841.0  0.508054  0.079224  0.0  0.477612  0.507463  0.537313   \n",
       "\n",
       "               max  \n",
       "Open           1.0  \n",
       "High           1.0  \n",
       "Low            1.0  \n",
       "Close          1.0  \n",
       "Volume         1.0  \n",
       "Target         1.0  \n",
       "Daily_Spread   1.0  \n",
       "Daily_Max_Min  1.0  \n",
       "1_Day_Spread   1.0  \n",
       "2_Day_Spread   1.0  \n",
       "1_Week_Spread  1.0  \n",
       "MA_Prior_1day  1.0  \n",
       "MA_Prior_2day  1.0  \n",
       "MA_Prior_diff  1.0  \n",
       "ExPost_SR      1.0  "
      ]
     },
     "execution_count": 191,
     "metadata": {},
     "output_type": "execute_result"
    }
   ],
   "source": [
    "train_df.describe().transpose()"
   ]
  },
  {
   "cell_type": "code",
   "execution_count": 192,
   "metadata": {
    "ExecuteTime": {
     "end_time": "2022-05-26T20:05:36.950095Z",
     "start_time": "2022-05-26T20:05:36.934989Z"
    }
   },
   "outputs": [
    {
     "name": "stdout",
     "output_type": "stream",
     "text": [
      "<class 'pandas.core.frame.DataFrame'>\n",
      "DatetimeIndex: 841 entries, 2017-01-04 to 2020-06-15\n",
      "Data columns (total 15 columns):\n",
      " #   Column         Non-Null Count  Dtype  \n",
      "---  ------         --------------  -----  \n",
      " 0   Open           841 non-null    float64\n",
      " 1   High           841 non-null    float64\n",
      " 2   Low            841 non-null    float64\n",
      " 3   Close          841 non-null    float64\n",
      " 4   Volume         841 non-null    float64\n",
      " 5   Target         841 non-null    float64\n",
      " 6   Daily_Spread   841 non-null    float64\n",
      " 7   Daily_Max_Min  841 non-null    float64\n",
      " 8   1_Day_Spread   841 non-null    float64\n",
      " 9   2_Day_Spread   841 non-null    float64\n",
      " 10  1_Week_Spread  841 non-null    float64\n",
      " 11  MA_Prior_1day  841 non-null    float64\n",
      " 12  MA_Prior_2day  841 non-null    float64\n",
      " 13  MA_Prior_diff  841 non-null    float64\n",
      " 14  ExPost_SR      841 non-null    float64\n",
      "dtypes: float64(15)\n",
      "memory usage: 105.1 KB\n"
     ]
    }
   ],
   "source": [
    "train_df.info()"
   ]
  },
  {
   "cell_type": "code",
   "execution_count": 193,
   "metadata": {
    "ExecuteTime": {
     "end_time": "2022-05-26T20:05:38.112351Z",
     "start_time": "2022-05-26T20:05:37.445248Z"
    }
   },
   "outputs": [
    {
     "data": {
      "image/png": "[encoded data removed]",
      "text/plain": [
       "<Figure size 864x432 with 1 Axes>"
      ]
     },
     "metadata": {
      "needs_background": "light"
     },
     "output_type": "display_data"
    }
   ],
   "source": [
    "df_std = train_df.melt(var_name='Column', value_name='Normalized')\n",
    "plt.figure(figsize=(12, 6))\n",
    "ax = sns.violinplot(x='Column', y='Normalized', data=df_std)\n",
    "_ = ax.set_xticklabels(train_df.keys(), rotation=45)"
   ]
  },
  {
   "cell_type": "code",
   "execution_count": 194,
   "metadata": {
    "ExecuteTime": {
     "end_time": "2022-05-26T20:05:38.139272Z",
     "start_time": "2022-05-26T20:05:38.119724Z"
    }
   },
   "outputs": [
    {
     "data": {
      "text/html": [
       "<div>\n",
       "<style scoped>\n",
       "    .dataframe tbody tr th:only-of-type {\n",
       "        vertical-align: middle;\n",
       "    }\n",
       "\n",
       "    .dataframe tbody tr th {\n",
       "        vertical-align: top;\n",
       "    }\n",
       "\n",
       "    .dataframe thead th {\n",
       "        text-align: right;\n",
       "    }\n",
       "</style>\n",
       "<table border=\"1\" class=\"dataframe\">\n",
       "  <thead>\n",
       "    <tr style=\"text-align: right;\">\n",
       "      <th></th>\n",
       "      <th>Open</th>\n",
       "      <th>Volume</th>\n",
       "      <th>Target</th>\n",
       "      <th>Daily_Spread</th>\n",
       "      <th>Daily_Max_Min</th>\n",
       "      <th>1_Day_Spread</th>\n",
       "      <th>2_Day_Spread</th>\n",
       "      <th>MA_Prior_1day</th>\n",
       "      <th>MA_Prior_diff</th>\n",
       "    </tr>\n",
       "    <tr>\n",
       "      <th>Date</th>\n",
       "      <th></th>\n",
       "      <th></th>\n",
       "      <th></th>\n",
       "      <th></th>\n",
       "      <th></th>\n",
       "      <th></th>\n",
       "      <th></th>\n",
       "      <th></th>\n",
       "      <th></th>\n",
       "    </tr>\n",
       "  </thead>\n",
       "  <tbody>\n",
       "    <tr>\n",
       "      <th>2017-01-04</th>\n",
       "      <td>0.217822</td>\n",
       "      <td>0.026252</td>\n",
       "      <td>0.262805</td>\n",
       "      <td>0.449153</td>\n",
       "      <td>0.243243</td>\n",
       "      <td>0.448276</td>\n",
       "      <td>0.507463</td>\n",
       "      <td>0.551724</td>\n",
       "      <td>0.379310</td>\n",
       "    </tr>\n",
       "    <tr>\n",
       "      <th>2017-01-05</th>\n",
       "      <td>0.247525</td>\n",
       "      <td>0.017984</td>\n",
       "      <td>0.326672</td>\n",
       "      <td>0.372881</td>\n",
       "      <td>0.148649</td>\n",
       "      <td>0.448276</td>\n",
       "      <td>0.507463</td>\n",
       "      <td>0.620690</td>\n",
       "      <td>0.441379</td>\n",
       "    </tr>\n",
       "  </tbody>\n",
       "</table>\n",
       "</div>"
      ],
      "text/plain": [
       "                Open    Volume    Target  Daily_Spread  Daily_Max_Min  \\\n",
       "Date                                                                    \n",
       "2017-01-04  0.217822  0.026252  0.262805      0.449153       0.243243   \n",
       "2017-01-05  0.247525  0.017984  0.326672      0.372881       0.148649   \n",
       "\n",
       "            1_Day_Spread  2_Day_Spread  MA_Prior_1day  MA_Prior_diff  \n",
       "Date                                                                  \n",
       "2017-01-04      0.448276      0.507463       0.551724       0.379310  \n",
       "2017-01-05      0.448276      0.507463       0.620690       0.441379  "
      ]
     },
     "execution_count": 194,
     "metadata": {},
     "output_type": "execute_result"
    }
   ],
   "source": [
    "train_small = train_df.drop(['MA_Prior_2day','1_Week_Spread','Close','Low','High','ExPost_SR'], axis=1)\n",
    "train_small.head(2)"
   ]
  },
  {
   "cell_type": "code",
   "execution_count": 195,
   "metadata": {
    "ExecuteTime": {
     "end_time": "2022-05-26T20:05:38.371991Z",
     "start_time": "2022-05-26T20:05:38.359851Z"
    }
   },
   "outputs": [
    {
     "data": {
      "text/plain": [
       "Open             0\n",
       "Volume           0\n",
       "Target           0\n",
       "Daily_Spread     0\n",
       "Daily_Max_Min    0\n",
       "1_Day_Spread     0\n",
       "2_Day_Spread     0\n",
       "MA_Prior_1day    0\n",
       "MA_Prior_diff    0\n",
       "dtype: int64"
      ]
     },
     "execution_count": 195,
     "metadata": {},
     "output_type": "execute_result"
    }
   ],
   "source": [
    "# Double-check for missing values\n",
    "train_small.isna().sum()"
   ]
  },
  {
   "cell_type": "code",
   "execution_count": 196,
   "metadata": {
    "ExecuteTime": {
     "end_time": "2022-05-26T20:05:39.354541Z",
     "start_time": "2022-05-26T20:05:38.734375Z"
    }
   },
   "outputs": [
    {
     "data": {
      "image/png": "[encoded data removed]",
      "text/plain": [
       "<Figure size 864x432 with 1 Axes>"
      ]
     },
     "metadata": {
      "needs_background": "light"
     },
     "output_type": "display_data"
    }
   ],
   "source": [
    "df_std = train_small.melt(var_name='Column', value_name='Normalized')\n",
    "plt.figure(figsize=(12, 6))\n",
    "ax = sns.violinplot(x='Column', y='Normalized', data=df_std)\n",
    "_ = ax.set_xticklabels(train_small.keys(), rotation=45)"
   ]
  },
  {
   "cell_type": "markdown",
   "metadata": {},
   "source": [
    "# Indexes and offsets\n",
    "* Window Generator"
   ]
  },
  {
   "cell_type": "code",
   "execution_count": 197,
   "metadata": {
    "ExecuteTime": {
     "end_time": "2022-05-26T20:05:39.508870Z",
     "start_time": "2022-05-26T20:05:39.497264Z"
    }
   },
   "outputs": [],
   "source": [
    "class WindowGenerator():\n",
    "  def __init__(self, input_width, label_width, shift,\n",
    "               train_df=train_df, val_df=val_df, test_df=test_df,\n",
    "               label_columns=None):\n",
    "    # Store the raw data.\n",
    "    self.train_df = train_df\n",
    "    self.val_df = val_df\n",
    "    self.test_df = test_df\n",
    "\n",
    "    # Work out the label column indices.\n",
    "    self.label_columns = label_columns\n",
    "    if label_columns is not None:\n",
    "      self.label_columns_indices = {name: i for i, name in\n",
    "                                    enumerate(label_columns)}\n",
    "    self.column_indices = {name: i for i, name in\n",
    "                           enumerate(train_df.columns)}\n",
    "\n",
    "    # Work out the window parameters.\n",
    "    self.input_width = input_width\n",
    "    self.label_width = label_width\n",
    "    self.shift = shift\n",
    "\n",
    "    self.total_window_size = input_width + shift\n",
    "\n",
    "    self.input_slice = slice(0, input_width)\n",
    "    self.input_indices = np.arange(self.total_window_size)[self.input_slice]\n",
    "\n",
    "    self.label_start = self.total_window_size - self.label_width\n",
    "    self.labels_slice = slice(self.label_start, None)\n",
    "    self.label_indices = np.arange(self.total_window_size)[self.labels_slice]\n",
    "\n",
    "  def __repr__(self):\n",
    "    return '\\n'.join([\n",
    "        f'Total window size: {self.total_window_size}',\n",
    "        f'Input indices: {self.input_indices}',\n",
    "        f'Label indices: {self.label_indices}',\n",
    "        f'Label column name(s): {self.label_columns}'])"
   ]
  },
  {
   "cell_type": "code",
   "execution_count": 198,
   "metadata": {
    "ExecuteTime": {
     "end_time": "2022-05-26T20:05:39.776652Z",
     "start_time": "2022-05-26T20:05:39.763153Z"
    }
   },
   "outputs": [
    {
     "data": {
      "text/plain": [
       "Total window size: 21\n",
       "Input indices: [ 0  1  2  3  4  5  6  7  8  9 10 11 12 13 14 15 16 17 18 19]\n",
       "Label indices: [20]\n",
       "Label column name(s): ['Target']"
      ]
     },
     "execution_count": 198,
     "metadata": {},
     "output_type": "execute_result"
    }
   ],
   "source": [
    "w1 = WindowGenerator(input_width=20, label_width=1, shift=1,\n",
    "                     label_columns=['Target'])\n",
    "w1"
   ]
  },
  {
   "cell_type": "code",
   "execution_count": 199,
   "metadata": {
    "ExecuteTime": {
     "end_time": "2022-05-26T20:05:40.108171Z",
     "start_time": "2022-05-26T20:05:40.101582Z"
    }
   },
   "outputs": [
    {
     "data": {
      "text/plain": [
       "Total window size: 7\n",
       "Input indices: [0 1 2 3 4 5]\n",
       "Label indices: [6]\n",
       "Label column name(s): ['Target']"
      ]
     },
     "execution_count": 199,
     "metadata": {},
     "output_type": "execute_result"
    }
   ],
   "source": [
    "w2 = WindowGenerator(input_width=6, label_width=1, shift=1,\n",
    "                     label_columns=['Target'])\n",
    "w2"
   ]
  },
  {
   "cell_type": "markdown",
   "metadata": {},
   "source": [
    "# Split"
   ]
  },
  {
   "cell_type": "code",
   "execution_count": 200,
   "metadata": {
    "ExecuteTime": {
     "end_time": "2022-05-26T20:05:40.740931Z",
     "start_time": "2022-05-26T20:05:40.733336Z"
    }
   },
   "outputs": [],
   "source": [
    "def split_window(self, features):\n",
    "  inputs = features[:, self.input_slice, :]\n",
    "  labels = features[:, self.labels_slice, :]\n",
    "  if self.label_columns is not None:\n",
    "    labels = tf.stack(\n",
    "        [labels[:, :, self.column_indices[name]] for name in self.label_columns],\n",
    "        axis=-1)\n",
    "\n",
    "  # Slicing doesn't preserve static shape information, so set the shapes\n",
    "  # manually. This way the `tf.data.Datasets` are easier to inspect.\n",
    "  inputs.set_shape([None, self.input_width, None])\n",
    "  labels.set_shape([None, self.label_width, None])\n",
    "\n",
    "  return inputs, labels\n",
    "\n",
    "WindowGenerator.split_window = split_window"
   ]
  },
  {
   "cell_type": "code",
   "execution_count": 201,
   "metadata": {
    "ExecuteTime": {
     "end_time": "2022-05-26T20:05:41.012000Z",
     "start_time": "2022-05-26T20:05:40.999480Z"
    }
   },
   "outputs": [
    {
     "name": "stdout",
     "output_type": "stream",
     "text": [
      "All shapes are: (batch, time, features)\n",
      "Window shape: (3, 7, 15)\n",
      "Inputs shape: (3, 6, 15)\n",
      "Labels shape: (3, 1, 1)\n"
     ]
    }
   ],
   "source": [
    "# Stack three slices, the length of the total window.\n",
    "example_window = tf.stack([np.array(train_df[:w2.total_window_size]),\n",
    "                           np.array(train_df[100:100+w2.total_window_size]),\n",
    "                           np.array(train_df[200:200+w2.total_window_size])])\n",
    "\n",
    "example_inputs, example_labels = w2.split_window(example_window)\n",
    "\n",
    "print('All shapes are: (batch, time, features)')\n",
    "print(f'Window shape: {example_window.shape}')\n",
    "print(f'Inputs shape: {example_inputs.shape}')\n",
    "print(f'Labels shape: {example_labels.shape}')"
   ]
  },
  {
   "cell_type": "markdown",
   "metadata": {},
   "source": [
    "# Plot"
   ]
  },
  {
   "cell_type": "code",
   "execution_count": 202,
   "metadata": {
    "ExecuteTime": {
     "end_time": "2022-05-26T20:05:41.615337Z",
     "start_time": "2022-05-26T20:05:41.610918Z"
    }
   },
   "outputs": [],
   "source": [
    "w2.example = example_inputs, example_labels"
   ]
  },
  {
   "cell_type": "code",
   "execution_count": 203,
   "metadata": {
    "ExecuteTime": {
     "end_time": "2022-05-26T20:05:41.914997Z",
     "start_time": "2022-05-26T20:05:41.901893Z"
    }
   },
   "outputs": [],
   "source": [
    "def plot(self, model=None, plot_col='Target', max_subplots=3):\n",
    "  inputs, labels = self.example\n",
    "  plt.figure(figsize=(12, 8))\n",
    "  plot_col_index = self.column_indices[plot_col]\n",
    "  max_n = min(max_subplots, len(inputs))\n",
    "  for n in range(max_n):\n",
    "    plt.subplot(max_n, 1, n+1)\n",
    "    plt.ylabel(f'{plot_col} [normed]')\n",
    "    plt.plot(self.input_indices, inputs[n, :, plot_col_index],\n",
    "             label='Inputs', marker='.', zorder=-10)\n",
    "\n",
    "    if self.label_columns:\n",
    "      label_col_index = self.label_columns_indices.get(plot_col, None)\n",
    "    else:\n",
    "      label_col_index = plot_col_index\n",
    "\n",
    "    if label_col_index is None:\n",
    "      continue\n",
    "\n",
    "    plt.scatter(self.label_indices, labels[n, :, label_col_index],\n",
    "                edgecolors='k', label='Labels', c='#2ca02c', s=64)\n",
    "    if model is not None:\n",
    "      predictions = model(inputs)\n",
    "      plt.scatter(self.label_indices, predictions[n, :, label_col_index],\n",
    "                  marker='X', edgecolors='k', label='Predictions',\n",
    "                  c='#ff7f0e', s=64)\n",
    "\n",
    "    if n == 0:\n",
    "      plt.legend()\n",
    "\n",
    "  plt.xlabel('Time [h]')\n",
    "\n",
    "WindowGenerator.plot = plot"
   ]
  },
  {
   "cell_type": "code",
   "execution_count": 204,
   "metadata": {
    "ExecuteTime": {
     "end_time": "2022-05-26T20:05:43.445084Z",
     "start_time": "2022-05-26T20:05:42.356338Z"
    }
   },
   "outputs": [
    {
     "data": {
      "image/png": "[encoded data removed]",
      "text/plain": [
       "<Figure size 864x576 with 3 Axes>"
      ]
     },
     "metadata": {
      "needs_background": "light"
     },
     "output_type": "display_data"
    }
   ],
   "source": [
    "w2.plot()"
   ]
  },
  {
   "cell_type": "markdown",
   "metadata": {},
   "source": [
    "# Create tf.data.Dataset_s"
   ]
  },
  {
   "cell_type": "code",
   "execution_count": 205,
   "metadata": {
    "ExecuteTime": {
     "end_time": "2022-05-26T20:05:43.896678Z",
     "start_time": "2022-05-26T20:05:43.889193Z"
    }
   },
   "outputs": [],
   "source": [
    "def make_dataset(self, data):\n",
    "  data = np.array(data, dtype=np.float32)\n",
    "  ds = tf.keras.utils.timeseries_dataset_from_array(\n",
    "      data=data,\n",
    "      targets=None,\n",
    "      sequence_length=self.total_window_size,\n",
    "      sequence_stride=1,\n",
    "      shuffle=True,\n",
    "      batch_size=32,)\n",
    "\n",
    "  ds = ds.map(self.split_window)\n",
    "\n",
    "  return ds\n",
    "\n",
    "WindowGenerator.make_dataset = make_dataset"
   ]
  },
  {
   "cell_type": "code",
   "execution_count": 206,
   "metadata": {
    "ExecuteTime": {
     "end_time": "2022-05-26T20:05:44.099692Z",
     "start_time": "2022-05-26T20:05:44.088793Z"
    }
   },
   "outputs": [],
   "source": [
    "@property\n",
    "def train(self):\n",
    "  return self.make_dataset(self.train_df)\n",
    "\n",
    "@property\n",
    "def val(self):\n",
    "  return self.make_dataset(self.val_df)\n",
    "\n",
    "@property\n",
    "def test(self):\n",
    "  return self.make_dataset(self.test_df)\n",
    "\n",
    "@property\n",
    "def example(self):\n",
    "  \"\"\"Get and cache an example batch of `inputs, labels` for plotting.\"\"\"\n",
    "  result = getattr(self, '_example', None)\n",
    "  if result is None:\n",
    "    # No example batch was found, so get one from the `.train` dataset\n",
    "    result = next(iter(self.train))\n",
    "    # And cache it for next time\n",
    "    self._example = result\n",
    "  return result\n",
    "\n",
    "WindowGenerator.train = train\n",
    "WindowGenerator.val = val\n",
    "WindowGenerator.test = test\n",
    "WindowGenerator.example = example"
   ]
  },
  {
   "cell_type": "code",
   "execution_count": 207,
   "metadata": {
    "ExecuteTime": {
     "end_time": "2022-05-26T20:05:44.362961Z",
     "start_time": "2022-05-26T20:05:44.290600Z"
    }
   },
   "outputs": [
    {
     "data": {
      "text/plain": [
       "(TensorSpec(shape=(None, 6, 15), dtype=tf.float32, name=None),\n",
       " TensorSpec(shape=(None, 1, 1), dtype=tf.float32, name=None))"
      ]
     },
     "execution_count": 207,
     "metadata": {},
     "output_type": "execute_result"
    }
   ],
   "source": [
    "# Each element is an (inputs, label) pair.\n",
    "w2.train.element_spec"
   ]
  },
  {
   "cell_type": "code",
   "execution_count": 208,
   "metadata": {
    "ExecuteTime": {
     "end_time": "2022-05-26T20:05:44.952912Z",
     "start_time": "2022-05-26T20:05:44.790793Z"
    }
   },
   "outputs": [
    {
     "name": "stdout",
     "output_type": "stream",
     "text": [
      "Inputs shape (batch, time, features): (32, 6, 15)\n",
      "Labels shape (batch, time, features): (32, 1, 1)\n"
     ]
    }
   ],
   "source": [
    "for example_inputs, example_labels in w2.train.take(1):\n",
    "  print(f'Inputs shape (batch, time, features): {example_inputs.shape}')\n",
    "  print(f'Labels shape (batch, time, features): {example_labels.shape}')"
   ]
  },
  {
   "cell_type": "markdown",
   "metadata": {},
   "source": [
    "# Single Step Models"
   ]
  },
  {
   "cell_type": "code",
   "execution_count": 209,
   "metadata": {
    "ExecuteTime": {
     "end_time": "2022-05-26T20:05:45.472953Z",
     "start_time": "2022-05-26T20:05:45.464742Z"
    }
   },
   "outputs": [
    {
     "data": {
      "text/plain": [
       "Total window size: 2\n",
       "Input indices: [0]\n",
       "Label indices: [1]\n",
       "Label column name(s): ['Target']"
      ]
     },
     "execution_count": 209,
     "metadata": {},
     "output_type": "execute_result"
    }
   ],
   "source": [
    "single_step_window = WindowGenerator(\n",
    "    input_width=1, label_width=1, shift=1,\n",
    "    label_columns=['Target'])\n",
    "single_step_window"
   ]
  },
  {
   "cell_type": "code",
   "execution_count": 210,
   "metadata": {
    "ExecuteTime": {
     "end_time": "2022-05-26T20:05:45.974280Z",
     "start_time": "2022-05-26T20:05:45.781832Z"
    }
   },
   "outputs": [
    {
     "name": "stdout",
     "output_type": "stream",
     "text": [
      "Inputs shape (batch, time, features): (32, 1, 15)\n",
      "Labels shape (batch, time, features): (32, 1, 1)\n"
     ]
    }
   ],
   "source": [
    "for example_inputs, example_labels in single_step_window.train.take(1):\n",
    "  print(f'Inputs shape (batch, time, features): {example_inputs.shape}')\n",
    "  print(f'Labels shape (batch, time, features): {example_labels.shape}')"
   ]
  },
  {
   "cell_type": "markdown",
   "metadata": {},
   "source": [
    "## Baseline"
   ]
  },
  {
   "cell_type": "code",
   "execution_count": 211,
   "metadata": {
    "ExecuteTime": {
     "end_time": "2022-05-26T20:05:46.437557Z",
     "start_time": "2022-05-26T20:05:46.429528Z"
    }
   },
   "outputs": [],
   "source": [
    "class Baseline(tf.keras.Model):\n",
    "  def __init__(self, label_index=None):\n",
    "    super().__init__()\n",
    "    self.label_index = label_index\n",
    "\n",
    "  def call(self, inputs):\n",
    "    if self.label_index is None:\n",
    "      return inputs\n",
    "    result = inputs[:, :, self.label_index]\n",
    "    return result[:, :, tf.newaxis]"
   ]
  },
  {
   "cell_type": "code",
   "execution_count": 212,
   "metadata": {
    "ExecuteTime": {
     "end_time": "2022-05-26T20:05:47.252060Z",
     "start_time": "2022-05-26T20:05:46.814530Z"
    }
   },
   "outputs": [
    {
     "name": "stdout",
     "output_type": "stream",
     "text": [
      "8/8 [==============================] - 0s 2ms/step - loss: 0.0470 - mean_absolute_error: 0.1697\n"
     ]
    },
    {
     "ename": "ValueError",
     "evalue": "could not convert string to float: '2021-06-09'",
     "output_type": "error",
     "traceback": [
      "\u001b[0;31m---------------------------------------------------------------------------\u001b[0m",
      "\u001b[0;31mValueError\u001b[0m                                Traceback (most recent call last)",
      "\u001b[0;32m<ipython-input-212-5672976df6d7>\u001b[0m in \u001b[0;36m<module>\u001b[0;34m\u001b[0m\n\u001b[1;32m      7\u001b[0m \u001b[0mperformance\u001b[0m \u001b[0;34m=\u001b[0m \u001b[0;34m{\u001b[0m\u001b[0;34m}\u001b[0m\u001b[0;34m\u001b[0m\u001b[0;34m\u001b[0m\u001b[0m\n\u001b[1;32m      8\u001b[0m \u001b[0mval_performance\u001b[0m\u001b[0;34m[\u001b[0m\u001b[0;34m'Baseline'\u001b[0m\u001b[0;34m]\u001b[0m \u001b[0;34m=\u001b[0m \u001b[0mbaseline\u001b[0m\u001b[0;34m.\u001b[0m\u001b[0mevaluate\u001b[0m\u001b[0;34m(\u001b[0m\u001b[0msingle_step_window\u001b[0m\u001b[0;34m.\u001b[0m\u001b[0mval\u001b[0m\u001b[0;34m)\u001b[0m\u001b[0;34m\u001b[0m\u001b[0;34m\u001b[0m\u001b[0m\n\u001b[0;32m----> 9\u001b[0;31m \u001b[0mperformance\u001b[0m\u001b[0;34m[\u001b[0m\u001b[0;34m'Baseline'\u001b[0m\u001b[0;34m]\u001b[0m \u001b[0;34m=\u001b[0m \u001b[0mbaseline\u001b[0m\u001b[0;34m.\u001b[0m\u001b[0mevaluate\u001b[0m\u001b[0;34m(\u001b[0m\u001b[0msingle_step_window\u001b[0m\u001b[0;34m.\u001b[0m\u001b[0mtest\u001b[0m\u001b[0;34m,\u001b[0m \u001b[0mverbose\u001b[0m\u001b[0;34m=\u001b[0m\u001b[0;36m0\u001b[0m\u001b[0;34m)\u001b[0m\u001b[0;34m\u001b[0m\u001b[0;34m\u001b[0m\u001b[0m\n\u001b[0m",
      "\u001b[0;32m<ipython-input-206-fa9c97d26d90>\u001b[0m in \u001b[0;36mtest\u001b[0;34m(self)\u001b[0m\n\u001b[1;32m      9\u001b[0m \u001b[0;34m@\u001b[0m\u001b[0mproperty\u001b[0m\u001b[0;34m\u001b[0m\u001b[0;34m\u001b[0m\u001b[0m\n\u001b[1;32m     10\u001b[0m \u001b[0;32mdef\u001b[0m \u001b[0mtest\u001b[0m\u001b[0;34m(\u001b[0m\u001b[0mself\u001b[0m\u001b[0;34m)\u001b[0m\u001b[0;34m:\u001b[0m\u001b[0;34m\u001b[0m\u001b[0;34m\u001b[0m\u001b[0m\n\u001b[0;32m---> 11\u001b[0;31m   \u001b[0;32mreturn\u001b[0m \u001b[0mself\u001b[0m\u001b[0;34m.\u001b[0m\u001b[0mmake_dataset\u001b[0m\u001b[0;34m(\u001b[0m\u001b[0mself\u001b[0m\u001b[0;34m.\u001b[0m\u001b[0mtest_df\u001b[0m\u001b[0;34m)\u001b[0m\u001b[0;34m\u001b[0m\u001b[0;34m\u001b[0m\u001b[0m\n\u001b[0m\u001b[1;32m     12\u001b[0m \u001b[0;34m\u001b[0m\u001b[0m\n\u001b[1;32m     13\u001b[0m \u001b[0;34m@\u001b[0m\u001b[0mproperty\u001b[0m\u001b[0;34m\u001b[0m\u001b[0;34m\u001b[0m\u001b[0m\n",
      "\u001b[0;32m<ipython-input-205-22ee132fa01e>\u001b[0m in \u001b[0;36mmake_dataset\u001b[0;34m(self, data)\u001b[0m\n\u001b[1;32m      1\u001b[0m \u001b[0;32mdef\u001b[0m \u001b[0mmake_dataset\u001b[0m\u001b[0;34m(\u001b[0m\u001b[0mself\u001b[0m\u001b[0;34m,\u001b[0m \u001b[0mdata\u001b[0m\u001b[0;34m)\u001b[0m\u001b[0;34m:\u001b[0m\u001b[0;34m\u001b[0m\u001b[0;34m\u001b[0m\u001b[0m\n\u001b[0;32m----> 2\u001b[0;31m   \u001b[0mdata\u001b[0m \u001b[0;34m=\u001b[0m \u001b[0mnp\u001b[0m\u001b[0;34m.\u001b[0m\u001b[0marray\u001b[0m\u001b[0;34m(\u001b[0m\u001b[0mdata\u001b[0m\u001b[0;34m,\u001b[0m \u001b[0mdtype\u001b[0m\u001b[0;34m=\u001b[0m\u001b[0mnp\u001b[0m\u001b[0;34m.\u001b[0m\u001b[0mfloat32\u001b[0m\u001b[0;34m)\u001b[0m\u001b[0;34m\u001b[0m\u001b[0;34m\u001b[0m\u001b[0m\n\u001b[0m\u001b[1;32m      3\u001b[0m   ds = tf.keras.utils.timeseries_dataset_from_array(\n\u001b[1;32m      4\u001b[0m       \u001b[0mdata\u001b[0m\u001b[0;34m=\u001b[0m\u001b[0mdata\u001b[0m\u001b[0;34m,\u001b[0m\u001b[0;34m\u001b[0m\u001b[0;34m\u001b[0m\u001b[0m\n\u001b[1;32m      5\u001b[0m       \u001b[0mtargets\u001b[0m\u001b[0;34m=\u001b[0m\u001b[0;32mNone\u001b[0m\u001b[0;34m,\u001b[0m\u001b[0;34m\u001b[0m\u001b[0;34m\u001b[0m\u001b[0m\n",
      "\u001b[0;32m~/opt/anaconda3/envs/learn-env/lib/python3.8/site-packages/pandas/core/generic.py\u001b[0m in \u001b[0;36m__array__\u001b[0;34m(self, dtype)\u001b[0m\n\u001b[1;32m   1779\u001b[0m \u001b[0;34m\u001b[0m\u001b[0m\n\u001b[1;32m   1780\u001b[0m     \u001b[0;32mdef\u001b[0m \u001b[0m__array__\u001b[0m\u001b[0;34m(\u001b[0m\u001b[0mself\u001b[0m\u001b[0;34m,\u001b[0m \u001b[0mdtype\u001b[0m\u001b[0;34m=\u001b[0m\u001b[0;32mNone\u001b[0m\u001b[0;34m)\u001b[0m \u001b[0;34m->\u001b[0m \u001b[0mnp\u001b[0m\u001b[0;34m.\u001b[0m\u001b[0mndarray\u001b[0m\u001b[0;34m:\u001b[0m\u001b[0;34m\u001b[0m\u001b[0;34m\u001b[0m\u001b[0m\n\u001b[0;32m-> 1781\u001b[0;31m         \u001b[0;32mreturn\u001b[0m \u001b[0mnp\u001b[0m\u001b[0;34m.\u001b[0m\u001b[0masarray\u001b[0m\u001b[0;34m(\u001b[0m\u001b[0mself\u001b[0m\u001b[0;34m.\u001b[0m\u001b[0m_values\u001b[0m\u001b[0;34m,\u001b[0m \u001b[0mdtype\u001b[0m\u001b[0;34m=\u001b[0m\u001b[0mdtype\u001b[0m\u001b[0;34m)\u001b[0m\u001b[0;34m\u001b[0m\u001b[0;34m\u001b[0m\u001b[0m\n\u001b[0m\u001b[1;32m   1782\u001b[0m \u001b[0;34m\u001b[0m\u001b[0m\n\u001b[1;32m   1783\u001b[0m     \u001b[0;32mdef\u001b[0m \u001b[0m__array_wrap__\u001b[0m\u001b[0;34m(\u001b[0m\u001b[0mself\u001b[0m\u001b[0;34m,\u001b[0m \u001b[0mresult\u001b[0m\u001b[0;34m,\u001b[0m \u001b[0mcontext\u001b[0m\u001b[0;34m=\u001b[0m\u001b[0;32mNone\u001b[0m\u001b[0;34m)\u001b[0m\u001b[0;34m:\u001b[0m\u001b[0;34m\u001b[0m\u001b[0;34m\u001b[0m\u001b[0m\n",
      "\u001b[0;31mValueError\u001b[0m: could not convert string to float: '2021-06-09'"
     ]
    }
   ],
   "source": [
    "baseline = Baseline(label_index=column_indices['Target'])\n",
    "\n",
    "baseline.compile(loss=tf.losses.MeanSquaredError(),\n",
    "                 metrics=[tf.metrics.MeanAbsoluteError()])\n",
    "\n",
    "val_performance = {}\n",
    "performance = {}\n",
    "val_performance['Baseline'] = baseline.evaluate(single_step_window.val)\n",
    "performance['Baseline'] = baseline.evaluate(single_step_window.test, verbose=0)"
   ]
  },
  {
   "cell_type": "code",
   "execution_count": 213,
   "metadata": {
    "ExecuteTime": {
     "end_time": "2022-05-26T20:05:53.536323Z",
     "start_time": "2022-05-26T20:05:53.517130Z"
    }
   },
   "outputs": [
    {
     "data": {
      "text/plain": [
       "Total window size: 25\n",
       "Input indices: [ 0  1  2  3  4  5  6  7  8  9 10 11 12 13 14 15 16 17 18 19 20 21 22 23]\n",
       "Label indices: [ 1  2  3  4  5  6  7  8  9 10 11 12 13 14 15 16 17 18 19 20 21 22 23 24]\n",
       "Label column name(s): ['Target']"
      ]
     },
     "execution_count": 213,
     "metadata": {},
     "output_type": "execute_result"
    }
   ],
   "source": [
    "wide_window = WindowGenerator(\n",
    "    input_width=24, label_width=24, shift=1,\n",
    "    label_columns=['Target'])\n",
    "\n",
    "wide_window"
   ]
  },
  {
   "cell_type": "code",
   "execution_count": 214,
   "metadata": {
    "ExecuteTime": {
     "end_time": "2022-05-26T20:05:54.374269Z",
     "start_time": "2022-05-26T20:05:54.209215Z"
    }
   },
   "outputs": [
    {
     "name": "stdout",
     "output_type": "stream",
     "text": [
      "Input shape: (32, 24, 15)\n",
      "Output shape: (32, 24, 1)\n"
     ]
    }
   ],
   "source": [
    "print('Input shape:', wide_window.example[0].shape)\n",
    "print('Output shape:', baseline(wide_window.example[0]).shape)"
   ]
  },
  {
   "cell_type": "code",
   "execution_count": 215,
   "metadata": {
    "ExecuteTime": {
     "end_time": "2022-05-26T20:05:55.527967Z",
     "start_time": "2022-05-26T20:05:55.010991Z"
    }
   },
   "outputs": [
    {
     "data": {
      "image/png": "[encoded data removed]",
      "text/plain": [
       "<Figure size 864x576 with 3 Axes>"
      ]
     },
     "metadata": {
      "needs_background": "light"
     },
     "output_type": "display_data"
    }
   ],
   "source": [
    "wide_window.plot(baseline)"
   ]
  },
  {
   "cell_type": "markdown",
   "metadata": {},
   "source": [
    "## Linear Model"
   ]
  },
  {
   "cell_type": "code",
   "execution_count": 216,
   "metadata": {
    "ExecuteTime": {
     "end_time": "2022-05-26T20:05:56.634458Z",
     "start_time": "2022-05-26T20:05:56.621006Z"
    }
   },
   "outputs": [],
   "source": [
    "linear = tf.keras.Sequential([\n",
    "    tf.keras.layers.Dense(units=1)\n",
    "])"
   ]
  },
  {
   "cell_type": "code",
   "execution_count": 217,
   "metadata": {
    "ExecuteTime": {
     "end_time": "2022-05-26T20:05:57.385193Z",
     "start_time": "2022-05-26T20:05:57.217916Z"
    }
   },
   "outputs": [
    {
     "name": "stdout",
     "output_type": "stream",
     "text": [
      "Input shape: (32, 1, 15)\n",
      "Output shape: (32, 1, 1)\n"
     ]
    }
   ],
   "source": [
    "print('Input shape:', single_step_window.example[0].shape)\n",
    "print('Output shape:', linear(single_step_window.example[0]).shape)"
   ]
  },
  {
   "cell_type": "code",
   "execution_count": 218,
   "metadata": {
    "ExecuteTime": {
     "end_time": "2022-05-26T20:05:57.947114Z",
     "start_time": "2022-05-26T20:05:57.937874Z"
    }
   },
   "outputs": [],
   "source": [
    "MAX_EPOCHS = 20\n",
    "\n",
    "def compile_and_fit(model, window, patience=2):\n",
    "  early_stopping = tf.keras.callbacks.EarlyStopping(monitor='val_loss',\n",
    "                                                    patience=patience,\n",
    "                                                    mode='min')\n",
    "\n",
    "  model.compile(loss=tf.losses.MeanSquaredError(),\n",
    "                optimizer=tf.optimizers.Adam(),\n",
    "                metrics=[tf.metrics.MeanAbsoluteError()])\n",
    "\n",
    "  history = model.fit(window.train, epochs=MAX_EPOCHS,\n",
    "                      validation_data=window.val,\n",
    "                      callbacks=[early_stopping])\n",
    "  return history"
   ]
  },
  {
   "cell_type": "code",
   "execution_count": 219,
   "metadata": {
    "ExecuteTime": {
     "end_time": "2022-05-26T20:06:04.853586Z",
     "start_time": "2022-05-26T20:05:58.727549Z"
    }
   },
   "outputs": [
    {
     "name": "stdout",
     "output_type": "stream",
     "text": [
      "Epoch 1/20\n",
      "27/27 [==============================] - 1s 10ms/step - loss: 1.0684 - mean_absolute_error: 1.0166 - val_loss: 1.4205 - val_mean_absolute_error: 1.1584\n",
      "Epoch 2/20\n",
      "27/27 [==============================] - 0s 6ms/step - loss: 0.7365 - mean_absolute_error: 0.8364 - val_loss: 1.0060 - val_mean_absolute_error: 0.9623\n",
      "Epoch 3/20\n",
      "27/27 [==============================] - 0s 6ms/step - loss: 0.4938 - mean_absolute_error: 0.6735 - val_loss: 0.7038 - val_mean_absolute_error: 0.7885\n",
      "Epoch 4/20\n",
      "27/27 [==============================] - 0s 6ms/step - loss: 0.3262 - mean_absolute_error: 0.5337 - val_loss: 0.4944 - val_mean_absolute_error: 0.6406\n",
      "Epoch 5/20\n",
      "27/27 [==============================] - 0s 11ms/step - loss: 0.2163 - mean_absolute_error: 0.4213 - val_loss: 0.3546 - val_mean_absolute_error: 0.5250\n",
      "Epoch 6/20\n",
      "27/27 [==============================] - 0s 7ms/step - loss: 0.1482 - mean_absolute_error: 0.3397 - val_loss: 0.2640 - val_mean_absolute_error: 0.4401\n",
      "Epoch 7/20\n",
      "27/27 [==============================] - 0s 7ms/step - loss: 0.1081 - mean_absolute_error: 0.2848 - val_loss: 0.2069 - val_mean_absolute_error: 0.3780\n",
      "Epoch 8/20\n",
      "27/27 [==============================] - 0s 6ms/step - loss: 0.0850 - mean_absolute_error: 0.2449 - val_loss: 0.1720 - val_mean_absolute_error: 0.3366\n",
      "Epoch 9/20\n",
      "27/27 [==============================] - 0s 6ms/step - loss: 0.0721 - mean_absolute_error: 0.2202 - val_loss: 0.1502 - val_mean_absolute_error: 0.3090\n",
      "Epoch 10/20\n",
      "27/27 [==============================] - 0s 7ms/step - loss: 0.0650 - mean_absolute_error: 0.2044 - val_loss: 0.1362 - val_mean_absolute_error: 0.2913\n",
      "Epoch 11/20\n",
      "27/27 [==============================] - 0s 7ms/step - loss: 0.0608 - mean_absolute_error: 0.1947 - val_loss: 0.1275 - val_mean_absolute_error: 0.2805\n",
      "Epoch 12/20\n",
      "27/27 [==============================] - 0s 6ms/step - loss: 0.0579 - mean_absolute_error: 0.1880 - val_loss: 0.1215 - val_mean_absolute_error: 0.2734\n",
      "Epoch 13/20\n",
      "27/27 [==============================] - 0s 6ms/step - loss: 0.0554 - mean_absolute_error: 0.1828 - val_loss: 0.1169 - val_mean_absolute_error: 0.2679\n",
      "Epoch 14/20\n",
      "27/27 [==============================] - 0s 9ms/step - loss: 0.0532 - mean_absolute_error: 0.1784 - val_loss: 0.1138 - val_mean_absolute_error: 0.2644\n",
      "Epoch 15/20\n",
      "27/27 [==============================] - 0s 6ms/step - loss: 0.0512 - mean_absolute_error: 0.1745 - val_loss: 0.1110 - val_mean_absolute_error: 0.2611\n",
      "Epoch 16/20\n",
      "27/27 [==============================] - 0s 6ms/step - loss: 0.0492 - mean_absolute_error: 0.1706 - val_loss: 0.1090 - val_mean_absolute_error: 0.2590\n",
      "Epoch 17/20\n",
      "27/27 [==============================] - 0s 8ms/step - loss: 0.0471 - mean_absolute_error: 0.1670 - val_loss: 0.1072 - val_mean_absolute_error: 0.2571\n",
      "Epoch 18/20\n",
      "27/27 [==============================] - 0s 6ms/step - loss: 0.0452 - mean_absolute_error: 0.1633 - val_loss: 0.1053 - val_mean_absolute_error: 0.2551\n",
      "Epoch 19/20\n",
      "27/27 [==============================] - 0s 7ms/step - loss: 0.0432 - mean_absolute_error: 0.1597 - val_loss: 0.1039 - val_mean_absolute_error: 0.2537\n",
      "Epoch 20/20\n",
      "27/27 [==============================] - 0s 7ms/step - loss: 0.0413 - mean_absolute_error: 0.1560 - val_loss: 0.1017 - val_mean_absolute_error: 0.2512\n",
      "8/8 [==============================] - 0s 2ms/step - loss: 0.1017 - mean_absolute_error: 0.2512\n"
     ]
    },
    {
     "ename": "ValueError",
     "evalue": "could not convert string to float: '2021-06-09'",
     "output_type": "error",
     "traceback": [
      "\u001b[0;31m---------------------------------------------------------------------------\u001b[0m",
      "\u001b[0;31mValueError\u001b[0m                                Traceback (most recent call last)",
      "\u001b[0;32m<ipython-input-219-b0d2feb106cd>\u001b[0m in \u001b[0;36m<module>\u001b[0;34m\u001b[0m\n\u001b[1;32m      2\u001b[0m \u001b[0;34m\u001b[0m\u001b[0m\n\u001b[1;32m      3\u001b[0m \u001b[0mval_performance\u001b[0m\u001b[0;34m[\u001b[0m\u001b[0;34m'Linear'\u001b[0m\u001b[0;34m]\u001b[0m \u001b[0;34m=\u001b[0m \u001b[0mlinear\u001b[0m\u001b[0;34m.\u001b[0m\u001b[0mevaluate\u001b[0m\u001b[0;34m(\u001b[0m\u001b[0msingle_step_window\u001b[0m\u001b[0;34m.\u001b[0m\u001b[0mval\u001b[0m\u001b[0;34m)\u001b[0m\u001b[0;34m\u001b[0m\u001b[0;34m\u001b[0m\u001b[0m\n\u001b[0;32m----> 4\u001b[0;31m \u001b[0mperformance\u001b[0m\u001b[0;34m[\u001b[0m\u001b[0;34m'Linear'\u001b[0m\u001b[0;34m]\u001b[0m \u001b[0;34m=\u001b[0m \u001b[0mlinear\u001b[0m\u001b[0;34m.\u001b[0m\u001b[0mevaluate\u001b[0m\u001b[0;34m(\u001b[0m\u001b[0msingle_step_window\u001b[0m\u001b[0;34m.\u001b[0m\u001b[0mtest\u001b[0m\u001b[0;34m,\u001b[0m \u001b[0mverbose\u001b[0m\u001b[0;34m=\u001b[0m\u001b[0;36m0\u001b[0m\u001b[0;34m)\u001b[0m\u001b[0;34m\u001b[0m\u001b[0;34m\u001b[0m\u001b[0m\n\u001b[0m",
      "\u001b[0;32m<ipython-input-206-fa9c97d26d90>\u001b[0m in \u001b[0;36mtest\u001b[0;34m(self)\u001b[0m\n\u001b[1;32m      9\u001b[0m \u001b[0;34m@\u001b[0m\u001b[0mproperty\u001b[0m\u001b[0;34m\u001b[0m\u001b[0;34m\u001b[0m\u001b[0m\n\u001b[1;32m     10\u001b[0m \u001b[0;32mdef\u001b[0m \u001b[0mtest\u001b[0m\u001b[0;34m(\u001b[0m\u001b[0mself\u001b[0m\u001b[0;34m)\u001b[0m\u001b[0;34m:\u001b[0m\u001b[0;34m\u001b[0m\u001b[0;34m\u001b[0m\u001b[0m\n\u001b[0;32m---> 11\u001b[0;31m   \u001b[0;32mreturn\u001b[0m \u001b[0mself\u001b[0m\u001b[0;34m.\u001b[0m\u001b[0mmake_dataset\u001b[0m\u001b[0;34m(\u001b[0m\u001b[0mself\u001b[0m\u001b[0;34m.\u001b[0m\u001b[0mtest_df\u001b[0m\u001b[0;34m)\u001b[0m\u001b[0;34m\u001b[0m\u001b[0;34m\u001b[0m\u001b[0m\n\u001b[0m\u001b[1;32m     12\u001b[0m \u001b[0;34m\u001b[0m\u001b[0m\n\u001b[1;32m     13\u001b[0m \u001b[0;34m@\u001b[0m\u001b[0mproperty\u001b[0m\u001b[0;34m\u001b[0m\u001b[0;34m\u001b[0m\u001b[0m\n",
      "\u001b[0;32m<ipython-input-205-22ee132fa01e>\u001b[0m in \u001b[0;36mmake_dataset\u001b[0;34m(self, data)\u001b[0m\n\u001b[1;32m      1\u001b[0m \u001b[0;32mdef\u001b[0m \u001b[0mmake_dataset\u001b[0m\u001b[0;34m(\u001b[0m\u001b[0mself\u001b[0m\u001b[0;34m,\u001b[0m \u001b[0mdata\u001b[0m\u001b[0;34m)\u001b[0m\u001b[0;34m:\u001b[0m\u001b[0;34m\u001b[0m\u001b[0;34m\u001b[0m\u001b[0m\n\u001b[0;32m----> 2\u001b[0;31m   \u001b[0mdata\u001b[0m \u001b[0;34m=\u001b[0m \u001b[0mnp\u001b[0m\u001b[0;34m.\u001b[0m\u001b[0marray\u001b[0m\u001b[0;34m(\u001b[0m\u001b[0mdata\u001b[0m\u001b[0;34m,\u001b[0m \u001b[0mdtype\u001b[0m\u001b[0;34m=\u001b[0m\u001b[0mnp\u001b[0m\u001b[0;34m.\u001b[0m\u001b[0mfloat32\u001b[0m\u001b[0;34m)\u001b[0m\u001b[0;34m\u001b[0m\u001b[0;34m\u001b[0m\u001b[0m\n\u001b[0m\u001b[1;32m      3\u001b[0m   ds = tf.keras.utils.timeseries_dataset_from_array(\n\u001b[1;32m      4\u001b[0m       \u001b[0mdata\u001b[0m\u001b[0;34m=\u001b[0m\u001b[0mdata\u001b[0m\u001b[0;34m,\u001b[0m\u001b[0;34m\u001b[0m\u001b[0;34m\u001b[0m\u001b[0m\n\u001b[1;32m      5\u001b[0m       \u001b[0mtargets\u001b[0m\u001b[0;34m=\u001b[0m\u001b[0;32mNone\u001b[0m\u001b[0;34m,\u001b[0m\u001b[0;34m\u001b[0m\u001b[0;34m\u001b[0m\u001b[0m\n",
      "\u001b[0;32m~/opt/anaconda3/envs/learn-env/lib/python3.8/site-packages/pandas/core/generic.py\u001b[0m in \u001b[0;36m__array__\u001b[0;34m(self, dtype)\u001b[0m\n\u001b[1;32m   1779\u001b[0m \u001b[0;34m\u001b[0m\u001b[0m\n\u001b[1;32m   1780\u001b[0m     \u001b[0;32mdef\u001b[0m \u001b[0m__array__\u001b[0m\u001b[0;34m(\u001b[0m\u001b[0mself\u001b[0m\u001b[0;34m,\u001b[0m \u001b[0mdtype\u001b[0m\u001b[0;34m=\u001b[0m\u001b[0;32mNone\u001b[0m\u001b[0;34m)\u001b[0m \u001b[0;34m->\u001b[0m \u001b[0mnp\u001b[0m\u001b[0;34m.\u001b[0m\u001b[0mndarray\u001b[0m\u001b[0;34m:\u001b[0m\u001b[0;34m\u001b[0m\u001b[0;34m\u001b[0m\u001b[0m\n\u001b[0;32m-> 1781\u001b[0;31m         \u001b[0;32mreturn\u001b[0m \u001b[0mnp\u001b[0m\u001b[0;34m.\u001b[0m\u001b[0masarray\u001b[0m\u001b[0;34m(\u001b[0m\u001b[0mself\u001b[0m\u001b[0;34m.\u001b[0m\u001b[0m_values\u001b[0m\u001b[0;34m,\u001b[0m \u001b[0mdtype\u001b[0m\u001b[0;34m=\u001b[0m\u001b[0mdtype\u001b[0m\u001b[0;34m)\u001b[0m\u001b[0;34m\u001b[0m\u001b[0;34m\u001b[0m\u001b[0m\n\u001b[0m\u001b[1;32m   1782\u001b[0m \u001b[0;34m\u001b[0m\u001b[0m\n\u001b[1;32m   1783\u001b[0m     \u001b[0;32mdef\u001b[0m \u001b[0m__array_wrap__\u001b[0m\u001b[0;34m(\u001b[0m\u001b[0mself\u001b[0m\u001b[0;34m,\u001b[0m \u001b[0mresult\u001b[0m\u001b[0;34m,\u001b[0m \u001b[0mcontext\u001b[0m\u001b[0;34m=\u001b[0m\u001b[0;32mNone\u001b[0m\u001b[0;34m)\u001b[0m\u001b[0;34m:\u001b[0m\u001b[0;34m\u001b[0m\u001b[0;34m\u001b[0m\u001b[0m\n",
      "\u001b[0;31mValueError\u001b[0m: could not convert string to float: '2021-06-09'"
     ]
    }
   ],
   "source": [
    "history = compile_and_fit(linear, single_step_window)\n",
    "\n",
    "val_performance['Linear'] = linear.evaluate(single_step_window.val)\n",
    "performance['Linear'] = linear.evaluate(single_step_window.test, verbose=0)"
   ]
  },
  {
   "cell_type": "code",
   "execution_count": null,
   "metadata": {},
   "outputs": [],
   "source": []
  }
 ],
 "metadata": {
  "kernelspec": {
   "display_name": "Python 3",
   "language": "python",
   "name": "python3"
  },
  "language_info": {
   "codemirror_mode": {
    "name": "ipython",
    "version": 3
   },
   "file_extension": ".py",
   "mimetype": "text/x-python",
   "name": "python",
   "nbconvert_exporter": "python",
   "pygments_lexer": "ipython3",
   "version": "3.8.5"
  },
  "toc": {
   "base_numbering": 1,
   "nav_menu": {},
   "number_sections": true,
   "sideBar": true,
   "skip_h1_title": false,
   "title_cell": "Table of Contents",
   "title_sidebar": "Contents",
   "toc_cell": true,
   "toc_position": {},
   "toc_section_display": true,
   "toc_window_display": true
  }
 },
 "nbformat": 4,
 "nbformat_minor": 4
}

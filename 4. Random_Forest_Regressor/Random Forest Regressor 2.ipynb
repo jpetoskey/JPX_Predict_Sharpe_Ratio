{
 "cells": [
  {
   "cell_type": "markdown",
   "metadata": {
    "toc": true
   },
   "source": [
    "<h1>Table of Contents<span class=\"tocSkip\"></span></h1>\n",
    "<div class=\"toc\"><ul class=\"toc-item\"><li><span><a href=\"#Import-Libraries\" data-toc-modified-id=\"Import-Libraries-1\"><span class=\"toc-item-num\">1&nbsp;&nbsp;</span>Import Libraries</a></span></li><li><span><a href=\"#Preprocessing\" data-toc-modified-id=\"Preprocessing-2\"><span class=\"toc-item-num\">2&nbsp;&nbsp;</span>Preprocessing</a></span><ul class=\"toc-item\"><li><span><a href=\"#Identify-Single-Stock\" data-toc-modified-id=\"Identify-Single-Stock-2.1\"><span class=\"toc-item-num\">2.1&nbsp;&nbsp;</span>Identify Single Stock</a></span></li><li><span><a href=\"#Explore-Columns\" data-toc-modified-id=\"Explore-Columns-2.2\"><span class=\"toc-item-num\">2.2&nbsp;&nbsp;</span>Explore Columns</a></span><ul class=\"toc-item\"><li><span><a href=\"#How-many-null-values-in-each-column?\" data-toc-modified-id=\"How-many-null-values-in-each-column?-2.2.1\"><span class=\"toc-item-num\">2.2.1&nbsp;&nbsp;</span>How many null values in each column?</a></span><ul class=\"toc-item\"><li><span><a href=\"#Forward-Fill\" data-toc-modified-id=\"Forward-Fill-2.2.1.1\"><span class=\"toc-item-num\">2.2.1.1&nbsp;&nbsp;</span>Forward Fill</a></span></li></ul></li><li><span><a href=\"#Describe-sparse-and-singular-value-columns\" data-toc-modified-id=\"Describe-sparse-and-singular-value-columns-2.2.2\"><span class=\"toc-item-num\">2.2.2&nbsp;&nbsp;</span>Describe sparse and singular value columns</a></span></li></ul></li><li><span><a href=\"#Plot-Attributes\" data-toc-modified-id=\"Plot-Attributes-2.3\"><span class=\"toc-item-num\">2.3&nbsp;&nbsp;</span>Plot Attributes</a></span><ul class=\"toc-item\"><li><span><a href=\"#Plot-Daily-Close\" data-toc-modified-id=\"Plot-Daily-Close-2.3.1\"><span class=\"toc-item-num\">2.3.1&nbsp;&nbsp;</span>Plot Daily Close</a></span></li><li><span><a href=\"#Plot-Daily-Spread\" data-toc-modified-id=\"Plot-Daily-Spread-2.3.2\"><span class=\"toc-item-num\">2.3.2&nbsp;&nbsp;</span>Plot Daily Spread</a></span></li><li><span><a href=\"#Plot-Close-Difference\" data-toc-modified-id=\"Plot-Close-Difference-2.3.3\"><span class=\"toc-item-num\">2.3.3&nbsp;&nbsp;</span>Plot Close Difference</a></span></li></ul></li><li><span><a href=\"#Add-Financials\" data-toc-modified-id=\"Add-Financials-2.4\"><span class=\"toc-item-num\">2.4&nbsp;&nbsp;</span>Add Financials</a></span><ul class=\"toc-item\"><li><span><a href=\"#Merge-Financials-with-df1\" data-toc-modified-id=\"Merge-Financials-with-df1-2.4.1\"><span class=\"toc-item-num\">2.4.1&nbsp;&nbsp;</span>Merge Financials with df1</a></span></li></ul></li><li><span><a href=\"#Add-Stock-List\" data-toc-modified-id=\"Add-Stock-List-2.5\"><span class=\"toc-item-num\">2.5&nbsp;&nbsp;</span>Add Stock List</a></span></li></ul></li><li><span><a href=\"#Feature-Engineering\" data-toc-modified-id=\"Feature-Engineering-3\"><span class=\"toc-item-num\">3&nbsp;&nbsp;</span>Feature Engineering</a></span><ul class=\"toc-item\"><li><span><a href=\"#Features-for-train\" data-toc-modified-id=\"Features-for-train-3.1\"><span class=\"toc-item-num\">3.1&nbsp;&nbsp;</span>Features for train</a></span></li></ul></li><li><span><a href=\"#Train-&amp;-Test\" data-toc-modified-id=\"Train-&amp;-Test-4\"><span class=\"toc-item-num\">4&nbsp;&nbsp;</span>Train &amp; Test</a></span><ul class=\"toc-item\"><li><span><a href=\"#No-Financials-Model\" data-toc-modified-id=\"No-Financials-Model-4.1\"><span class=\"toc-item-num\">4.1&nbsp;&nbsp;</span>No Financials Model</a></span><ul class=\"toc-item\"><li><span><a href=\"#Train,-Test,-Split\" data-toc-modified-id=\"Train,-Test,-Split-4.1.1\"><span class=\"toc-item-num\">4.1.1&nbsp;&nbsp;</span>Train, Test, Split</a></span></li><li><span><a href=\"#Check-train/test-shape\" data-toc-modified-id=\"Check-train/test-shape-4.1.2\"><span class=\"toc-item-num\">4.1.2&nbsp;&nbsp;</span>Check train/test shape</a></span></li><li><span><a href=\"#Train-and-Fit-Model\" data-toc-modified-id=\"Train-and-Fit-Model-4.1.3\"><span class=\"toc-item-num\">4.1.3&nbsp;&nbsp;</span>Train and Fit Model</a></span></li><li><span><a href=\"#Predictions-&amp;-Mean-Absolute-Error\" data-toc-modified-id=\"Predictions-&amp;-Mean-Absolute-Error-4.1.4\"><span class=\"toc-item-num\">4.1.4&nbsp;&nbsp;</span>Predictions &amp; Mean Absolute Error</a></span></li><li><span><a href=\"#RMSE\" data-toc-modified-id=\"RMSE-4.1.5\"><span class=\"toc-item-num\">4.1.5&nbsp;&nbsp;</span>RMSE</a></span></li><li><span><a href=\"#Feature-Importance\" data-toc-modified-id=\"Feature-Importance-4.1.6\"><span class=\"toc-item-num\">4.1.6&nbsp;&nbsp;</span>Feature Importance</a></span></li><li><span><a href=\"#Summary:-Feature-Importance:\" data-toc-modified-id=\"Summary:-Feature-Importance:-4.1.7\"><span class=\"toc-item-num\">4.1.7&nbsp;&nbsp;</span>Summary: Feature Importance:</a></span></li></ul></li><li><span><a href=\"#Financials-Added-Model\" data-toc-modified-id=\"Financials-Added-Model-4.2\"><span class=\"toc-item-num\">4.2&nbsp;&nbsp;</span>Financials Added Model</a></span><ul class=\"toc-item\"><li><span><a href=\"#Train,-Test,-Split\" data-toc-modified-id=\"Train,-Test,-Split-4.2.1\"><span class=\"toc-item-num\">4.2.1&nbsp;&nbsp;</span>Train, Test, Split</a></span></li><li><span><a href=\"#Check-train/test-shape\" data-toc-modified-id=\"Check-train/test-shape-4.2.2\"><span class=\"toc-item-num\">4.2.2&nbsp;&nbsp;</span>Check train/test shape</a></span></li><li><span><a href=\"#Train-and-Fit-Model\" data-toc-modified-id=\"Train-and-Fit-Model-4.2.3\"><span class=\"toc-item-num\">4.2.3&nbsp;&nbsp;</span>Train and Fit Model</a></span></li><li><span><a href=\"#Predictions-&amp;-Mean-Absolute-Error\" data-toc-modified-id=\"Predictions-&amp;-Mean-Absolute-Error-4.2.4\"><span class=\"toc-item-num\">4.2.4&nbsp;&nbsp;</span>Predictions &amp; Mean Absolute Error</a></span></li><li><span><a href=\"#RMSE\" data-toc-modified-id=\"RMSE-4.2.5\"><span class=\"toc-item-num\">4.2.5&nbsp;&nbsp;</span>RMSE</a></span></li><li><span><a href=\"#Feature-Importance\" data-toc-modified-id=\"Feature-Importance-4.2.6\"><span class=\"toc-item-num\">4.2.6&nbsp;&nbsp;</span>Feature Importance</a></span></li><li><span><a href=\"#Summary:-Feature-Importance:\" data-toc-modified-id=\"Summary:-Feature-Importance:-4.2.7\"><span class=\"toc-item-num\">4.2.7&nbsp;&nbsp;</span>Summary: Feature Importance:</a></span></li></ul></li></ul></li><li><span><a href=\"#Compare-Models---Multiple-Stocks\" data-toc-modified-id=\"Compare-Models---Multiple-Stocks-5\"><span class=\"toc-item-num\">5&nbsp;&nbsp;</span>Compare Models - Multiple Stocks</a></span><ul class=\"toc-item\"><li><span><a href=\"#Only-Price-Information\" data-toc-modified-id=\"Only-Price-Information-5.1\"><span class=\"toc-item-num\">5.1&nbsp;&nbsp;</span>Only Price Information</a></span><ul class=\"toc-item\"><li><span><a href=\"#Train,-Test,-Split\" data-toc-modified-id=\"Train,-Test,-Split-5.1.1\"><span class=\"toc-item-num\">5.1.1&nbsp;&nbsp;</span>Train, Test, Split</a></span></li><li><span><a href=\"#Check-train/test-shape\" data-toc-modified-id=\"Check-train/test-shape-5.1.2\"><span class=\"toc-item-num\">5.1.2&nbsp;&nbsp;</span>Check train/test shape</a></span></li><li><span><a href=\"#Train-and-Fit-Model\" data-toc-modified-id=\"Train-and-Fit-Model-5.1.3\"><span class=\"toc-item-num\">5.1.3&nbsp;&nbsp;</span>Train and Fit Model</a></span></li><li><span><a href=\"#Predictions-&amp;-Mean-Absolute-Error\" data-toc-modified-id=\"Predictions-&amp;-Mean-Absolute-Error-5.1.4\"><span class=\"toc-item-num\">5.1.4&nbsp;&nbsp;</span>Predictions &amp; Mean Absolute Error</a></span></li><li><span><a href=\"#RMSE\" data-toc-modified-id=\"RMSE-5.1.5\"><span class=\"toc-item-num\">5.1.5&nbsp;&nbsp;</span>RMSE</a></span></li><li><span><a href=\"#Feature-Importance\" data-toc-modified-id=\"Feature-Importance-5.1.6\"><span class=\"toc-item-num\">5.1.6&nbsp;&nbsp;</span>Feature Importance</a></span></li><li><span><a href=\"#Summary:-Feature-Importance:\" data-toc-modified-id=\"Summary:-Feature-Importance:-5.1.7\"><span class=\"toc-item-num\">5.1.7&nbsp;&nbsp;</span>Summary: Feature Importance:</a></span></li></ul></li><li><span><a href=\"#With-Financials\" data-toc-modified-id=\"With-Financials-5.2\"><span class=\"toc-item-num\">5.2&nbsp;&nbsp;</span>With Financials</a></span><ul class=\"toc-item\"><li><span><a href=\"#Train,-Test,-Split\" data-toc-modified-id=\"Train,-Test,-Split-5.2.1\"><span class=\"toc-item-num\">5.2.1&nbsp;&nbsp;</span>Train, Test, Split</a></span></li><li><span><a href=\"#Check-train/test-shape\" data-toc-modified-id=\"Check-train/test-shape-5.2.2\"><span class=\"toc-item-num\">5.2.2&nbsp;&nbsp;</span>Check train/test shape</a></span></li><li><span><a href=\"#Train-and-Fit-Model\" data-toc-modified-id=\"Train-and-Fit-Model-5.2.3\"><span class=\"toc-item-num\">5.2.3&nbsp;&nbsp;</span>Train and Fit Model</a></span></li><li><span><a href=\"#Predictions-&amp;-Mean-Absolute-Error\" data-toc-modified-id=\"Predictions-&amp;-Mean-Absolute-Error-5.2.4\"><span class=\"toc-item-num\">5.2.4&nbsp;&nbsp;</span>Predictions &amp; Mean Absolute Error</a></span></li><li><span><a href=\"#RMSE\" data-toc-modified-id=\"RMSE-5.2.5\"><span class=\"toc-item-num\">5.2.5&nbsp;&nbsp;</span>RMSE</a></span></li><li><span><a href=\"#Feature-Importance\" data-toc-modified-id=\"Feature-Importance-5.2.6\"><span class=\"toc-item-num\">5.2.6&nbsp;&nbsp;</span>Feature Importance</a></span></li><li><span><a href=\"#Summary:-Feature-Importance:\" data-toc-modified-id=\"Summary:-Feature-Importance:-5.2.7\"><span class=\"toc-item-num\">5.2.7&nbsp;&nbsp;</span>Summary: Feature Importance:</a></span></li></ul></li><li><span><a href=\"#With-Financials-and-Stock-List\" data-toc-modified-id=\"With-Financials-and-Stock-List-5.3\"><span class=\"toc-item-num\">5.3&nbsp;&nbsp;</span>With Financials and Stock List</a></span><ul class=\"toc-item\"><li><span><a href=\"#Train,-Test,-Split\" data-toc-modified-id=\"Train,-Test,-Split-5.3.1\"><span class=\"toc-item-num\">5.3.1&nbsp;&nbsp;</span>Train, Test, Split</a></span></li><li><span><a href=\"#Check-train/test-shape\" data-toc-modified-id=\"Check-train/test-shape-5.3.2\"><span class=\"toc-item-num\">5.3.2&nbsp;&nbsp;</span>Check train/test shape</a></span></li><li><span><a href=\"#Train-and-Fit-Model\" data-toc-modified-id=\"Train-and-Fit-Model-5.3.3\"><span class=\"toc-item-num\">5.3.3&nbsp;&nbsp;</span>Train and Fit Model</a></span></li><li><span><a href=\"#Predictions-&amp;-Mean-Absolute-Error\" data-toc-modified-id=\"Predictions-&amp;-Mean-Absolute-Error-5.3.4\"><span class=\"toc-item-num\">5.3.4&nbsp;&nbsp;</span>Predictions &amp; Mean Absolute Error</a></span></li><li><span><a href=\"#RMSE\" data-toc-modified-id=\"RMSE-5.3.5\"><span class=\"toc-item-num\">5.3.5&nbsp;&nbsp;</span>RMSE</a></span></li><li><span><a href=\"#Feature-Importance\" data-toc-modified-id=\"Feature-Importance-5.3.6\"><span class=\"toc-item-num\">5.3.6&nbsp;&nbsp;</span>Feature Importance</a></span></li><li><span><a href=\"#Summary:-Feature-Importance:\" data-toc-modified-id=\"Summary:-Feature-Importance:-5.3.7\"><span class=\"toc-item-num\">5.3.7&nbsp;&nbsp;</span>Summary: Feature Importance:</a></span></li></ul></li></ul></li><li><span><a href=\"#GridSearch-Hyper-Parameters\" data-toc-modified-id=\"GridSearch-Hyper-Parameters-6\"><span class=\"toc-item-num\">6&nbsp;&nbsp;</span>GridSearch Hyper-Parameters</a></span></li><li><span><a href=\"#Submission-Prediction---All-Stocks\" data-toc-modified-id=\"Submission-Prediction---All-Stocks-7\"><span class=\"toc-item-num\">7&nbsp;&nbsp;</span>Submission Prediction - All Stocks</a></span><ul class=\"toc-item\"><li><span><a href=\"#Train-&amp;-Test\" data-toc-modified-id=\"Train-&amp;-Test-7.1\"><span class=\"toc-item-num\">7.1&nbsp;&nbsp;</span>Train &amp; Test</a></span><ul class=\"toc-item\"><li><span><a href=\"#Train,-Test,-Split\" data-toc-modified-id=\"Train,-Test,-Split-7.1.1\"><span class=\"toc-item-num\">7.1.1&nbsp;&nbsp;</span>Train, Test, Split</a></span></li></ul></li><li><span><a href=\"#Check-train/test-shape\" data-toc-modified-id=\"Check-train/test-shape-7.2\"><span class=\"toc-item-num\">7.2&nbsp;&nbsp;</span>Check train/test shape</a></span></li><li><span><a href=\"#Train-Model\" data-toc-modified-id=\"Train-Model-7.3\"><span class=\"toc-item-num\">7.3&nbsp;&nbsp;</span>Train Model</a></span></li><li><span><a href=\"#Predictions-&amp;-Mean-Absolute-Error\" data-toc-modified-id=\"Predictions-&amp;-Mean-Absolute-Error-7.4\"><span class=\"toc-item-num\">7.4&nbsp;&nbsp;</span>Predictions &amp; Mean Absolute Error</a></span></li><li><span><a href=\"#RMSE\" data-toc-modified-id=\"RMSE-7.5\"><span class=\"toc-item-num\">7.5&nbsp;&nbsp;</span>RMSE</a></span></li><li><span><a href=\"#Feature-Importance\" data-toc-modified-id=\"Feature-Importance-7.6\"><span class=\"toc-item-num\">7.6&nbsp;&nbsp;</span>Feature Importance</a></span><ul class=\"toc-item\"><li><span><a href=\"#Summary:-Feature-Importance:\" data-toc-modified-id=\"Summary:-Feature-Importance:-7.6.1\"><span class=\"toc-item-num\">7.6.1&nbsp;&nbsp;</span>Summary: Feature Importance:</a></span></li></ul></li></ul></li></ul></div>"
   ]
  },
  {
   "cell_type": "markdown",
   "metadata": {},
   "source": [
    "# Import Libraries"
   ]
  },
  {
   "cell_type": "code",
   "execution_count": 80,
   "metadata": {
    "ExecuteTime": {
     "end_time": "2022-06-03T15:16:38.556194Z",
     "start_time": "2022-06-03T15:16:38.540774Z"
    }
   },
   "outputs": [],
   "source": [
    "# Import necessary libraries\n",
    "import warnings\n",
    "warnings.filterwarnings('ignore')\n",
    "\n",
    "import pandas as pd \n",
    "import numpy as np\n",
    "import matplotlib.pyplot as plt\n",
    "import matplotlib\n",
    "import seaborn as sns\n",
    "%matplotlib inline\n",
    "from matplotlib.pylab import rcParams\n",
    "from sklearn.preprocessing import MinMaxScaler\n",
    "from sklearn.metrics import mean_squared_error\n",
    "from math import sqrt\n",
    "from scipy import stats\n",
    "import random\n",
    "from sklearn.ensemble import RandomForestRegressor\n",
    "from sklearn.datasets import make_regression\n",
    "from sklearn.ensemble import RandomForestRegressor\n",
    "from sklearn.datasets import make_regression\n",
    "from sklearn.model_selection import train_test_split\n",
    "from sklearn.model_selection import RandomizedSearchCV"
   ]
  },
  {
   "cell_type": "markdown",
   "metadata": {},
   "source": [
    "# Preprocessing"
   ]
  },
  {
   "cell_type": "code",
   "execution_count": 2,
   "metadata": {
    "ExecuteTime": {
     "end_time": "2022-06-03T14:47:12.721814Z",
     "start_time": "2022-06-03T14:47:05.007311Z"
    }
   },
   "outputs": [
    {
     "data": {
      "text/html": [
       "<div>\n",
       "<style scoped>\n",
       "    .dataframe tbody tr th:only-of-type {\n",
       "        vertical-align: middle;\n",
       "    }\n",
       "\n",
       "    .dataframe tbody tr th {\n",
       "        vertical-align: top;\n",
       "    }\n",
       "\n",
       "    .dataframe thead th {\n",
       "        text-align: right;\n",
       "    }\n",
       "</style>\n",
       "<table border=\"1\" class=\"dataframe\">\n",
       "  <thead>\n",
       "    <tr style=\"text-align: right;\">\n",
       "      <th></th>\n",
       "      <th>RowId</th>\n",
       "      <th>Date</th>\n",
       "      <th>SecuritiesCode</th>\n",
       "      <th>Open</th>\n",
       "      <th>High</th>\n",
       "      <th>Low</th>\n",
       "      <th>Close</th>\n",
       "      <th>Volume</th>\n",
       "      <th>AdjustmentFactor</th>\n",
       "      <th>ExpectedDividend</th>\n",
       "      <th>SupervisionFlag</th>\n",
       "      <th>Target</th>\n",
       "    </tr>\n",
       "  </thead>\n",
       "  <tbody>\n",
       "    <tr>\n",
       "      <th>0</th>\n",
       "      <td>20170104_1301</td>\n",
       "      <td>2017-01-04</td>\n",
       "      <td>1301</td>\n",
       "      <td>2734.0</td>\n",
       "      <td>2755.0</td>\n",
       "      <td>2730.0</td>\n",
       "      <td>2742.0</td>\n",
       "      <td>31400</td>\n",
       "      <td>1.0</td>\n",
       "      <td>NaN</td>\n",
       "      <td>False</td>\n",
       "      <td>0.000730</td>\n",
       "    </tr>\n",
       "    <tr>\n",
       "      <th>1</th>\n",
       "      <td>20170104_1332</td>\n",
       "      <td>2017-01-04</td>\n",
       "      <td>1332</td>\n",
       "      <td>568.0</td>\n",
       "      <td>576.0</td>\n",
       "      <td>563.0</td>\n",
       "      <td>571.0</td>\n",
       "      <td>2798500</td>\n",
       "      <td>1.0</td>\n",
       "      <td>NaN</td>\n",
       "      <td>False</td>\n",
       "      <td>0.012324</td>\n",
       "    </tr>\n",
       "    <tr>\n",
       "      <th>2</th>\n",
       "      <td>20170104_1333</td>\n",
       "      <td>2017-01-04</td>\n",
       "      <td>1333</td>\n",
       "      <td>3150.0</td>\n",
       "      <td>3210.0</td>\n",
       "      <td>3140.0</td>\n",
       "      <td>3210.0</td>\n",
       "      <td>270800</td>\n",
       "      <td>1.0</td>\n",
       "      <td>NaN</td>\n",
       "      <td>False</td>\n",
       "      <td>0.006154</td>\n",
       "    </tr>\n",
       "    <tr>\n",
       "      <th>3</th>\n",
       "      <td>20170104_1376</td>\n",
       "      <td>2017-01-04</td>\n",
       "      <td>1376</td>\n",
       "      <td>1510.0</td>\n",
       "      <td>1550.0</td>\n",
       "      <td>1510.0</td>\n",
       "      <td>1550.0</td>\n",
       "      <td>11300</td>\n",
       "      <td>1.0</td>\n",
       "      <td>NaN</td>\n",
       "      <td>False</td>\n",
       "      <td>0.011053</td>\n",
       "    </tr>\n",
       "    <tr>\n",
       "      <th>4</th>\n",
       "      <td>20170104_1377</td>\n",
       "      <td>2017-01-04</td>\n",
       "      <td>1377</td>\n",
       "      <td>3270.0</td>\n",
       "      <td>3350.0</td>\n",
       "      <td>3270.0</td>\n",
       "      <td>3330.0</td>\n",
       "      <td>150800</td>\n",
       "      <td>1.0</td>\n",
       "      <td>NaN</td>\n",
       "      <td>False</td>\n",
       "      <td>0.003026</td>\n",
       "    </tr>\n",
       "  </tbody>\n",
       "</table>\n",
       "</div>"
      ],
      "text/plain": [
       "           RowId        Date  SecuritiesCode    Open    High     Low   Close  \\\n",
       "0  20170104_1301  2017-01-04            1301  2734.0  2755.0  2730.0  2742.0   \n",
       "1  20170104_1332  2017-01-04            1332   568.0   576.0   563.0   571.0   \n",
       "2  20170104_1333  2017-01-04            1333  3150.0  3210.0  3140.0  3210.0   \n",
       "3  20170104_1376  2017-01-04            1376  1510.0  1550.0  1510.0  1550.0   \n",
       "4  20170104_1377  2017-01-04            1377  3270.0  3350.0  3270.0  3330.0   \n",
       "\n",
       "    Volume  AdjustmentFactor  ExpectedDividend  SupervisionFlag    Target  \n",
       "0    31400               1.0               NaN            False  0.000730  \n",
       "1  2798500               1.0               NaN            False  0.012324  \n",
       "2   270800               1.0               NaN            False  0.006154  \n",
       "3    11300               1.0               NaN            False  0.011053  \n",
       "4   150800               1.0               NaN            False  0.003026  "
      ]
     },
     "execution_count": 2,
     "metadata": {},
     "output_type": "execute_result"
    }
   ],
   "source": [
    "# Create dataframe from zillow median home price data\n",
    "df = pd.read_csv(r'/Users/jimpetoskey/Documents/Flatiron/phase5/data/stock_prices.csv') \n",
    "\n",
    "# make copy of df\n",
    "df1 = df.copy()\n",
    "\n",
    "# Look at top-performing stocks, choose top-performer to model\n",
    "df1.sort_values(by='Target', ascending=False)\n",
    "\n",
    "df1.head(5)"
   ]
  },
  {
   "cell_type": "code",
   "execution_count": 220,
   "metadata": {
    "ExecuteTime": {
     "end_time": "2022-06-03T19:51:47.909759Z",
     "start_time": "2022-06-03T19:51:47.546803Z"
    }
   },
   "outputs": [
    {
     "name": "stdout",
     "output_type": "stream",
     "text": [
      "<class 'pandas.core.frame.DataFrame'>\n",
      "RangeIndex: 2332531 entries, 0 to 2332530\n",
      "Data columns (total 12 columns):\n",
      " #   Column            Dtype  \n",
      "---  ------            -----  \n",
      " 0   RowId             object \n",
      " 1   Date              object \n",
      " 2   SecuritiesCode    int64  \n",
      " 3   Open              float64\n",
      " 4   High              float64\n",
      " 5   Low               float64\n",
      " 6   Close             float64\n",
      " 7   Volume            int64  \n",
      " 8   AdjustmentFactor  float64\n",
      " 9   ExpectedDividend  float64\n",
      " 10  SupervisionFlag   bool   \n",
      " 11  Target            float64\n",
      "dtypes: bool(1), float64(7), int64(2), object(2)\n",
      "memory usage: 198.0+ MB\n"
     ]
    }
   ],
   "source": [
    "df1.info()"
   ]
  },
  {
   "cell_type": "markdown",
   "metadata": {},
   "source": [
    "## Identify Single Stock"
   ]
  },
  {
   "cell_type": "code",
   "execution_count": 3,
   "metadata": {
    "ExecuteTime": {
     "end_time": "2022-06-03T14:47:12.763264Z",
     "start_time": "2022-06-03T14:47:12.725290Z"
    }
   },
   "outputs": [
    {
     "data": {
      "text/html": [
       "<div>\n",
       "<style scoped>\n",
       "    .dataframe tbody tr th:only-of-type {\n",
       "        vertical-align: middle;\n",
       "    }\n",
       "\n",
       "    .dataframe tbody tr th {\n",
       "        vertical-align: top;\n",
       "    }\n",
       "\n",
       "    .dataframe thead th {\n",
       "        text-align: right;\n",
       "    }\n",
       "</style>\n",
       "<table border=\"1\" class=\"dataframe\">\n",
       "  <thead>\n",
       "    <tr style=\"text-align: right;\">\n",
       "      <th></th>\n",
       "      <th>RowId</th>\n",
       "      <th>Date</th>\n",
       "      <th>SecuritiesCode</th>\n",
       "      <th>Open</th>\n",
       "      <th>High</th>\n",
       "      <th>Low</th>\n",
       "      <th>Close</th>\n",
       "      <th>Volume</th>\n",
       "      <th>AdjustmentFactor</th>\n",
       "      <th>ExpectedDividend</th>\n",
       "      <th>SupervisionFlag</th>\n",
       "      <th>Target</th>\n",
       "    </tr>\n",
       "  </thead>\n",
       "  <tbody>\n",
       "    <tr>\n",
       "      <th>1450</th>\n",
       "      <td>20170104_8103</td>\n",
       "      <td>2017-01-04</td>\n",
       "      <td>8103</td>\n",
       "      <td>406.0</td>\n",
       "      <td>413.0</td>\n",
       "      <td>395.0</td>\n",
       "      <td>413.0</td>\n",
       "      <td>82600</td>\n",
       "      <td>1.0</td>\n",
       "      <td>NaN</td>\n",
       "      <td>False</td>\n",
       "      <td>-0.024213</td>\n",
       "    </tr>\n",
       "    <tr>\n",
       "      <th>3315</th>\n",
       "      <td>20170105_8103</td>\n",
       "      <td>2017-01-05</td>\n",
       "      <td>8103</td>\n",
       "      <td>415.0</td>\n",
       "      <td>419.0</td>\n",
       "      <td>408.0</td>\n",
       "      <td>413.0</td>\n",
       "      <td>57500</td>\n",
       "      <td>1.0</td>\n",
       "      <td>NaN</td>\n",
       "      <td>False</td>\n",
       "      <td>-0.002481</td>\n",
       "    </tr>\n",
       "  </tbody>\n",
       "</table>\n",
       "</div>"
      ],
      "text/plain": [
       "              RowId        Date  SecuritiesCode   Open   High    Low  Close  \\\n",
       "1450  20170104_8103  2017-01-04            8103  406.0  413.0  395.0  413.0   \n",
       "3315  20170105_8103  2017-01-05            8103  415.0  419.0  408.0  413.0   \n",
       "\n",
       "      Volume  AdjustmentFactor  ExpectedDividend  SupervisionFlag    Target  \n",
       "1450   82600               1.0               NaN            False -0.024213  \n",
       "3315   57500               1.0               NaN            False -0.002481  "
      ]
     },
     "execution_count": 3,
     "metadata": {},
     "output_type": "execute_result"
    }
   ],
   "source": [
    "# Pull one stock's values for given stock from stock_prices\n",
    "values8103 = df1.loc[df1['SecuritiesCode'] == 8103]                   \n",
    "values8103.head(2)"
   ]
  },
  {
   "cell_type": "code",
   "execution_count": 4,
   "metadata": {
    "ExecuteTime": {
     "end_time": "2022-06-03T14:47:14.358797Z",
     "start_time": "2022-06-03T14:47:12.765877Z"
    }
   },
   "outputs": [
    {
     "data": {
      "text/html": [
       "<div>\n",
       "<style scoped>\n",
       "    .dataframe tbody tr th:only-of-type {\n",
       "        vertical-align: middle;\n",
       "    }\n",
       "\n",
       "    .dataframe tbody tr th {\n",
       "        vertical-align: top;\n",
       "    }\n",
       "\n",
       "    .dataframe thead th {\n",
       "        text-align: right;\n",
       "    }\n",
       "</style>\n",
       "<table border=\"1\" class=\"dataframe\">\n",
       "  <thead>\n",
       "    <tr style=\"text-align: right;\">\n",
       "      <th></th>\n",
       "      <th>RowId</th>\n",
       "      <th>Date</th>\n",
       "      <th>SecuritiesCode</th>\n",
       "      <th>Open</th>\n",
       "      <th>High</th>\n",
       "      <th>Low</th>\n",
       "      <th>Close</th>\n",
       "      <th>Volume</th>\n",
       "      <th>AdjustmentFactor</th>\n",
       "      <th>ExpectedDividend</th>\n",
       "      <th>SupervisionFlag</th>\n",
       "      <th>Target</th>\n",
       "    </tr>\n",
       "  </thead>\n",
       "  <tbody>\n",
       "    <tr>\n",
       "      <th>1450</th>\n",
       "      <td>20170104_8103</td>\n",
       "      <td>20170104.0</td>\n",
       "      <td>8103</td>\n",
       "      <td>406.0</td>\n",
       "      <td>413.0</td>\n",
       "      <td>395.0</td>\n",
       "      <td>413.0</td>\n",
       "      <td>82600</td>\n",
       "      <td>1.0</td>\n",
       "      <td>NaN</td>\n",
       "      <td>False</td>\n",
       "      <td>-0.024213</td>\n",
       "    </tr>\n",
       "    <tr>\n",
       "      <th>3315</th>\n",
       "      <td>20170105_8103</td>\n",
       "      <td>20170105.0</td>\n",
       "      <td>8103</td>\n",
       "      <td>415.0</td>\n",
       "      <td>419.0</td>\n",
       "      <td>408.0</td>\n",
       "      <td>413.0</td>\n",
       "      <td>57500</td>\n",
       "      <td>1.0</td>\n",
       "      <td>NaN</td>\n",
       "      <td>False</td>\n",
       "      <td>-0.002481</td>\n",
       "    </tr>\n",
       "    <tr>\n",
       "      <th>5180</th>\n",
       "      <td>20170106_8103</td>\n",
       "      <td>20170106.0</td>\n",
       "      <td>8103</td>\n",
       "      <td>404.0</td>\n",
       "      <td>410.0</td>\n",
       "      <td>401.0</td>\n",
       "      <td>403.0</td>\n",
       "      <td>60600</td>\n",
       "      <td>1.0</td>\n",
       "      <td>NaN</td>\n",
       "      <td>False</td>\n",
       "      <td>-0.017413</td>\n",
       "    </tr>\n",
       "    <tr>\n",
       "      <th>7045</th>\n",
       "      <td>20170110_8103</td>\n",
       "      <td>20170110.0</td>\n",
       "      <td>8103</td>\n",
       "      <td>404.0</td>\n",
       "      <td>408.0</td>\n",
       "      <td>398.0</td>\n",
       "      <td>402.0</td>\n",
       "      <td>41800</td>\n",
       "      <td>1.0</td>\n",
       "      <td>NaN</td>\n",
       "      <td>False</td>\n",
       "      <td>0.007595</td>\n",
       "    </tr>\n",
       "    <tr>\n",
       "      <th>8910</th>\n",
       "      <td>20170111_8103</td>\n",
       "      <td>20170111.0</td>\n",
       "      <td>8103</td>\n",
       "      <td>405.0</td>\n",
       "      <td>405.0</td>\n",
       "      <td>390.0</td>\n",
       "      <td>395.0</td>\n",
       "      <td>56200</td>\n",
       "      <td>1.0</td>\n",
       "      <td>NaN</td>\n",
       "      <td>False</td>\n",
       "      <td>0.010050</td>\n",
       "    </tr>\n",
       "    <tr>\n",
       "      <th>...</th>\n",
       "      <td>...</td>\n",
       "      <td>...</td>\n",
       "      <td>...</td>\n",
       "      <td>...</td>\n",
       "      <td>...</td>\n",
       "      <td>...</td>\n",
       "      <td>...</td>\n",
       "      <td>...</td>\n",
       "      <td>...</td>\n",
       "      <td>...</td>\n",
       "      <td>...</td>\n",
       "      <td>...</td>\n",
       "    </tr>\n",
       "    <tr>\n",
       "      <th>2324104</th>\n",
       "      <td>20211129_8103</td>\n",
       "      <td>20211129.0</td>\n",
       "      <td>8103</td>\n",
       "      <td>829.0</td>\n",
       "      <td>843.0</td>\n",
       "      <td>825.0</td>\n",
       "      <td>828.0</td>\n",
       "      <td>590800</td>\n",
       "      <td>1.0</td>\n",
       "      <td>NaN</td>\n",
       "      <td>False</td>\n",
       "      <td>0.008547</td>\n",
       "    </tr>\n",
       "    <tr>\n",
       "      <th>2326104</th>\n",
       "      <td>20211130_8103</td>\n",
       "      <td>20211130.0</td>\n",
       "      <td>8103</td>\n",
       "      <td>839.0</td>\n",
       "      <td>846.0</td>\n",
       "      <td>818.0</td>\n",
       "      <td>819.0</td>\n",
       "      <td>578100</td>\n",
       "      <td>1.0</td>\n",
       "      <td>NaN</td>\n",
       "      <td>False</td>\n",
       "      <td>0.000000</td>\n",
       "    </tr>\n",
       "    <tr>\n",
       "      <th>2328104</th>\n",
       "      <td>20211201_8103</td>\n",
       "      <td>20211201.0</td>\n",
       "      <td>8103</td>\n",
       "      <td>822.0</td>\n",
       "      <td>833.0</td>\n",
       "      <td>819.0</td>\n",
       "      <td>826.0</td>\n",
       "      <td>443000</td>\n",
       "      <td>1.0</td>\n",
       "      <td>NaN</td>\n",
       "      <td>False</td>\n",
       "      <td>0.015738</td>\n",
       "    </tr>\n",
       "    <tr>\n",
       "      <th>2330104</th>\n",
       "      <td>20211202_8103</td>\n",
       "      <td>20211202.0</td>\n",
       "      <td>8103</td>\n",
       "      <td>828.0</td>\n",
       "      <td>832.0</td>\n",
       "      <td>818.0</td>\n",
       "      <td>826.0</td>\n",
       "      <td>407500</td>\n",
       "      <td>1.0</td>\n",
       "      <td>NaN</td>\n",
       "      <td>False</td>\n",
       "      <td>0.004768</td>\n",
       "    </tr>\n",
       "    <tr>\n",
       "      <th>2332104</th>\n",
       "      <td>20211203_8103</td>\n",
       "      <td>20211203.0</td>\n",
       "      <td>8103</td>\n",
       "      <td>825.0</td>\n",
       "      <td>840.0</td>\n",
       "      <td>825.0</td>\n",
       "      <td>839.0</td>\n",
       "      <td>438200</td>\n",
       "      <td>1.0</td>\n",
       "      <td>NaN</td>\n",
       "      <td>False</td>\n",
       "      <td>0.010676</td>\n",
       "    </tr>\n",
       "  </tbody>\n",
       "</table>\n",
       "<p>1202 rows × 12 columns</p>\n",
       "</div>"
      ],
      "text/plain": [
       "                 RowId        Date  SecuritiesCode   Open   High    Low  \\\n",
       "1450     20170104_8103  20170104.0            8103  406.0  413.0  395.0   \n",
       "3315     20170105_8103  20170105.0            8103  415.0  419.0  408.0   \n",
       "5180     20170106_8103  20170106.0            8103  404.0  410.0  401.0   \n",
       "7045     20170110_8103  20170110.0            8103  404.0  408.0  398.0   \n",
       "8910     20170111_8103  20170111.0            8103  405.0  405.0  390.0   \n",
       "...                ...         ...             ...    ...    ...    ...   \n",
       "2324104  20211129_8103  20211129.0            8103  829.0  843.0  825.0   \n",
       "2326104  20211130_8103  20211130.0            8103  839.0  846.0  818.0   \n",
       "2328104  20211201_8103  20211201.0            8103  822.0  833.0  819.0   \n",
       "2330104  20211202_8103  20211202.0            8103  828.0  832.0  818.0   \n",
       "2332104  20211203_8103  20211203.0            8103  825.0  840.0  825.0   \n",
       "\n",
       "         Close  Volume  AdjustmentFactor  ExpectedDividend  SupervisionFlag  \\\n",
       "1450     413.0   82600               1.0               NaN            False   \n",
       "3315     413.0   57500               1.0               NaN            False   \n",
       "5180     403.0   60600               1.0               NaN            False   \n",
       "7045     402.0   41800               1.0               NaN            False   \n",
       "8910     395.0   56200               1.0               NaN            False   \n",
       "...        ...     ...               ...               ...              ...   \n",
       "2324104  828.0  590800               1.0               NaN            False   \n",
       "2326104  819.0  578100               1.0               NaN            False   \n",
       "2328104  826.0  443000               1.0               NaN            False   \n",
       "2330104  826.0  407500               1.0               NaN            False   \n",
       "2332104  839.0  438200               1.0               NaN            False   \n",
       "\n",
       "           Target  \n",
       "1450    -0.024213  \n",
       "3315    -0.002481  \n",
       "5180    -0.017413  \n",
       "7045     0.007595  \n",
       "8910     0.010050  \n",
       "...           ...  \n",
       "2324104  0.008547  \n",
       "2326104  0.000000  \n",
       "2328104  0.015738  \n",
       "2330104  0.004768  \n",
       "2332104  0.010676  \n",
       "\n",
       "[1202 rows x 12 columns]"
      ]
     },
     "execution_count": 4,
     "metadata": {},
     "output_type": "execute_result"
    }
   ],
   "source": [
    "values8103__ = values8103.copy()\n",
    "\n",
    "#values8103__['Date'] = pd.to_datetime(values8103__['Date'], format='%Y/%m/%d', errors='coerce')\n",
    "#mask = values8103__['Date'].isnull()\n",
    "#values8103__.loc[mask, 'Date'] = pd.to_datetime(values8103__['Date'], format='%Y/%m/%d',\n",
    " #                                                errors='coerce')\n",
    "    \n",
    "values8103__['Date'] = df['Date'].str.replace('-', '')\n",
    "values8103__['Date'] = values8103__['Date'].astype(float)\n",
    "values8103__"
   ]
  },
  {
   "cell_type": "markdown",
   "metadata": {},
   "source": [
    "## Explore Columns\n",
    "* AdjustmentFactor\n",
    "* Expected Divident\n",
    "* SupervisionFlag"
   ]
  },
  {
   "cell_type": "markdown",
   "metadata": {},
   "source": [
    "### How many null values in each column?"
   ]
  },
  {
   "cell_type": "code",
   "execution_count": 5,
   "metadata": {
    "ExecuteTime": {
     "end_time": "2022-06-03T14:47:16.036018Z",
     "start_time": "2022-06-03T14:47:16.015832Z"
    },
    "scrolled": true
   },
   "outputs": [
    {
     "data": {
      "text/plain": [
       "RowId                  0\n",
       "Date                   0\n",
       "SecuritiesCode         0\n",
       "Open                   1\n",
       "High                   1\n",
       "Low                    1\n",
       "Close                  1\n",
       "Volume                 0\n",
       "AdjustmentFactor       0\n",
       "ExpectedDividend    1192\n",
       "SupervisionFlag        0\n",
       "Target                 0\n",
       "dtype: int64"
      ]
     },
     "execution_count": 5,
     "metadata": {},
     "output_type": "execute_result"
    }
   ],
   "source": [
    "values8103.isna().sum()"
   ]
  },
  {
   "cell_type": "markdown",
   "metadata": {},
   "source": [
    "#### Forward Fill\n",
    "* All Columns except ExpectedDividend"
   ]
  },
  {
   "cell_type": "code",
   "execution_count": 6,
   "metadata": {
    "ExecuteTime": {
     "end_time": "2022-06-03T14:47:16.853117Z",
     "start_time": "2022-06-03T14:47:16.828287Z"
    }
   },
   "outputs": [
    {
     "data": {
      "text/plain": [
       "RowId                  0\n",
       "Date                   0\n",
       "SecuritiesCode         0\n",
       "Open                   0\n",
       "High                   0\n",
       "Low                    0\n",
       "Close                  0\n",
       "Volume                 0\n",
       "AdjustmentFactor       0\n",
       "ExpectedDividend    1192\n",
       "SupervisionFlag        0\n",
       "Target                 0\n",
       "dtype: int64"
      ]
     },
     "execution_count": 6,
     "metadata": {},
     "output_type": "execute_result"
    }
   ],
   "source": [
    "cols = ['Open', 'High', 'Low', 'Close']\n",
    "values8103.loc[:,cols] = values8103.loc[:,cols].ffill()\n",
    "values8103.loc[:,cols] = values8103.loc[:,cols].bfill()\n",
    "values8103.isna().sum()"
   ]
  },
  {
   "cell_type": "markdown",
   "metadata": {},
   "source": [
    "### Describe sparse and singular value columns"
   ]
  },
  {
   "cell_type": "code",
   "execution_count": 7,
   "metadata": {
    "ExecuteTime": {
     "end_time": "2022-06-03T14:47:17.670128Z",
     "start_time": "2022-06-03T14:47:17.649714Z"
    }
   },
   "outputs": [
    {
     "data": {
      "text/plain": [
       "count    10.000000\n",
       "mean     14.600000\n",
       "std      17.147724\n",
       "min       0.000000\n",
       "25%       2.000000\n",
       "50%      10.000000\n",
       "75%      14.250000\n",
       "max      47.000000\n",
       "Name: ExpectedDividend, dtype: float64"
      ]
     },
     "execution_count": 7,
     "metadata": {},
     "output_type": "execute_result"
    }
   ],
   "source": [
    "values8103['ExpectedDividend'].describe()"
   ]
  },
  {
   "cell_type": "code",
   "execution_count": 8,
   "metadata": {
    "ExecuteTime": {
     "end_time": "2022-06-03T14:47:18.171730Z",
     "start_time": "2022-06-03T14:47:18.154689Z"
    }
   },
   "outputs": [
    {
     "data": {
      "text/plain": [
       "count    1202.0\n",
       "mean        1.0\n",
       "std         0.0\n",
       "min         1.0\n",
       "25%         1.0\n",
       "50%         1.0\n",
       "75%         1.0\n",
       "max         1.0\n",
       "Name: AdjustmentFactor, dtype: float64"
      ]
     },
     "execution_count": 8,
     "metadata": {},
     "output_type": "execute_result"
    }
   ],
   "source": [
    "values8103['AdjustmentFactor'].describe()"
   ]
  },
  {
   "cell_type": "code",
   "execution_count": 241,
   "metadata": {
    "ExecuteTime": {
     "end_time": "2022-06-03T20:17:45.519344Z",
     "start_time": "2022-06-03T20:17:45.410657Z"
    }
   },
   "outputs": [
    {
     "data": {
      "text/plain": [
       "count      1202\n",
       "unique        1\n",
       "top       False\n",
       "freq       1202\n",
       "Name: SupervisionFlag, dtype: object"
      ]
     },
     "execution_count": 241,
     "metadata": {},
     "output_type": "execute_result"
    }
   ],
   "source": [
    "values8103['SupervisionFlag'].describe()"
   ]
  },
  {
   "cell_type": "markdown",
   "metadata": {},
   "source": [
    "## Plot Attributes"
   ]
  },
  {
   "cell_type": "markdown",
   "metadata": {},
   "source": [
    "### Plot Daily Close\n",
    "* Observe multiplicative trend?"
   ]
  },
  {
   "cell_type": "code",
   "execution_count": 242,
   "metadata": {
    "ExecuteTime": {
     "end_time": "2022-06-03T20:17:48.350736Z",
     "start_time": "2022-06-03T20:17:47.783491Z"
    }
   },
   "outputs": [
    {
     "data": {
      "image/png": "[encoded data removed]",
      "text/plain": [
       "<Figure size 1080x576 with 1 Axes>"
      ]
     },
     "metadata": {
      "needs_background": "light"
     },
     "output_type": "display_data"
    }
   ],
   "source": [
    "close8103 = values8103.copy()\n",
    "close8103 = close8103.iloc[:, [1,6]]\n",
    "\n",
    "time = (close8103['Date'] > '2019-12-03') & (close8103['Date'] <= '2021-12-03')\n",
    "close8103 = close8103.loc[time]\n",
    "\n",
    "# Plot the timeseries \n",
    "pd.plotting.register_matplotlib_converters()\n",
    "ax = close8103.set_index('Date').plot(figsize=(15, 8), linewidth=2)\n",
    "ax.set_ylabel('Close Price')\n",
    "ax.set_xlabel('Date')\n",
    "\n",
    "plt.show()"
   ]
  },
  {
   "cell_type": "markdown",
   "metadata": {},
   "source": [
    "### Plot Daily Spread"
   ]
  },
  {
   "cell_type": "code",
   "execution_count": 245,
   "metadata": {
    "ExecuteTime": {
     "end_time": "2022-06-03T20:18:48.567849Z",
     "start_time": "2022-06-03T20:18:48.510666Z"
    }
   },
   "outputs": [
    {
     "ename": "TypeError",
     "evalue": "Invalid comparison between dtype=float64 and str",
     "output_type": "error",
     "traceback": [
      "\u001b[0;31m---------------------------------------------------------------------------\u001b[0m",
      "\u001b[0;31mTypeError\u001b[0m                                 Traceback (most recent call last)",
      "\u001b[0;32m<ipython-input-245-33c9d0288384>\u001b[0m in \u001b[0;36m<module>\u001b[0;34m\u001b[0m\n\u001b[1;32m      3\u001b[0m \u001b[0mdaily8103\u001b[0m \u001b[0;34m=\u001b[0m \u001b[0mdaily8103\u001b[0m\u001b[0;34m.\u001b[0m\u001b[0miloc\u001b[0m\u001b[0;34m[\u001b[0m\u001b[0;34m:\u001b[0m\u001b[0;34m,\u001b[0m \u001b[0;34m[\u001b[0m\u001b[0;36m1\u001b[0m\u001b[0;34m,\u001b[0m\u001b[0;36m12\u001b[0m\u001b[0;34m]\u001b[0m\u001b[0;34m]\u001b[0m\u001b[0;34m\u001b[0m\u001b[0;34m\u001b[0m\u001b[0m\n\u001b[1;32m      4\u001b[0m \u001b[0;34m\u001b[0m\u001b[0m\n\u001b[0;32m----> 5\u001b[0;31m \u001b[0mtime\u001b[0m \u001b[0;34m=\u001b[0m \u001b[0;34m(\u001b[0m\u001b[0mvalues8103_copy\u001b[0m\u001b[0;34m[\u001b[0m\u001b[0;34m'Date'\u001b[0m\u001b[0;34m]\u001b[0m \u001b[0;34m>\u001b[0m \u001b[0;34m'2019-12-03'\u001b[0m\u001b[0;34m)\u001b[0m \u001b[0;34m&\u001b[0m \u001b[0;34m(\u001b[0m\u001b[0mvalues8103_copy\u001b[0m\u001b[0;34m[\u001b[0m\u001b[0;34m'Date'\u001b[0m\u001b[0;34m]\u001b[0m \u001b[0;34m<=\u001b[0m \u001b[0;34m'2021-12-03'\u001b[0m\u001b[0;34m)\u001b[0m\u001b[0;34m\u001b[0m\u001b[0;34m\u001b[0m\u001b[0m\n\u001b[0m\u001b[1;32m      6\u001b[0m \u001b[0mvalues8103_copy\u001b[0m \u001b[0;34m=\u001b[0m \u001b[0mvalues8103_copy\u001b[0m\u001b[0;34m.\u001b[0m\u001b[0mloc\u001b[0m\u001b[0;34m[\u001b[0m\u001b[0mtime\u001b[0m\u001b[0;34m]\u001b[0m\u001b[0;34m\u001b[0m\u001b[0;34m\u001b[0m\u001b[0m\n\u001b[1;32m      7\u001b[0m \u001b[0mvalues8103_copy\u001b[0m\u001b[0;34m\u001b[0m\u001b[0;34m\u001b[0m\u001b[0m\n",
      "\u001b[0;32m~/opt/anaconda3/envs/learn-env/lib/python3.8/site-packages/pandas/core/ops/common.py\u001b[0m in \u001b[0;36mnew_method\u001b[0;34m(self, other)\u001b[0m\n\u001b[1;32m     63\u001b[0m         \u001b[0mother\u001b[0m \u001b[0;34m=\u001b[0m \u001b[0mitem_from_zerodim\u001b[0m\u001b[0;34m(\u001b[0m\u001b[0mother\u001b[0m\u001b[0;34m)\u001b[0m\u001b[0;34m\u001b[0m\u001b[0;34m\u001b[0m\u001b[0m\n\u001b[1;32m     64\u001b[0m \u001b[0;34m\u001b[0m\u001b[0m\n\u001b[0;32m---> 65\u001b[0;31m         \u001b[0;32mreturn\u001b[0m \u001b[0mmethod\u001b[0m\u001b[0;34m(\u001b[0m\u001b[0mself\u001b[0m\u001b[0;34m,\u001b[0m \u001b[0mother\u001b[0m\u001b[0;34m)\u001b[0m\u001b[0;34m\u001b[0m\u001b[0;34m\u001b[0m\u001b[0m\n\u001b[0m\u001b[1;32m     66\u001b[0m \u001b[0;34m\u001b[0m\u001b[0m\n\u001b[1;32m     67\u001b[0m     \u001b[0;32mreturn\u001b[0m \u001b[0mnew_method\u001b[0m\u001b[0;34m\u001b[0m\u001b[0;34m\u001b[0m\u001b[0m\n",
      "\u001b[0;32m~/opt/anaconda3/envs/learn-env/lib/python3.8/site-packages/pandas/core/ops/__init__.py\u001b[0m in \u001b[0;36mwrapper\u001b[0;34m(self, other)\u001b[0m\n\u001b[1;32m    368\u001b[0m         \u001b[0mrvalues\u001b[0m \u001b[0;34m=\u001b[0m \u001b[0mextract_array\u001b[0m\u001b[0;34m(\u001b[0m\u001b[0mother\u001b[0m\u001b[0;34m,\u001b[0m \u001b[0mextract_numpy\u001b[0m\u001b[0;34m=\u001b[0m\u001b[0;32mTrue\u001b[0m\u001b[0;34m)\u001b[0m\u001b[0;34m\u001b[0m\u001b[0;34m\u001b[0m\u001b[0m\n\u001b[1;32m    369\u001b[0m \u001b[0;34m\u001b[0m\u001b[0m\n\u001b[0;32m--> 370\u001b[0;31m         \u001b[0mres_values\u001b[0m \u001b[0;34m=\u001b[0m \u001b[0mcomparison_op\u001b[0m\u001b[0;34m(\u001b[0m\u001b[0mlvalues\u001b[0m\u001b[0;34m,\u001b[0m \u001b[0mrvalues\u001b[0m\u001b[0;34m,\u001b[0m \u001b[0mop\u001b[0m\u001b[0;34m)\u001b[0m\u001b[0;34m\u001b[0m\u001b[0;34m\u001b[0m\u001b[0m\n\u001b[0m\u001b[1;32m    371\u001b[0m \u001b[0;34m\u001b[0m\u001b[0m\n\u001b[1;32m    372\u001b[0m         \u001b[0;32mreturn\u001b[0m \u001b[0mself\u001b[0m\u001b[0;34m.\u001b[0m\u001b[0m_construct_result\u001b[0m\u001b[0;34m(\u001b[0m\u001b[0mres_values\u001b[0m\u001b[0;34m,\u001b[0m \u001b[0mname\u001b[0m\u001b[0;34m=\u001b[0m\u001b[0mres_name\u001b[0m\u001b[0;34m)\u001b[0m\u001b[0;34m\u001b[0m\u001b[0;34m\u001b[0m\u001b[0m\n",
      "\u001b[0;32m~/opt/anaconda3/envs/learn-env/lib/python3.8/site-packages/pandas/core/ops/array_ops.py\u001b[0m in \u001b[0;36mcomparison_op\u001b[0;34m(left, right, op)\u001b[0m\n\u001b[1;32m    239\u001b[0m     \u001b[0;32melif\u001b[0m \u001b[0mis_numeric_v_string_like\u001b[0m\u001b[0;34m(\u001b[0m\u001b[0mlvalues\u001b[0m\u001b[0;34m,\u001b[0m \u001b[0mrvalues\u001b[0m\u001b[0;34m)\u001b[0m\u001b[0;34m:\u001b[0m\u001b[0;34m\u001b[0m\u001b[0;34m\u001b[0m\u001b[0m\n\u001b[1;32m    240\u001b[0m         \u001b[0;31m# GH#36377 going through the numexpr path would incorrectly raise\u001b[0m\u001b[0;34m\u001b[0m\u001b[0;34m\u001b[0m\u001b[0;34m\u001b[0m\u001b[0m\n\u001b[0;32m--> 241\u001b[0;31m         \u001b[0;32mreturn\u001b[0m \u001b[0minvalid_comparison\u001b[0m\u001b[0;34m(\u001b[0m\u001b[0mlvalues\u001b[0m\u001b[0;34m,\u001b[0m \u001b[0mrvalues\u001b[0m\u001b[0;34m,\u001b[0m \u001b[0mop\u001b[0m\u001b[0;34m)\u001b[0m\u001b[0;34m\u001b[0m\u001b[0;34m\u001b[0m\u001b[0m\n\u001b[0m\u001b[1;32m    242\u001b[0m \u001b[0;34m\u001b[0m\u001b[0m\n\u001b[1;32m    243\u001b[0m     \u001b[0;32melif\u001b[0m \u001b[0mis_object_dtype\u001b[0m\u001b[0;34m(\u001b[0m\u001b[0mlvalues\u001b[0m\u001b[0;34m.\u001b[0m\u001b[0mdtype\u001b[0m\u001b[0;34m)\u001b[0m\u001b[0;34m:\u001b[0m\u001b[0;34m\u001b[0m\u001b[0;34m\u001b[0m\u001b[0m\n",
      "\u001b[0;32m~/opt/anaconda3/envs/learn-env/lib/python3.8/site-packages/pandas/core/ops/invalid.py\u001b[0m in \u001b[0;36minvalid_comparison\u001b[0;34m(left, right, op)\u001b[0m\n\u001b[1;32m     32\u001b[0m     \u001b[0;32melse\u001b[0m\u001b[0;34m:\u001b[0m\u001b[0;34m\u001b[0m\u001b[0;34m\u001b[0m\u001b[0m\n\u001b[1;32m     33\u001b[0m         \u001b[0mtyp\u001b[0m \u001b[0;34m=\u001b[0m \u001b[0mtype\u001b[0m\u001b[0;34m(\u001b[0m\u001b[0mright\u001b[0m\u001b[0;34m)\u001b[0m\u001b[0;34m.\u001b[0m\u001b[0m__name__\u001b[0m\u001b[0;34m\u001b[0m\u001b[0;34m\u001b[0m\u001b[0m\n\u001b[0;32m---> 34\u001b[0;31m         \u001b[0;32mraise\u001b[0m \u001b[0mTypeError\u001b[0m\u001b[0;34m(\u001b[0m\u001b[0;34mf\"Invalid comparison between dtype={left.dtype} and {typ}\"\u001b[0m\u001b[0;34m)\u001b[0m\u001b[0;34m\u001b[0m\u001b[0;34m\u001b[0m\u001b[0m\n\u001b[0m\u001b[1;32m     35\u001b[0m     \u001b[0;32mreturn\u001b[0m \u001b[0mres_values\u001b[0m\u001b[0;34m\u001b[0m\u001b[0;34m\u001b[0m\u001b[0m\n\u001b[1;32m     36\u001b[0m \u001b[0;34m\u001b[0m\u001b[0m\n",
      "\u001b[0;31mTypeError\u001b[0m: Invalid comparison between dtype=float64 and str"
     ]
    }
   ],
   "source": [
    "# Select Annual Date Range (2 years)\n",
    "daily8103 = values8103_copy.copy()\n",
    "daily8103 = daily8103.iloc[:, [1,12]]\n",
    "\n",
    "time = (daily8103['Date'] > '2019-12-03') & (daily8103['Date'] <= '2021-12-03')\n",
    "daily8103 = daily8103.loc[time]\n",
    "daily8103"
   ]
  },
  {
   "cell_type": "code",
   "execution_count": 41,
   "metadata": {
    "ExecuteTime": {
     "end_time": "2022-06-03T14:48:04.028862Z",
     "start_time": "2022-06-03T14:48:03.982718Z"
    }
   },
   "outputs": [
    {
     "ename": "KeyError",
     "evalue": "\"None of ['Date'] are in the columns\"",
     "output_type": "error",
     "traceback": [
      "\u001b[0;31m---------------------------------------------------------------------------\u001b[0m",
      "\u001b[0;31mKeyError\u001b[0m                                  Traceback (most recent call last)",
      "\u001b[0;32m<ipython-input-41-f37c7015f7a0>\u001b[0m in \u001b[0;36m<module>\u001b[0;34m\u001b[0m\n\u001b[1;32m      1\u001b[0m \u001b[0;31m# Plot the timeseries\u001b[0m\u001b[0;34m\u001b[0m\u001b[0;34m\u001b[0m\u001b[0;34m\u001b[0m\u001b[0m\n\u001b[1;32m      2\u001b[0m \u001b[0mpd\u001b[0m\u001b[0;34m.\u001b[0m\u001b[0mplotting\u001b[0m\u001b[0;34m.\u001b[0m\u001b[0mregister_matplotlib_converters\u001b[0m\u001b[0;34m(\u001b[0m\u001b[0;34m)\u001b[0m\u001b[0;34m\u001b[0m\u001b[0;34m\u001b[0m\u001b[0m\n\u001b[0;32m----> 3\u001b[0;31m \u001b[0max\u001b[0m \u001b[0;34m=\u001b[0m \u001b[0mdaily8103\u001b[0m\u001b[0;34m.\u001b[0m\u001b[0mset_index\u001b[0m\u001b[0;34m(\u001b[0m\u001b[0;34m'Date'\u001b[0m\u001b[0;34m)\u001b[0m\u001b[0;34m.\u001b[0m\u001b[0mplot\u001b[0m\u001b[0;34m(\u001b[0m\u001b[0mfigsize\u001b[0m\u001b[0;34m=\u001b[0m\u001b[0;34m(\u001b[0m\u001b[0;36m15\u001b[0m\u001b[0;34m,\u001b[0m \u001b[0;36m8\u001b[0m\u001b[0;34m)\u001b[0m\u001b[0;34m,\u001b[0m \u001b[0mlinewidth\u001b[0m\u001b[0;34m=\u001b[0m\u001b[0;36m2\u001b[0m\u001b[0;34m)\u001b[0m\u001b[0;34m\u001b[0m\u001b[0;34m\u001b[0m\u001b[0m\n\u001b[0m\u001b[1;32m      4\u001b[0m \u001b[0max\u001b[0m\u001b[0;34m.\u001b[0m\u001b[0mset_ylabel\u001b[0m\u001b[0;34m(\u001b[0m\u001b[0;34m'Daily Spread'\u001b[0m\u001b[0;34m)\u001b[0m\u001b[0;34m\u001b[0m\u001b[0;34m\u001b[0m\u001b[0m\n\u001b[1;32m      5\u001b[0m \u001b[0max\u001b[0m\u001b[0;34m.\u001b[0m\u001b[0mset_xlabel\u001b[0m\u001b[0;34m(\u001b[0m\u001b[0;34m'Date'\u001b[0m\u001b[0;34m)\u001b[0m\u001b[0;34m\u001b[0m\u001b[0;34m\u001b[0m\u001b[0m\n",
      "\u001b[0;32m~/opt/anaconda3/envs/learn-env/lib/python3.8/site-packages/pandas/core/frame.py\u001b[0m in \u001b[0;36mset_index\u001b[0;34m(self, keys, drop, append, inplace, verify_integrity)\u001b[0m\n\u001b[1;32m   4549\u001b[0m \u001b[0;34m\u001b[0m\u001b[0m\n\u001b[1;32m   4550\u001b[0m         \u001b[0;32mif\u001b[0m \u001b[0mmissing\u001b[0m\u001b[0;34m:\u001b[0m\u001b[0;34m\u001b[0m\u001b[0;34m\u001b[0m\u001b[0m\n\u001b[0;32m-> 4551\u001b[0;31m             \u001b[0;32mraise\u001b[0m \u001b[0mKeyError\u001b[0m\u001b[0;34m(\u001b[0m\u001b[0;34mf\"None of {missing} are in the columns\"\u001b[0m\u001b[0;34m)\u001b[0m\u001b[0;34m\u001b[0m\u001b[0;34m\u001b[0m\u001b[0m\n\u001b[0m\u001b[1;32m   4552\u001b[0m \u001b[0;34m\u001b[0m\u001b[0m\n\u001b[1;32m   4553\u001b[0m         \u001b[0;32mif\u001b[0m \u001b[0minplace\u001b[0m\u001b[0;34m:\u001b[0m\u001b[0;34m\u001b[0m\u001b[0;34m\u001b[0m\u001b[0m\n",
      "\u001b[0;31mKeyError\u001b[0m: \"None of ['Date'] are in the columns\""
     ]
    }
   ],
   "source": [
    "# Plot the timeseries \n",
    "pd.plotting.register_matplotlib_converters()\n",
    "ax = daily8103.set_index('Date').plot(figsize=(15, 8), linewidth=2)\n",
    "ax.set_ylabel('Daily Spread')\n",
    "ax.set_xlabel('Date')\n",
    "\n",
    "plt.show()"
   ]
  },
  {
   "cell_type": "markdown",
   "metadata": {},
   "source": [
    "### Plot Close Difference"
   ]
  },
  {
   "cell_type": "code",
   "execution_count": 44,
   "metadata": {
    "ExecuteTime": {
     "end_time": "2022-06-03T14:48:29.837546Z",
     "start_time": "2022-06-03T14:48:29.815518Z"
    },
    "scrolled": true
   },
   "outputs": [
    {
     "ename": "IndexError",
     "evalue": "positional indexers are out-of-bounds",
     "output_type": "error",
     "traceback": [
      "\u001b[0;31m---------------------------------------------------------------------------\u001b[0m",
      "\u001b[0;31mIndexError\u001b[0m                                Traceback (most recent call last)",
      "\u001b[0;32m<ipython-input-44-9fc0f27072bb>\u001b[0m in \u001b[0;36m<module>\u001b[0;34m\u001b[0m\n\u001b[1;32m      1\u001b[0m \u001b[0;31m# Select Annual Date Range (2 years)\u001b[0m\u001b[0;34m\u001b[0m\u001b[0;34m\u001b[0m\u001b[0;34m\u001b[0m\u001b[0m\n\u001b[1;32m      2\u001b[0m \u001b[0mday_8103\u001b[0m \u001b[0;34m=\u001b[0m \u001b[0mvalues8103\u001b[0m\u001b[0;34m.\u001b[0m\u001b[0mcopy\u001b[0m\u001b[0;34m(\u001b[0m\u001b[0;34m)\u001b[0m\u001b[0;34m\u001b[0m\u001b[0;34m\u001b[0m\u001b[0m\n\u001b[0;32m----> 3\u001b[0;31m \u001b[0mday_8103\u001b[0m \u001b[0;34m=\u001b[0m \u001b[0mday_8103\u001b[0m\u001b[0;34m.\u001b[0m\u001b[0miloc\u001b[0m\u001b[0;34m[\u001b[0m\u001b[0;34m:\u001b[0m\u001b[0;34m,\u001b[0m \u001b[0;34m[\u001b[0m\u001b[0;36m1\u001b[0m\u001b[0;34m,\u001b[0m\u001b[0;36m13\u001b[0m\u001b[0;34m]\u001b[0m\u001b[0;34m]\u001b[0m\u001b[0;34m\u001b[0m\u001b[0;34m\u001b[0m\u001b[0m\n\u001b[0m\u001b[1;32m      4\u001b[0m \u001b[0;34m\u001b[0m\u001b[0m\n\u001b[1;32m      5\u001b[0m \u001b[0mtime\u001b[0m \u001b[0;34m=\u001b[0m \u001b[0;34m(\u001b[0m\u001b[0mday_8103\u001b[0m\u001b[0;34m[\u001b[0m\u001b[0;34m'Date'\u001b[0m\u001b[0;34m]\u001b[0m \u001b[0;34m>\u001b[0m \u001b[0;34m'2019-12-03'\u001b[0m\u001b[0;34m)\u001b[0m \u001b[0;34m&\u001b[0m \u001b[0;34m(\u001b[0m\u001b[0mday_8103\u001b[0m\u001b[0;34m[\u001b[0m\u001b[0;34m'Date'\u001b[0m\u001b[0;34m]\u001b[0m \u001b[0;34m<=\u001b[0m \u001b[0;34m'2021-12-03'\u001b[0m\u001b[0;34m)\u001b[0m\u001b[0;34m\u001b[0m\u001b[0;34m\u001b[0m\u001b[0m\n",
      "\u001b[0;32m~/opt/anaconda3/envs/learn-env/lib/python3.8/site-packages/pandas/core/indexing.py\u001b[0m in \u001b[0;36m__getitem__\u001b[0;34m(self, key)\u001b[0m\n\u001b[1;32m    871\u001b[0m                     \u001b[0;31m# AttributeError for IntervalTree get_value\u001b[0m\u001b[0;34m\u001b[0m\u001b[0;34m\u001b[0m\u001b[0;34m\u001b[0m\u001b[0m\n\u001b[1;32m    872\u001b[0m                     \u001b[0;32mpass\u001b[0m\u001b[0;34m\u001b[0m\u001b[0;34m\u001b[0m\u001b[0m\n\u001b[0;32m--> 873\u001b[0;31m             \u001b[0;32mreturn\u001b[0m \u001b[0mself\u001b[0m\u001b[0;34m.\u001b[0m\u001b[0m_getitem_tuple\u001b[0m\u001b[0;34m(\u001b[0m\u001b[0mkey\u001b[0m\u001b[0;34m)\u001b[0m\u001b[0;34m\u001b[0m\u001b[0;34m\u001b[0m\u001b[0m\n\u001b[0m\u001b[1;32m    874\u001b[0m         \u001b[0;32melse\u001b[0m\u001b[0;34m:\u001b[0m\u001b[0;34m\u001b[0m\u001b[0;34m\u001b[0m\u001b[0m\n\u001b[1;32m    875\u001b[0m             \u001b[0;31m# we by definition only have the 0th axis\u001b[0m\u001b[0;34m\u001b[0m\u001b[0;34m\u001b[0m\u001b[0;34m\u001b[0m\u001b[0m\n",
      "\u001b[0;32m~/opt/anaconda3/envs/learn-env/lib/python3.8/site-packages/pandas/core/indexing.py\u001b[0m in \u001b[0;36m_getitem_tuple\u001b[0;34m(self, tup)\u001b[0m\n\u001b[1;32m   1441\u001b[0m     \u001b[0;32mdef\u001b[0m \u001b[0m_getitem_tuple\u001b[0m\u001b[0;34m(\u001b[0m\u001b[0mself\u001b[0m\u001b[0;34m,\u001b[0m \u001b[0mtup\u001b[0m\u001b[0;34m:\u001b[0m \u001b[0mTuple\u001b[0m\u001b[0;34m)\u001b[0m\u001b[0;34m:\u001b[0m\u001b[0;34m\u001b[0m\u001b[0;34m\u001b[0m\u001b[0m\n\u001b[1;32m   1442\u001b[0m \u001b[0;34m\u001b[0m\u001b[0m\n\u001b[0;32m-> 1443\u001b[0;31m         \u001b[0mself\u001b[0m\u001b[0;34m.\u001b[0m\u001b[0m_has_valid_tuple\u001b[0m\u001b[0;34m(\u001b[0m\u001b[0mtup\u001b[0m\u001b[0;34m)\u001b[0m\u001b[0;34m\u001b[0m\u001b[0;34m\u001b[0m\u001b[0m\n\u001b[0m\u001b[1;32m   1444\u001b[0m         \u001b[0;32mtry\u001b[0m\u001b[0;34m:\u001b[0m\u001b[0;34m\u001b[0m\u001b[0;34m\u001b[0m\u001b[0m\n\u001b[1;32m   1445\u001b[0m             \u001b[0;32mreturn\u001b[0m \u001b[0mself\u001b[0m\u001b[0;34m.\u001b[0m\u001b[0m_getitem_lowerdim\u001b[0m\u001b[0;34m(\u001b[0m\u001b[0mtup\u001b[0m\u001b[0;34m)\u001b[0m\u001b[0;34m\u001b[0m\u001b[0;34m\u001b[0m\u001b[0m\n",
      "\u001b[0;32m~/opt/anaconda3/envs/learn-env/lib/python3.8/site-packages/pandas/core/indexing.py\u001b[0m in \u001b[0;36m_has_valid_tuple\u001b[0;34m(self, key)\u001b[0m\n\u001b[1;32m    700\u001b[0m                 \u001b[0;32mraise\u001b[0m \u001b[0mIndexingError\u001b[0m\u001b[0;34m(\u001b[0m\u001b[0;34m\"Too many indexers\"\u001b[0m\u001b[0;34m)\u001b[0m\u001b[0;34m\u001b[0m\u001b[0;34m\u001b[0m\u001b[0m\n\u001b[1;32m    701\u001b[0m             \u001b[0;32mtry\u001b[0m\u001b[0;34m:\u001b[0m\u001b[0;34m\u001b[0m\u001b[0;34m\u001b[0m\u001b[0m\n\u001b[0;32m--> 702\u001b[0;31m                 \u001b[0mself\u001b[0m\u001b[0;34m.\u001b[0m\u001b[0m_validate_key\u001b[0m\u001b[0;34m(\u001b[0m\u001b[0mk\u001b[0m\u001b[0;34m,\u001b[0m \u001b[0mi\u001b[0m\u001b[0;34m)\u001b[0m\u001b[0;34m\u001b[0m\u001b[0;34m\u001b[0m\u001b[0m\n\u001b[0m\u001b[1;32m    703\u001b[0m             \u001b[0;32mexcept\u001b[0m \u001b[0mValueError\u001b[0m \u001b[0;32mas\u001b[0m \u001b[0merr\u001b[0m\u001b[0;34m:\u001b[0m\u001b[0;34m\u001b[0m\u001b[0;34m\u001b[0m\u001b[0m\n\u001b[1;32m    704\u001b[0m                 raise ValueError(\n",
      "\u001b[0;32m~/opt/anaconda3/envs/learn-env/lib/python3.8/site-packages/pandas/core/indexing.py\u001b[0m in \u001b[0;36m_validate_key\u001b[0;34m(self, key, axis)\u001b[0m\n\u001b[1;32m   1365\u001b[0m             \u001b[0;31m# check that the key does not exceed the maximum size of the index\u001b[0m\u001b[0;34m\u001b[0m\u001b[0;34m\u001b[0m\u001b[0;34m\u001b[0m\u001b[0m\n\u001b[1;32m   1366\u001b[0m             \u001b[0;32mif\u001b[0m \u001b[0mlen\u001b[0m\u001b[0;34m(\u001b[0m\u001b[0marr\u001b[0m\u001b[0;34m)\u001b[0m \u001b[0;32mand\u001b[0m \u001b[0;34m(\u001b[0m\u001b[0marr\u001b[0m\u001b[0;34m.\u001b[0m\u001b[0mmax\u001b[0m\u001b[0;34m(\u001b[0m\u001b[0;34m)\u001b[0m \u001b[0;34m>=\u001b[0m \u001b[0mlen_axis\u001b[0m \u001b[0;32mor\u001b[0m \u001b[0marr\u001b[0m\u001b[0;34m.\u001b[0m\u001b[0mmin\u001b[0m\u001b[0;34m(\u001b[0m\u001b[0;34m)\u001b[0m \u001b[0;34m<\u001b[0m \u001b[0;34m-\u001b[0m\u001b[0mlen_axis\u001b[0m\u001b[0;34m)\u001b[0m\u001b[0;34m:\u001b[0m\u001b[0;34m\u001b[0m\u001b[0;34m\u001b[0m\u001b[0m\n\u001b[0;32m-> 1367\u001b[0;31m                 \u001b[0;32mraise\u001b[0m \u001b[0mIndexError\u001b[0m\u001b[0;34m(\u001b[0m\u001b[0;34m\"positional indexers are out-of-bounds\"\u001b[0m\u001b[0;34m)\u001b[0m\u001b[0;34m\u001b[0m\u001b[0;34m\u001b[0m\u001b[0m\n\u001b[0m\u001b[1;32m   1368\u001b[0m         \u001b[0;32melse\u001b[0m\u001b[0;34m:\u001b[0m\u001b[0;34m\u001b[0m\u001b[0;34m\u001b[0m\u001b[0m\n\u001b[1;32m   1369\u001b[0m             \u001b[0;32mraise\u001b[0m \u001b[0mValueError\u001b[0m\u001b[0;34m(\u001b[0m\u001b[0;34mf\"Can only index by location with a [{self._valid_types}]\"\u001b[0m\u001b[0;34m)\u001b[0m\u001b[0;34m\u001b[0m\u001b[0;34m\u001b[0m\u001b[0m\n",
      "\u001b[0;31mIndexError\u001b[0m: positional indexers are out-of-bounds"
     ]
    }
   ],
   "source": [
    "# Select Annual Date Range (2 years)\n",
    "day_8103 = values8103.copy()\n",
    "day_8103 = day_8103.iloc[:, [1,13]]\n",
    "\n",
    "time = (day_8103['Date'] > '2019-12-03') & (day_8103['Date'] <= '2021-12-03')\n",
    "day_8103 = day_8103.loc[time]\n",
    "\n",
    "# Plot the timeseries \n",
    "pd.plotting.register_matplotlib_converters()\n",
    "ax = day_8103.set_index('Date').plot(figsize=(15, 8), linewidth=2)\n",
    "ax.set_ylabel('Daily Spread')\n",
    "ax.set_xlabel('Date')\n",
    "\n",
    "plt.show()"
   ]
  },
  {
   "cell_type": "markdown",
   "metadata": {},
   "source": [
    "## Add Financials"
   ]
  },
  {
   "cell_type": "code",
   "execution_count": 10,
   "metadata": {
    "ExecuteTime": {
     "end_time": "2022-06-03T14:47:20.599635Z",
     "start_time": "2022-06-03T14:47:19.249843Z"
    }
   },
   "outputs": [],
   "source": [
    "financials = pd.read_csv(\n",
    "    r'/Users/jimpetoskey/Documents/Flatiron/phase5/data/financials.csv')"
   ]
  },
  {
   "cell_type": "code",
   "execution_count": 11,
   "metadata": {
    "ExecuteTime": {
     "end_time": "2022-06-03T14:47:20.678830Z",
     "start_time": "2022-06-03T14:47:20.602180Z"
    }
   },
   "outputs": [
    {
     "name": "stdout",
     "output_type": "stream",
     "text": [
      "DisclosureNumber                                                                                          2.01612e+13\n",
      "DateCode                                                                                                20170104_2753\n",
      "Date                                                                                                       2017-01-04\n",
      "SecuritiesCode                                                                                                   2753\n",
      "DisclosedDate                                                                                              2017-01-04\n",
      "DisclosedTime                                                                                                07:30:00\n",
      "DisclosedUnixTime                                                                                         1.48348e+09\n",
      "TypeOfDocument                                                                  3QFinancialStatements_Consolidated_JP\n",
      "CurrentPeriodEndDate                                                                                       2016-12-31\n",
      "TypeOfCurrentPeriod                                                                                                3Q\n",
      "CurrentFiscalYearStartDate                                                                                 2016-04-01\n",
      "CurrentFiscalYearEndDate                                                                                   2017-03-31\n",
      "NetSales                                                                                                  22761000000\n",
      "OperatingProfit                                                                                            2147000000\n",
      "OrdinaryProfit                                                                                             2234000000\n",
      "Profit                                                                                                     1494000000\n",
      "EarningsPerShare                                                                                               218.23\n",
      "TotalAssets                                                                                                2.2386e+10\n",
      "Equity                                                                                                     1.8295e+10\n",
      "EquityToAssetRatio                                                                                              0.817\n",
      "BookValuePerShare                                                                                             2671.42\n",
      "ResultDividendPerShare1stQuarter                                                                                    －\n",
      "ResultDividendPerShare2ndQuarter                                                                                 50.0\n",
      "ResultDividendPerShare3rdQuarter                                                                                    －\n",
      "ResultDividendPerShareFiscalYearEnd                                                                               NaN\n",
      "ResultDividendPerShareAnnual                                                                                      NaN\n",
      "ForecastDividendPerShare1stQuarter                                                                                NaN\n",
      "ForecastDividendPerShare2ndQuarter                                                                                NaN\n",
      "ForecastDividendPerShare3rdQuarter                                                                                NaN\n",
      "ForecastDividendPerShareFiscalYearEnd                                                                            50.0\n",
      "ForecastDividendPerShareAnnual                                                                                  100.0\n",
      "ForecastNetSales                                                                                          31800000000\n",
      "ForecastOperatingProfit                                                                                    3255000000\n",
      "ForecastOrdinaryProfit                                                                                     3300000000\n",
      "ForecastProfit                                                                                             2190000000\n",
      "ForecastEarningsPerShare                                                                                       319.76\n",
      "ApplyingOfSpecificAccountingOfTheQuarterlyFinancialStatements                                                     NaN\n",
      "MaterialChangesInSubsidiaries                                                                                   False\n",
      "ChangesBasedOnRevisionsOfAccountingStandard                                                                      True\n",
      "ChangesOtherThanOnesBasedOnRevisionsOfAccountingStandard                                                        False\n",
      "ChangesInAccountingEstimates                                                                                    False\n",
      "RetrospectiveRestatement                                                                                        False\n",
      "NumberOfIssuedAndOutstandingSharesAtTheEndOfFiscalYearIncludingTreasuryStock                               6.8488e+06\n",
      "NumberOfTreasuryStockAtTheEndOfFiscalYear                                                                           －\n",
      "AverageNumberOfShares                                                                                      6.8488e+06\n",
      "Name: 0, dtype: object\n"
     ]
    }
   ],
   "source": [
    "print(financials.loc[0])"
   ]
  },
  {
   "cell_type": "code",
   "execution_count": 12,
   "metadata": {
    "ExecuteTime": {
     "end_time": "2022-06-03T14:47:28.354263Z",
     "start_time": "2022-06-03T14:47:27.931950Z"
    }
   },
   "outputs": [
    {
     "name": "stdout",
     "output_type": "stream",
     "text": [
      "<class 'pandas.core.frame.DataFrame'>\n",
      "RangeIndex: 92956 entries, 0 to 92955\n",
      "Data columns (total 45 columns):\n",
      " #   Column                                                                        Non-Null Count  Dtype  \n",
      "---  ------                                                                        --------------  -----  \n",
      " 0   DisclosureNumber                                                              92954 non-null  float64\n",
      " 1   DateCode                                                                      92954 non-null  object \n",
      " 2   Date                                                                          92956 non-null  object \n",
      " 3   SecuritiesCode                                                                92954 non-null  float64\n",
      " 4   DisclosedDate                                                                 92954 non-null  object \n",
      " 5   DisclosedTime                                                                 92954 non-null  object \n",
      " 6   DisclosedUnixTime                                                             92954 non-null  float64\n",
      " 7   TypeOfDocument                                                                92954 non-null  object \n",
      " 8   CurrentPeriodEndDate                                                          92954 non-null  object \n",
      " 9   TypeOfCurrentPeriod                                                           92954 non-null  object \n",
      " 10  CurrentFiscalYearStartDate                                                    92954 non-null  object \n",
      " 11  CurrentFiscalYearEndDate                                                      92954 non-null  object \n",
      " 12  NetSales                                                                      75448 non-null  object \n",
      " 13  OperatingProfit                                                               73446 non-null  object \n",
      " 14  OrdinaryProfit                                                                75328 non-null  object \n",
      " 15  Profit                                                                        75380 non-null  object \n",
      " 16  EarningsPerShare                                                              74958 non-null  object \n",
      " 17  TotalAssets                                                                   75433 non-null  object \n",
      " 18  Equity                                                                        75431 non-null  object \n",
      " 19  EquityToAssetRatio                                                            74739 non-null  object \n",
      " 20  BookValuePerShare                                                             35773 non-null  object \n",
      " 21  ResultDividendPerShare1stQuarter                                              74380 non-null  object \n",
      " 22  ResultDividendPerShare2ndQuarter                                              55940 non-null  object \n",
      " 23  ResultDividendPerShare3rdQuarter                                              37677 non-null  object \n",
      " 24  ResultDividendPerShareFiscalYearEnd                                           19416 non-null  object \n",
      " 25  ResultDividendPerShareAnnual                                                  19415 non-null  object \n",
      " 26  ForecastDividendPerShare1stQuarter                                            19241 non-null  object \n",
      " 27  ForecastDividendPerShare2ndQuarter                                            42619 non-null  object \n",
      " 28  ForecastDividendPerShare3rdQuarter                                            60807 non-null  object \n",
      " 29  ForecastDividendPerShareFiscalYearEnd                                         79021 non-null  object \n",
      " 30  ForecastDividendPerShareAnnual                                                79022 non-null  object \n",
      " 31  ForecastNetSales                                                              82842 non-null  object \n",
      " 32  ForecastOperatingProfit                                                       81083 non-null  object \n",
      " 33  ForecastOrdinaryProfit                                                        82718 non-null  object \n",
      " 34  ForecastProfit                                                                83856 non-null  object \n",
      " 35  ForecastEarningsPerShare                                                      82842 non-null  object \n",
      " 36  ApplyingOfSpecificAccountingOfTheQuarterlyFinancialStatements                 7249 non-null   object \n",
      " 37  MaterialChangesInSubsidiaries                                                 64504 non-null  object \n",
      " 38  ChangesBasedOnRevisionsOfAccountingStandard                                   74895 non-null  object \n",
      " 39  ChangesOtherThanOnesBasedOnRevisionsOfAccountingStandard                      74895 non-null  object \n",
      " 40  ChangesInAccountingEstimates                                                  74126 non-null  object \n",
      " 41  RetrospectiveRestatement                                                      70396 non-null  object \n",
      " 42  NumberOfIssuedAndOutstandingSharesAtTheEndOfFiscalYearIncludingTreasuryStock  74918 non-null  object \n",
      " 43  NumberOfTreasuryStockAtTheEndOfFiscalYear                                     74918 non-null  object \n",
      " 44  AverageNumberOfShares                                                         74349 non-null  object \n",
      "dtypes: float64(3), object(42)\n",
      "memory usage: 31.9+ MB\n"
     ]
    }
   ],
   "source": [
    "financials.info()"
   ]
  },
  {
   "cell_type": "code",
   "execution_count": 135,
   "metadata": {
    "ExecuteTime": {
     "end_time": "2022-06-03T18:14:06.841142Z",
     "start_time": "2022-06-03T18:14:06.775955Z"
    }
   },
   "outputs": [
    {
     "data": {
      "text/html": [
       "<div>\n",
       "<style scoped>\n",
       "    .dataframe tbody tr th:only-of-type {\n",
       "        vertical-align: middle;\n",
       "    }\n",
       "\n",
       "    .dataframe tbody tr th {\n",
       "        vertical-align: top;\n",
       "    }\n",
       "\n",
       "    .dataframe thead th {\n",
       "        text-align: right;\n",
       "    }\n",
       "</style>\n",
       "<table border=\"1\" class=\"dataframe\">\n",
       "  <thead>\n",
       "    <tr style=\"text-align: right;\">\n",
       "      <th></th>\n",
       "      <th>Date</th>\n",
       "      <th>SecuritiesCode</th>\n",
       "      <th>EarningsPerShare</th>\n",
       "      <th>TotalAssets</th>\n",
       "      <th>ForecastProfit</th>\n",
       "      <th>ForecastEarningsPerShare</th>\n",
       "      <th>NetSales</th>\n",
       "      <th>EquityToAssetRatio</th>\n",
       "    </tr>\n",
       "  </thead>\n",
       "  <tbody>\n",
       "    <tr>\n",
       "      <th>0</th>\n",
       "      <td>2017-01-04</td>\n",
       "      <td>2753</td>\n",
       "      <td>218.23</td>\n",
       "      <td>2.2386e+10</td>\n",
       "      <td>2190000000</td>\n",
       "      <td>319.76</td>\n",
       "      <td>22761000000</td>\n",
       "      <td>0.817</td>\n",
       "    </tr>\n",
       "    <tr>\n",
       "      <th>1</th>\n",
       "      <td>2017-01-04</td>\n",
       "      <td>3353</td>\n",
       "      <td>328.57</td>\n",
       "      <td>2.51e+10</td>\n",
       "      <td>930000000</td>\n",
       "      <td>485.36</td>\n",
       "      <td>22128000000</td>\n",
       "      <td>0.301</td>\n",
       "    </tr>\n",
       "  </tbody>\n",
       "</table>\n",
       "</div>"
      ],
      "text/plain": [
       "         Date  SecuritiesCode EarningsPerShare TotalAssets ForecastProfit  \\\n",
       "0  2017-01-04            2753           218.23  2.2386e+10     2190000000   \n",
       "1  2017-01-04            3353           328.57    2.51e+10      930000000   \n",
       "\n",
       "  ForecastEarningsPerShare     NetSales EquityToAssetRatio  \n",
       "0                   319.76  22761000000              0.817  \n",
       "1                   485.36  22128000000              0.301  "
      ]
     },
     "execution_count": 135,
     "metadata": {},
     "output_type": "execute_result"
    }
   ],
   "source": [
    "# Reduce financials to important features\n",
    "fin4 = financials[['Date',\n",
    "                   'SecuritiesCode',\n",
    "                   'EarningsPerShare', \n",
    "                   'TotalAssets', \n",
    "                   'ForecastProfit',\n",
    "                   'ForecastEarningsPerShare',\n",
    "                   'NetSales',\n",
    "                   'EquityToAssetRatio']]\n",
    "\n",
    "# Drop rows with nan securities code\n",
    "fin4 = fin4.dropna(subset=['SecuritiesCode'])\n",
    "\n",
    "# Convert fin SecuritiesCode to int\n",
    "fin4['SecuritiesCode'] = fin4['SecuritiesCode'].astype(int)\n",
    "\n",
    "fin4.head(2)"
   ]
  },
  {
   "cell_type": "markdown",
   "metadata": {},
   "source": [
    "### Merge Financials with df1"
   ]
  },
  {
   "cell_type": "code",
   "execution_count": 271,
   "metadata": {
    "ExecuteTime": {
     "end_time": "2022-06-03T20:39:06.843784Z",
     "start_time": "2022-06-03T20:39:02.017315Z"
    }
   },
   "outputs": [],
   "source": [
    "df1_copy = df1.copy()\n",
    "\n",
    "# Drop rows with null values\n",
    "fin_all = fin4.dropna(axis=0)\n",
    "\n",
    "# Convert financial data to numeric\n",
    "fin_all.ForecastProfit = pd.to_numeric(fin_all.ForecastProfit, errors ='coerce').fillna(0).astype('float')\n",
    "fin_all.ForecastEarningsPerShare = pd.to_numeric(fin_all.ForecastEarningsPerShare, errors ='coerce').fillna(0).astype('float')\n",
    "fin_all.EarningsPerShare = pd.to_numeric(fin_all.EarningsPerShare, errors ='coerce').fillna(0).astype('float')\n",
    "fin_all.TotalAssets = pd.to_numeric(fin_all.TotalAssets, errors ='coerce').fillna(0).astype('float')\n",
    "fin_all.NetSales = pd.to_numeric(fin_all.NetSales, errors ='coerce').fillna(0).astype('float')\n",
    "fin_all.EquityToAssetRatio = pd.to_numeric(fin_all.EquityToAssetRatio, errors ='coerce').fillna(0).astype('float')\n",
    "\n",
    "# Create list of all securities codes\n",
    "all_stocks_list = df1['SecuritiesCode'].values.tolist()\n",
    "\n",
    "# Iterate over stock list to pull only desired stocks from financials\n",
    "fin_all = fin_all[fin_all['SecuritiesCode'].isin(all_stocks_list)]"
   ]
  },
  {
   "cell_type": "code",
   "execution_count": 272,
   "metadata": {
    "ExecuteTime": {
     "end_time": "2022-06-03T20:39:09.237933Z",
     "start_time": "2022-06-03T20:39:06.850761Z"
    }
   },
   "outputs": [
    {
     "data": {
      "text/html": [
       "<div>\n",
       "<style scoped>\n",
       "    .dataframe tbody tr th:only-of-type {\n",
       "        vertical-align: middle;\n",
       "    }\n",
       "\n",
       "    .dataframe tbody tr th {\n",
       "        vertical-align: top;\n",
       "    }\n",
       "\n",
       "    .dataframe thead th {\n",
       "        text-align: right;\n",
       "    }\n",
       "</style>\n",
       "<table border=\"1\" class=\"dataframe\">\n",
       "  <thead>\n",
       "    <tr style=\"text-align: right;\">\n",
       "      <th></th>\n",
       "      <th>RowId</th>\n",
       "      <th>Date</th>\n",
       "      <th>SecuritiesCode</th>\n",
       "      <th>Open</th>\n",
       "      <th>High</th>\n",
       "      <th>Low</th>\n",
       "      <th>Close</th>\n",
       "      <th>Volume</th>\n",
       "      <th>AdjustmentFactor</th>\n",
       "      <th>ExpectedDividend</th>\n",
       "      <th>SupervisionFlag</th>\n",
       "      <th>Target</th>\n",
       "      <th>EarningsPerShare</th>\n",
       "      <th>TotalAssets</th>\n",
       "      <th>ForecastProfit</th>\n",
       "      <th>ForecastEarningsPerShare</th>\n",
       "      <th>NetSales</th>\n",
       "      <th>EquityToAssetRatio</th>\n",
       "    </tr>\n",
       "  </thead>\n",
       "  <tbody>\n",
       "    <tr>\n",
       "      <th>0</th>\n",
       "      <td>20170104_1301</td>\n",
       "      <td>2017-01-04</td>\n",
       "      <td>1301</td>\n",
       "      <td>2734.0</td>\n",
       "      <td>2755.0</td>\n",
       "      <td>2730.0</td>\n",
       "      <td>2742.0</td>\n",
       "      <td>31400</td>\n",
       "      <td>1.0</td>\n",
       "      <td>NaN</td>\n",
       "      <td>False</td>\n",
       "      <td>0.000730</td>\n",
       "      <td>NaN</td>\n",
       "      <td>NaN</td>\n",
       "      <td>NaN</td>\n",
       "      <td>NaN</td>\n",
       "      <td>NaN</td>\n",
       "      <td>NaN</td>\n",
       "    </tr>\n",
       "    <tr>\n",
       "      <th>1</th>\n",
       "      <td>20170104_1332</td>\n",
       "      <td>2017-01-04</td>\n",
       "      <td>1332</td>\n",
       "      <td>568.0</td>\n",
       "      <td>576.0</td>\n",
       "      <td>563.0</td>\n",
       "      <td>571.0</td>\n",
       "      <td>2798500</td>\n",
       "      <td>1.0</td>\n",
       "      <td>NaN</td>\n",
       "      <td>False</td>\n",
       "      <td>0.012324</td>\n",
       "      <td>NaN</td>\n",
       "      <td>NaN</td>\n",
       "      <td>NaN</td>\n",
       "      <td>NaN</td>\n",
       "      <td>NaN</td>\n",
       "      <td>NaN</td>\n",
       "    </tr>\n",
       "    <tr>\n",
       "      <th>2</th>\n",
       "      <td>20170104_1333</td>\n",
       "      <td>2017-01-04</td>\n",
       "      <td>1333</td>\n",
       "      <td>3150.0</td>\n",
       "      <td>3210.0</td>\n",
       "      <td>3140.0</td>\n",
       "      <td>3210.0</td>\n",
       "      <td>270800</td>\n",
       "      <td>1.0</td>\n",
       "      <td>NaN</td>\n",
       "      <td>False</td>\n",
       "      <td>0.006154</td>\n",
       "      <td>NaN</td>\n",
       "      <td>NaN</td>\n",
       "      <td>NaN</td>\n",
       "      <td>NaN</td>\n",
       "      <td>NaN</td>\n",
       "      <td>NaN</td>\n",
       "    </tr>\n",
       "    <tr>\n",
       "      <th>3</th>\n",
       "      <td>20170104_1376</td>\n",
       "      <td>2017-01-04</td>\n",
       "      <td>1376</td>\n",
       "      <td>1510.0</td>\n",
       "      <td>1550.0</td>\n",
       "      <td>1510.0</td>\n",
       "      <td>1550.0</td>\n",
       "      <td>11300</td>\n",
       "      <td>1.0</td>\n",
       "      <td>NaN</td>\n",
       "      <td>False</td>\n",
       "      <td>0.011053</td>\n",
       "      <td>NaN</td>\n",
       "      <td>NaN</td>\n",
       "      <td>NaN</td>\n",
       "      <td>NaN</td>\n",
       "      <td>NaN</td>\n",
       "      <td>NaN</td>\n",
       "    </tr>\n",
       "    <tr>\n",
       "      <th>4</th>\n",
       "      <td>20170104_1377</td>\n",
       "      <td>2017-01-04</td>\n",
       "      <td>1377</td>\n",
       "      <td>3270.0</td>\n",
       "      <td>3350.0</td>\n",
       "      <td>3270.0</td>\n",
       "      <td>3330.0</td>\n",
       "      <td>150800</td>\n",
       "      <td>1.0</td>\n",
       "      <td>NaN</td>\n",
       "      <td>False</td>\n",
       "      <td>0.003026</td>\n",
       "      <td>NaN</td>\n",
       "      <td>NaN</td>\n",
       "      <td>NaN</td>\n",
       "      <td>NaN</td>\n",
       "      <td>NaN</td>\n",
       "      <td>NaN</td>\n",
       "    </tr>\n",
       "    <tr>\n",
       "      <th>...</th>\n",
       "      <td>...</td>\n",
       "      <td>...</td>\n",
       "      <td>...</td>\n",
       "      <td>...</td>\n",
       "      <td>...</td>\n",
       "      <td>...</td>\n",
       "      <td>...</td>\n",
       "      <td>...</td>\n",
       "      <td>...</td>\n",
       "      <td>...</td>\n",
       "      <td>...</td>\n",
       "      <td>...</td>\n",
       "      <td>...</td>\n",
       "      <td>...</td>\n",
       "      <td>...</td>\n",
       "      <td>...</td>\n",
       "      <td>...</td>\n",
       "      <td>...</td>\n",
       "    </tr>\n",
       "    <tr>\n",
       "      <th>2332756</th>\n",
       "      <td>20211203_9990</td>\n",
       "      <td>2021-12-03</td>\n",
       "      <td>9990</td>\n",
       "      <td>514.0</td>\n",
       "      <td>528.0</td>\n",
       "      <td>513.0</td>\n",
       "      <td>528.0</td>\n",
       "      <td>44200</td>\n",
       "      <td>1.0</td>\n",
       "      <td>NaN</td>\n",
       "      <td>False</td>\n",
       "      <td>0.034816</td>\n",
       "      <td>NaN</td>\n",
       "      <td>NaN</td>\n",
       "      <td>NaN</td>\n",
       "      <td>NaN</td>\n",
       "      <td>NaN</td>\n",
       "      <td>NaN</td>\n",
       "    </tr>\n",
       "    <tr>\n",
       "      <th>2332757</th>\n",
       "      <td>20211203_9991</td>\n",
       "      <td>2021-12-03</td>\n",
       "      <td>9991</td>\n",
       "      <td>782.0</td>\n",
       "      <td>794.0</td>\n",
       "      <td>782.0</td>\n",
       "      <td>794.0</td>\n",
       "      <td>35900</td>\n",
       "      <td>1.0</td>\n",
       "      <td>NaN</td>\n",
       "      <td>False</td>\n",
       "      <td>0.025478</td>\n",
       "      <td>NaN</td>\n",
       "      <td>NaN</td>\n",
       "      <td>NaN</td>\n",
       "      <td>NaN</td>\n",
       "      <td>NaN</td>\n",
       "      <td>NaN</td>\n",
       "    </tr>\n",
       "    <tr>\n",
       "      <th>2332758</th>\n",
       "      <td>20211203_9993</td>\n",
       "      <td>2021-12-03</td>\n",
       "      <td>9993</td>\n",
       "      <td>1690.0</td>\n",
       "      <td>1690.0</td>\n",
       "      <td>1645.0</td>\n",
       "      <td>1645.0</td>\n",
       "      <td>7200</td>\n",
       "      <td>1.0</td>\n",
       "      <td>NaN</td>\n",
       "      <td>False</td>\n",
       "      <td>-0.004302</td>\n",
       "      <td>NaN</td>\n",
       "      <td>NaN</td>\n",
       "      <td>NaN</td>\n",
       "      <td>NaN</td>\n",
       "      <td>NaN</td>\n",
       "      <td>NaN</td>\n",
       "    </tr>\n",
       "    <tr>\n",
       "      <th>2332759</th>\n",
       "      <td>20211203_9994</td>\n",
       "      <td>2021-12-03</td>\n",
       "      <td>9994</td>\n",
       "      <td>2388.0</td>\n",
       "      <td>2396.0</td>\n",
       "      <td>2380.0</td>\n",
       "      <td>2389.0</td>\n",
       "      <td>6500</td>\n",
       "      <td>1.0</td>\n",
       "      <td>NaN</td>\n",
       "      <td>False</td>\n",
       "      <td>0.009098</td>\n",
       "      <td>NaN</td>\n",
       "      <td>NaN</td>\n",
       "      <td>NaN</td>\n",
       "      <td>NaN</td>\n",
       "      <td>NaN</td>\n",
       "      <td>NaN</td>\n",
       "    </tr>\n",
       "    <tr>\n",
       "      <th>2332760</th>\n",
       "      <td>20211203_9997</td>\n",
       "      <td>2021-12-03</td>\n",
       "      <td>9997</td>\n",
       "      <td>690.0</td>\n",
       "      <td>711.0</td>\n",
       "      <td>686.0</td>\n",
       "      <td>696.0</td>\n",
       "      <td>381100</td>\n",
       "      <td>1.0</td>\n",
       "      <td>NaN</td>\n",
       "      <td>False</td>\n",
       "      <td>0.018414</td>\n",
       "      <td>NaN</td>\n",
       "      <td>NaN</td>\n",
       "      <td>NaN</td>\n",
       "      <td>NaN</td>\n",
       "      <td>NaN</td>\n",
       "      <td>NaN</td>\n",
       "    </tr>\n",
       "  </tbody>\n",
       "</table>\n",
       "<p>2332761 rows × 18 columns</p>\n",
       "</div>"
      ],
      "text/plain": [
       "                 RowId        Date  SecuritiesCode    Open    High     Low  \\\n",
       "0        20170104_1301  2017-01-04            1301  2734.0  2755.0  2730.0   \n",
       "1        20170104_1332  2017-01-04            1332   568.0   576.0   563.0   \n",
       "2        20170104_1333  2017-01-04            1333  3150.0  3210.0  3140.0   \n",
       "3        20170104_1376  2017-01-04            1376  1510.0  1550.0  1510.0   \n",
       "4        20170104_1377  2017-01-04            1377  3270.0  3350.0  3270.0   \n",
       "...                ...         ...             ...     ...     ...     ...   \n",
       "2332756  20211203_9990  2021-12-03            9990   514.0   528.0   513.0   \n",
       "2332757  20211203_9991  2021-12-03            9991   782.0   794.0   782.0   \n",
       "2332758  20211203_9993  2021-12-03            9993  1690.0  1690.0  1645.0   \n",
       "2332759  20211203_9994  2021-12-03            9994  2388.0  2396.0  2380.0   \n",
       "2332760  20211203_9997  2021-12-03            9997   690.0   711.0   686.0   \n",
       "\n",
       "          Close   Volume  AdjustmentFactor  ExpectedDividend  SupervisionFlag  \\\n",
       "0        2742.0    31400               1.0               NaN            False   \n",
       "1         571.0  2798500               1.0               NaN            False   \n",
       "2        3210.0   270800               1.0               NaN            False   \n",
       "3        1550.0    11300               1.0               NaN            False   \n",
       "4        3330.0   150800               1.0               NaN            False   \n",
       "...         ...      ...               ...               ...              ...   \n",
       "2332756   528.0    44200               1.0               NaN            False   \n",
       "2332757   794.0    35900               1.0               NaN            False   \n",
       "2332758  1645.0     7200               1.0               NaN            False   \n",
       "2332759  2389.0     6500               1.0               NaN            False   \n",
       "2332760   696.0   381100               1.0               NaN            False   \n",
       "\n",
       "           Target  EarningsPerShare  TotalAssets  ForecastProfit  \\\n",
       "0        0.000730               NaN          NaN             NaN   \n",
       "1        0.012324               NaN          NaN             NaN   \n",
       "2        0.006154               NaN          NaN             NaN   \n",
       "3        0.011053               NaN          NaN             NaN   \n",
       "4        0.003026               NaN          NaN             NaN   \n",
       "...           ...               ...          ...             ...   \n",
       "2332756  0.034816               NaN          NaN             NaN   \n",
       "2332757  0.025478               NaN          NaN             NaN   \n",
       "2332758 -0.004302               NaN          NaN             NaN   \n",
       "2332759  0.009098               NaN          NaN             NaN   \n",
       "2332760  0.018414               NaN          NaN             NaN   \n",
       "\n",
       "         ForecastEarningsPerShare  NetSales  EquityToAssetRatio  \n",
       "0                             NaN       NaN                 NaN  \n",
       "1                             NaN       NaN                 NaN  \n",
       "2                             NaN       NaN                 NaN  \n",
       "3                             NaN       NaN                 NaN  \n",
       "4                             NaN       NaN                 NaN  \n",
       "...                           ...       ...                 ...  \n",
       "2332756                       NaN       NaN                 NaN  \n",
       "2332757                       NaN       NaN                 NaN  \n",
       "2332758                       NaN       NaN                 NaN  \n",
       "2332759                       NaN       NaN                 NaN  \n",
       "2332760                       NaN       NaN                 NaN  \n",
       "\n",
       "[2332761 rows x 18 columns]"
      ]
     },
     "execution_count": 272,
     "metadata": {},
     "output_type": "execute_result"
    }
   ],
   "source": [
    "fin_added = pd.merge(df1_copy, fin_all, how='left', on=[\"Date\", \"SecuritiesCode\"])\n",
    "fin_added"
   ]
  },
  {
   "cell_type": "code",
   "execution_count": 231,
   "metadata": {
    "ExecuteTime": {
     "end_time": "2022-06-03T20:09:44.822649Z",
     "start_time": "2022-06-03T20:09:39.221842Z"
    }
   },
   "outputs": [
    {
     "data": {
      "text/html": [
       "<div>\n",
       "<style scoped>\n",
       "    .dataframe tbody tr th:only-of-type {\n",
       "        vertical-align: middle;\n",
       "    }\n",
       "\n",
       "    .dataframe tbody tr th {\n",
       "        vertical-align: top;\n",
       "    }\n",
       "\n",
       "    .dataframe thead th {\n",
       "        text-align: right;\n",
       "    }\n",
       "</style>\n",
       "<table border=\"1\" class=\"dataframe\">\n",
       "  <thead>\n",
       "    <tr style=\"text-align: right;\">\n",
       "      <th></th>\n",
       "      <th>count</th>\n",
       "      <th>mean</th>\n",
       "      <th>std</th>\n",
       "      <th>min</th>\n",
       "      <th>25%</th>\n",
       "      <th>50%</th>\n",
       "      <th>75%</th>\n",
       "      <th>max</th>\n",
       "    </tr>\n",
       "  </thead>\n",
       "  <tbody>\n",
       "    <tr>\n",
       "      <th>SecuritiesCode</th>\n",
       "      <td>2332761.0</td>\n",
       "      <td>5.894829e+03</td>\n",
       "      <td>2.404172e+03</td>\n",
       "      <td>1.301000e+03</td>\n",
       "      <td>3.891000e+03</td>\n",
       "      <td>6.238000e+03</td>\n",
       "      <td>7.965000e+03</td>\n",
       "      <td>9.997000e+03</td>\n",
       "    </tr>\n",
       "    <tr>\n",
       "      <th>Open</th>\n",
       "      <td>2325153.0</td>\n",
       "      <td>2.594473e+03</td>\n",
       "      <td>3.577061e+03</td>\n",
       "      <td>1.400000e+01</td>\n",
       "      <td>1.022000e+03</td>\n",
       "      <td>1.812000e+03</td>\n",
       "      <td>3.030000e+03</td>\n",
       "      <td>1.099500e+05</td>\n",
       "    </tr>\n",
       "    <tr>\n",
       "      <th>High</th>\n",
       "      <td>2325153.0</td>\n",
       "      <td>2.626503e+03</td>\n",
       "      <td>3.619232e+03</td>\n",
       "      <td>1.500000e+01</td>\n",
       "      <td>1.035000e+03</td>\n",
       "      <td>1.834000e+03</td>\n",
       "      <td>3.070000e+03</td>\n",
       "      <td>1.105000e+05</td>\n",
       "    </tr>\n",
       "    <tr>\n",
       "      <th>Low</th>\n",
       "      <td>2325153.0</td>\n",
       "      <td>2.561188e+03</td>\n",
       "      <td>3.533364e+03</td>\n",
       "      <td>1.300000e+01</td>\n",
       "      <td>1.009000e+03</td>\n",
       "      <td>1.790000e+03</td>\n",
       "      <td>2.995000e+03</td>\n",
       "      <td>1.072000e+05</td>\n",
       "    </tr>\n",
       "    <tr>\n",
       "      <th>Close</th>\n",
       "      <td>2325153.0</td>\n",
       "      <td>2.593986e+03</td>\n",
       "      <td>3.576408e+03</td>\n",
       "      <td>1.400000e+01</td>\n",
       "      <td>1.022000e+03</td>\n",
       "      <td>1.811000e+03</td>\n",
       "      <td>3.030000e+03</td>\n",
       "      <td>1.095500e+05</td>\n",
       "    </tr>\n",
       "    <tr>\n",
       "      <th>Volume</th>\n",
       "      <td>2332761.0</td>\n",
       "      <td>6.919314e+05</td>\n",
       "      <td>3.911091e+06</td>\n",
       "      <td>0.000000e+00</td>\n",
       "      <td>3.030000e+04</td>\n",
       "      <td>1.071000e+05</td>\n",
       "      <td>4.021000e+05</td>\n",
       "      <td>6.436540e+08</td>\n",
       "    </tr>\n",
       "    <tr>\n",
       "      <th>AdjustmentFactor</th>\n",
       "      <td>2332761.0</td>\n",
       "      <td>1.000508e+00</td>\n",
       "      <td>6.772706e-02</td>\n",
       "      <td>1.000000e-01</td>\n",
       "      <td>1.000000e+00</td>\n",
       "      <td>1.000000e+00</td>\n",
       "      <td>1.000000e+00</td>\n",
       "      <td>2.000000e+01</td>\n",
       "    </tr>\n",
       "    <tr>\n",
       "      <th>ExpectedDividend</th>\n",
       "      <td>18865.0</td>\n",
       "      <td>2.201773e+01</td>\n",
       "      <td>2.988245e+01</td>\n",
       "      <td>0.000000e+00</td>\n",
       "      <td>5.000000e+00</td>\n",
       "      <td>1.500000e+01</td>\n",
       "      <td>3.000000e+01</td>\n",
       "      <td>1.070000e+03</td>\n",
       "    </tr>\n",
       "    <tr>\n",
       "      <th>Target</th>\n",
       "      <td>2332523.0</td>\n",
       "      <td>4.456225e-04</td>\n",
       "      <td>2.340053e-02</td>\n",
       "      <td>-5.785414e-01</td>\n",
       "      <td>-1.049869e-02</td>\n",
       "      <td>0.000000e+00</td>\n",
       "      <td>1.053248e-02</td>\n",
       "      <td>1.119512e+00</td>\n",
       "    </tr>\n",
       "    <tr>\n",
       "      <th>EarningsPerShare</th>\n",
       "      <td>36630.0</td>\n",
       "      <td>8.905167e+01</td>\n",
       "      <td>1.530289e+02</td>\n",
       "      <td>-2.096810e+03</td>\n",
       "      <td>2.103250e+01</td>\n",
       "      <td>5.625500e+01</td>\n",
       "      <td>1.193300e+02</td>\n",
       "      <td>4.032600e+03</td>\n",
       "    </tr>\n",
       "    <tr>\n",
       "      <th>TotalAssets</th>\n",
       "      <td>36630.0</td>\n",
       "      <td>1.349297e+12</td>\n",
       "      <td>1.165306e+13</td>\n",
       "      <td>0.000000e+00</td>\n",
       "      <td>3.626175e+10</td>\n",
       "      <td>9.267400e+10</td>\n",
       "      <td>2.962590e+11</td>\n",
       "      <td>2.998350e+14</td>\n",
       "    </tr>\n",
       "    <tr>\n",
       "      <th>ForecastProfit</th>\n",
       "      <td>36630.0</td>\n",
       "      <td>1.645143e+10</td>\n",
       "      <td>6.375210e+10</td>\n",
       "      <td>-6.700000e+11</td>\n",
       "      <td>1.250000e+09</td>\n",
       "      <td>3.224000e+09</td>\n",
       "      <td>9.880000e+09</td>\n",
       "      <td>2.490000e+12</td>\n",
       "    </tr>\n",
       "    <tr>\n",
       "      <th>ForecastEarningsPerShare</th>\n",
       "      <td>36630.0</td>\n",
       "      <td>1.436529e+02</td>\n",
       "      <td>1.891637e+02</td>\n",
       "      <td>-1.997760e+03</td>\n",
       "      <td>5.130250e+01</td>\n",
       "      <td>1.030100e+02</td>\n",
       "      <td>1.888400e+02</td>\n",
       "      <td>4.202880e+03</td>\n",
       "    </tr>\n",
       "    <tr>\n",
       "      <th>NetSales</th>\n",
       "      <td>36630.0</td>\n",
       "      <td>2.238866e+11</td>\n",
       "      <td>8.098302e+11</td>\n",
       "      <td>0.000000e+00</td>\n",
       "      <td>1.606800e+10</td>\n",
       "      <td>4.527000e+10</td>\n",
       "      <td>1.405780e+11</td>\n",
       "      <td>3.022568e+13</td>\n",
       "    </tr>\n",
       "    <tr>\n",
       "      <th>EquityToAssetRatio</th>\n",
       "      <td>36630.0</td>\n",
       "      <td>5.259050e-01</td>\n",
       "      <td>2.114703e-01</td>\n",
       "      <td>-3.250000e-01</td>\n",
       "      <td>3.790000e-01</td>\n",
       "      <td>5.350000e-01</td>\n",
       "      <td>6.900000e-01</td>\n",
       "      <td>9.920000e-01</td>\n",
       "    </tr>\n",
       "  </tbody>\n",
       "</table>\n",
       "</div>"
      ],
      "text/plain": [
       "                              count          mean           std           min  \\\n",
       "SecuritiesCode            2332761.0  5.894829e+03  2.404172e+03  1.301000e+03   \n",
       "Open                      2325153.0  2.594473e+03  3.577061e+03  1.400000e+01   \n",
       "High                      2325153.0  2.626503e+03  3.619232e+03  1.500000e+01   \n",
       "Low                       2325153.0  2.561188e+03  3.533364e+03  1.300000e+01   \n",
       "Close                     2325153.0  2.593986e+03  3.576408e+03  1.400000e+01   \n",
       "Volume                    2332761.0  6.919314e+05  3.911091e+06  0.000000e+00   \n",
       "AdjustmentFactor          2332761.0  1.000508e+00  6.772706e-02  1.000000e-01   \n",
       "ExpectedDividend            18865.0  2.201773e+01  2.988245e+01  0.000000e+00   \n",
       "Target                    2332523.0  4.456225e-04  2.340053e-02 -5.785414e-01   \n",
       "EarningsPerShare            36630.0  8.905167e+01  1.530289e+02 -2.096810e+03   \n",
       "TotalAssets                 36630.0  1.349297e+12  1.165306e+13  0.000000e+00   \n",
       "ForecastProfit              36630.0  1.645143e+10  6.375210e+10 -6.700000e+11   \n",
       "ForecastEarningsPerShare    36630.0  1.436529e+02  1.891637e+02 -1.997760e+03   \n",
       "NetSales                    36630.0  2.238866e+11  8.098302e+11  0.000000e+00   \n",
       "EquityToAssetRatio          36630.0  5.259050e-01  2.114703e-01 -3.250000e-01   \n",
       "\n",
       "                                   25%           50%           75%  \\\n",
       "SecuritiesCode            3.891000e+03  6.238000e+03  7.965000e+03   \n",
       "Open                      1.022000e+03  1.812000e+03  3.030000e+03   \n",
       "High                      1.035000e+03  1.834000e+03  3.070000e+03   \n",
       "Low                       1.009000e+03  1.790000e+03  2.995000e+03   \n",
       "Close                     1.022000e+03  1.811000e+03  3.030000e+03   \n",
       "Volume                    3.030000e+04  1.071000e+05  4.021000e+05   \n",
       "AdjustmentFactor          1.000000e+00  1.000000e+00  1.000000e+00   \n",
       "ExpectedDividend          5.000000e+00  1.500000e+01  3.000000e+01   \n",
       "Target                   -1.049869e-02  0.000000e+00  1.053248e-02   \n",
       "EarningsPerShare          2.103250e+01  5.625500e+01  1.193300e+02   \n",
       "TotalAssets               3.626175e+10  9.267400e+10  2.962590e+11   \n",
       "ForecastProfit            1.250000e+09  3.224000e+09  9.880000e+09   \n",
       "ForecastEarningsPerShare  5.130250e+01  1.030100e+02  1.888400e+02   \n",
       "NetSales                  1.606800e+10  4.527000e+10  1.405780e+11   \n",
       "EquityToAssetRatio        3.790000e-01  5.350000e-01  6.900000e-01   \n",
       "\n",
       "                                   max  \n",
       "SecuritiesCode            9.997000e+03  \n",
       "Open                      1.099500e+05  \n",
       "High                      1.105000e+05  \n",
       "Low                       1.072000e+05  \n",
       "Close                     1.095500e+05  \n",
       "Volume                    6.436540e+08  \n",
       "AdjustmentFactor          2.000000e+01  \n",
       "ExpectedDividend          1.070000e+03  \n",
       "Target                    1.119512e+00  \n",
       "EarningsPerShare          4.032600e+03  \n",
       "TotalAssets               2.998350e+14  \n",
       "ForecastProfit            2.490000e+12  \n",
       "ForecastEarningsPerShare  4.202880e+03  \n",
       "NetSales                  3.022568e+13  \n",
       "EquityToAssetRatio        9.920000e-01  "
      ]
     },
     "execution_count": 231,
     "metadata": {},
     "output_type": "execute_result"
    }
   ],
   "source": [
    "fin_added.describe().transpose()"
   ]
  },
  {
   "cell_type": "code",
   "execution_count": 257,
   "metadata": {
    "ExecuteTime": {
     "end_time": "2022-06-03T20:25:46.249109Z",
     "start_time": "2022-06-03T20:25:46.200526Z"
    }
   },
   "outputs": [
    {
     "name": "stdout",
     "output_type": "stream",
     "text": [
      "<class 'pandas.core.frame.DataFrame'>\n",
      "Int64Index: 2332761 entries, 0 to 2332760\n",
      "Data columns (total 18 columns):\n",
      " #   Column                    Dtype  \n",
      "---  ------                    -----  \n",
      " 0   RowId                     object \n",
      " 1   Date                      object \n",
      " 2   SecuritiesCode            int64  \n",
      " 3   Open                      float64\n",
      " 4   High                      float64\n",
      " 5   Low                       float64\n",
      " 6   Close                     float64\n",
      " 7   Volume                    int64  \n",
      " 8   AdjustmentFactor          float64\n",
      " 9   ExpectedDividend          float64\n",
      " 10  SupervisionFlag           bool   \n",
      " 11  Target                    float64\n",
      " 12  EarningsPerShare          float64\n",
      " 13  TotalAssets               float64\n",
      " 14  ForecastProfit            float64\n",
      " 15  ForecastEarningsPerShare  float64\n",
      " 16  NetSales                  float64\n",
      " 17  EquityToAssetRatio        float64\n",
      "dtypes: bool(1), float64(13), int64(2), object(2)\n",
      "memory usage: 322.6+ MB\n"
     ]
    }
   ],
   "source": [
    "fin_added.info()"
   ]
  },
  {
   "cell_type": "markdown",
   "metadata": {},
   "source": [
    "## Add Stock List"
   ]
  },
  {
   "cell_type": "code",
   "execution_count": 23,
   "metadata": {
    "ExecuteTime": {
     "end_time": "2022-06-03T14:47:35.069044Z",
     "start_time": "2022-06-03T14:47:35.034562Z"
    }
   },
   "outputs": [],
   "source": [
    "stock_list = pd.read_csv(\n",
    "    r'/Users/jimpetoskey/Documents/Flatiron/phase5/data/stock_list.csv')"
   ]
  },
  {
   "cell_type": "code",
   "execution_count": 24,
   "metadata": {
    "ExecuteTime": {
     "end_time": "2022-06-03T14:47:35.615756Z",
     "start_time": "2022-06-03T14:47:35.594037Z"
    }
   },
   "outputs": [
    {
     "name": "stdout",
     "output_type": "stream",
     "text": [
      "<class 'pandas.core.frame.DataFrame'>\n",
      "RangeIndex: 4417 entries, 0 to 4416\n",
      "Data columns (total 16 columns):\n",
      " #   Column                  Non-Null Count  Dtype  \n",
      "---  ------                  --------------  -----  \n",
      " 0   SecuritiesCode          4417 non-null   int64  \n",
      " 1   EffectiveDate           4417 non-null   int64  \n",
      " 2   Name                    4417 non-null   object \n",
      " 3   Section/Products        4417 non-null   object \n",
      " 4   NewMarketSegment        3772 non-null   object \n",
      " 5   33SectorCode            4417 non-null   object \n",
      " 6   33SectorName            4417 non-null   object \n",
      " 7   17SectorCode            4417 non-null   object \n",
      " 8   17SectorName            4417 non-null   object \n",
      " 9   NewIndexSeriesSizeCode  4417 non-null   object \n",
      " 10  NewIndexSeriesSize      4417 non-null   object \n",
      " 11  TradeDate               4121 non-null   float64\n",
      " 12  Close                   4121 non-null   float64\n",
      " 13  IssuedShares            4121 non-null   float64\n",
      " 14  MarketCapitalization    4121 non-null   float64\n",
      " 15  Universe0               4417 non-null   bool   \n",
      "dtypes: bool(1), float64(4), int64(2), object(9)\n",
      "memory usage: 522.1+ KB\n"
     ]
    }
   ],
   "source": [
    "stock_list.info()"
   ]
  },
  {
   "cell_type": "code",
   "execution_count": 25,
   "metadata": {
    "ExecuteTime": {
     "end_time": "2022-06-03T14:47:36.145997Z",
     "start_time": "2022-06-03T14:47:36.136222Z"
    }
   },
   "outputs": [
    {
     "data": {
      "text/plain": [
       "0          Prime Market\n",
       "1                   NaN\n",
       "2                   NaN\n",
       "3                   NaN\n",
       "4                   NaN\n",
       "             ...       \n",
       "4412    Standard Market\n",
       "4413       Prime Market\n",
       "4414    Standard Market\n",
       "4415       Prime Market\n",
       "4416                NaN\n",
       "Name: NewMarketSegment, Length: 4417, dtype: object"
      ]
     },
     "execution_count": 25,
     "metadata": {},
     "output_type": "execute_result"
    }
   ],
   "source": [
    "stock_list['NewMarketSegment']"
   ]
  },
  {
   "cell_type": "code",
   "execution_count": 26,
   "metadata": {
    "ExecuteTime": {
     "end_time": "2022-06-03T14:47:36.570874Z",
     "start_time": "2022-06-03T14:47:36.555042Z"
    }
   },
   "outputs": [
    {
     "data": {
      "text/plain": [
       "20211230.0    4049\n",
       "20211229.0      37\n",
       "20211228.0      18\n",
       "20211227.0       6\n",
       "20211220.0       3\n",
       "20211222.0       2\n",
       "20211221.0       2\n",
       "20211223.0       2\n",
       "20211216.0       1\n",
       "20211224.0       1\n",
       "Name: TradeDate, dtype: int64"
      ]
     },
     "execution_count": 26,
     "metadata": {},
     "output_type": "execute_result"
    }
   ],
   "source": [
    "stock_list['TradeDate'].value_counts()"
   ]
  },
  {
   "cell_type": "code",
   "execution_count": 67,
   "metadata": {
    "ExecuteTime": {
     "end_time": "2022-06-03T15:04:10.956216Z",
     "start_time": "2022-06-03T15:04:10.942752Z"
    }
   },
   "outputs": [
    {
     "data": {
      "text/plain": [
       "5250    551\n",
       "9050    521\n",
       "0       500\n",
       "6100    359\n",
       "6050    320\n",
       "3650    255\n",
       "3600    230\n",
       "3200    218\n",
       "2050    170\n",
       "8050    143\n",
       "3050    125\n",
       "3800    116\n",
       "3700     95\n",
       "7050     93\n",
       "3550     90\n",
       "3250     77\n",
       "5050     62\n",
       "3400     56\n",
       "3100     52\n",
       "3750     50\n",
       "3450     44\n",
       "7100     44\n",
       "5200     39\n",
       "7200     38\n",
       "3500     36\n",
       "4050     25\n",
       "3150     24\n",
       "3350     19\n",
       "7150     15\n",
       "3300     13\n",
       "5100     13\n",
       "50       12\n",
       "1050      7\n",
       "5150      5\n",
       "Name: 33SectorCode, dtype: int64"
      ]
     },
     "execution_count": 67,
     "metadata": {},
     "output_type": "execute_result"
    }
   ],
   "source": [
    "stock_list['33SectorCode'] = stock_list['33SectorCode'].replace('-', 0)\n",
    "\n",
    "stock_list['33SectorCode'].value_counts()"
   ]
  },
  {
   "cell_type": "code",
   "execution_count": 28,
   "metadata": {
    "ExecuteTime": {
     "end_time": "2022-06-03T14:47:37.584760Z",
     "start_time": "2022-06-03T14:47:37.573578Z"
    }
   },
   "outputs": [
    {
     "data": {
      "text/plain": [
       "Information & Communication                      551\n",
       "Services                                         521\n",
       "-                                                500\n",
       "Retail Trade                                     359\n",
       "Wholesale Trade                                  320\n",
       "Electric Appliances                              255\n",
       "Machinery                                        230\n",
       "Chemicals                                        218\n",
       "Construction                                     170\n",
       "Real Estate                                      143\n",
       "Foods                                            125\n",
       "Other Products                                   116\n",
       "Transportation Equipment                          95\n",
       "Banks                                             93\n",
       "Metal Products                                    90\n",
       "Pharmaceutical                                    77\n",
       "Land Transportation                               62\n",
       "Glass and Ceramics Products                       56\n",
       "Textiles and Apparels                             52\n",
       "Precision Instruments                             50\n",
       "Iron and Steel                                    44\n",
       "Securities and Commodities Futures                44\n",
       "Warehousing and Harbor Transportation Service     39\n",
       "Other Financing Business                          38\n",
       "Nonferrous Metals                                 36\n",
       "Electric Power and Gas                            25\n",
       "Pulp and Paper                                    24\n",
       "Rubber Products                                   19\n",
       "Insurance                                         15\n",
       "Oil and Coal Products                             13\n",
       "Marine Transportation                             13\n",
       "Fishery, Agriculture and Forestry                 12\n",
       "Mining                                             7\n",
       "Air Transportation                                 5\n",
       "Name: 33SectorName, dtype: int64"
      ]
     },
     "execution_count": 28,
     "metadata": {},
     "output_type": "execute_result"
    }
   ],
   "source": [
    "stock_list['33SectorName'].value_counts()"
   ]
  },
  {
   "cell_type": "code",
   "execution_count": 29,
   "metadata": {
    "ExecuteTime": {
     "end_time": "2022-06-03T14:47:38.066891Z",
     "start_time": "2022-06-03T14:47:38.055860Z"
    }
   },
   "outputs": [
    {
     "data": {
      "text/plain": [
       "0       3.365911e+10\n",
       "1       7.621831e+12\n",
       "2       1.641739e+13\n",
       "3       7.671945e+12\n",
       "4       3.216145e+09\n",
       "            ...     \n",
       "4412    2.654474e+10\n",
       "4413    1.083499e+10\n",
       "4414    1.361913e+10\n",
       "4415    6.894633e+10\n",
       "4416    6.623362e+10\n",
       "Name: MarketCapitalization, Length: 4417, dtype: float64"
      ]
     },
     "execution_count": 29,
     "metadata": {},
     "output_type": "execute_result"
    }
   ],
   "source": [
    "stock_list['MarketCapitalization']"
   ]
  },
  {
   "cell_type": "code",
   "execution_count": 30,
   "metadata": {
    "ExecuteTime": {
     "end_time": "2022-06-03T14:47:38.553195Z",
     "start_time": "2022-06-03T14:47:38.541800Z"
    }
   },
   "outputs": [
    {
     "data": {
      "text/plain": [
       "0       1.092828e+07\n",
       "1       3.634636e+09\n",
       "2       7.917718e+09\n",
       "3       3.736943e+09\n",
       "4       7.263200e+04\n",
       "            ...     \n",
       "4412    1.084787e+07\n",
       "4413    2.642680e+07\n",
       "4414    9.152640e+06\n",
       "4415    9.724447e+07\n",
       "4416    3.424696e+07\n",
       "Name: IssuedShares, Length: 4417, dtype: float64"
      ]
     },
     "execution_count": 30,
     "metadata": {},
     "output_type": "execute_result"
    }
   ],
   "source": [
    "stock_list['IssuedShares']"
   ]
  },
  {
   "cell_type": "code",
   "execution_count": 68,
   "metadata": {
    "ExecuteTime": {
     "end_time": "2022-06-03T15:04:21.071407Z",
     "start_time": "2022-06-03T15:04:21.046660Z"
    }
   },
   "outputs": [
    {
     "name": "stdout",
     "output_type": "stream",
     "text": [
      "<class 'pandas.core.frame.DataFrame'>\n",
      "RangeIndex: 4417 entries, 0 to 4416\n",
      "Data columns (total 4 columns):\n",
      " #   Column                Non-Null Count  Dtype  \n",
      "---  ------                --------------  -----  \n",
      " 0   SecuritiesCode        4417 non-null   int64  \n",
      " 1   33SectorCode          4417 non-null   float64\n",
      " 2   MarketCapitalization  4121 non-null   float64\n",
      " 3   IssuedShares          4121 non-null   float64\n",
      "dtypes: float64(3), int64(1)\n",
      "memory usage: 138.2 KB\n"
     ]
    }
   ],
   "source": [
    "stock_list_cond = stock_list[['SecuritiesCode', '33SectorCode','MarketCapitalization','IssuedShares']]\n",
    "stock_list_cond[['33SectorCode',\n",
    "                 'MarketCapitalization',\n",
    "                 'IssuedShares']] = stock_list_cond[\n",
    "                                ['33SectorCode',\n",
    "                                 'MarketCapitalization',\n",
    "                                 'IssuedShares']].astype(float)\n",
    "stock_list_cond.info()"
   ]
  },
  {
   "cell_type": "code",
   "execution_count": 246,
   "metadata": {
    "ExecuteTime": {
     "end_time": "2022-06-03T20:20:56.867273Z",
     "start_time": "2022-06-03T20:20:56.074352Z"
    }
   },
   "outputs": [
    {
     "data": {
      "text/html": [
       "<div>\n",
       "<style scoped>\n",
       "    .dataframe tbody tr th:only-of-type {\n",
       "        vertical-align: middle;\n",
       "    }\n",
       "\n",
       "    .dataframe tbody tr th {\n",
       "        vertical-align: top;\n",
       "    }\n",
       "\n",
       "    .dataframe thead th {\n",
       "        text-align: right;\n",
       "    }\n",
       "</style>\n",
       "<table border=\"1\" class=\"dataframe\">\n",
       "  <thead>\n",
       "    <tr style=\"text-align: right;\">\n",
       "      <th></th>\n",
       "      <th>SecuritiesCode</th>\n",
       "      <th>33SectorCode</th>\n",
       "      <th>MarketCapitalization</th>\n",
       "      <th>IssuedShares</th>\n",
       "    </tr>\n",
       "  </thead>\n",
       "  <tbody>\n",
       "    <tr>\n",
       "      <th>0</th>\n",
       "      <td>1301</td>\n",
       "      <td>50.0</td>\n",
       "      <td>3.365911e+10</td>\n",
       "      <td>10928283.0</td>\n",
       "    </tr>\n",
       "    <tr>\n",
       "      <th>19</th>\n",
       "      <td>1332</td>\n",
       "      <td>50.0</td>\n",
       "      <td>1.696496e+11</td>\n",
       "      <td>312430277.0</td>\n",
       "    </tr>\n",
       "    <tr>\n",
       "      <th>20</th>\n",
       "      <td>1333</td>\n",
       "      <td>50.0</td>\n",
       "      <td>1.266399e+11</td>\n",
       "      <td>52656910.0</td>\n",
       "    </tr>\n",
       "    <tr>\n",
       "      <th>37</th>\n",
       "      <td>1375</td>\n",
       "      <td>50.0</td>\n",
       "      <td>4.773320e+10</td>\n",
       "      <td>39910700.0</td>\n",
       "    </tr>\n",
       "    <tr>\n",
       "      <th>38</th>\n",
       "      <td>1376</td>\n",
       "      <td>50.0</td>\n",
       "      <td>1.770603e+10</td>\n",
       "      <td>11772626.0</td>\n",
       "    </tr>\n",
       "    <tr>\n",
       "      <th>...</th>\n",
       "      <td>...</td>\n",
       "      <td>...</td>\n",
       "      <td>...</td>\n",
       "      <td>...</td>\n",
       "    </tr>\n",
       "    <tr>\n",
       "      <th>4408</th>\n",
       "      <td>9990</td>\n",
       "      <td>6100.0</td>\n",
       "      <td>1.546743e+10</td>\n",
       "      <td>29859900.0</td>\n",
       "    </tr>\n",
       "    <tr>\n",
       "      <th>4409</th>\n",
       "      <td>9991</td>\n",
       "      <td>6050.0</td>\n",
       "      <td>3.005980e+10</td>\n",
       "      <td>36436125.0</td>\n",
       "    </tr>\n",
       "    <tr>\n",
       "      <th>4411</th>\n",
       "      <td>9993</td>\n",
       "      <td>6100.0</td>\n",
       "      <td>1.782230e+10</td>\n",
       "      <td>10960825.0</td>\n",
       "    </tr>\n",
       "    <tr>\n",
       "      <th>4412</th>\n",
       "      <td>9994</td>\n",
       "      <td>6100.0</td>\n",
       "      <td>2.654474e+10</td>\n",
       "      <td>10847870.0</td>\n",
       "    </tr>\n",
       "    <tr>\n",
       "      <th>4415</th>\n",
       "      <td>9997</td>\n",
       "      <td>6100.0</td>\n",
       "      <td>6.894633e+10</td>\n",
       "      <td>97244472.0</td>\n",
       "    </tr>\n",
       "  </tbody>\n",
       "</table>\n",
       "<p>2000 rows × 4 columns</p>\n",
       "</div>"
      ],
      "text/plain": [
       "      SecuritiesCode  33SectorCode  MarketCapitalization  IssuedShares\n",
       "0               1301          50.0          3.365911e+10    10928283.0\n",
       "19              1332          50.0          1.696496e+11   312430277.0\n",
       "20              1333          50.0          1.266399e+11    52656910.0\n",
       "37              1375          50.0          4.773320e+10    39910700.0\n",
       "38              1376          50.0          1.770603e+10    11772626.0\n",
       "...              ...           ...                   ...           ...\n",
       "4408            9990        6100.0          1.546743e+10    29859900.0\n",
       "4409            9991        6050.0          3.005980e+10    36436125.0\n",
       "4411            9993        6100.0          1.782230e+10    10960825.0\n",
       "4412            9994        6100.0          2.654474e+10    10847870.0\n",
       "4415            9997        6100.0          6.894633e+10    97244472.0\n",
       "\n",
       "[2000 rows x 4 columns]"
      ]
     },
     "execution_count": 246,
     "metadata": {},
     "output_type": "execute_result"
    }
   ],
   "source": [
    "# Create list of all securities codes\n",
    "all_stocks_list = df1_copy['SecuritiesCode'].values.tolist()\n",
    "\n",
    "# Create stock list df with all_stocks_list\n",
    "stock_list_cond = stock_list_cond.loc[stock_list_cond['SecuritiesCode'].isin(all_stocks_list)]\n",
    "\n",
    "stock_list_cond"
   ]
  },
  {
   "cell_type": "code",
   "execution_count": 247,
   "metadata": {
    "ExecuteTime": {
     "end_time": "2022-06-03T20:21:43.828187Z",
     "start_time": "2022-06-03T20:21:43.796537Z"
    }
   },
   "outputs": [
    {
     "name": "stdout",
     "output_type": "stream",
     "text": [
      "<class 'pandas.core.frame.DataFrame'>\n",
      "Int64Index: 2000 entries, 0 to 4415\n",
      "Data columns (total 4 columns):\n",
      " #   Column                Non-Null Count  Dtype  \n",
      "---  ------                --------------  -----  \n",
      " 0   SecuritiesCode        2000 non-null   int64  \n",
      " 1   33SectorCode          2000 non-null   float64\n",
      " 2   MarketCapitalization  2000 non-null   float64\n",
      " 3   IssuedShares          2000 non-null   float64\n",
      "dtypes: float64(3), int64(1)\n",
      "memory usage: 78.1 KB\n"
     ]
    }
   ],
   "source": [
    "stock_list_cond.info()"
   ]
  },
  {
   "cell_type": "code",
   "execution_count": 248,
   "metadata": {
    "ExecuteTime": {
     "end_time": "2022-06-03T20:22:12.433825Z",
     "start_time": "2022-06-03T20:22:10.878038Z"
    }
   },
   "outputs": [],
   "source": [
    "df1_copy = df1.copy()"
   ]
  },
  {
   "cell_type": "code",
   "execution_count": 258,
   "metadata": {
    "ExecuteTime": {
     "end_time": "2022-06-03T20:27:12.294617Z",
     "start_time": "2022-06-03T20:27:04.928820Z"
    },
    "scrolled": true
   },
   "outputs": [
    {
     "data": {
      "text/html": [
       "<div>\n",
       "<style scoped>\n",
       "    .dataframe tbody tr th:only-of-type {\n",
       "        vertical-align: middle;\n",
       "    }\n",
       "\n",
       "    .dataframe tbody tr th {\n",
       "        vertical-align: top;\n",
       "    }\n",
       "\n",
       "    .dataframe thead th {\n",
       "        text-align: right;\n",
       "    }\n",
       "</style>\n",
       "<table border=\"1\" class=\"dataframe\">\n",
       "  <thead>\n",
       "    <tr style=\"text-align: right;\">\n",
       "      <th></th>\n",
       "      <th>RowId</th>\n",
       "      <th>Date</th>\n",
       "      <th>SecuritiesCode</th>\n",
       "      <th>Open</th>\n",
       "      <th>High</th>\n",
       "      <th>Low</th>\n",
       "      <th>Close</th>\n",
       "      <th>Volume</th>\n",
       "      <th>AdjustmentFactor</th>\n",
       "      <th>ExpectedDividend</th>\n",
       "      <th>...</th>\n",
       "      <th>Target</th>\n",
       "      <th>EarningsPerShare</th>\n",
       "      <th>TotalAssets</th>\n",
       "      <th>ForecastProfit</th>\n",
       "      <th>ForecastEarningsPerShare</th>\n",
       "      <th>NetSales</th>\n",
       "      <th>EquityToAssetRatio</th>\n",
       "      <th>33SectorCode</th>\n",
       "      <th>MarketCapitalization</th>\n",
       "      <th>IssuedShares</th>\n",
       "    </tr>\n",
       "  </thead>\n",
       "  <tbody>\n",
       "    <tr>\n",
       "      <th>0</th>\n",
       "      <td>20170104_1301</td>\n",
       "      <td>2017-01-04</td>\n",
       "      <td>1301</td>\n",
       "      <td>2734.0</td>\n",
       "      <td>2755.0</td>\n",
       "      <td>2730.0</td>\n",
       "      <td>2742.0</td>\n",
       "      <td>31400</td>\n",
       "      <td>1.0</td>\n",
       "      <td>NaN</td>\n",
       "      <td>...</td>\n",
       "      <td>0.000730</td>\n",
       "      <td>NaN</td>\n",
       "      <td>NaN</td>\n",
       "      <td>NaN</td>\n",
       "      <td>NaN</td>\n",
       "      <td>NaN</td>\n",
       "      <td>NaN</td>\n",
       "      <td>50.0</td>\n",
       "      <td>3.365911e+10</td>\n",
       "      <td>10928283.0</td>\n",
       "    </tr>\n",
       "    <tr>\n",
       "      <th>1</th>\n",
       "      <td>20170104_1332</td>\n",
       "      <td>2017-01-04</td>\n",
       "      <td>1332</td>\n",
       "      <td>568.0</td>\n",
       "      <td>576.0</td>\n",
       "      <td>563.0</td>\n",
       "      <td>571.0</td>\n",
       "      <td>2798500</td>\n",
       "      <td>1.0</td>\n",
       "      <td>NaN</td>\n",
       "      <td>...</td>\n",
       "      <td>0.012324</td>\n",
       "      <td>NaN</td>\n",
       "      <td>NaN</td>\n",
       "      <td>NaN</td>\n",
       "      <td>NaN</td>\n",
       "      <td>NaN</td>\n",
       "      <td>NaN</td>\n",
       "      <td>50.0</td>\n",
       "      <td>1.696496e+11</td>\n",
       "      <td>312430277.0</td>\n",
       "    </tr>\n",
       "    <tr>\n",
       "      <th>2</th>\n",
       "      <td>20170104_1333</td>\n",
       "      <td>2017-01-04</td>\n",
       "      <td>1333</td>\n",
       "      <td>3150.0</td>\n",
       "      <td>3210.0</td>\n",
       "      <td>3140.0</td>\n",
       "      <td>3210.0</td>\n",
       "      <td>270800</td>\n",
       "      <td>1.0</td>\n",
       "      <td>NaN</td>\n",
       "      <td>...</td>\n",
       "      <td>0.006154</td>\n",
       "      <td>NaN</td>\n",
       "      <td>NaN</td>\n",
       "      <td>NaN</td>\n",
       "      <td>NaN</td>\n",
       "      <td>NaN</td>\n",
       "      <td>NaN</td>\n",
       "      <td>50.0</td>\n",
       "      <td>1.266399e+11</td>\n",
       "      <td>52656910.0</td>\n",
       "    </tr>\n",
       "    <tr>\n",
       "      <th>3</th>\n",
       "      <td>20170104_1376</td>\n",
       "      <td>2017-01-04</td>\n",
       "      <td>1376</td>\n",
       "      <td>1510.0</td>\n",
       "      <td>1550.0</td>\n",
       "      <td>1510.0</td>\n",
       "      <td>1550.0</td>\n",
       "      <td>11300</td>\n",
       "      <td>1.0</td>\n",
       "      <td>NaN</td>\n",
       "      <td>...</td>\n",
       "      <td>0.011053</td>\n",
       "      <td>NaN</td>\n",
       "      <td>NaN</td>\n",
       "      <td>NaN</td>\n",
       "      <td>NaN</td>\n",
       "      <td>NaN</td>\n",
       "      <td>NaN</td>\n",
       "      <td>50.0</td>\n",
       "      <td>1.770603e+10</td>\n",
       "      <td>11772626.0</td>\n",
       "    </tr>\n",
       "    <tr>\n",
       "      <th>4</th>\n",
       "      <td>20170104_1377</td>\n",
       "      <td>2017-01-04</td>\n",
       "      <td>1377</td>\n",
       "      <td>3270.0</td>\n",
       "      <td>3350.0</td>\n",
       "      <td>3270.0</td>\n",
       "      <td>3330.0</td>\n",
       "      <td>150800</td>\n",
       "      <td>1.0</td>\n",
       "      <td>NaN</td>\n",
       "      <td>...</td>\n",
       "      <td>0.003026</td>\n",
       "      <td>NaN</td>\n",
       "      <td>NaN</td>\n",
       "      <td>NaN</td>\n",
       "      <td>NaN</td>\n",
       "      <td>NaN</td>\n",
       "      <td>NaN</td>\n",
       "      <td>50.0</td>\n",
       "      <td>1.557443e+11</td>\n",
       "      <td>47410750.0</td>\n",
       "    </tr>\n",
       "    <tr>\n",
       "      <th>...</th>\n",
       "      <td>...</td>\n",
       "      <td>...</td>\n",
       "      <td>...</td>\n",
       "      <td>...</td>\n",
       "      <td>...</td>\n",
       "      <td>...</td>\n",
       "      <td>...</td>\n",
       "      <td>...</td>\n",
       "      <td>...</td>\n",
       "      <td>...</td>\n",
       "      <td>...</td>\n",
       "      <td>...</td>\n",
       "      <td>...</td>\n",
       "      <td>...</td>\n",
       "      <td>...</td>\n",
       "      <td>...</td>\n",
       "      <td>...</td>\n",
       "      <td>...</td>\n",
       "      <td>...</td>\n",
       "      <td>...</td>\n",
       "      <td>...</td>\n",
       "    </tr>\n",
       "    <tr>\n",
       "      <th>2332756</th>\n",
       "      <td>20211203_9990</td>\n",
       "      <td>2021-12-03</td>\n",
       "      <td>9990</td>\n",
       "      <td>514.0</td>\n",
       "      <td>528.0</td>\n",
       "      <td>513.0</td>\n",
       "      <td>528.0</td>\n",
       "      <td>44200</td>\n",
       "      <td>1.0</td>\n",
       "      <td>NaN</td>\n",
       "      <td>...</td>\n",
       "      <td>0.034816</td>\n",
       "      <td>NaN</td>\n",
       "      <td>NaN</td>\n",
       "      <td>NaN</td>\n",
       "      <td>NaN</td>\n",
       "      <td>NaN</td>\n",
       "      <td>NaN</td>\n",
       "      <td>6100.0</td>\n",
       "      <td>1.546743e+10</td>\n",
       "      <td>29859900.0</td>\n",
       "    </tr>\n",
       "    <tr>\n",
       "      <th>2332757</th>\n",
       "      <td>20211203_9991</td>\n",
       "      <td>2021-12-03</td>\n",
       "      <td>9991</td>\n",
       "      <td>782.0</td>\n",
       "      <td>794.0</td>\n",
       "      <td>782.0</td>\n",
       "      <td>794.0</td>\n",
       "      <td>35900</td>\n",
       "      <td>1.0</td>\n",
       "      <td>NaN</td>\n",
       "      <td>...</td>\n",
       "      <td>0.025478</td>\n",
       "      <td>NaN</td>\n",
       "      <td>NaN</td>\n",
       "      <td>NaN</td>\n",
       "      <td>NaN</td>\n",
       "      <td>NaN</td>\n",
       "      <td>NaN</td>\n",
       "      <td>6050.0</td>\n",
       "      <td>3.005980e+10</td>\n",
       "      <td>36436125.0</td>\n",
       "    </tr>\n",
       "    <tr>\n",
       "      <th>2332758</th>\n",
       "      <td>20211203_9993</td>\n",
       "      <td>2021-12-03</td>\n",
       "      <td>9993</td>\n",
       "      <td>1690.0</td>\n",
       "      <td>1690.0</td>\n",
       "      <td>1645.0</td>\n",
       "      <td>1645.0</td>\n",
       "      <td>7200</td>\n",
       "      <td>1.0</td>\n",
       "      <td>NaN</td>\n",
       "      <td>...</td>\n",
       "      <td>-0.004302</td>\n",
       "      <td>NaN</td>\n",
       "      <td>NaN</td>\n",
       "      <td>NaN</td>\n",
       "      <td>NaN</td>\n",
       "      <td>NaN</td>\n",
       "      <td>NaN</td>\n",
       "      <td>6100.0</td>\n",
       "      <td>1.782230e+10</td>\n",
       "      <td>10960825.0</td>\n",
       "    </tr>\n",
       "    <tr>\n",
       "      <th>2332759</th>\n",
       "      <td>20211203_9994</td>\n",
       "      <td>2021-12-03</td>\n",
       "      <td>9994</td>\n",
       "      <td>2388.0</td>\n",
       "      <td>2396.0</td>\n",
       "      <td>2380.0</td>\n",
       "      <td>2389.0</td>\n",
       "      <td>6500</td>\n",
       "      <td>1.0</td>\n",
       "      <td>NaN</td>\n",
       "      <td>...</td>\n",
       "      <td>0.009098</td>\n",
       "      <td>NaN</td>\n",
       "      <td>NaN</td>\n",
       "      <td>NaN</td>\n",
       "      <td>NaN</td>\n",
       "      <td>NaN</td>\n",
       "      <td>NaN</td>\n",
       "      <td>6100.0</td>\n",
       "      <td>2.654474e+10</td>\n",
       "      <td>10847870.0</td>\n",
       "    </tr>\n",
       "    <tr>\n",
       "      <th>2332760</th>\n",
       "      <td>20211203_9997</td>\n",
       "      <td>2021-12-03</td>\n",
       "      <td>9997</td>\n",
       "      <td>690.0</td>\n",
       "      <td>711.0</td>\n",
       "      <td>686.0</td>\n",
       "      <td>696.0</td>\n",
       "      <td>381100</td>\n",
       "      <td>1.0</td>\n",
       "      <td>NaN</td>\n",
       "      <td>...</td>\n",
       "      <td>0.018414</td>\n",
       "      <td>NaN</td>\n",
       "      <td>NaN</td>\n",
       "      <td>NaN</td>\n",
       "      <td>NaN</td>\n",
       "      <td>NaN</td>\n",
       "      <td>NaN</td>\n",
       "      <td>6100.0</td>\n",
       "      <td>6.894633e+10</td>\n",
       "      <td>97244472.0</td>\n",
       "    </tr>\n",
       "  </tbody>\n",
       "</table>\n",
       "<p>2332761 rows × 21 columns</p>\n",
       "</div>"
      ],
      "text/plain": [
       "                 RowId        Date  SecuritiesCode    Open    High     Low  \\\n",
       "0        20170104_1301  2017-01-04            1301  2734.0  2755.0  2730.0   \n",
       "1        20170104_1332  2017-01-04            1332   568.0   576.0   563.0   \n",
       "2        20170104_1333  2017-01-04            1333  3150.0  3210.0  3140.0   \n",
       "3        20170104_1376  2017-01-04            1376  1510.0  1550.0  1510.0   \n",
       "4        20170104_1377  2017-01-04            1377  3270.0  3350.0  3270.0   \n",
       "...                ...         ...             ...     ...     ...     ...   \n",
       "2332756  20211203_9990  2021-12-03            9990   514.0   528.0   513.0   \n",
       "2332757  20211203_9991  2021-12-03            9991   782.0   794.0   782.0   \n",
       "2332758  20211203_9993  2021-12-03            9993  1690.0  1690.0  1645.0   \n",
       "2332759  20211203_9994  2021-12-03            9994  2388.0  2396.0  2380.0   \n",
       "2332760  20211203_9997  2021-12-03            9997   690.0   711.0   686.0   \n",
       "\n",
       "          Close   Volume  AdjustmentFactor  ExpectedDividend  ...    Target  \\\n",
       "0        2742.0    31400               1.0               NaN  ...  0.000730   \n",
       "1         571.0  2798500               1.0               NaN  ...  0.012324   \n",
       "2        3210.0   270800               1.0               NaN  ...  0.006154   \n",
       "3        1550.0    11300               1.0               NaN  ...  0.011053   \n",
       "4        3330.0   150800               1.0               NaN  ...  0.003026   \n",
       "...         ...      ...               ...               ...  ...       ...   \n",
       "2332756   528.0    44200               1.0               NaN  ...  0.034816   \n",
       "2332757   794.0    35900               1.0               NaN  ...  0.025478   \n",
       "2332758  1645.0     7200               1.0               NaN  ... -0.004302   \n",
       "2332759  2389.0     6500               1.0               NaN  ...  0.009098   \n",
       "2332760   696.0   381100               1.0               NaN  ...  0.018414   \n",
       "\n",
       "         EarningsPerShare  TotalAssets  ForecastProfit  \\\n",
       "0                     NaN          NaN             NaN   \n",
       "1                     NaN          NaN             NaN   \n",
       "2                     NaN          NaN             NaN   \n",
       "3                     NaN          NaN             NaN   \n",
       "4                     NaN          NaN             NaN   \n",
       "...                   ...          ...             ...   \n",
       "2332756               NaN          NaN             NaN   \n",
       "2332757               NaN          NaN             NaN   \n",
       "2332758               NaN          NaN             NaN   \n",
       "2332759               NaN          NaN             NaN   \n",
       "2332760               NaN          NaN             NaN   \n",
       "\n",
       "         ForecastEarningsPerShare  NetSales  EquityToAssetRatio  33SectorCode  \\\n",
       "0                             NaN       NaN                 NaN          50.0   \n",
       "1                             NaN       NaN                 NaN          50.0   \n",
       "2                             NaN       NaN                 NaN          50.0   \n",
       "3                             NaN       NaN                 NaN          50.0   \n",
       "4                             NaN       NaN                 NaN          50.0   \n",
       "...                           ...       ...                 ...           ...   \n",
       "2332756                       NaN       NaN                 NaN        6100.0   \n",
       "2332757                       NaN       NaN                 NaN        6050.0   \n",
       "2332758                       NaN       NaN                 NaN        6100.0   \n",
       "2332759                       NaN       NaN                 NaN        6100.0   \n",
       "2332760                       NaN       NaN                 NaN        6100.0   \n",
       "\n",
       "         MarketCapitalization  IssuedShares  \n",
       "0                3.365911e+10    10928283.0  \n",
       "1                1.696496e+11   312430277.0  \n",
       "2                1.266399e+11    52656910.0  \n",
       "3                1.770603e+10    11772626.0  \n",
       "4                1.557443e+11    47410750.0  \n",
       "...                       ...           ...  \n",
       "2332756          1.546743e+10    29859900.0  \n",
       "2332757          3.005980e+10    36436125.0  \n",
       "2332758          1.782230e+10    10960825.0  \n",
       "2332759          2.654474e+10    10847870.0  \n",
       "2332760          6.894633e+10    97244472.0  \n",
       "\n",
       "[2332761 rows x 21 columns]"
      ]
     },
     "execution_count": 258,
     "metadata": {},
     "output_type": "execute_result"
    }
   ],
   "source": [
    "Stock_and_Fin_Added = pd.merge(fin_added, stock_list_cond, how='left', on=[\"SecuritiesCode\"])\n",
    "Stock_and_Fin_Added"
   ]
  },
  {
   "cell_type": "code",
   "execution_count": 259,
   "metadata": {
    "ExecuteTime": {
     "end_time": "2022-06-03T20:27:13.528138Z",
     "start_time": "2022-06-03T20:27:12.302755Z"
    }
   },
   "outputs": [
    {
     "data": {
      "text/plain": [
       "RowId                             0\n",
       "Date                              0\n",
       "SecuritiesCode                    0\n",
       "Open                           7608\n",
       "High                           7608\n",
       "Low                            7608\n",
       "Close                          7608\n",
       "Volume                            0\n",
       "AdjustmentFactor                  0\n",
       "ExpectedDividend            2313896\n",
       "SupervisionFlag                   0\n",
       "Target                          238\n",
       "EarningsPerShare            2296131\n",
       "TotalAssets                 2296131\n",
       "ForecastProfit              2296131\n",
       "ForecastEarningsPerShare    2296131\n",
       "NetSales                    2296131\n",
       "EquityToAssetRatio          2296131\n",
       "33SectorCode                      0\n",
       "MarketCapitalization              0\n",
       "IssuedShares                      0\n",
       "dtype: int64"
      ]
     },
     "execution_count": 259,
     "metadata": {},
     "output_type": "execute_result"
    }
   ],
   "source": [
    "Stock_and_Fin_Added.isna().sum()"
   ]
  },
  {
   "cell_type": "code",
   "execution_count": 260,
   "metadata": {
    "ExecuteTime": {
     "end_time": "2022-06-03T20:27:13.666635Z",
     "start_time": "2022-06-03T20:27:13.599633Z"
    }
   },
   "outputs": [
    {
     "name": "stdout",
     "output_type": "stream",
     "text": [
      "<class 'pandas.core.frame.DataFrame'>\n",
      "Int64Index: 2332761 entries, 0 to 2332760\n",
      "Data columns (total 21 columns):\n",
      " #   Column                    Dtype  \n",
      "---  ------                    -----  \n",
      " 0   RowId                     object \n",
      " 1   Date                      object \n",
      " 2   SecuritiesCode            int64  \n",
      " 3   Open                      float64\n",
      " 4   High                      float64\n",
      " 5   Low                       float64\n",
      " 6   Close                     float64\n",
      " 7   Volume                    int64  \n",
      " 8   AdjustmentFactor          float64\n",
      " 9   ExpectedDividend          float64\n",
      " 10  SupervisionFlag           bool   \n",
      " 11  Target                    float64\n",
      " 12  EarningsPerShare          float64\n",
      " 13  TotalAssets               float64\n",
      " 14  ForecastProfit            float64\n",
      " 15  ForecastEarningsPerShare  float64\n",
      " 16  NetSales                  float64\n",
      " 17  EquityToAssetRatio        float64\n",
      " 18  33SectorCode              float64\n",
      " 19  MarketCapitalization      float64\n",
      " 20  IssuedShares              float64\n",
      "dtypes: bool(1), float64(16), int64(2), object(2)\n",
      "memory usage: 376.0+ MB\n"
     ]
    }
   ],
   "source": [
    "Stock_and_Fin_Added.info()"
   ]
  },
  {
   "cell_type": "markdown",
   "metadata": {},
   "source": [
    "# Feature Engineering\n"
   ]
  },
  {
   "cell_type": "markdown",
   "metadata": {},
   "source": [
    "## Features for train "
   ]
  },
  {
   "cell_type": "code",
   "execution_count": 102,
   "metadata": {
    "ExecuteTime": {
     "end_time": "2022-06-03T15:37:18.331216Z",
     "start_time": "2022-06-03T15:37:18.309824Z"
    }
   },
   "outputs": [],
   "source": [
    "def feature_train(train):\n",
    "    \n",
    "    # Add Lag Features\n",
    "    lag_features = [\"High\", \"Low\", \"Volume\", \"Close\", \"Open\"]\n",
    "    df_rolled_7d = train[lag_features].rolling(window=4, min_periods=0)\n",
    "    df_mean_7d = df_rolled_7d.mean().shift(1).reset_index().astype(np.float32)\n",
    "    df_mean_7d = df_mean_7d.drop('index', axis=1)\n",
    "    df_mean_7d = df_mean_7d.fillna(0)\n",
    "    df_mean_7d = df_mean_7d.round(2)\n",
    "    df_mean_7d['High_lag_1'] = df_mean_7d['High']\n",
    "    df_mean_7d['Open_lag_1'] = df_mean_7d['Open']\n",
    "    df_mean_7d['Close_lag_1'] = df_mean_7d['Close']\n",
    "    df_mean_7d['Volume_lag_1'] = df_mean_7d['Volume']\n",
    "    df_mean_7d['Low_lag_1'] = df_mean_7d['Low']\n",
    "    df_mean_7d = df_mean_7d.drop([\"High\", \"Low\", \"Volume\", \"Close\", \"Open\"], axis=1)\n",
    "    train = train.reset_index(drop=True)\n",
    "    train = pd.concat([train, df_mean_7d], axis=1)\n",
    "    \n",
    "    # Set Datetime index\n",
    "    #train['Date'] = pd.to_datetime(train['Date'], format='%Y/%m/%d', errors='coerce')\n",
    "    #mask = train['Date'].isnull()\n",
    "    #train.loc[mask, 'Date'] = pd.to_datetime(train['Date'], format='%Y/%m/%d',\n",
    "    #                                            errors='coerce')\n",
    "    \n",
    "    train['Date'] = train['Date'].str.replace('-', '')\n",
    "    train['Date'] = train['Date'].astype(float)\n",
    "    \n",
    "    # Drop irrelevant columns for training\n",
    "    train = train.drop(\n",
    "                        ['RowId', \n",
    "                         'ExpectedDividend', \n",
    "                         'SupervisionFlag',\n",
    "                         'AdjustmentFactor'], axis=1)\n",
    "    \n",
    "    # Bool to int for SupervisionFlag\n",
    "    #train[\"SupervisionFlag\"] = train[\"SupervisionFlag\"].astype(int)\n",
    "    \n",
    "    # Forward, then backward fill missing values in cols\n",
    "    cols = ['Open', \n",
    "            'High', \n",
    "            'Low', \n",
    "            'Close', \n",
    "            'Target']\n",
    "    train.loc[:,cols] = train.loc[:,cols].ffill()\n",
    "    train.loc[:,cols] = train.loc[:,cols].bfill()\n",
    "    \n",
    "    # Replace missing values in ExpectedDividend with 0\n",
    "    #train['ExpectedDividend'] = train['ExpectedDividend'].fillna(0)\n",
    "    \n",
    "    # Add Spread Features\n",
    "    train['Daily_Spread'] = train['Close'] - train['Open']\n",
    "    train['Daily_Max_Min'] = train['High'] - train['Low']\n",
    "    train['1_Day_Spread'] = train['Close'].diff()\n",
    "    train['2_Day_Spread'] = train['Close'].diff(periods=2)\n",
    "    train['1_Week_Spread'] = train['Close'].diff(periods=5)\n",
    "    train['MA_Prior_1day'] = train['Close'].diff(periods= -1)\n",
    "    train['MA_Prior_2day'] = train['Close'].diff(periods= -2)\n",
    "    train = train.fillna(0)\n",
    "    train['MA_Prior_diff'] = train['MA_Prior_1day'] - train['MA_Prior_2day']\n",
    "    \n",
    "    # Fill missing values with 0\n",
    "    train = train.fillna(0)\n",
    "        \n",
    "    # Add rolling ratio of mean/std of forward 1 day return\n",
    "    indexer = pd.api.indexers.FixedForwardWindowIndexer(window_size=5)\n",
    "    train['ExPost_SR'] = (train['MA_Prior_diff'].rolling(\n",
    "        window=indexer, min_periods=1).mean())/(\n",
    "        train['MA_Prior_diff'].std())\n",
    "    \n",
    "    # MinMax Scale columns (-1, 1 scale)   \n",
    "    scaler = MinMaxScaler(feature_range=(-1, 1))\n",
    "    scaled = scaler.fit_transform(train)\n",
    "    train_cols = train.columns.values.tolist()\n",
    "    trained = pd.DataFrame(data=scaled, columns=train_cols, index=train.index)\n",
    "    \n",
    "    # Fill missing values with 0\n",
    "    #train = train.fillna(0)\n",
    "    \n",
    "    return trained"
   ]
  },
  {
   "cell_type": "code",
   "execution_count": 36,
   "metadata": {
    "ExecuteTime": {
     "end_time": "2022-06-03T14:47:42.608327Z",
     "start_time": "2022-06-03T14:47:42.552991Z"
    }
   },
   "outputs": [],
   "source": [
    "values8103_copy = feature_train(values8103)"
   ]
  },
  {
   "cell_type": "code",
   "execution_count": 38,
   "metadata": {
    "ExecuteTime": {
     "end_time": "2022-06-03T14:48:01.658713Z",
     "start_time": "2022-06-03T14:48:01.565296Z"
    }
   },
   "outputs": [],
   "source": [
    "join_features = feature_train(join)"
   ]
  },
  {
   "cell_type": "code",
   "execution_count": 76,
   "metadata": {
    "ExecuteTime": {
     "end_time": "2022-06-03T15:08:29.941386Z",
     "start_time": "2022-06-03T15:08:29.752817Z"
    }
   },
   "outputs": [
    {
     "data": {
      "text/html": [
       "<div>\n",
       "<style scoped>\n",
       "    .dataframe tbody tr th:only-of-type {\n",
       "        vertical-align: middle;\n",
       "    }\n",
       "\n",
       "    .dataframe tbody tr th {\n",
       "        vertical-align: top;\n",
       "    }\n",
       "\n",
       "    .dataframe thead th {\n",
       "        text-align: right;\n",
       "    }\n",
       "</style>\n",
       "<table border=\"1\" class=\"dataframe\">\n",
       "  <thead>\n",
       "    <tr style=\"text-align: right;\">\n",
       "      <th></th>\n",
       "      <th>count</th>\n",
       "      <th>mean</th>\n",
       "      <th>std</th>\n",
       "      <th>min</th>\n",
       "      <th>25%</th>\n",
       "      <th>50%</th>\n",
       "      <th>75%</th>\n",
       "      <th>max</th>\n",
       "    </tr>\n",
       "  </thead>\n",
       "  <tbody>\n",
       "    <tr>\n",
       "      <th>Date</th>\n",
       "      <td>1202.0</td>\n",
       "      <td>-0.017293</td>\n",
       "      <td>0.684492</td>\n",
       "      <td>-1.0</td>\n",
       "      <td>-0.502676</td>\n",
       "      <td>-0.001703</td>\n",
       "      <td>0.499148</td>\n",
       "      <td>1.0</td>\n",
       "    </tr>\n",
       "    <tr>\n",
       "      <th>SecuritiesCode</th>\n",
       "      <td>1202.0</td>\n",
       "      <td>-1.000000</td>\n",
       "      <td>0.000000</td>\n",
       "      <td>-1.0</td>\n",
       "      <td>-1.000000</td>\n",
       "      <td>-1.000000</td>\n",
       "      <td>-1.000000</td>\n",
       "      <td>-1.0</td>\n",
       "    </tr>\n",
       "    <tr>\n",
       "      <th>Open</th>\n",
       "      <td>1202.0</td>\n",
       "      <td>-0.676852</td>\n",
       "      <td>0.253860</td>\n",
       "      <td>-1.0</td>\n",
       "      <td>-0.804004</td>\n",
       "      <td>-0.723920</td>\n",
       "      <td>-0.660695</td>\n",
       "      <td>1.0</td>\n",
       "    </tr>\n",
       "    <tr>\n",
       "      <th>High</th>\n",
       "      <td>1202.0</td>\n",
       "      <td>-0.712513</td>\n",
       "      <td>0.234616</td>\n",
       "      <td>-1.0</td>\n",
       "      <td>-0.828897</td>\n",
       "      <td>-0.756654</td>\n",
       "      <td>-0.699620</td>\n",
       "      <td>1.0</td>\n",
       "    </tr>\n",
       "    <tr>\n",
       "      <th>Low</th>\n",
       "      <td>1202.0</td>\n",
       "      <td>-0.647077</td>\n",
       "      <td>0.270342</td>\n",
       "      <td>-1.0</td>\n",
       "      <td>-0.783830</td>\n",
       "      <td>-0.692661</td>\n",
       "      <td>-0.628440</td>\n",
       "      <td>1.0</td>\n",
       "    </tr>\n",
       "    <tr>\n",
       "      <th>Close</th>\n",
       "      <td>1202.0</td>\n",
       "      <td>-0.683625</td>\n",
       "      <td>0.254670</td>\n",
       "      <td>-1.0</td>\n",
       "      <td>-0.811040</td>\n",
       "      <td>-0.730361</td>\n",
       "      <td>-0.666667</td>\n",
       "      <td>1.0</td>\n",
       "    </tr>\n",
       "    <tr>\n",
       "      <th>Volume</th>\n",
       "      <td>1202.0</td>\n",
       "      <td>-0.974377</td>\n",
       "      <td>0.075782</td>\n",
       "      <td>-1.0</td>\n",
       "      <td>-0.995853</td>\n",
       "      <td>-0.992112</td>\n",
       "      <td>-0.980746</td>\n",
       "      <td>1.0</td>\n",
       "    </tr>\n",
       "    <tr>\n",
       "      <th>Target</th>\n",
       "      <td>1202.0</td>\n",
       "      <td>-0.636369</td>\n",
       "      <td>0.079217</td>\n",
       "      <td>-1.0</td>\n",
       "      <td>-0.662708</td>\n",
       "      <td>-0.639011</td>\n",
       "      <td>-0.613285</td>\n",
       "      <td>1.0</td>\n",
       "    </tr>\n",
       "    <tr>\n",
       "      <th>EarningsPerShare</th>\n",
       "      <td>1202.0</td>\n",
       "      <td>-0.983357</td>\n",
       "      <td>0.149226</td>\n",
       "      <td>-1.0</td>\n",
       "      <td>-1.000000</td>\n",
       "      <td>-1.000000</td>\n",
       "      <td>-1.000000</td>\n",
       "      <td>1.0</td>\n",
       "    </tr>\n",
       "    <tr>\n",
       "      <th>TotalAssets</th>\n",
       "      <td>1202.0</td>\n",
       "      <td>-0.972014</td>\n",
       "      <td>0.227406</td>\n",
       "      <td>-1.0</td>\n",
       "      <td>-1.000000</td>\n",
       "      <td>-1.000000</td>\n",
       "      <td>-1.000000</td>\n",
       "      <td>1.0</td>\n",
       "    </tr>\n",
       "    <tr>\n",
       "      <th>ForecastProfit</th>\n",
       "      <td>1202.0</td>\n",
       "      <td>-0.975537</td>\n",
       "      <td>0.202546</td>\n",
       "      <td>-1.0</td>\n",
       "      <td>-1.000000</td>\n",
       "      <td>-1.000000</td>\n",
       "      <td>-1.000000</td>\n",
       "      <td>1.0</td>\n",
       "    </tr>\n",
       "    <tr>\n",
       "      <th>ForecastEarningsPerShare</th>\n",
       "      <td>1202.0</td>\n",
       "      <td>-0.975538</td>\n",
       "      <td>0.202541</td>\n",
       "      <td>-1.0</td>\n",
       "      <td>-1.000000</td>\n",
       "      <td>-1.000000</td>\n",
       "      <td>-1.000000</td>\n",
       "      <td>1.0</td>\n",
       "    </tr>\n",
       "    <tr>\n",
       "      <th>NetSales</th>\n",
       "      <td>1202.0</td>\n",
       "      <td>-0.983126</td>\n",
       "      <td>0.149655</td>\n",
       "      <td>-1.0</td>\n",
       "      <td>-1.000000</td>\n",
       "      <td>-1.000000</td>\n",
       "      <td>-1.000000</td>\n",
       "      <td>1.0</td>\n",
       "    </tr>\n",
       "    <tr>\n",
       "      <th>EquityToAssetRatio</th>\n",
       "      <td>1202.0</td>\n",
       "      <td>-0.972647</td>\n",
       "      <td>0.222224</td>\n",
       "      <td>-1.0</td>\n",
       "      <td>-1.000000</td>\n",
       "      <td>-1.000000</td>\n",
       "      <td>-1.000000</td>\n",
       "      <td>1.0</td>\n",
       "    </tr>\n",
       "    <tr>\n",
       "      <th>33SectorCode</th>\n",
       "      <td>1202.0</td>\n",
       "      <td>-1.000000</td>\n",
       "      <td>0.000000</td>\n",
       "      <td>-1.0</td>\n",
       "      <td>-1.000000</td>\n",
       "      <td>-1.000000</td>\n",
       "      <td>-1.000000</td>\n",
       "      <td>-1.0</td>\n",
       "    </tr>\n",
       "    <tr>\n",
       "      <th>MarketCapitalization</th>\n",
       "      <td>1202.0</td>\n",
       "      <td>-1.000000</td>\n",
       "      <td>0.000000</td>\n",
       "      <td>-1.0</td>\n",
       "      <td>-1.000000</td>\n",
       "      <td>-1.000000</td>\n",
       "      <td>-1.000000</td>\n",
       "      <td>-1.0</td>\n",
       "    </tr>\n",
       "    <tr>\n",
       "      <th>IssuedShares</th>\n",
       "      <td>1202.0</td>\n",
       "      <td>-1.000000</td>\n",
       "      <td>0.000000</td>\n",
       "      <td>-1.0</td>\n",
       "      <td>-1.000000</td>\n",
       "      <td>-1.000000</td>\n",
       "      <td>-1.000000</td>\n",
       "      <td>-1.0</td>\n",
       "    </tr>\n",
       "    <tr>\n",
       "      <th>High_lag_1</th>\n",
       "      <td>1202.0</td>\n",
       "      <td>-0.224157</td>\n",
       "      <td>0.190085</td>\n",
       "      <td>-1.0</td>\n",
       "      <td>-0.317624</td>\n",
       "      <td>-0.258812</td>\n",
       "      <td>-0.212074</td>\n",
       "      <td>1.0</td>\n",
       "    </tr>\n",
       "    <tr>\n",
       "      <th>Open_lag_1</th>\n",
       "      <td>1202.0</td>\n",
       "      <td>-0.191418</td>\n",
       "      <td>0.196037</td>\n",
       "      <td>-1.0</td>\n",
       "      <td>-0.289279</td>\n",
       "      <td>-0.225098</td>\n",
       "      <td>-0.178476</td>\n",
       "      <td>1.0</td>\n",
       "    </tr>\n",
       "    <tr>\n",
       "      <th>Close_lag_1</th>\n",
       "      <td>1202.0</td>\n",
       "      <td>-0.193275</td>\n",
       "      <td>0.194654</td>\n",
       "      <td>-1.0</td>\n",
       "      <td>-0.289625</td>\n",
       "      <td>-0.226574</td>\n",
       "      <td>-0.179003</td>\n",
       "      <td>1.0</td>\n",
       "    </tr>\n",
       "    <tr>\n",
       "      <th>Volume_lag_1</th>\n",
       "      <td>1202.0</td>\n",
       "      <td>-0.936961</td>\n",
       "      <td>0.144830</td>\n",
       "      <td>-1.0</td>\n",
       "      <td>-0.988631</td>\n",
       "      <td>-0.979484</td>\n",
       "      <td>-0.952262</td>\n",
       "      <td>1.0</td>\n",
       "    </tr>\n",
       "    <tr>\n",
       "      <th>Low_lag_1</th>\n",
       "      <td>1202.0</td>\n",
       "      <td>-0.174392</td>\n",
       "      <td>0.198487</td>\n",
       "      <td>-1.0</td>\n",
       "      <td>-0.273906</td>\n",
       "      <td>-0.206757</td>\n",
       "      <td>-0.160221</td>\n",
       "      <td>1.0</td>\n",
       "    </tr>\n",
       "    <tr>\n",
       "      <th>Daily_Spread</th>\n",
       "      <td>1202.0</td>\n",
       "      <td>-0.238656</td>\n",
       "      <td>0.076331</td>\n",
       "      <td>-1.0</td>\n",
       "      <td>-0.270270</td>\n",
       "      <td>-0.243243</td>\n",
       "      <td>-0.209459</td>\n",
       "      <td>1.0</td>\n",
       "    </tr>\n",
       "    <tr>\n",
       "      <th>Daily_Max_Min</th>\n",
       "      <td>1202.0</td>\n",
       "      <td>-0.917157</td>\n",
       "      <td>0.086155</td>\n",
       "      <td>-1.0</td>\n",
       "      <td>-0.953020</td>\n",
       "      <td>-0.932886</td>\n",
       "      <td>-0.906040</td>\n",
       "      <td>1.0</td>\n",
       "    </tr>\n",
       "    <tr>\n",
       "      <th>1_Day_Spread</th>\n",
       "      <td>1202.0</td>\n",
       "      <td>-0.522459</td>\n",
       "      <td>0.069669</td>\n",
       "      <td>-1.0</td>\n",
       "      <td>-0.539048</td>\n",
       "      <td>-0.523810</td>\n",
       "      <td>-0.504762</td>\n",
       "      <td>1.0</td>\n",
       "    </tr>\n",
       "    <tr>\n",
       "      <th>2_Day_Spread</th>\n",
       "      <td>1202.0</td>\n",
       "      <td>-0.486151</td>\n",
       "      <td>0.070689</td>\n",
       "      <td>-1.0</td>\n",
       "      <td>-0.501746</td>\n",
       "      <td>-0.487776</td>\n",
       "      <td>-0.473807</td>\n",
       "      <td>1.0</td>\n",
       "    </tr>\n",
       "    <tr>\n",
       "      <th>1_Week_Spread</th>\n",
       "      <td>1202.0</td>\n",
       "      <td>-0.366795</td>\n",
       "      <td>0.091820</td>\n",
       "      <td>-1.0</td>\n",
       "      <td>-0.386555</td>\n",
       "      <td>-0.369748</td>\n",
       "      <td>-0.351261</td>\n",
       "      <td>1.0</td>\n",
       "    </tr>\n",
       "    <tr>\n",
       "      <th>MA_Prior_1day</th>\n",
       "      <td>1202.0</td>\n",
       "      <td>0.522459</td>\n",
       "      <td>0.069669</td>\n",
       "      <td>-1.0</td>\n",
       "      <td>0.504762</td>\n",
       "      <td>0.523810</td>\n",
       "      <td>0.539048</td>\n",
       "      <td>1.0</td>\n",
       "    </tr>\n",
       "    <tr>\n",
       "      <th>MA_Prior_2day</th>\n",
       "      <td>1202.0</td>\n",
       "      <td>0.486151</td>\n",
       "      <td>0.070689</td>\n",
       "      <td>-1.0</td>\n",
       "      <td>0.473807</td>\n",
       "      <td>0.487776</td>\n",
       "      <td>0.501746</td>\n",
       "      <td>1.0</td>\n",
       "    </tr>\n",
       "    <tr>\n",
       "      <th>MA_Prior_diff</th>\n",
       "      <td>1202.0</td>\n",
       "      <td>-0.522501</td>\n",
       "      <td>0.069685</td>\n",
       "      <td>-1.0</td>\n",
       "      <td>-0.541905</td>\n",
       "      <td>-0.523810</td>\n",
       "      <td>-0.504762</td>\n",
       "      <td>1.0</td>\n",
       "    </tr>\n",
       "    <tr>\n",
       "      <th>ExPost_SR</th>\n",
       "      <td>1202.0</td>\n",
       "      <td>-0.366812</td>\n",
       "      <td>0.091832</td>\n",
       "      <td>-1.0</td>\n",
       "      <td>-0.386555</td>\n",
       "      <td>-0.368908</td>\n",
       "      <td>-0.351261</td>\n",
       "      <td>1.0</td>\n",
       "    </tr>\n",
       "  </tbody>\n",
       "</table>\n",
       "</div>"
      ],
      "text/plain": [
       "                           count      mean       std  min       25%       50%  \\\n",
       "Date                      1202.0 -0.017293  0.684492 -1.0 -0.502676 -0.001703   \n",
       "SecuritiesCode            1202.0 -1.000000  0.000000 -1.0 -1.000000 -1.000000   \n",
       "Open                      1202.0 -0.676852  0.253860 -1.0 -0.804004 -0.723920   \n",
       "High                      1202.0 -0.712513  0.234616 -1.0 -0.828897 -0.756654   \n",
       "Low                       1202.0 -0.647077  0.270342 -1.0 -0.783830 -0.692661   \n",
       "Close                     1202.0 -0.683625  0.254670 -1.0 -0.811040 -0.730361   \n",
       "Volume                    1202.0 -0.974377  0.075782 -1.0 -0.995853 -0.992112   \n",
       "Target                    1202.0 -0.636369  0.079217 -1.0 -0.662708 -0.639011   \n",
       "EarningsPerShare          1202.0 -0.983357  0.149226 -1.0 -1.000000 -1.000000   \n",
       "TotalAssets               1202.0 -0.972014  0.227406 -1.0 -1.000000 -1.000000   \n",
       "ForecastProfit            1202.0 -0.975537  0.202546 -1.0 -1.000000 -1.000000   \n",
       "ForecastEarningsPerShare  1202.0 -0.975538  0.202541 -1.0 -1.000000 -1.000000   \n",
       "NetSales                  1202.0 -0.983126  0.149655 -1.0 -1.000000 -1.000000   \n",
       "EquityToAssetRatio        1202.0 -0.972647  0.222224 -1.0 -1.000000 -1.000000   \n",
       "33SectorCode              1202.0 -1.000000  0.000000 -1.0 -1.000000 -1.000000   \n",
       "MarketCapitalization      1202.0 -1.000000  0.000000 -1.0 -1.000000 -1.000000   \n",
       "IssuedShares              1202.0 -1.000000  0.000000 -1.0 -1.000000 -1.000000   \n",
       "High_lag_1                1202.0 -0.224157  0.190085 -1.0 -0.317624 -0.258812   \n",
       "Open_lag_1                1202.0 -0.191418  0.196037 -1.0 -0.289279 -0.225098   \n",
       "Close_lag_1               1202.0 -0.193275  0.194654 -1.0 -0.289625 -0.226574   \n",
       "Volume_lag_1              1202.0 -0.936961  0.144830 -1.0 -0.988631 -0.979484   \n",
       "Low_lag_1                 1202.0 -0.174392  0.198487 -1.0 -0.273906 -0.206757   \n",
       "Daily_Spread              1202.0 -0.238656  0.076331 -1.0 -0.270270 -0.243243   \n",
       "Daily_Max_Min             1202.0 -0.917157  0.086155 -1.0 -0.953020 -0.932886   \n",
       "1_Day_Spread              1202.0 -0.522459  0.069669 -1.0 -0.539048 -0.523810   \n",
       "2_Day_Spread              1202.0 -0.486151  0.070689 -1.0 -0.501746 -0.487776   \n",
       "1_Week_Spread             1202.0 -0.366795  0.091820 -1.0 -0.386555 -0.369748   \n",
       "MA_Prior_1day             1202.0  0.522459  0.069669 -1.0  0.504762  0.523810   \n",
       "MA_Prior_2day             1202.0  0.486151  0.070689 -1.0  0.473807  0.487776   \n",
       "MA_Prior_diff             1202.0 -0.522501  0.069685 -1.0 -0.541905 -0.523810   \n",
       "ExPost_SR                 1202.0 -0.366812  0.091832 -1.0 -0.386555 -0.368908   \n",
       "\n",
       "                               75%  max  \n",
       "Date                      0.499148  1.0  \n",
       "SecuritiesCode           -1.000000 -1.0  \n",
       "Open                     -0.660695  1.0  \n",
       "High                     -0.699620  1.0  \n",
       "Low                      -0.628440  1.0  \n",
       "Close                    -0.666667  1.0  \n",
       "Volume                   -0.980746  1.0  \n",
       "Target                   -0.613285  1.0  \n",
       "EarningsPerShare         -1.000000  1.0  \n",
       "TotalAssets              -1.000000  1.0  \n",
       "ForecastProfit           -1.000000  1.0  \n",
       "ForecastEarningsPerShare -1.000000  1.0  \n",
       "NetSales                 -1.000000  1.0  \n",
       "EquityToAssetRatio       -1.000000  1.0  \n",
       "33SectorCode             -1.000000 -1.0  \n",
       "MarketCapitalization     -1.000000 -1.0  \n",
       "IssuedShares             -1.000000 -1.0  \n",
       "High_lag_1               -0.212074  1.0  \n",
       "Open_lag_1               -0.178476  1.0  \n",
       "Close_lag_1              -0.179003  1.0  \n",
       "Volume_lag_1             -0.952262  1.0  \n",
       "Low_lag_1                -0.160221  1.0  \n",
       "Daily_Spread             -0.209459  1.0  \n",
       "Daily_Max_Min            -0.906040  1.0  \n",
       "1_Day_Spread             -0.504762  1.0  \n",
       "2_Day_Spread             -0.473807  1.0  \n",
       "1_Week_Spread            -0.351261  1.0  \n",
       "MA_Prior_1day             0.539048  1.0  \n",
       "MA_Prior_2day             0.501746  1.0  \n",
       "MA_Prior_diff            -0.504762  1.0  \n",
       "ExPost_SR                -0.351261  1.0  "
      ]
     },
     "execution_count": 76,
     "metadata": {},
     "output_type": "execute_result"
    }
   ],
   "source": [
    "stck_joined  = feature_train(stck_join)\n",
    "stck_joined.describe().transpose()"
   ]
  },
  {
   "cell_type": "markdown",
   "metadata": {},
   "source": [
    "# Train & Test"
   ]
  },
  {
   "cell_type": "markdown",
   "metadata": {},
   "source": [
    "## No Financials Model"
   ]
  },
  {
   "cell_type": "markdown",
   "metadata": {},
   "source": [
    "### Train, Test, Split"
   ]
  },
  {
   "cell_type": "code",
   "execution_count": 45,
   "metadata": {
    "ExecuteTime": {
     "end_time": "2022-06-03T14:48:31.533997Z",
     "start_time": "2022-06-03T14:48:31.479478Z"
    }
   },
   "outputs": [],
   "source": [
    "# Feature Engineer values from one stock without financials.csv info\n",
    "values8103_copy = feature_train(values8103)\n",
    "\n",
    "# create X and y df's\n",
    "X = values8103_copy.drop('Target', axis=1)\n",
    "y = values8103_copy['Target']"
   ]
  },
  {
   "cell_type": "code",
   "execution_count": 46,
   "metadata": {
    "ExecuteTime": {
     "end_time": "2022-06-03T14:48:32.063123Z",
     "start_time": "2022-06-03T14:48:32.021931Z"
    }
   },
   "outputs": [
    {
     "data": {
      "text/html": [
       "<div>\n",
       "<style scoped>\n",
       "    .dataframe tbody tr th:only-of-type {\n",
       "        vertical-align: middle;\n",
       "    }\n",
       "\n",
       "    .dataframe tbody tr th {\n",
       "        vertical-align: top;\n",
       "    }\n",
       "\n",
       "    .dataframe thead th {\n",
       "        text-align: right;\n",
       "    }\n",
       "</style>\n",
       "<table border=\"1\" class=\"dataframe\">\n",
       "  <thead>\n",
       "    <tr style=\"text-align: right;\">\n",
       "      <th></th>\n",
       "      <th>Date</th>\n",
       "      <th>SecuritiesCode</th>\n",
       "      <th>Open</th>\n",
       "      <th>High</th>\n",
       "      <th>Low</th>\n",
       "      <th>Close</th>\n",
       "      <th>Volume</th>\n",
       "      <th>High_lag_1</th>\n",
       "      <th>Open_lag_1</th>\n",
       "      <th>Close_lag_1</th>\n",
       "      <th>...</th>\n",
       "      <th>Low_lag_1</th>\n",
       "      <th>Daily_Spread</th>\n",
       "      <th>Daily_Max_Min</th>\n",
       "      <th>1_Day_Spread</th>\n",
       "      <th>2_Day_Spread</th>\n",
       "      <th>1_Week_Spread</th>\n",
       "      <th>MA_Prior_1day</th>\n",
       "      <th>MA_Prior_2day</th>\n",
       "      <th>MA_Prior_diff</th>\n",
       "      <th>ExPost_SR</th>\n",
       "    </tr>\n",
       "  </thead>\n",
       "  <tbody>\n",
       "    <tr>\n",
       "      <th>0</th>\n",
       "      <td>-1.000000</td>\n",
       "      <td>-1.0</td>\n",
       "      <td>-0.860906</td>\n",
       "      <td>-0.876426</td>\n",
       "      <td>-0.857798</td>\n",
       "      <td>-0.853503</td>\n",
       "      <td>-0.985727</td>\n",
       "      <td>-1.000000</td>\n",
       "      <td>-1.000000</td>\n",
       "      <td>-1.000000</td>\n",
       "      <td>...</td>\n",
       "      <td>-1.000000</td>\n",
       "      <td>-0.189189</td>\n",
       "      <td>-0.879195</td>\n",
       "      <td>-0.523810</td>\n",
       "      <td>-0.487776</td>\n",
       "      <td>-0.369748</td>\n",
       "      <td>0.523810</td>\n",
       "      <td>0.511059</td>\n",
       "      <td>-0.561905</td>\n",
       "      <td>-0.388235</td>\n",
       "    </tr>\n",
       "    <tr>\n",
       "      <th>1</th>\n",
       "      <td>-0.999951</td>\n",
       "      <td>-1.0</td>\n",
       "      <td>-0.841939</td>\n",
       "      <td>-0.865019</td>\n",
       "      <td>-0.827982</td>\n",
       "      <td>-0.853503</td>\n",
       "      <td>-0.990064</td>\n",
       "      <td>-0.356573</td>\n",
       "      <td>-0.332923</td>\n",
       "      <td>-0.322534</td>\n",
       "      <td>...</td>\n",
       "      <td>-0.328517</td>\n",
       "      <td>-0.250000</td>\n",
       "      <td>-0.926174</td>\n",
       "      <td>-0.523810</td>\n",
       "      <td>-0.487776</td>\n",
       "      <td>-0.369748</td>\n",
       "      <td>0.561905</td>\n",
       "      <td>0.513388</td>\n",
       "      <td>-0.527619</td>\n",
       "      <td>-0.383193</td>\n",
       "    </tr>\n",
       "    <tr>\n",
       "      <th>2</th>\n",
       "      <td>-0.999903</td>\n",
       "      <td>-1.0</td>\n",
       "      <td>-0.865121</td>\n",
       "      <td>-0.882129</td>\n",
       "      <td>-0.844037</td>\n",
       "      <td>-0.874735</td>\n",
       "      <td>-0.989528</td>\n",
       "      <td>-0.351899</td>\n",
       "      <td>-0.325529</td>\n",
       "      <td>-0.322534</td>\n",
       "      <td>...</td>\n",
       "      <td>-0.317467</td>\n",
       "      <td>-0.243243</td>\n",
       "      <td>-0.939597</td>\n",
       "      <td>-0.561905</td>\n",
       "      <td>-0.511059</td>\n",
       "      <td>-0.369748</td>\n",
       "      <td>0.527619</td>\n",
       "      <td>0.506403</td>\n",
       "      <td>-0.550476</td>\n",
       "      <td>-0.398319</td>\n",
       "    </tr>\n",
       "    <tr>\n",
       "      <th>3</th>\n",
       "      <td>-0.999708</td>\n",
       "      <td>-1.0</td>\n",
       "      <td>-0.865121</td>\n",
       "      <td>-0.885932</td>\n",
       "      <td>-0.850917</td>\n",
       "      <td>-0.876858</td>\n",
       "      <td>-0.992777</td>\n",
       "      <td>-0.355015</td>\n",
       "      <td>-0.329094</td>\n",
       "      <td>-0.327997</td>\n",
       "      <td>...</td>\n",
       "      <td>-0.317756</td>\n",
       "      <td>-0.250000</td>\n",
       "      <td>-0.932886</td>\n",
       "      <td>-0.527619</td>\n",
       "      <td>-0.513388</td>\n",
       "      <td>-0.369748</td>\n",
       "      <td>0.550476</td>\n",
       "      <td>0.497090</td>\n",
       "      <td>-0.512381</td>\n",
       "      <td>-0.389916</td>\n",
       "    </tr>\n",
       "    <tr>\n",
       "      <th>4</th>\n",
       "      <td>-0.999659</td>\n",
       "      <td>-1.0</td>\n",
       "      <td>-0.863014</td>\n",
       "      <td>-0.891635</td>\n",
       "      <td>-0.869266</td>\n",
       "      <td>-0.891720</td>\n",
       "      <td>-0.990289</td>\n",
       "      <td>-0.357352</td>\n",
       "      <td>-0.330869</td>\n",
       "      <td>-0.331146</td>\n",
       "      <td>...</td>\n",
       "      <td>-0.319167</td>\n",
       "      <td>-0.304054</td>\n",
       "      <td>-0.899329</td>\n",
       "      <td>-0.550476</td>\n",
       "      <td>-0.506403</td>\n",
       "      <td>-0.369748</td>\n",
       "      <td>0.512381</td>\n",
       "      <td>0.471478</td>\n",
       "      <td>-0.508571</td>\n",
       "      <td>-0.384874</td>\n",
       "    </tr>\n",
       "    <tr>\n",
       "      <th>...</th>\n",
       "      <td>...</td>\n",
       "      <td>...</td>\n",
       "      <td>...</td>\n",
       "      <td>...</td>\n",
       "      <td>...</td>\n",
       "      <td>...</td>\n",
       "      <td>...</td>\n",
       "      <td>...</td>\n",
       "      <td>...</td>\n",
       "      <td>...</td>\n",
       "      <td>...</td>\n",
       "      <td>...</td>\n",
       "      <td>...</td>\n",
       "      <td>...</td>\n",
       "      <td>...</td>\n",
       "      <td>...</td>\n",
       "      <td>...</td>\n",
       "      <td>...</td>\n",
       "      <td>...</td>\n",
       "      <td>...</td>\n",
       "      <td>...</td>\n",
       "    </tr>\n",
       "    <tr>\n",
       "      <th>1197</th>\n",
       "      <td>0.996399</td>\n",
       "      <td>-1.0</td>\n",
       "      <td>0.030558</td>\n",
       "      <td>-0.058935</td>\n",
       "      <td>0.128440</td>\n",
       "      <td>0.027601</td>\n",
       "      <td>-0.897910</td>\n",
       "      <td>0.323856</td>\n",
       "      <td>0.387965</td>\n",
       "      <td>0.386508</td>\n",
       "      <td>...</td>\n",
       "      <td>0.420314</td>\n",
       "      <td>-0.243243</td>\n",
       "      <td>-0.879195</td>\n",
       "      <td>-0.584762</td>\n",
       "      <td>-0.538999</td>\n",
       "      <td>-0.374790</td>\n",
       "      <td>0.558095</td>\n",
       "      <td>0.492433</td>\n",
       "      <td>-0.497143</td>\n",
       "      <td>-0.357983</td>\n",
       "    </tr>\n",
       "    <tr>\n",
       "      <th>1198</th>\n",
       "      <td>0.996448</td>\n",
       "      <td>-1.0</td>\n",
       "      <td>0.051633</td>\n",
       "      <td>-0.053232</td>\n",
       "      <td>0.112385</td>\n",
       "      <td>0.008493</td>\n",
       "      <td>-0.900105</td>\n",
       "      <td>0.323466</td>\n",
       "      <td>0.385089</td>\n",
       "      <td>0.380357</td>\n",
       "      <td>...</td>\n",
       "      <td>0.419890</td>\n",
       "      <td>-0.371622</td>\n",
       "      <td>-0.812081</td>\n",
       "      <td>-0.558095</td>\n",
       "      <td>-0.545984</td>\n",
       "      <td>-0.410084</td>\n",
       "      <td>0.497143</td>\n",
       "      <td>0.471478</td>\n",
       "      <td>-0.523810</td>\n",
       "      <td>-0.369748</td>\n",
       "    </tr>\n",
       "    <tr>\n",
       "      <th>1199</th>\n",
       "      <td>0.999903</td>\n",
       "      <td>-1.0</td>\n",
       "      <td>0.015806</td>\n",
       "      <td>-0.077947</td>\n",
       "      <td>0.114679</td>\n",
       "      <td>0.023355</td>\n",
       "      <td>-0.923450</td>\n",
       "      <td>0.322687</td>\n",
       "      <td>0.383857</td>\n",
       "      <td>0.370105</td>\n",
       "      <td>...</td>\n",
       "      <td>0.412240</td>\n",
       "      <td>-0.209459</td>\n",
       "      <td>-0.906040</td>\n",
       "      <td>-0.497143</td>\n",
       "      <td>-0.492433</td>\n",
       "      <td>-0.400000</td>\n",
       "      <td>0.523810</td>\n",
       "      <td>0.457509</td>\n",
       "      <td>-0.474286</td>\n",
       "      <td>-0.369748</td>\n",
       "    </tr>\n",
       "    <tr>\n",
       "      <th>1200</th>\n",
       "      <td>0.999951</td>\n",
       "      <td>-1.0</td>\n",
       "      <td>0.028451</td>\n",
       "      <td>-0.079848</td>\n",
       "      <td>0.112385</td>\n",
       "      <td>0.023355</td>\n",
       "      <td>-0.929584</td>\n",
       "      <td>0.314508</td>\n",
       "      <td>0.373177</td>\n",
       "      <td>0.360262</td>\n",
       "      <td>...</td>\n",
       "      <td>0.401615</td>\n",
       "      <td>-0.250000</td>\n",
       "      <td>-0.906040</td>\n",
       "      <td>-0.523810</td>\n",
       "      <td>-0.471478</td>\n",
       "      <td>-0.410084</td>\n",
       "      <td>0.474286</td>\n",
       "      <td>0.487776</td>\n",
       "      <td>-0.573333</td>\n",
       "      <td>-0.424370</td>\n",
       "    </tr>\n",
       "    <tr>\n",
       "      <th>1201</th>\n",
       "      <td>1.000000</td>\n",
       "      <td>-1.0</td>\n",
       "      <td>0.022129</td>\n",
       "      <td>-0.064639</td>\n",
       "      <td>0.128440</td>\n",
       "      <td>0.050955</td>\n",
       "      <td>-0.924279</td>\n",
       "      <td>0.306329</td>\n",
       "      <td>0.362908</td>\n",
       "      <td>0.352881</td>\n",
       "      <td>...</td>\n",
       "      <td>0.393965</td>\n",
       "      <td>-0.141892</td>\n",
       "      <td>-0.899329</td>\n",
       "      <td>-0.474286</td>\n",
       "      <td>-0.457509</td>\n",
       "      <td>-0.378151</td>\n",
       "      <td>0.523810</td>\n",
       "      <td>0.487776</td>\n",
       "      <td>-0.523810</td>\n",
       "      <td>-0.369748</td>\n",
       "    </tr>\n",
       "  </tbody>\n",
       "</table>\n",
       "<p>1202 rows × 21 columns</p>\n",
       "</div>"
      ],
      "text/plain": [
       "          Date  SecuritiesCode      Open      High       Low     Close  \\\n",
       "0    -1.000000            -1.0 -0.860906 -0.876426 -0.857798 -0.853503   \n",
       "1    -0.999951            -1.0 -0.841939 -0.865019 -0.827982 -0.853503   \n",
       "2    -0.999903            -1.0 -0.865121 -0.882129 -0.844037 -0.874735   \n",
       "3    -0.999708            -1.0 -0.865121 -0.885932 -0.850917 -0.876858   \n",
       "4    -0.999659            -1.0 -0.863014 -0.891635 -0.869266 -0.891720   \n",
       "...        ...             ...       ...       ...       ...       ...   \n",
       "1197  0.996399            -1.0  0.030558 -0.058935  0.128440  0.027601   \n",
       "1198  0.996448            -1.0  0.051633 -0.053232  0.112385  0.008493   \n",
       "1199  0.999903            -1.0  0.015806 -0.077947  0.114679  0.023355   \n",
       "1200  0.999951            -1.0  0.028451 -0.079848  0.112385  0.023355   \n",
       "1201  1.000000            -1.0  0.022129 -0.064639  0.128440  0.050955   \n",
       "\n",
       "        Volume  High_lag_1  Open_lag_1  Close_lag_1  ...  Low_lag_1  \\\n",
       "0    -0.985727   -1.000000   -1.000000    -1.000000  ...  -1.000000   \n",
       "1    -0.990064   -0.356573   -0.332923    -0.322534  ...  -0.328517   \n",
       "2    -0.989528   -0.351899   -0.325529    -0.322534  ...  -0.317467   \n",
       "3    -0.992777   -0.355015   -0.329094    -0.327997  ...  -0.317756   \n",
       "4    -0.990289   -0.357352   -0.330869    -0.331146  ...  -0.319167   \n",
       "...        ...         ...         ...          ...  ...        ...   \n",
       "1197 -0.897910    0.323856    0.387965     0.386508  ...   0.420314   \n",
       "1198 -0.900105    0.323466    0.385089     0.380357  ...   0.419890   \n",
       "1199 -0.923450    0.322687    0.383857     0.370105  ...   0.412240   \n",
       "1200 -0.929584    0.314508    0.373177     0.360262  ...   0.401615   \n",
       "1201 -0.924279    0.306329    0.362908     0.352881  ...   0.393965   \n",
       "\n",
       "      Daily_Spread  Daily_Max_Min  1_Day_Spread  2_Day_Spread  1_Week_Spread  \\\n",
       "0        -0.189189      -0.879195     -0.523810     -0.487776      -0.369748   \n",
       "1        -0.250000      -0.926174     -0.523810     -0.487776      -0.369748   \n",
       "2        -0.243243      -0.939597     -0.561905     -0.511059      -0.369748   \n",
       "3        -0.250000      -0.932886     -0.527619     -0.513388      -0.369748   \n",
       "4        -0.304054      -0.899329     -0.550476     -0.506403      -0.369748   \n",
       "...            ...            ...           ...           ...            ...   \n",
       "1197     -0.243243      -0.879195     -0.584762     -0.538999      -0.374790   \n",
       "1198     -0.371622      -0.812081     -0.558095     -0.545984      -0.410084   \n",
       "1199     -0.209459      -0.906040     -0.497143     -0.492433      -0.400000   \n",
       "1200     -0.250000      -0.906040     -0.523810     -0.471478      -0.410084   \n",
       "1201     -0.141892      -0.899329     -0.474286     -0.457509      -0.378151   \n",
       "\n",
       "      MA_Prior_1day  MA_Prior_2day  MA_Prior_diff  ExPost_SR  \n",
       "0          0.523810       0.511059      -0.561905  -0.388235  \n",
       "1          0.561905       0.513388      -0.527619  -0.383193  \n",
       "2          0.527619       0.506403      -0.550476  -0.398319  \n",
       "3          0.550476       0.497090      -0.512381  -0.389916  \n",
       "4          0.512381       0.471478      -0.508571  -0.384874  \n",
       "...             ...            ...            ...        ...  \n",
       "1197       0.558095       0.492433      -0.497143  -0.357983  \n",
       "1198       0.497143       0.471478      -0.523810  -0.369748  \n",
       "1199       0.523810       0.457509      -0.474286  -0.369748  \n",
       "1200       0.474286       0.487776      -0.573333  -0.424370  \n",
       "1201       0.523810       0.487776      -0.523810  -0.369748  \n",
       "\n",
       "[1202 rows x 21 columns]"
      ]
     },
     "execution_count": 46,
     "metadata": {},
     "output_type": "execute_result"
    }
   ],
   "source": [
    "X"
   ]
  },
  {
   "cell_type": "code",
   "execution_count": 47,
   "metadata": {
    "ExecuteTime": {
     "end_time": "2022-06-03T14:48:32.653481Z",
     "start_time": "2022-06-03T14:48:32.635818Z"
    }
   },
   "outputs": [],
   "source": [
    "# Run Train, Test, Split with 85% train\n",
    "X_train, X_test, y_train, y_test = train_test_split(X, y, test_size=0.15, random_state=42)"
   ]
  },
  {
   "cell_type": "markdown",
   "metadata": {},
   "source": [
    "### Check train/test shape"
   ]
  },
  {
   "cell_type": "code",
   "execution_count": 48,
   "metadata": {
    "ExecuteTime": {
     "end_time": "2022-06-03T14:48:33.352586Z",
     "start_time": "2022-06-03T14:48:33.341457Z"
    }
   },
   "outputs": [
    {
     "name": "stdout",
     "output_type": "stream",
     "text": [
      "Training Features Shape: (1021, 21)\n",
      "Training Labels Shape: (181, 21)\n",
      "Testing Features Shape: (1021,)\n",
      "Testing Labels Shape: (181,)\n"
     ]
    }
   ],
   "source": [
    "print('Training Features Shape:', X_train.shape)\n",
    "print('Training Labels Shape:', X_test.shape)\n",
    "print('Testing Features Shape:', y_train.shape)\n",
    "print('Testing Labels Shape:', y_test.shape)"
   ]
  },
  {
   "cell_type": "markdown",
   "metadata": {},
   "source": [
    "### Train and Fit Model"
   ]
  },
  {
   "cell_type": "code",
   "execution_count": 49,
   "metadata": {
    "ExecuteTime": {
     "end_time": "2022-06-03T14:48:35.300559Z",
     "start_time": "2022-06-03T14:48:34.116903Z"
    }
   },
   "outputs": [],
   "source": [
    "# Instantiate model with 1000 decision trees\n",
    "rf = RandomForestRegressor(random_state = 42)\n",
    "\n",
    "# Train the model on training data\n",
    "rf.fit(X_train, y_train);"
   ]
  },
  {
   "cell_type": "markdown",
   "metadata": {},
   "source": [
    "### Predictions & Mean Absolute Error"
   ]
  },
  {
   "cell_type": "code",
   "execution_count": 50,
   "metadata": {
    "ExecuteTime": {
     "end_time": "2022-06-03T14:48:35.341755Z",
     "start_time": "2022-06-03T14:48:35.304260Z"
    }
   },
   "outputs": [
    {
     "name": "stdout",
     "output_type": "stream",
     "text": [
      "Mean Absolute Error: 0.0 of the Sharpe Ratio\n"
     ]
    }
   ],
   "source": [
    "# Use the forest's predict method on the test data\n",
    "predictions = rf.predict(X_test)\n",
    "\n",
    "# Calculate the absolute errors\n",
    "errors = abs(predictions - y_test)\n",
    "\n",
    "# Print out the mean absolute error (mae)\n",
    "print('Mean Absolute Error:', round(np.mean(errors), 2), 'of the Sharpe Ratio')"
   ]
  },
  {
   "cell_type": "markdown",
   "metadata": {},
   "source": [
    "### RMSE"
   ]
  },
  {
   "cell_type": "code",
   "execution_count": 51,
   "metadata": {
    "ExecuteTime": {
     "end_time": "2022-06-03T14:48:36.339797Z",
     "start_time": "2022-06-03T14:48:36.334242Z"
    }
   },
   "outputs": [
    {
     "name": "stdout",
     "output_type": "stream",
     "text": [
      "Test RMSE: 0.005\n"
     ]
    }
   ],
   "source": [
    "# evaluate forecasts\n",
    "rmse = sqrt(mean_squared_error(y_test, predictions))\n",
    "print('Test RMSE: %.3f' % rmse)"
   ]
  },
  {
   "cell_type": "markdown",
   "metadata": {},
   "source": [
    "### Feature Importance"
   ]
  },
  {
   "cell_type": "code",
   "execution_count": 52,
   "metadata": {
    "ExecuteTime": {
     "end_time": "2022-06-03T14:48:38.656825Z",
     "start_time": "2022-06-03T14:48:38.615652Z"
    }
   },
   "outputs": [
    {
     "name": "stdout",
     "output_type": "stream",
     "text": [
      "Variable: MA_Prior_diff        Importance: 0.87\n",
      "Variable: MA_Prior_2day        Importance: 0.06\n",
      "Variable: MA_Prior_1day        Importance: 0.02\n",
      "Variable: 1_Day_Spread         Importance: 0.01\n",
      "Variable: ExPost_SR            Importance: 0.01\n",
      "Variable: Date                 Importance: 0.0\n",
      "Variable: SecuritiesCode       Importance: 0.0\n",
      "Variable: Open                 Importance: 0.0\n",
      "Variable: High                 Importance: 0.0\n",
      "Variable: Low                  Importance: 0.0\n",
      "Variable: Close                Importance: 0.0\n",
      "Variable: Volume               Importance: 0.0\n",
      "Variable: High_lag_1           Importance: 0.0\n",
      "Variable: Open_lag_1           Importance: 0.0\n",
      "Variable: Close_lag_1          Importance: 0.0\n",
      "Variable: Volume_lag_1         Importance: 0.0\n",
      "Variable: Low_lag_1            Importance: 0.0\n",
      "Variable: Daily_Spread         Importance: 0.0\n",
      "Variable: Daily_Max_Min        Importance: 0.0\n",
      "Variable: 2_Day_Spread         Importance: 0.0\n",
      "Variable: 1_Week_Spread        Importance: 0.0\n"
     ]
    }
   ],
   "source": [
    "# Saving feature names\n",
    "feature_list = list(X.columns)\n",
    "\n",
    "# Get numerical feature importances\n",
    "importances = list(rf.feature_importances_)\n",
    "\n",
    "# List of tuples with variable and importance\n",
    "feature_importances = [(feature, round(importance, 2)) for feature, importance in zip(feature_list, importances)]\n",
    "\n",
    "# Sort the feature importances by most important first\n",
    "feature_importances = sorted(feature_importances, key = lambda x: x[1], reverse = True)\n",
    "\n",
    "# Print out the feature and importances \n",
    "[print('Variable: {:20} Importance: {}'.format(*pair)) for pair in feature_importances];"
   ]
  },
  {
   "cell_type": "markdown",
   "metadata": {},
   "source": [
    "### Summary: Feature Importance:\n",
    "* Moving Averages seem to be very important in predicting the target value."
   ]
  },
  {
   "cell_type": "markdown",
   "metadata": {},
   "source": [
    "## Financials Added Model"
   ]
  },
  {
   "cell_type": "markdown",
   "metadata": {},
   "source": [
    "### Train, Test, Split"
   ]
  },
  {
   "cell_type": "code",
   "execution_count": 53,
   "metadata": {
    "ExecuteTime": {
     "end_time": "2022-06-03T14:48:40.242417Z",
     "start_time": "2022-06-03T14:48:40.155916Z"
    }
   },
   "outputs": [],
   "source": [
    "# Feature Engineer values from one stock including financials.csv info\n",
    "join_features = feature_train(join)\n",
    "\n",
    "# create X and y df's\n",
    "X = join_features.drop('Target', axis=1)\n",
    "y = join_features['Target']"
   ]
  },
  {
   "cell_type": "code",
   "execution_count": 54,
   "metadata": {
    "ExecuteTime": {
     "end_time": "2022-06-03T14:48:40.657378Z",
     "start_time": "2022-06-03T14:48:40.618655Z"
    }
   },
   "outputs": [
    {
     "data": {
      "text/html": [
       "<div>\n",
       "<style scoped>\n",
       "    .dataframe tbody tr th:only-of-type {\n",
       "        vertical-align: middle;\n",
       "    }\n",
       "\n",
       "    .dataframe tbody tr th {\n",
       "        vertical-align: top;\n",
       "    }\n",
       "\n",
       "    .dataframe thead th {\n",
       "        text-align: right;\n",
       "    }\n",
       "</style>\n",
       "<table border=\"1\" class=\"dataframe\">\n",
       "  <thead>\n",
       "    <tr style=\"text-align: right;\">\n",
       "      <th></th>\n",
       "      <th>Date</th>\n",
       "      <th>SecuritiesCode</th>\n",
       "      <th>Open</th>\n",
       "      <th>High</th>\n",
       "      <th>Low</th>\n",
       "      <th>Close</th>\n",
       "      <th>Volume</th>\n",
       "      <th>SecuritiesCode</th>\n",
       "      <th>EarningsPerShare</th>\n",
       "      <th>TotalAssets</th>\n",
       "      <th>...</th>\n",
       "      <th>Low_lag_1</th>\n",
       "      <th>Daily_Spread</th>\n",
       "      <th>Daily_Max_Min</th>\n",
       "      <th>1_Day_Spread</th>\n",
       "      <th>2_Day_Spread</th>\n",
       "      <th>1_Week_Spread</th>\n",
       "      <th>MA_Prior_1day</th>\n",
       "      <th>MA_Prior_2day</th>\n",
       "      <th>MA_Prior_diff</th>\n",
       "      <th>ExPost_SR</th>\n",
       "    </tr>\n",
       "  </thead>\n",
       "  <tbody>\n",
       "    <tr>\n",
       "      <th>0</th>\n",
       "      <td>-1.000000</td>\n",
       "      <td>-1.0</td>\n",
       "      <td>-0.860906</td>\n",
       "      <td>-0.876426</td>\n",
       "      <td>-0.857798</td>\n",
       "      <td>-0.853503</td>\n",
       "      <td>-0.985727</td>\n",
       "      <td>-1.0</td>\n",
       "      <td>-1.0</td>\n",
       "      <td>-1.0</td>\n",
       "      <td>...</td>\n",
       "      <td>-1.000000</td>\n",
       "      <td>-0.189189</td>\n",
       "      <td>-0.879195</td>\n",
       "      <td>-0.523810</td>\n",
       "      <td>-0.487776</td>\n",
       "      <td>-0.369748</td>\n",
       "      <td>0.523810</td>\n",
       "      <td>0.511059</td>\n",
       "      <td>-0.561905</td>\n",
       "      <td>-0.388235</td>\n",
       "    </tr>\n",
       "    <tr>\n",
       "      <th>1</th>\n",
       "      <td>-0.999951</td>\n",
       "      <td>-1.0</td>\n",
       "      <td>-0.841939</td>\n",
       "      <td>-0.865019</td>\n",
       "      <td>-0.827982</td>\n",
       "      <td>-0.853503</td>\n",
       "      <td>-0.990064</td>\n",
       "      <td>-1.0</td>\n",
       "      <td>-1.0</td>\n",
       "      <td>-1.0</td>\n",
       "      <td>...</td>\n",
       "      <td>-0.328517</td>\n",
       "      <td>-0.250000</td>\n",
       "      <td>-0.926174</td>\n",
       "      <td>-0.523810</td>\n",
       "      <td>-0.487776</td>\n",
       "      <td>-0.369748</td>\n",
       "      <td>0.561905</td>\n",
       "      <td>0.513388</td>\n",
       "      <td>-0.527619</td>\n",
       "      <td>-0.383193</td>\n",
       "    </tr>\n",
       "    <tr>\n",
       "      <th>2</th>\n",
       "      <td>-0.999903</td>\n",
       "      <td>-1.0</td>\n",
       "      <td>-0.865121</td>\n",
       "      <td>-0.882129</td>\n",
       "      <td>-0.844037</td>\n",
       "      <td>-0.874735</td>\n",
       "      <td>-0.989528</td>\n",
       "      <td>-1.0</td>\n",
       "      <td>-1.0</td>\n",
       "      <td>-1.0</td>\n",
       "      <td>...</td>\n",
       "      <td>-0.317467</td>\n",
       "      <td>-0.243243</td>\n",
       "      <td>-0.939597</td>\n",
       "      <td>-0.561905</td>\n",
       "      <td>-0.511059</td>\n",
       "      <td>-0.369748</td>\n",
       "      <td>0.527619</td>\n",
       "      <td>0.506403</td>\n",
       "      <td>-0.550476</td>\n",
       "      <td>-0.398319</td>\n",
       "    </tr>\n",
       "    <tr>\n",
       "      <th>3</th>\n",
       "      <td>-0.999708</td>\n",
       "      <td>-1.0</td>\n",
       "      <td>-0.865121</td>\n",
       "      <td>-0.885932</td>\n",
       "      <td>-0.850917</td>\n",
       "      <td>-0.876858</td>\n",
       "      <td>-0.992777</td>\n",
       "      <td>-1.0</td>\n",
       "      <td>-1.0</td>\n",
       "      <td>-1.0</td>\n",
       "      <td>...</td>\n",
       "      <td>-0.317756</td>\n",
       "      <td>-0.250000</td>\n",
       "      <td>-0.932886</td>\n",
       "      <td>-0.527619</td>\n",
       "      <td>-0.513388</td>\n",
       "      <td>-0.369748</td>\n",
       "      <td>0.550476</td>\n",
       "      <td>0.497090</td>\n",
       "      <td>-0.512381</td>\n",
       "      <td>-0.389916</td>\n",
       "    </tr>\n",
       "    <tr>\n",
       "      <th>4</th>\n",
       "      <td>-0.999659</td>\n",
       "      <td>-1.0</td>\n",
       "      <td>-0.863014</td>\n",
       "      <td>-0.891635</td>\n",
       "      <td>-0.869266</td>\n",
       "      <td>-0.891720</td>\n",
       "      <td>-0.990289</td>\n",
       "      <td>-1.0</td>\n",
       "      <td>-1.0</td>\n",
       "      <td>-1.0</td>\n",
       "      <td>...</td>\n",
       "      <td>-0.319167</td>\n",
       "      <td>-0.304054</td>\n",
       "      <td>-0.899329</td>\n",
       "      <td>-0.550476</td>\n",
       "      <td>-0.506403</td>\n",
       "      <td>-0.369748</td>\n",
       "      <td>0.512381</td>\n",
       "      <td>0.471478</td>\n",
       "      <td>-0.508571</td>\n",
       "      <td>-0.384874</td>\n",
       "    </tr>\n",
       "    <tr>\n",
       "      <th>...</th>\n",
       "      <td>...</td>\n",
       "      <td>...</td>\n",
       "      <td>...</td>\n",
       "      <td>...</td>\n",
       "      <td>...</td>\n",
       "      <td>...</td>\n",
       "      <td>...</td>\n",
       "      <td>...</td>\n",
       "      <td>...</td>\n",
       "      <td>...</td>\n",
       "      <td>...</td>\n",
       "      <td>...</td>\n",
       "      <td>...</td>\n",
       "      <td>...</td>\n",
       "      <td>...</td>\n",
       "      <td>...</td>\n",
       "      <td>...</td>\n",
       "      <td>...</td>\n",
       "      <td>...</td>\n",
       "      <td>...</td>\n",
       "      <td>...</td>\n",
       "    </tr>\n",
       "    <tr>\n",
       "      <th>1197</th>\n",
       "      <td>0.996399</td>\n",
       "      <td>-1.0</td>\n",
       "      <td>0.030558</td>\n",
       "      <td>-0.058935</td>\n",
       "      <td>0.128440</td>\n",
       "      <td>0.027601</td>\n",
       "      <td>-0.897910</td>\n",
       "      <td>-1.0</td>\n",
       "      <td>-1.0</td>\n",
       "      <td>-1.0</td>\n",
       "      <td>...</td>\n",
       "      <td>0.420314</td>\n",
       "      <td>-0.243243</td>\n",
       "      <td>-0.879195</td>\n",
       "      <td>-0.584762</td>\n",
       "      <td>-0.538999</td>\n",
       "      <td>-0.374790</td>\n",
       "      <td>0.558095</td>\n",
       "      <td>0.492433</td>\n",
       "      <td>-0.497143</td>\n",
       "      <td>-0.357983</td>\n",
       "    </tr>\n",
       "    <tr>\n",
       "      <th>1198</th>\n",
       "      <td>0.996448</td>\n",
       "      <td>-1.0</td>\n",
       "      <td>0.051633</td>\n",
       "      <td>-0.053232</td>\n",
       "      <td>0.112385</td>\n",
       "      <td>0.008493</td>\n",
       "      <td>-0.900105</td>\n",
       "      <td>-1.0</td>\n",
       "      <td>-1.0</td>\n",
       "      <td>-1.0</td>\n",
       "      <td>...</td>\n",
       "      <td>0.419890</td>\n",
       "      <td>-0.371622</td>\n",
       "      <td>-0.812081</td>\n",
       "      <td>-0.558095</td>\n",
       "      <td>-0.545984</td>\n",
       "      <td>-0.410084</td>\n",
       "      <td>0.497143</td>\n",
       "      <td>0.471478</td>\n",
       "      <td>-0.523810</td>\n",
       "      <td>-0.369748</td>\n",
       "    </tr>\n",
       "    <tr>\n",
       "      <th>1199</th>\n",
       "      <td>0.999903</td>\n",
       "      <td>-1.0</td>\n",
       "      <td>0.015806</td>\n",
       "      <td>-0.077947</td>\n",
       "      <td>0.114679</td>\n",
       "      <td>0.023355</td>\n",
       "      <td>-0.923450</td>\n",
       "      <td>-1.0</td>\n",
       "      <td>-1.0</td>\n",
       "      <td>-1.0</td>\n",
       "      <td>...</td>\n",
       "      <td>0.412240</td>\n",
       "      <td>-0.209459</td>\n",
       "      <td>-0.906040</td>\n",
       "      <td>-0.497143</td>\n",
       "      <td>-0.492433</td>\n",
       "      <td>-0.400000</td>\n",
       "      <td>0.523810</td>\n",
       "      <td>0.457509</td>\n",
       "      <td>-0.474286</td>\n",
       "      <td>-0.369748</td>\n",
       "    </tr>\n",
       "    <tr>\n",
       "      <th>1200</th>\n",
       "      <td>0.999951</td>\n",
       "      <td>-1.0</td>\n",
       "      <td>0.028451</td>\n",
       "      <td>-0.079848</td>\n",
       "      <td>0.112385</td>\n",
       "      <td>0.023355</td>\n",
       "      <td>-0.929584</td>\n",
       "      <td>-1.0</td>\n",
       "      <td>-1.0</td>\n",
       "      <td>-1.0</td>\n",
       "      <td>...</td>\n",
       "      <td>0.401615</td>\n",
       "      <td>-0.250000</td>\n",
       "      <td>-0.906040</td>\n",
       "      <td>-0.523810</td>\n",
       "      <td>-0.471478</td>\n",
       "      <td>-0.410084</td>\n",
       "      <td>0.474286</td>\n",
       "      <td>0.487776</td>\n",
       "      <td>-0.573333</td>\n",
       "      <td>-0.424370</td>\n",
       "    </tr>\n",
       "    <tr>\n",
       "      <th>1201</th>\n",
       "      <td>1.000000</td>\n",
       "      <td>-1.0</td>\n",
       "      <td>0.022129</td>\n",
       "      <td>-0.064639</td>\n",
       "      <td>0.128440</td>\n",
       "      <td>0.050955</td>\n",
       "      <td>-0.924279</td>\n",
       "      <td>-1.0</td>\n",
       "      <td>-1.0</td>\n",
       "      <td>-1.0</td>\n",
       "      <td>...</td>\n",
       "      <td>0.393965</td>\n",
       "      <td>-0.141892</td>\n",
       "      <td>-0.899329</td>\n",
       "      <td>-0.474286</td>\n",
       "      <td>-0.457509</td>\n",
       "      <td>-0.378151</td>\n",
       "      <td>0.523810</td>\n",
       "      <td>0.487776</td>\n",
       "      <td>-0.523810</td>\n",
       "      <td>-0.369748</td>\n",
       "    </tr>\n",
       "  </tbody>\n",
       "</table>\n",
       "<p>1202 rows × 28 columns</p>\n",
       "</div>"
      ],
      "text/plain": [
       "          Date  SecuritiesCode      Open      High       Low     Close  \\\n",
       "0    -1.000000            -1.0 -0.860906 -0.876426 -0.857798 -0.853503   \n",
       "1    -0.999951            -1.0 -0.841939 -0.865019 -0.827982 -0.853503   \n",
       "2    -0.999903            -1.0 -0.865121 -0.882129 -0.844037 -0.874735   \n",
       "3    -0.999708            -1.0 -0.865121 -0.885932 -0.850917 -0.876858   \n",
       "4    -0.999659            -1.0 -0.863014 -0.891635 -0.869266 -0.891720   \n",
       "...        ...             ...       ...       ...       ...       ...   \n",
       "1197  0.996399            -1.0  0.030558 -0.058935  0.128440  0.027601   \n",
       "1198  0.996448            -1.0  0.051633 -0.053232  0.112385  0.008493   \n",
       "1199  0.999903            -1.0  0.015806 -0.077947  0.114679  0.023355   \n",
       "1200  0.999951            -1.0  0.028451 -0.079848  0.112385  0.023355   \n",
       "1201  1.000000            -1.0  0.022129 -0.064639  0.128440  0.050955   \n",
       "\n",
       "        Volume  SecuritiesCode  EarningsPerShare  TotalAssets  ...  Low_lag_1  \\\n",
       "0    -0.985727            -1.0              -1.0         -1.0  ...  -1.000000   \n",
       "1    -0.990064            -1.0              -1.0         -1.0  ...  -0.328517   \n",
       "2    -0.989528            -1.0              -1.0         -1.0  ...  -0.317467   \n",
       "3    -0.992777            -1.0              -1.0         -1.0  ...  -0.317756   \n",
       "4    -0.990289            -1.0              -1.0         -1.0  ...  -0.319167   \n",
       "...        ...             ...               ...          ...  ...        ...   \n",
       "1197 -0.897910            -1.0              -1.0         -1.0  ...   0.420314   \n",
       "1198 -0.900105            -1.0              -1.0         -1.0  ...   0.419890   \n",
       "1199 -0.923450            -1.0              -1.0         -1.0  ...   0.412240   \n",
       "1200 -0.929584            -1.0              -1.0         -1.0  ...   0.401615   \n",
       "1201 -0.924279            -1.0              -1.0         -1.0  ...   0.393965   \n",
       "\n",
       "      Daily_Spread  Daily_Max_Min  1_Day_Spread  2_Day_Spread  1_Week_Spread  \\\n",
       "0        -0.189189      -0.879195     -0.523810     -0.487776      -0.369748   \n",
       "1        -0.250000      -0.926174     -0.523810     -0.487776      -0.369748   \n",
       "2        -0.243243      -0.939597     -0.561905     -0.511059      -0.369748   \n",
       "3        -0.250000      -0.932886     -0.527619     -0.513388      -0.369748   \n",
       "4        -0.304054      -0.899329     -0.550476     -0.506403      -0.369748   \n",
       "...            ...            ...           ...           ...            ...   \n",
       "1197     -0.243243      -0.879195     -0.584762     -0.538999      -0.374790   \n",
       "1198     -0.371622      -0.812081     -0.558095     -0.545984      -0.410084   \n",
       "1199     -0.209459      -0.906040     -0.497143     -0.492433      -0.400000   \n",
       "1200     -0.250000      -0.906040     -0.523810     -0.471478      -0.410084   \n",
       "1201     -0.141892      -0.899329     -0.474286     -0.457509      -0.378151   \n",
       "\n",
       "      MA_Prior_1day  MA_Prior_2day  MA_Prior_diff  ExPost_SR  \n",
       "0          0.523810       0.511059      -0.561905  -0.388235  \n",
       "1          0.561905       0.513388      -0.527619  -0.383193  \n",
       "2          0.527619       0.506403      -0.550476  -0.398319  \n",
       "3          0.550476       0.497090      -0.512381  -0.389916  \n",
       "4          0.512381       0.471478      -0.508571  -0.384874  \n",
       "...             ...            ...            ...        ...  \n",
       "1197       0.558095       0.492433      -0.497143  -0.357983  \n",
       "1198       0.497143       0.471478      -0.523810  -0.369748  \n",
       "1199       0.523810       0.457509      -0.474286  -0.369748  \n",
       "1200       0.474286       0.487776      -0.573333  -0.424370  \n",
       "1201       0.523810       0.487776      -0.523810  -0.369748  \n",
       "\n",
       "[1202 rows x 28 columns]"
      ]
     },
     "execution_count": 54,
     "metadata": {},
     "output_type": "execute_result"
    }
   ],
   "source": [
    "X"
   ]
  },
  {
   "cell_type": "code",
   "execution_count": 55,
   "metadata": {
    "ExecuteTime": {
     "end_time": "2022-06-03T14:48:40.929087Z",
     "start_time": "2022-06-03T14:48:40.917751Z"
    }
   },
   "outputs": [],
   "source": [
    "# Run Train, Test, Split with 85% train\n",
    "X_train, X_test, y_train, y_test = train_test_split(X, y, test_size=0.15, random_state=42)"
   ]
  },
  {
   "cell_type": "markdown",
   "metadata": {},
   "source": [
    "### Check train/test shape"
   ]
  },
  {
   "cell_type": "code",
   "execution_count": 56,
   "metadata": {
    "ExecuteTime": {
     "end_time": "2022-06-03T14:48:41.588712Z",
     "start_time": "2022-06-03T14:48:41.578954Z"
    }
   },
   "outputs": [
    {
     "name": "stdout",
     "output_type": "stream",
     "text": [
      "Training Features Shape: (1021, 28)\n",
      "Training Labels Shape: (181, 28)\n",
      "Testing Features Shape: (1021,)\n",
      "Testing Labels Shape: (181,)\n"
     ]
    }
   ],
   "source": [
    "print('Training Features Shape:', X_train.shape)\n",
    "print('Training Labels Shape:', X_test.shape)\n",
    "print('Testing Features Shape:', y_train.shape)\n",
    "print('Testing Labels Shape:', y_test.shape)"
   ]
  },
  {
   "cell_type": "markdown",
   "metadata": {},
   "source": [
    "### Train and Fit Model"
   ]
  },
  {
   "cell_type": "code",
   "execution_count": 57,
   "metadata": {
    "ExecuteTime": {
     "end_time": "2022-06-03T14:48:43.441456Z",
     "start_time": "2022-06-03T14:48:42.254864Z"
    }
   },
   "outputs": [],
   "source": [
    "# Instantiate model with 1000 decision trees\n",
    "rf = RandomForestRegressor(random_state = 42)\n",
    "\n",
    "# Train the model on training data\n",
    "rf.fit(X_train, y_train);"
   ]
  },
  {
   "cell_type": "markdown",
   "metadata": {},
   "source": [
    "### Predictions & Mean Absolute Error"
   ]
  },
  {
   "cell_type": "code",
   "execution_count": 58,
   "metadata": {
    "ExecuteTime": {
     "end_time": "2022-06-03T14:48:43.481956Z",
     "start_time": "2022-06-03T14:48:43.444133Z"
    }
   },
   "outputs": [
    {
     "name": "stdout",
     "output_type": "stream",
     "text": [
      "Mean Absolute Error: 0.0 of the Sharpe Ratio\n"
     ]
    }
   ],
   "source": [
    "# Use the forest's predict method on the test data\n",
    "predictions = rf.predict(X_test)\n",
    "\n",
    "# Calculate the absolute errors\n",
    "errors = abs(predictions - y_test)\n",
    "\n",
    "# Print out the mean absolute error (mae)\n",
    "print('Mean Absolute Error:', round(np.mean(errors), 2), 'of the Sharpe Ratio')"
   ]
  },
  {
   "cell_type": "markdown",
   "metadata": {},
   "source": [
    "### RMSE"
   ]
  },
  {
   "cell_type": "code",
   "execution_count": 59,
   "metadata": {
    "ExecuteTime": {
     "end_time": "2022-06-03T14:48:43.810668Z",
     "start_time": "2022-06-03T14:48:43.803851Z"
    }
   },
   "outputs": [
    {
     "name": "stdout",
     "output_type": "stream",
     "text": [
      "Test RMSE: 0.004\n"
     ]
    }
   ],
   "source": [
    "# evaluate forecasts\n",
    "rmse = sqrt(mean_squared_error(y_test, predictions))\n",
    "print('Test RMSE: %.3f' % rmse)"
   ]
  },
  {
   "cell_type": "markdown",
   "metadata": {},
   "source": [
    "### Feature Importance"
   ]
  },
  {
   "cell_type": "code",
   "execution_count": 60,
   "metadata": {
    "ExecuteTime": {
     "end_time": "2022-06-03T14:48:45.488755Z",
     "start_time": "2022-06-03T14:48:45.445498Z"
    }
   },
   "outputs": [
    {
     "name": "stdout",
     "output_type": "stream",
     "text": [
      "Variable: MA_Prior_diff        Importance: 0.88\n",
      "Variable: MA_Prior_2day        Importance: 0.05\n",
      "Variable: MA_Prior_1day        Importance: 0.02\n",
      "Variable: Daily_Max_Min        Importance: 0.01\n",
      "Variable: 1_Day_Spread         Importance: 0.01\n",
      "Variable: ExPost_SR            Importance: 0.01\n",
      "Variable: Date                 Importance: 0.0\n",
      "Variable: SecuritiesCode       Importance: 0.0\n",
      "Variable: Open                 Importance: 0.0\n",
      "Variable: High                 Importance: 0.0\n",
      "Variable: Low                  Importance: 0.0\n",
      "Variable: Close                Importance: 0.0\n",
      "Variable: Volume               Importance: 0.0\n",
      "Variable: SecuritiesCode       Importance: 0.0\n",
      "Variable: EarningsPerShare     Importance: 0.0\n",
      "Variable: TotalAssets          Importance: 0.0\n",
      "Variable: ForecastProfit       Importance: 0.0\n",
      "Variable: ForecastEarningsPerShare Importance: 0.0\n",
      "Variable: NetSales             Importance: 0.0\n",
      "Variable: EquityToAssetRatio   Importance: 0.0\n",
      "Variable: High_lag_1           Importance: 0.0\n",
      "Variable: Open_lag_1           Importance: 0.0\n",
      "Variable: Close_lag_1          Importance: 0.0\n",
      "Variable: Volume_lag_1         Importance: 0.0\n",
      "Variable: Low_lag_1            Importance: 0.0\n",
      "Variable: Daily_Spread         Importance: 0.0\n",
      "Variable: 2_Day_Spread         Importance: 0.0\n",
      "Variable: 1_Week_Spread        Importance: 0.0\n"
     ]
    }
   ],
   "source": [
    "# Saving feature names\n",
    "feature_list = list(X.columns)\n",
    "\n",
    "# Get numerical feature importances\n",
    "importances = list(rf.feature_importances_)\n",
    "\n",
    "# List of tuples with variable and importance\n",
    "feature_importances = [(feature, round(importance, 2)) for feature, importance in zip(feature_list, importances)]\n",
    "\n",
    "# Sort the feature importances by most important first\n",
    "feature_importances = sorted(feature_importances, key = lambda x: x[1], reverse = True)\n",
    "\n",
    "# Print out the feature and importances \n",
    "[print('Variable: {:20} Importance: {}'.format(*pair)) for pair in feature_importances];"
   ]
  },
  {
   "cell_type": "markdown",
   "metadata": {},
   "source": [
    "### Summary: Feature Importance:\n",
    "* Moving Averages seem to be very important in predicting the target value."
   ]
  },
  {
   "cell_type": "markdown",
   "metadata": {},
   "source": [
    "# Compare Models - Multiple Stocks"
   ]
  },
  {
   "cell_type": "code",
   "execution_count": 93,
   "metadata": {
    "ExecuteTime": {
     "end_time": "2022-06-03T15:26:20.074254Z",
     "start_time": "2022-06-03T15:26:19.275291Z"
    }
   },
   "outputs": [],
   "source": [
    "# Create list of all securities codes\n",
    "all_stocks_list = df1['SecuritiesCode'].values.tolist()\n",
    "\n",
    "# Select 5 random stocks\n",
    "rand_stocks = random.choices(all_stocks_list, k=5)"
   ]
  },
  {
   "cell_type": "markdown",
   "metadata": {},
   "source": [
    "## Only Price Information"
   ]
  },
  {
   "cell_type": "code",
   "execution_count": 94,
   "metadata": {
    "ExecuteTime": {
     "end_time": "2022-06-03T15:26:20.431418Z",
     "start_time": "2022-06-03T15:26:20.225129Z"
    }
   },
   "outputs": [
    {
     "name": "stdout",
     "output_type": "stream",
     "text": [
      "<class 'pandas.core.frame.DataFrame'>\n",
      "Int64Index: 6010 entries, 95 to 2331612\n",
      "Data columns (total 12 columns):\n",
      " #   Column            Non-Null Count  Dtype  \n",
      "---  ------            --------------  -----  \n",
      " 0   RowId             6010 non-null   object \n",
      " 1   Date              6010 non-null   object \n",
      " 2   SecuritiesCode    6010 non-null   int64  \n",
      " 3   Open              6001 non-null   float64\n",
      " 4   High              6001 non-null   float64\n",
      " 5   Low               6001 non-null   float64\n",
      " 6   Close             6001 non-null   float64\n",
      " 7   Volume            6010 non-null   int64  \n",
      " 8   AdjustmentFactor  6010 non-null   float64\n",
      " 9   ExpectedDividend  42 non-null     float64\n",
      " 10  SupervisionFlag   6010 non-null   bool   \n",
      " 11  Target            6010 non-null   float64\n",
      "dtypes: bool(1), float64(7), int64(2), object(2)\n",
      "memory usage: 569.3+ KB\n"
     ]
    }
   ],
   "source": [
    "# Create df with rand_stock list\n",
    "rand_df = df1.loc[df1['SecuritiesCode'].isin(rand_stocks)]\n",
    "\n",
    "# Copy of rand_df to ensure it stays the same with all three models\n",
    "mult_stocks = rand_df.copy()\n",
    "mult_stocks.info()"
   ]
  },
  {
   "cell_type": "markdown",
   "metadata": {},
   "source": [
    "### Train, Test, Split"
   ]
  },
  {
   "cell_type": "code",
   "execution_count": 103,
   "metadata": {
    "ExecuteTime": {
     "end_time": "2022-06-03T20:12:55.039806Z",
     "start_time": "2022-06-03T20:12:54.620809Z"
    }
   },
   "outputs": [],
   "source": [
    "# Feature Engineer values from one stock including financials.csv info\n",
    "price_5 = feature_train(mult_stocks)\n",
    "\n",
    "# create X and y df's\n",
    "X = price_5.drop('Target', axis=1)\n",
    "y = price_5['Target']"
   ]
  },
  {
   "cell_type": "code",
   "execution_count": 106,
   "metadata": {
    "ExecuteTime": {
     "end_time": "2022-06-03T20:12:56.031713Z",
     "start_time": "2022-06-03T20:12:55.982183Z"
    }
   },
   "outputs": [
    {
     "data": {
      "text/html": [
       "<div>\n",
       "<style scoped>\n",
       "    .dataframe tbody tr th:only-of-type {\n",
       "        vertical-align: middle;\n",
       "    }\n",
       "\n",
       "    .dataframe tbody tr th {\n",
       "        vertical-align: top;\n",
       "    }\n",
       "\n",
       "    .dataframe thead th {\n",
       "        text-align: right;\n",
       "    }\n",
       "</style>\n",
       "<table border=\"1\" class=\"dataframe\">\n",
       "  <thead>\n",
       "    <tr style=\"text-align: right;\">\n",
       "      <th></th>\n",
       "      <th>count</th>\n",
       "      <th>mean</th>\n",
       "      <th>std</th>\n",
       "      <th>min</th>\n",
       "      <th>25%</th>\n",
       "      <th>50%</th>\n",
       "      <th>75%</th>\n",
       "      <th>max</th>\n",
       "    </tr>\n",
       "  </thead>\n",
       "  <tbody>\n",
       "    <tr>\n",
       "      <th>Date</th>\n",
       "      <td>6010.0</td>\n",
       "      <td>-0.017293</td>\n",
       "      <td>0.684264</td>\n",
       "      <td>-1.0</td>\n",
       "      <td>-0.502713</td>\n",
       "      <td>-0.001703</td>\n",
       "      <td>0.499161</td>\n",
       "      <td>1.0</td>\n",
       "    </tr>\n",
       "    <tr>\n",
       "      <th>SecuritiesCode</th>\n",
       "      <td>6010.0</td>\n",
       "      <td>-0.102443</td>\n",
       "      <td>0.782885</td>\n",
       "      <td>-1.0</td>\n",
       "      <td>-0.986550</td>\n",
       "      <td>0.113203</td>\n",
       "      <td>0.361130</td>\n",
       "      <td>1.0</td>\n",
       "    </tr>\n",
       "    <tr>\n",
       "      <th>Open</th>\n",
       "      <td>6010.0</td>\n",
       "      <td>-0.301337</td>\n",
       "      <td>0.479380</td>\n",
       "      <td>-1.0</td>\n",
       "      <td>-0.714286</td>\n",
       "      <td>-0.433983</td>\n",
       "      <td>-0.052489</td>\n",
       "      <td>1.0</td>\n",
       "    </tr>\n",
       "    <tr>\n",
       "      <th>High</th>\n",
       "      <td>6010.0</td>\n",
       "      <td>-0.295564</td>\n",
       "      <td>0.486231</td>\n",
       "      <td>-1.0</td>\n",
       "      <td>-0.715527</td>\n",
       "      <td>-0.428882</td>\n",
       "      <td>-0.043431</td>\n",
       "      <td>1.0</td>\n",
       "    </tr>\n",
       "    <tr>\n",
       "      <th>Low</th>\n",
       "      <td>6010.0</td>\n",
       "      <td>-0.295020</td>\n",
       "      <td>0.482968</td>\n",
       "      <td>-1.0</td>\n",
       "      <td>-0.710033</td>\n",
       "      <td>-0.427233</td>\n",
       "      <td>-0.045755</td>\n",
       "      <td>1.0</td>\n",
       "    </tr>\n",
       "    <tr>\n",
       "      <th>Close</th>\n",
       "      <td>6010.0</td>\n",
       "      <td>-0.293392</td>\n",
       "      <td>0.482964</td>\n",
       "      <td>-1.0</td>\n",
       "      <td>-0.709150</td>\n",
       "      <td>-0.427015</td>\n",
       "      <td>-0.042484</td>\n",
       "      <td>1.0</td>\n",
       "    </tr>\n",
       "    <tr>\n",
       "      <th>Volume</th>\n",
       "      <td>6010.0</td>\n",
       "      <td>-0.940885</td>\n",
       "      <td>0.107626</td>\n",
       "      <td>-1.0</td>\n",
       "      <td>-0.992154</td>\n",
       "      <td>-0.980945</td>\n",
       "      <td>-0.936752</td>\n",
       "      <td>1.0</td>\n",
       "    </tr>\n",
       "    <tr>\n",
       "      <th>High_lag_1</th>\n",
       "      <td>6010.0</td>\n",
       "      <td>0.170488</td>\n",
       "      <td>0.199144</td>\n",
       "      <td>-1.0</td>\n",
       "      <td>0.057355</td>\n",
       "      <td>0.179403</td>\n",
       "      <td>0.292510</td>\n",
       "      <td>1.0</td>\n",
       "    </tr>\n",
       "    <tr>\n",
       "      <th>Open_lag_1</th>\n",
       "      <td>6010.0</td>\n",
       "      <td>0.173072</td>\n",
       "      <td>0.199919</td>\n",
       "      <td>-1.0</td>\n",
       "      <td>0.059381</td>\n",
       "      <td>0.181562</td>\n",
       "      <td>0.296095</td>\n",
       "      <td>1.0</td>\n",
       "    </tr>\n",
       "    <tr>\n",
       "      <th>Close_lag_1</th>\n",
       "      <td>6010.0</td>\n",
       "      <td>0.160522</td>\n",
       "      <td>0.197917</td>\n",
       "      <td>-1.0</td>\n",
       "      <td>0.046400</td>\n",
       "      <td>0.168695</td>\n",
       "      <td>0.281229</td>\n",
       "      <td>1.0</td>\n",
       "    </tr>\n",
       "    <tr>\n",
       "      <th>Volume_lag_1</th>\n",
       "      <td>6010.0</td>\n",
       "      <td>-0.773088</td>\n",
       "      <td>0.168251</td>\n",
       "      <td>-1.0</td>\n",
       "      <td>-0.871788</td>\n",
       "      <td>-0.801139</td>\n",
       "      <td>-0.722484</td>\n",
       "      <td>1.0</td>\n",
       "    </tr>\n",
       "    <tr>\n",
       "      <th>Low_lag_1</th>\n",
       "      <td>6010.0</td>\n",
       "      <td>0.180453</td>\n",
       "      <td>0.201746</td>\n",
       "      <td>-1.0</td>\n",
       "      <td>0.064348</td>\n",
       "      <td>0.188000</td>\n",
       "      <td>0.304696</td>\n",
       "      <td>1.0</td>\n",
       "    </tr>\n",
       "    <tr>\n",
       "      <th>Daily_Spread</th>\n",
       "      <td>6010.0</td>\n",
       "      <td>-0.199187</td>\n",
       "      <td>0.117773</td>\n",
       "      <td>-1.0</td>\n",
       "      <td>-0.248000</td>\n",
       "      <td>-0.200000</td>\n",
       "      <td>-0.152000</td>\n",
       "      <td>1.0</td>\n",
       "    </tr>\n",
       "    <tr>\n",
       "      <th>Daily_Max_Min</th>\n",
       "      <td>6010.0</td>\n",
       "      <td>-0.801386</td>\n",
       "      <td>0.168255</td>\n",
       "      <td>-1.0</td>\n",
       "      <td>-0.915789</td>\n",
       "      <td>-0.847368</td>\n",
       "      <td>-0.736842</td>\n",
       "      <td>1.0</td>\n",
       "    </tr>\n",
       "    <tr>\n",
       "      <th>1_Day_Spread</th>\n",
       "      <td>6010.0</td>\n",
       "      <td>-0.002943</td>\n",
       "      <td>0.490802</td>\n",
       "      <td>-1.0</td>\n",
       "      <td>-0.248425</td>\n",
       "      <td>-0.072441</td>\n",
       "      <td>0.383228</td>\n",
       "      <td>1.0</td>\n",
       "    </tr>\n",
       "    <tr>\n",
       "      <th>2_Day_Spread</th>\n",
       "      <td>6010.0</td>\n",
       "      <td>-0.051217</td>\n",
       "      <td>0.477945</td>\n",
       "      <td>-1.0</td>\n",
       "      <td>-0.449197</td>\n",
       "      <td>-0.081160</td>\n",
       "      <td>0.247653</td>\n",
       "      <td>1.0</td>\n",
       "    </tr>\n",
       "    <tr>\n",
       "      <th>1_Week_Spread</th>\n",
       "      <td>6010.0</td>\n",
       "      <td>0.009674</td>\n",
       "      <td>0.030983</td>\n",
       "      <td>-1.0</td>\n",
       "      <td>0.004331</td>\n",
       "      <td>0.009693</td>\n",
       "      <td>0.015467</td>\n",
       "      <td>1.0</td>\n",
       "    </tr>\n",
       "    <tr>\n",
       "      <th>MA_Prior_1day</th>\n",
       "      <td>6010.0</td>\n",
       "      <td>0.002943</td>\n",
       "      <td>0.490802</td>\n",
       "      <td>-1.0</td>\n",
       "      <td>-0.383228</td>\n",
       "      <td>0.072441</td>\n",
       "      <td>0.248425</td>\n",
       "      <td>1.0</td>\n",
       "    </tr>\n",
       "    <tr>\n",
       "      <th>MA_Prior_2day</th>\n",
       "      <td>6010.0</td>\n",
       "      <td>0.051217</td>\n",
       "      <td>0.477945</td>\n",
       "      <td>-1.0</td>\n",
       "      <td>-0.247653</td>\n",
       "      <td>0.081160</td>\n",
       "      <td>0.449197</td>\n",
       "      <td>1.0</td>\n",
       "    </tr>\n",
       "    <tr>\n",
       "      <th>MA_Prior_diff</th>\n",
       "      <td>6010.0</td>\n",
       "      <td>-0.002802</td>\n",
       "      <td>0.490726</td>\n",
       "      <td>-1.0</td>\n",
       "      <td>-0.248110</td>\n",
       "      <td>-0.072283</td>\n",
       "      <td>0.383228</td>\n",
       "      <td>1.0</td>\n",
       "    </tr>\n",
       "    <tr>\n",
       "      <th>ExPost_SR</th>\n",
       "      <td>6010.0</td>\n",
       "      <td>0.009706</td>\n",
       "      <td>0.032941</td>\n",
       "      <td>-1.0</td>\n",
       "      <td>0.004331</td>\n",
       "      <td>0.009693</td>\n",
       "      <td>0.015467</td>\n",
       "      <td>1.0</td>\n",
       "    </tr>\n",
       "  </tbody>\n",
       "</table>\n",
       "</div>"
      ],
      "text/plain": [
       "                 count      mean       std  min       25%       50%       75%  \\\n",
       "Date            6010.0 -0.017293  0.684264 -1.0 -0.502713 -0.001703  0.499161   \n",
       "SecuritiesCode  6010.0 -0.102443  0.782885 -1.0 -0.986550  0.113203  0.361130   \n",
       "Open            6010.0 -0.301337  0.479380 -1.0 -0.714286 -0.433983 -0.052489   \n",
       "High            6010.0 -0.295564  0.486231 -1.0 -0.715527 -0.428882 -0.043431   \n",
       "Low             6010.0 -0.295020  0.482968 -1.0 -0.710033 -0.427233 -0.045755   \n",
       "Close           6010.0 -0.293392  0.482964 -1.0 -0.709150 -0.427015 -0.042484   \n",
       "Volume          6010.0 -0.940885  0.107626 -1.0 -0.992154 -0.980945 -0.936752   \n",
       "High_lag_1      6010.0  0.170488  0.199144 -1.0  0.057355  0.179403  0.292510   \n",
       "Open_lag_1      6010.0  0.173072  0.199919 -1.0  0.059381  0.181562  0.296095   \n",
       "Close_lag_1     6010.0  0.160522  0.197917 -1.0  0.046400  0.168695  0.281229   \n",
       "Volume_lag_1    6010.0 -0.773088  0.168251 -1.0 -0.871788 -0.801139 -0.722484   \n",
       "Low_lag_1       6010.0  0.180453  0.201746 -1.0  0.064348  0.188000  0.304696   \n",
       "Daily_Spread    6010.0 -0.199187  0.117773 -1.0 -0.248000 -0.200000 -0.152000   \n",
       "Daily_Max_Min   6010.0 -0.801386  0.168255 -1.0 -0.915789 -0.847368 -0.736842   \n",
       "1_Day_Spread    6010.0 -0.002943  0.490802 -1.0 -0.248425 -0.072441  0.383228   \n",
       "2_Day_Spread    6010.0 -0.051217  0.477945 -1.0 -0.449197 -0.081160  0.247653   \n",
       "1_Week_Spread   6010.0  0.009674  0.030983 -1.0  0.004331  0.009693  0.015467   \n",
       "MA_Prior_1day   6010.0  0.002943  0.490802 -1.0 -0.383228  0.072441  0.248425   \n",
       "MA_Prior_2day   6010.0  0.051217  0.477945 -1.0 -0.247653  0.081160  0.449197   \n",
       "MA_Prior_diff   6010.0 -0.002802  0.490726 -1.0 -0.248110 -0.072283  0.383228   \n",
       "ExPost_SR       6010.0  0.009706  0.032941 -1.0  0.004331  0.009693  0.015467   \n",
       "\n",
       "                max  \n",
       "Date            1.0  \n",
       "SecuritiesCode  1.0  \n",
       "Open            1.0  \n",
       "High            1.0  \n",
       "Low             1.0  \n",
       "Close           1.0  \n",
       "Volume          1.0  \n",
       "High_lag_1      1.0  \n",
       "Open_lag_1      1.0  \n",
       "Close_lag_1     1.0  \n",
       "Volume_lag_1    1.0  \n",
       "Low_lag_1       1.0  \n",
       "Daily_Spread    1.0  \n",
       "Daily_Max_Min   1.0  \n",
       "1_Day_Spread    1.0  \n",
       "2_Day_Spread    1.0  \n",
       "1_Week_Spread   1.0  \n",
       "MA_Prior_1day   1.0  \n",
       "MA_Prior_2day   1.0  \n",
       "MA_Prior_diff   1.0  \n",
       "ExPost_SR       1.0  "
      ]
     },
     "execution_count": 106,
     "metadata": {},
     "output_type": "execute_result"
    }
   ],
   "source": [
    "X.describe().transpose()"
   ]
  },
  {
   "cell_type": "code",
   "execution_count": 107,
   "metadata": {
    "ExecuteTime": {
     "end_time": "2022-06-03T20:12:59.692346Z",
     "start_time": "2022-06-03T20:12:59.625520Z"
    }
   },
   "outputs": [],
   "source": [
    "# Run Train, Test, Split with 85% train\n",
    "X_train, X_test, y_train, y_test = train_test_split(X, y, test_size=0.15, random_state=42)"
   ]
  },
  {
   "cell_type": "markdown",
   "metadata": {},
   "source": [
    "### Check train/test shape"
   ]
  },
  {
   "cell_type": "code",
   "execution_count": 108,
   "metadata": {
    "ExecuteTime": {
     "end_time": "2022-06-03T20:13:01.314390Z",
     "start_time": "2022-06-03T20:13:01.305463Z"
    }
   },
   "outputs": [
    {
     "name": "stdout",
     "output_type": "stream",
     "text": [
      "Training Features Shape: (5108, 21)\n",
      "Training Labels Shape: (902, 21)\n",
      "Testing Features Shape: (5108,)\n",
      "Testing Labels Shape: (902,)\n"
     ]
    }
   ],
   "source": [
    "print('Training Features Shape:', X_train.shape)\n",
    "print('Training Labels Shape:', X_test.shape)\n",
    "print('Testing Features Shape:', y_train.shape)\n",
    "print('Testing Labels Shape:', y_test.shape)"
   ]
  },
  {
   "cell_type": "markdown",
   "metadata": {},
   "source": [
    "### Train and Fit Model"
   ]
  },
  {
   "cell_type": "code",
   "execution_count": 109,
   "metadata": {
    "ExecuteTime": {
     "end_time": "2022-06-03T20:13:20.592547Z",
     "start_time": "2022-06-03T20:13:03.389136Z"
    }
   },
   "outputs": [],
   "source": [
    "# Instantiate model with 1000 decision trees\n",
    "rf = RandomForestRegressor(random_state = 42)\n",
    "\n",
    "# Train the model on training data\n",
    "rf.fit(X_train, y_train);"
   ]
  },
  {
   "cell_type": "markdown",
   "metadata": {},
   "source": [
    "### Predictions & Mean Absolute Error"
   ]
  },
  {
   "cell_type": "code",
   "execution_count": 110,
   "metadata": {
    "ExecuteTime": {
     "end_time": "2022-06-03T20:13:20.717744Z",
     "start_time": "2022-06-03T20:13:20.596332Z"
    }
   },
   "outputs": [
    {
     "name": "stdout",
     "output_type": "stream",
     "text": [
      "Mean Absolute Error: 0.06 of the Sharpe Ratio\n"
     ]
    }
   ],
   "source": [
    "# Use the forest's predict method on the test data\n",
    "predictions = rf.predict(X_test)\n",
    "\n",
    "# Calculate the absolute errors\n",
    "errors = abs(predictions - y_test)\n",
    "\n",
    "# Print out the mean absolute error (mae)\n",
    "print('Mean Absolute Error:', round(np.mean(errors), 2), 'of the Sharpe Ratio')"
   ]
  },
  {
   "cell_type": "markdown",
   "metadata": {},
   "source": [
    "### RMSE"
   ]
  },
  {
   "cell_type": "code",
   "execution_count": 111,
   "metadata": {
    "ExecuteTime": {
     "end_time": "2022-06-03T20:13:20.735007Z",
     "start_time": "2022-06-03T20:13:20.721083Z"
    }
   },
   "outputs": [
    {
     "name": "stdout",
     "output_type": "stream",
     "text": [
      "Test RMSE: 0.091\n"
     ]
    }
   ],
   "source": [
    "# evaluate forecasts\n",
    "rmse = sqrt(mean_squared_error(y_test, predictions))\n",
    "print('Test RMSE: %.3f' % rmse)"
   ]
  },
  {
   "cell_type": "markdown",
   "metadata": {},
   "source": [
    "### Feature Importance"
   ]
  },
  {
   "cell_type": "code",
   "execution_count": 112,
   "metadata": {
    "ExecuteTime": {
     "end_time": "2022-06-03T20:13:20.838187Z",
     "start_time": "2022-06-03T20:13:20.738564Z"
    }
   },
   "outputs": [
    {
     "name": "stdout",
     "output_type": "stream",
     "text": [
      "Variable: ExPost_SR            Importance: 0.11\n",
      "Variable: Volume               Importance: 0.08\n",
      "Variable: Volume_lag_1         Importance: 0.08\n",
      "Variable: Daily_Spread         Importance: 0.07\n",
      "Variable: Daily_Max_Min        Importance: 0.07\n",
      "Variable: 1_Week_Spread        Importance: 0.07\n",
      "Variable: Date                 Importance: 0.06\n",
      "Variable: 1_Day_Spread         Importance: 0.05\n",
      "Variable: 2_Day_Spread         Importance: 0.05\n",
      "Variable: MA_Prior_1day        Importance: 0.05\n",
      "Variable: MA_Prior_2day        Importance: 0.05\n",
      "Variable: MA_Prior_diff        Importance: 0.05\n",
      "Variable: Open                 Importance: 0.03\n",
      "Variable: High_lag_1           Importance: 0.03\n",
      "Variable: Open_lag_1           Importance: 0.03\n",
      "Variable: Close_lag_1          Importance: 0.03\n",
      "Variable: Low_lag_1            Importance: 0.03\n",
      "Variable: High                 Importance: 0.02\n",
      "Variable: Low                  Importance: 0.02\n",
      "Variable: Close                Importance: 0.02\n",
      "Variable: SecuritiesCode       Importance: 0.0\n"
     ]
    }
   ],
   "source": [
    "# Saving feature names\n",
    "feature_list = list(X.columns)\n",
    "\n",
    "# Get numerical feature importances\n",
    "importances = list(rf.feature_importances_)\n",
    "\n",
    "# List of tuples with variable and importance\n",
    "feature_importances = [(feature, round(importance, 2)) for feature, importance in zip(feature_list, importances)]\n",
    "\n",
    "# Sort the feature importances by most important first\n",
    "feature_importances = sorted(feature_importances, key = lambda x: x[1], reverse = True)\n",
    "\n",
    "# Print out the feature and importances \n",
    "[print('Variable: {:20} Importance: {}'.format(*pair)) for pair in feature_importances];"
   ]
  },
  {
   "cell_type": "markdown",
   "metadata": {},
   "source": [
    "### Summary: Feature Importance:\n",
    "* The relative importance of each column is much higher when comparing stocks."
   ]
  },
  {
   "cell_type": "markdown",
   "metadata": {},
   "source": [
    "## With Financials"
   ]
  },
  {
   "cell_type": "code",
   "execution_count": 232,
   "metadata": {
    "ExecuteTime": {
     "end_time": "2022-06-03T20:28:07.839282Z",
     "start_time": "2022-06-03T20:28:05.646293Z"
    }
   },
   "outputs": [
    {
     "name": "stdout",
     "output_type": "stream",
     "text": [
      "<class 'pandas.core.frame.DataFrame'>\n",
      "Int64Index: 6010 entries, 95 to 2331842\n",
      "Data columns (total 18 columns):\n",
      " #   Column                    Non-Null Count  Dtype  \n",
      "---  ------                    --------------  -----  \n",
      " 0   RowId                     6010 non-null   object \n",
      " 1   Date                      6010 non-null   object \n",
      " 2   SecuritiesCode            6010 non-null   int64  \n",
      " 3   Open                      6001 non-null   float64\n",
      " 4   High                      6001 non-null   float64\n",
      " 5   Low                       6001 non-null   float64\n",
      " 6   Close                     6001 non-null   float64\n",
      " 7   Volume                    6010 non-null   int64  \n",
      " 8   AdjustmentFactor          6010 non-null   float64\n",
      " 9   ExpectedDividend          42 non-null     float64\n",
      " 10  SupervisionFlag           6010 non-null   bool   \n",
      " 11  Target                    6010 non-null   float64\n",
      " 12  EarningsPerShare          97 non-null     float64\n",
      " 13  TotalAssets               97 non-null     float64\n",
      " 14  ForecastProfit            97 non-null     float64\n",
      " 15  ForecastEarningsPerShare  97 non-null     float64\n",
      " 16  NetSales                  97 non-null     float64\n",
      " 17  EquityToAssetRatio        97 non-null     float64\n",
      "dtypes: bool(1), float64(13), int64(2), object(2)\n",
      "memory usage: 851.0+ KB\n"
     ]
    }
   ],
   "source": [
    "# Create df with rand_stock list\n",
    "rand_df = result.loc[result['SecuritiesCode'].isin(rand_stocks)]\n",
    "\n",
    "# Copy of rand_df to ensure it stays the same with all three models\n",
    "mult_stocks = rand_df.copy()\n",
    "mult_stocks.info()"
   ]
  },
  {
   "cell_type": "markdown",
   "metadata": {},
   "source": [
    "### Train, Test, Split"
   ]
  },
  {
   "cell_type": "code",
   "execution_count": 233,
   "metadata": {
    "ExecuteTime": {
     "end_time": "2022-06-03T20:12:55.039806Z",
     "start_time": "2022-06-03T20:12:54.620809Z"
    }
   },
   "outputs": [],
   "source": [
    "# Feature Engineer values from one stock including financials.csv info\n",
    "join_features = feature_train(mult_stocks)\n",
    "\n",
    "# create X and y df's\n",
    "X = join_features.drop('Target', axis=1)\n",
    "y = join_features['Target']"
   ]
  },
  {
   "cell_type": "code",
   "execution_count": 234,
   "metadata": {
    "ExecuteTime": {
     "end_time": "2022-06-03T20:12:56.031713Z",
     "start_time": "2022-06-03T20:12:55.982183Z"
    }
   },
   "outputs": [
    {
     "data": {
      "text/html": [
       "<div>\n",
       "<style scoped>\n",
       "    .dataframe tbody tr th:only-of-type {\n",
       "        vertical-align: middle;\n",
       "    }\n",
       "\n",
       "    .dataframe tbody tr th {\n",
       "        vertical-align: top;\n",
       "    }\n",
       "\n",
       "    .dataframe thead th {\n",
       "        text-align: right;\n",
       "    }\n",
       "</style>\n",
       "<table border=\"1\" class=\"dataframe\">\n",
       "  <thead>\n",
       "    <tr style=\"text-align: right;\">\n",
       "      <th></th>\n",
       "      <th>Date</th>\n",
       "      <th>SecuritiesCode</th>\n",
       "      <th>Open</th>\n",
       "      <th>High</th>\n",
       "      <th>Low</th>\n",
       "      <th>Close</th>\n",
       "      <th>Volume</th>\n",
       "      <th>EarningsPerShare</th>\n",
       "      <th>TotalAssets</th>\n",
       "      <th>ForecastProfit</th>\n",
       "      <th>...</th>\n",
       "      <th>Low_lag_1</th>\n",
       "      <th>Daily_Spread</th>\n",
       "      <th>Daily_Max_Min</th>\n",
       "      <th>1_Day_Spread</th>\n",
       "      <th>2_Day_Spread</th>\n",
       "      <th>1_Week_Spread</th>\n",
       "      <th>MA_Prior_1day</th>\n",
       "      <th>MA_Prior_2day</th>\n",
       "      <th>MA_Prior_diff</th>\n",
       "      <th>ExPost_SR</th>\n",
       "    </tr>\n",
       "  </thead>\n",
       "  <tbody>\n",
       "    <tr>\n",
       "      <th>0</th>\n",
       "      <td>-1.0</td>\n",
       "      <td>-1.000000</td>\n",
       "      <td>0.327381</td>\n",
       "      <td>0.372421</td>\n",
       "      <td>0.355017</td>\n",
       "      <td>0.383442</td>\n",
       "      <td>-0.913559</td>\n",
       "      <td>-0.216623</td>\n",
       "      <td>-1.0</td>\n",
       "      <td>-1.0</td>\n",
       "      <td>...</td>\n",
       "      <td>-1.000000</td>\n",
       "      <td>0.124</td>\n",
       "      <td>-0.531579</td>\n",
       "      <td>-0.002835</td>\n",
       "      <td>-0.051116</td>\n",
       "      <td>0.009693</td>\n",
       "      <td>0.689134</td>\n",
       "      <td>0.730440</td>\n",
       "      <td>0.170709</td>\n",
       "      <td>0.010930</td>\n",
       "    </tr>\n",
       "    <tr>\n",
       "      <th>1</th>\n",
       "      <td>-1.0</td>\n",
       "      <td>-0.986550</td>\n",
       "      <td>-0.811688</td>\n",
       "      <td>-0.813246</td>\n",
       "      <td>-0.807056</td>\n",
       "      <td>-0.803377</td>\n",
       "      <td>-0.972110</td>\n",
       "      <td>-0.216623</td>\n",
       "      <td>-1.0</td>\n",
       "      <td>-1.0</td>\n",
       "      <td>...</td>\n",
       "      <td>1.000000</td>\n",
       "      <td>-0.172</td>\n",
       "      <td>-0.931579</td>\n",
       "      <td>-0.689134</td>\n",
       "      <td>-0.051116</td>\n",
       "      <td>0.009693</td>\n",
       "      <td>-0.170709</td>\n",
       "      <td>-0.210933</td>\n",
       "      <td>0.021417</td>\n",
       "      <td>0.017117</td>\n",
       "    </tr>\n",
       "    <tr>\n",
       "      <th>2</th>\n",
       "      <td>-1.0</td>\n",
       "      <td>0.113203</td>\n",
       "      <td>-0.499459</td>\n",
       "      <td>-0.504343</td>\n",
       "      <td>-0.499449</td>\n",
       "      <td>-0.503268</td>\n",
       "      <td>-0.997890</td>\n",
       "      <td>-0.216623</td>\n",
       "      <td>-1.0</td>\n",
       "      <td>-1.0</td>\n",
       "      <td>...</td>\n",
       "      <td>0.266783</td>\n",
       "      <td>-0.276</td>\n",
       "      <td>-0.873684</td>\n",
       "      <td>0.170709</td>\n",
       "      <td>-0.730440</td>\n",
       "      <td>0.009693</td>\n",
       "      <td>-0.021417</td>\n",
       "      <td>0.145003</td>\n",
       "      <td>-0.097953</td>\n",
       "      <td>0.010105</td>\n",
       "    </tr>\n",
       "    <tr>\n",
       "      <th>3</th>\n",
       "      <td>-1.0</td>\n",
       "      <td>0.361130</td>\n",
       "      <td>-0.471861</td>\n",
       "      <td>-0.470141</td>\n",
       "      <td>-0.461411</td>\n",
       "      <td>-0.461329</td>\n",
       "      <td>-0.948307</td>\n",
       "      <td>-0.216623</td>\n",
       "      <td>-1.0</td>\n",
       "      <td>-1.0</td>\n",
       "      <td>...</td>\n",
       "      <td>0.151770</td>\n",
       "      <td>-0.172</td>\n",
       "      <td>-0.905263</td>\n",
       "      <td>0.021417</td>\n",
       "      <td>0.210933</td>\n",
       "      <td>0.009693</td>\n",
       "      <td>0.097953</td>\n",
       "      <td>-0.573545</td>\n",
       "      <td>0.563780</td>\n",
       "      <td>0.007630</td>\n",
       "    </tr>\n",
       "    <tr>\n",
       "      <th>4</th>\n",
       "      <td>-1.0</td>\n",
       "      <td>1.000000</td>\n",
       "      <td>-0.650433</td>\n",
       "      <td>-0.636808</td>\n",
       "      <td>-0.644432</td>\n",
       "      <td>-0.625817</td>\n",
       "      <td>-0.786305</td>\n",
       "      <td>-0.216623</td>\n",
       "      <td>-1.0</td>\n",
       "      <td>-1.0</td>\n",
       "      <td>...</td>\n",
       "      <td>0.106261</td>\n",
       "      <td>-0.060</td>\n",
       "      <td>-0.773684</td>\n",
       "      <td>-0.097953</td>\n",
       "      <td>-0.145003</td>\n",
       "      <td>0.009693</td>\n",
       "      <td>-0.563780</td>\n",
       "      <td>0.185896</td>\n",
       "      <td>-0.671181</td>\n",
       "      <td>0.003093</td>\n",
       "    </tr>\n",
       "    <tr>\n",
       "      <th>...</th>\n",
       "      <td>...</td>\n",
       "      <td>...</td>\n",
       "      <td>...</td>\n",
       "      <td>...</td>\n",
       "      <td>...</td>\n",
       "      <td>...</td>\n",
       "      <td>...</td>\n",
       "      <td>...</td>\n",
       "      <td>...</td>\n",
       "      <td>...</td>\n",
       "      <td>...</td>\n",
       "      <td>...</td>\n",
       "      <td>...</td>\n",
       "      <td>...</td>\n",
       "      <td>...</td>\n",
       "      <td>...</td>\n",
       "      <td>...</td>\n",
       "      <td>...</td>\n",
       "      <td>...</td>\n",
       "      <td>...</td>\n",
       "      <td>...</td>\n",
       "    </tr>\n",
       "    <tr>\n",
       "      <th>6005</th>\n",
       "      <td>1.0</td>\n",
       "      <td>-1.000000</td>\n",
       "      <td>0.346861</td>\n",
       "      <td>0.364821</td>\n",
       "      <td>0.371555</td>\n",
       "      <td>0.379085</td>\n",
       "      <td>-0.966703</td>\n",
       "      <td>-0.216623</td>\n",
       "      <td>-1.0</td>\n",
       "      <td>-1.0</td>\n",
       "      <td>...</td>\n",
       "      <td>-0.266435</td>\n",
       "      <td>-0.052</td>\n",
       "      <td>-0.763158</td>\n",
       "      <td>0.650079</td>\n",
       "      <td>0.609013</td>\n",
       "      <td>0.030316</td>\n",
       "      <td>0.709606</td>\n",
       "      <td>0.714584</td>\n",
       "      <td>0.203150</td>\n",
       "      <td>0.293050</td>\n",
       "    </tr>\n",
       "    <tr>\n",
       "      <th>6006</th>\n",
       "      <td>1.0</td>\n",
       "      <td>-0.986550</td>\n",
       "      <td>-0.849567</td>\n",
       "      <td>-0.853420</td>\n",
       "      <td>-0.845645</td>\n",
       "      <td>-0.843137</td>\n",
       "      <td>-0.904065</td>\n",
       "      <td>-0.216623</td>\n",
       "      <td>-1.0</td>\n",
       "      <td>-1.0</td>\n",
       "      <td>...</td>\n",
       "      <td>0.117739</td>\n",
       "      <td>-0.184</td>\n",
       "      <td>-0.952632</td>\n",
       "      <td>-0.709606</td>\n",
       "      <td>-0.122470</td>\n",
       "      <td>0.013817</td>\n",
       "      <td>-0.203150</td>\n",
       "      <td>-0.235552</td>\n",
       "      <td>0.007559</td>\n",
       "      <td>0.026707</td>\n",
       "    </tr>\n",
       "    <tr>\n",
       "      <th>6007</th>\n",
       "      <td>1.0</td>\n",
       "      <td>0.113203</td>\n",
       "      <td>-0.515152</td>\n",
       "      <td>-0.497286</td>\n",
       "      <td>-0.511025</td>\n",
       "      <td>-0.486928</td>\n",
       "      <td>-0.981406</td>\n",
       "      <td>-0.216623</td>\n",
       "      <td>-1.0</td>\n",
       "      <td>-1.0</td>\n",
       "      <td>...</td>\n",
       "      <td>0.014957</td>\n",
       "      <td>-0.040</td>\n",
       "      <td>-0.694737</td>\n",
       "      <td>0.203150</td>\n",
       "      <td>-0.714584</td>\n",
       "      <td>0.035677</td>\n",
       "      <td>-0.007559</td>\n",
       "      <td>0.243480</td>\n",
       "      <td>-0.158425</td>\n",
       "      <td>0.009693</td>\n",
       "    </tr>\n",
       "    <tr>\n",
       "      <th>6008</th>\n",
       "      <td>1.0</td>\n",
       "      <td>0.361130</td>\n",
       "      <td>-0.478896</td>\n",
       "      <td>-0.477742</td>\n",
       "      <td>-0.467475</td>\n",
       "      <td>-0.468954</td>\n",
       "      <td>-0.994132</td>\n",
       "      <td>-0.216623</td>\n",
       "      <td>-1.0</td>\n",
       "      <td>-1.0</td>\n",
       "      <td>...</td>\n",
       "      <td>0.004870</td>\n",
       "      <td>-0.176</td>\n",
       "      <td>-0.921053</td>\n",
       "      <td>0.007559</td>\n",
       "      <td>0.235552</td>\n",
       "      <td>0.020004</td>\n",
       "      <td>0.158425</td>\n",
       "      <td>0.051116</td>\n",
       "      <td>0.152756</td>\n",
       "      <td>0.519076</td>\n",
       "    </tr>\n",
       "    <tr>\n",
       "      <th>6009</th>\n",
       "      <td>1.0</td>\n",
       "      <td>1.000000</td>\n",
       "      <td>-0.750541</td>\n",
       "      <td>-0.748643</td>\n",
       "      <td>-0.751378</td>\n",
       "      <td>-0.738017</td>\n",
       "      <td>-0.830350</td>\n",
       "      <td>-0.216623</td>\n",
       "      <td>-1.0</td>\n",
       "      <td>-1.0</td>\n",
       "      <td>...</td>\n",
       "      <td>0.093739</td>\n",
       "      <td>-0.144</td>\n",
       "      <td>-0.836842</td>\n",
       "      <td>-0.158425</td>\n",
       "      <td>-0.243480</td>\n",
       "      <td>0.018767</td>\n",
       "      <td>0.002835</td>\n",
       "      <td>0.051116</td>\n",
       "      <td>-0.002835</td>\n",
       "      <td>0.009693</td>\n",
       "    </tr>\n",
       "  </tbody>\n",
       "</table>\n",
       "<p>6010 rows × 27 columns</p>\n",
       "</div>"
      ],
      "text/plain": [
       "      Date  SecuritiesCode      Open      High       Low     Close    Volume  \\\n",
       "0     -1.0       -1.000000  0.327381  0.372421  0.355017  0.383442 -0.913559   \n",
       "1     -1.0       -0.986550 -0.811688 -0.813246 -0.807056 -0.803377 -0.972110   \n",
       "2     -1.0        0.113203 -0.499459 -0.504343 -0.499449 -0.503268 -0.997890   \n",
       "3     -1.0        0.361130 -0.471861 -0.470141 -0.461411 -0.461329 -0.948307   \n",
       "4     -1.0        1.000000 -0.650433 -0.636808 -0.644432 -0.625817 -0.786305   \n",
       "...    ...             ...       ...       ...       ...       ...       ...   \n",
       "6005   1.0       -1.000000  0.346861  0.364821  0.371555  0.379085 -0.966703   \n",
       "6006   1.0       -0.986550 -0.849567 -0.853420 -0.845645 -0.843137 -0.904065   \n",
       "6007   1.0        0.113203 -0.515152 -0.497286 -0.511025 -0.486928 -0.981406   \n",
       "6008   1.0        0.361130 -0.478896 -0.477742 -0.467475 -0.468954 -0.994132   \n",
       "6009   1.0        1.000000 -0.750541 -0.748643 -0.751378 -0.738017 -0.830350   \n",
       "\n",
       "      EarningsPerShare  TotalAssets  ForecastProfit  ...  Low_lag_1  \\\n",
       "0            -0.216623         -1.0            -1.0  ...  -1.000000   \n",
       "1            -0.216623         -1.0            -1.0  ...   1.000000   \n",
       "2            -0.216623         -1.0            -1.0  ...   0.266783   \n",
       "3            -0.216623         -1.0            -1.0  ...   0.151770   \n",
       "4            -0.216623         -1.0            -1.0  ...   0.106261   \n",
       "...                ...          ...             ...  ...        ...   \n",
       "6005         -0.216623         -1.0            -1.0  ...  -0.266435   \n",
       "6006         -0.216623         -1.0            -1.0  ...   0.117739   \n",
       "6007         -0.216623         -1.0            -1.0  ...   0.014957   \n",
       "6008         -0.216623         -1.0            -1.0  ...   0.004870   \n",
       "6009         -0.216623         -1.0            -1.0  ...   0.093739   \n",
       "\n",
       "      Daily_Spread  Daily_Max_Min  1_Day_Spread  2_Day_Spread  1_Week_Spread  \\\n",
       "0            0.124      -0.531579     -0.002835     -0.051116       0.009693   \n",
       "1           -0.172      -0.931579     -0.689134     -0.051116       0.009693   \n",
       "2           -0.276      -0.873684      0.170709     -0.730440       0.009693   \n",
       "3           -0.172      -0.905263      0.021417      0.210933       0.009693   \n",
       "4           -0.060      -0.773684     -0.097953     -0.145003       0.009693   \n",
       "...            ...            ...           ...           ...            ...   \n",
       "6005        -0.052      -0.763158      0.650079      0.609013       0.030316   \n",
       "6006        -0.184      -0.952632     -0.709606     -0.122470       0.013817   \n",
       "6007        -0.040      -0.694737      0.203150     -0.714584       0.035677   \n",
       "6008        -0.176      -0.921053      0.007559      0.235552       0.020004   \n",
       "6009        -0.144      -0.836842     -0.158425     -0.243480       0.018767   \n",
       "\n",
       "      MA_Prior_1day  MA_Prior_2day  MA_Prior_diff  ExPost_SR  \n",
       "0          0.689134       0.730440       0.170709   0.010930  \n",
       "1         -0.170709      -0.210933       0.021417   0.017117  \n",
       "2         -0.021417       0.145003      -0.097953   0.010105  \n",
       "3          0.097953      -0.573545       0.563780   0.007630  \n",
       "4         -0.563780       0.185896      -0.671181   0.003093  \n",
       "...             ...            ...            ...        ...  \n",
       "6005       0.709606       0.714584       0.203150   0.293050  \n",
       "6006      -0.203150      -0.235552       0.007559   0.026707  \n",
       "6007      -0.007559       0.243480      -0.158425   0.009693  \n",
       "6008       0.158425       0.051116       0.152756   0.519076  \n",
       "6009       0.002835       0.051116      -0.002835   0.009693  \n",
       "\n",
       "[6010 rows x 27 columns]"
      ]
     },
     "execution_count": 234,
     "metadata": {},
     "output_type": "execute_result"
    }
   ],
   "source": [
    "X"
   ]
  },
  {
   "cell_type": "code",
   "execution_count": 235,
   "metadata": {
    "ExecuteTime": {
     "end_time": "2022-06-03T20:12:59.692346Z",
     "start_time": "2022-06-03T20:12:59.625520Z"
    }
   },
   "outputs": [],
   "source": [
    "# Run Train, Test, Split with 85% train\n",
    "X_train, X_test, y_train, y_test = train_test_split(X, y, test_size=0.15, random_state=42)"
   ]
  },
  {
   "cell_type": "markdown",
   "metadata": {},
   "source": [
    "### Check train/test shape"
   ]
  },
  {
   "cell_type": "code",
   "execution_count": 236,
   "metadata": {
    "ExecuteTime": {
     "end_time": "2022-06-03T20:13:01.314390Z",
     "start_time": "2022-06-03T20:13:01.305463Z"
    }
   },
   "outputs": [
    {
     "name": "stdout",
     "output_type": "stream",
     "text": [
      "Training Features Shape: (5108, 27)\n",
      "Training Labels Shape: (902, 27)\n",
      "Testing Features Shape: (5108,)\n",
      "Testing Labels Shape: (902,)\n"
     ]
    }
   ],
   "source": [
    "print('Training Features Shape:', X_train.shape)\n",
    "print('Training Labels Shape:', X_test.shape)\n",
    "print('Testing Features Shape:', y_train.shape)\n",
    "print('Testing Labels Shape:', y_test.shape)"
   ]
  },
  {
   "cell_type": "markdown",
   "metadata": {},
   "source": [
    "### Train and Fit Model"
   ]
  },
  {
   "cell_type": "code",
   "execution_count": 237,
   "metadata": {
    "ExecuteTime": {
     "end_time": "2022-06-03T20:13:20.592547Z",
     "start_time": "2022-06-03T20:13:03.389136Z"
    }
   },
   "outputs": [],
   "source": [
    "# Instantiate model with 1000 decision trees\n",
    "rf = RandomForestRegressor(random_state = 42)\n",
    "\n",
    "# Train the model on training data\n",
    "rf.fit(X_train, y_train);"
   ]
  },
  {
   "cell_type": "markdown",
   "metadata": {},
   "source": [
    "### Predictions & Mean Absolute Error"
   ]
  },
  {
   "cell_type": "code",
   "execution_count": 238,
   "metadata": {
    "ExecuteTime": {
     "end_time": "2022-06-03T20:13:20.717744Z",
     "start_time": "2022-06-03T20:13:20.596332Z"
    }
   },
   "outputs": [
    {
     "name": "stdout",
     "output_type": "stream",
     "text": [
      "Mean Absolute Error: 0.06 of the Sharpe Ratio\n"
     ]
    }
   ],
   "source": [
    "# Use the forest's predict method on the test data\n",
    "predictions = rf.predict(X_test)\n",
    "\n",
    "# Calculate the absolute errors\n",
    "errors = abs(predictions - y_test)\n",
    "\n",
    "# Print out the mean absolute error (mae)\n",
    "print('Mean Absolute Error:', round(np.mean(errors), 2), 'of the Sharpe Ratio')"
   ]
  },
  {
   "cell_type": "markdown",
   "metadata": {},
   "source": [
    "### RMSE"
   ]
  },
  {
   "cell_type": "code",
   "execution_count": 239,
   "metadata": {
    "ExecuteTime": {
     "end_time": "2022-06-03T20:13:20.735007Z",
     "start_time": "2022-06-03T20:13:20.721083Z"
    }
   },
   "outputs": [
    {
     "name": "stdout",
     "output_type": "stream",
     "text": [
      "Test RMSE: 0.091\n"
     ]
    }
   ],
   "source": [
    "# evaluate forecasts\n",
    "rmse = sqrt(mean_squared_error(y_test, predictions))\n",
    "print('Test RMSE: %.3f' % rmse)"
   ]
  },
  {
   "cell_type": "markdown",
   "metadata": {},
   "source": [
    "### Feature Importance"
   ]
  },
  {
   "cell_type": "code",
   "execution_count": 240,
   "metadata": {
    "ExecuteTime": {
     "end_time": "2022-06-03T20:13:20.838187Z",
     "start_time": "2022-06-03T20:13:20.738564Z"
    }
   },
   "outputs": [
    {
     "name": "stdout",
     "output_type": "stream",
     "text": [
      "Variable: ExPost_SR            Importance: 0.11\n",
      "Variable: Volume               Importance: 0.08\n",
      "Variable: Volume_lag_1         Importance: 0.08\n",
      "Variable: Daily_Spread         Importance: 0.07\n",
      "Variable: 1_Week_Spread        Importance: 0.07\n",
      "Variable: Date                 Importance: 0.06\n",
      "Variable: Daily_Max_Min        Importance: 0.06\n",
      "Variable: 2_Day_Spread         Importance: 0.06\n",
      "Variable: MA_Prior_1day        Importance: 0.05\n",
      "Variable: MA_Prior_2day        Importance: 0.05\n",
      "Variable: MA_Prior_diff        Importance: 0.05\n",
      "Variable: 1_Day_Spread         Importance: 0.04\n",
      "Variable: Open                 Importance: 0.03\n",
      "Variable: High_lag_1           Importance: 0.03\n",
      "Variable: Open_lag_1           Importance: 0.03\n",
      "Variable: Close_lag_1          Importance: 0.03\n",
      "Variable: Low_lag_1            Importance: 0.03\n",
      "Variable: High                 Importance: 0.02\n",
      "Variable: Low                  Importance: 0.02\n",
      "Variable: Close                Importance: 0.02\n",
      "Variable: SecuritiesCode       Importance: 0.0\n",
      "Variable: EarningsPerShare     Importance: 0.0\n",
      "Variable: TotalAssets          Importance: 0.0\n",
      "Variable: ForecastProfit       Importance: 0.0\n",
      "Variable: ForecastEarningsPerShare Importance: 0.0\n",
      "Variable: NetSales             Importance: 0.0\n",
      "Variable: EquityToAssetRatio   Importance: 0.0\n"
     ]
    }
   ],
   "source": [
    "# Saving feature names\n",
    "feature_list = list(X.columns)\n",
    "\n",
    "# Get numerical feature importances\n",
    "importances = list(rf.feature_importances_)\n",
    "\n",
    "# List of tuples with variable and importance\n",
    "feature_importances = [(feature, round(importance, 2)) for feature, importance in zip(feature_list, importances)]\n",
    "\n",
    "# Sort the feature importances by most important first\n",
    "feature_importances = sorted(feature_importances, key = lambda x: x[1], reverse = True)\n",
    "\n",
    "# Print out the feature and importances \n",
    "[print('Variable: {:20} Importance: {}'.format(*pair)) for pair in feature_importances];"
   ]
  },
  {
   "cell_type": "markdown",
   "metadata": {},
   "source": [
    "### Summary: Feature Importance:\n",
    "* Moving Averages seem to be very important in predicting the target value."
   ]
  },
  {
   "cell_type": "markdown",
   "metadata": {},
   "source": [
    "## With Financials and Stock List"
   ]
  },
  {
   "cell_type": "code",
   "execution_count": 261,
   "metadata": {
    "ExecuteTime": {
     "end_time": "2022-06-03T20:28:07.839282Z",
     "start_time": "2022-06-03T20:28:05.646293Z"
    }
   },
   "outputs": [
    {
     "name": "stdout",
     "output_type": "stream",
     "text": [
      "<class 'pandas.core.frame.DataFrame'>\n",
      "Int64Index: 6010 entries, 95 to 2331842\n",
      "Data columns (total 21 columns):\n",
      " #   Column                    Non-Null Count  Dtype  \n",
      "---  ------                    --------------  -----  \n",
      " 0   RowId                     6010 non-null   object \n",
      " 1   Date                      6010 non-null   object \n",
      " 2   SecuritiesCode            6010 non-null   int64  \n",
      " 3   Open                      6001 non-null   float64\n",
      " 4   High                      6001 non-null   float64\n",
      " 5   Low                       6001 non-null   float64\n",
      " 6   Close                     6001 non-null   float64\n",
      " 7   Volume                    6010 non-null   int64  \n",
      " 8   AdjustmentFactor          6010 non-null   float64\n",
      " 9   ExpectedDividend          42 non-null     float64\n",
      " 10  SupervisionFlag           6010 non-null   bool   \n",
      " 11  Target                    6010 non-null   float64\n",
      " 12  EarningsPerShare          97 non-null     float64\n",
      " 13  TotalAssets               97 non-null     float64\n",
      " 14  ForecastProfit            97 non-null     float64\n",
      " 15  ForecastEarningsPerShare  97 non-null     float64\n",
      " 16  NetSales                  97 non-null     float64\n",
      " 17  EquityToAssetRatio        97 non-null     float64\n",
      " 18  33SectorCode              6010 non-null   float64\n",
      " 19  MarketCapitalization      6010 non-null   float64\n",
      " 20  IssuedShares              6010 non-null   float64\n",
      "dtypes: bool(1), float64(16), int64(2), object(2)\n",
      "memory usage: 991.9+ KB\n"
     ]
    }
   ],
   "source": [
    "# Create df with rand_stock list\n",
    "rand_df = Stock_and_Fin_Added.loc[Stock_and_Fin_Added['SecuritiesCode'].isin(rand_stocks)]\n",
    "\n",
    "# Copy of rand_df to ensure it stays the same with all three models\n",
    "mult_stocks = rand_df.copy()\n",
    "mult_stocks.info()"
   ]
  },
  {
   "cell_type": "markdown",
   "metadata": {},
   "source": [
    "### Train, Test, Split"
   ]
  },
  {
   "cell_type": "code",
   "execution_count": 263,
   "metadata": {
    "ExecuteTime": {
     "end_time": "2022-06-03T20:31:50.722842Z",
     "start_time": "2022-06-03T20:31:49.545916Z"
    }
   },
   "outputs": [],
   "source": [
    "# Feature Engineer values from one stock including financials.csv info\n",
    "join_features = feature_train(mult_stocks)\n",
    "\n",
    "# create X and y df's\n",
    "X = join_features.drop('Target', axis=1)\n",
    "y = join_features['Target']"
   ]
  },
  {
   "cell_type": "code",
   "execution_count": 264,
   "metadata": {
    "ExecuteTime": {
     "end_time": "2022-06-03T20:31:54.778200Z",
     "start_time": "2022-06-03T20:31:53.898357Z"
    }
   },
   "outputs": [
    {
     "data": {
      "text/html": [
       "<div>\n",
       "<style scoped>\n",
       "    .dataframe tbody tr th:only-of-type {\n",
       "        vertical-align: middle;\n",
       "    }\n",
       "\n",
       "    .dataframe tbody tr th {\n",
       "        vertical-align: top;\n",
       "    }\n",
       "\n",
       "    .dataframe thead th {\n",
       "        text-align: right;\n",
       "    }\n",
       "</style>\n",
       "<table border=\"1\" class=\"dataframe\">\n",
       "  <thead>\n",
       "    <tr style=\"text-align: right;\">\n",
       "      <th></th>\n",
       "      <th>Date</th>\n",
       "      <th>SecuritiesCode</th>\n",
       "      <th>Open</th>\n",
       "      <th>High</th>\n",
       "      <th>Low</th>\n",
       "      <th>Close</th>\n",
       "      <th>Volume</th>\n",
       "      <th>EarningsPerShare</th>\n",
       "      <th>TotalAssets</th>\n",
       "      <th>ForecastProfit</th>\n",
       "      <th>...</th>\n",
       "      <th>Low_lag_1</th>\n",
       "      <th>Daily_Spread</th>\n",
       "      <th>Daily_Max_Min</th>\n",
       "      <th>1_Day_Spread</th>\n",
       "      <th>2_Day_Spread</th>\n",
       "      <th>1_Week_Spread</th>\n",
       "      <th>MA_Prior_1day</th>\n",
       "      <th>MA_Prior_2day</th>\n",
       "      <th>MA_Prior_diff</th>\n",
       "      <th>ExPost_SR</th>\n",
       "    </tr>\n",
       "  </thead>\n",
       "  <tbody>\n",
       "    <tr>\n",
       "      <th>0</th>\n",
       "      <td>-1.0</td>\n",
       "      <td>-1.000000</td>\n",
       "      <td>0.327381</td>\n",
       "      <td>0.372421</td>\n",
       "      <td>0.355017</td>\n",
       "      <td>0.383442</td>\n",
       "      <td>-0.913559</td>\n",
       "      <td>-0.216623</td>\n",
       "      <td>-1.0</td>\n",
       "      <td>-1.0</td>\n",
       "      <td>...</td>\n",
       "      <td>-1.000000</td>\n",
       "      <td>0.124</td>\n",
       "      <td>-0.531579</td>\n",
       "      <td>-0.002835</td>\n",
       "      <td>-0.051116</td>\n",
       "      <td>0.009693</td>\n",
       "      <td>0.689134</td>\n",
       "      <td>0.730440</td>\n",
       "      <td>0.170709</td>\n",
       "      <td>0.010930</td>\n",
       "    </tr>\n",
       "    <tr>\n",
       "      <th>1</th>\n",
       "      <td>-1.0</td>\n",
       "      <td>-0.986550</td>\n",
       "      <td>-0.811688</td>\n",
       "      <td>-0.813246</td>\n",
       "      <td>-0.807056</td>\n",
       "      <td>-0.803377</td>\n",
       "      <td>-0.972110</td>\n",
       "      <td>-0.216623</td>\n",
       "      <td>-1.0</td>\n",
       "      <td>-1.0</td>\n",
       "      <td>...</td>\n",
       "      <td>1.000000</td>\n",
       "      <td>-0.172</td>\n",
       "      <td>-0.931579</td>\n",
       "      <td>-0.689134</td>\n",
       "      <td>-0.051116</td>\n",
       "      <td>0.009693</td>\n",
       "      <td>-0.170709</td>\n",
       "      <td>-0.210933</td>\n",
       "      <td>0.021417</td>\n",
       "      <td>0.017117</td>\n",
       "    </tr>\n",
       "    <tr>\n",
       "      <th>2</th>\n",
       "      <td>-1.0</td>\n",
       "      <td>0.113203</td>\n",
       "      <td>-0.499459</td>\n",
       "      <td>-0.504343</td>\n",
       "      <td>-0.499449</td>\n",
       "      <td>-0.503268</td>\n",
       "      <td>-0.997890</td>\n",
       "      <td>-0.216623</td>\n",
       "      <td>-1.0</td>\n",
       "      <td>-1.0</td>\n",
       "      <td>...</td>\n",
       "      <td>0.266783</td>\n",
       "      <td>-0.276</td>\n",
       "      <td>-0.873684</td>\n",
       "      <td>0.170709</td>\n",
       "      <td>-0.730440</td>\n",
       "      <td>0.009693</td>\n",
       "      <td>-0.021417</td>\n",
       "      <td>0.145003</td>\n",
       "      <td>-0.097953</td>\n",
       "      <td>0.010105</td>\n",
       "    </tr>\n",
       "    <tr>\n",
       "      <th>3</th>\n",
       "      <td>-1.0</td>\n",
       "      <td>0.361130</td>\n",
       "      <td>-0.471861</td>\n",
       "      <td>-0.470141</td>\n",
       "      <td>-0.461411</td>\n",
       "      <td>-0.461329</td>\n",
       "      <td>-0.948307</td>\n",
       "      <td>-0.216623</td>\n",
       "      <td>-1.0</td>\n",
       "      <td>-1.0</td>\n",
       "      <td>...</td>\n",
       "      <td>0.151770</td>\n",
       "      <td>-0.172</td>\n",
       "      <td>-0.905263</td>\n",
       "      <td>0.021417</td>\n",
       "      <td>0.210933</td>\n",
       "      <td>0.009693</td>\n",
       "      <td>0.097953</td>\n",
       "      <td>-0.573545</td>\n",
       "      <td>0.563780</td>\n",
       "      <td>0.007630</td>\n",
       "    </tr>\n",
       "    <tr>\n",
       "      <th>4</th>\n",
       "      <td>-1.0</td>\n",
       "      <td>1.000000</td>\n",
       "      <td>-0.650433</td>\n",
       "      <td>-0.636808</td>\n",
       "      <td>-0.644432</td>\n",
       "      <td>-0.625817</td>\n",
       "      <td>-0.786305</td>\n",
       "      <td>-0.216623</td>\n",
       "      <td>-1.0</td>\n",
       "      <td>-1.0</td>\n",
       "      <td>...</td>\n",
       "      <td>0.106261</td>\n",
       "      <td>-0.060</td>\n",
       "      <td>-0.773684</td>\n",
       "      <td>-0.097953</td>\n",
       "      <td>-0.145003</td>\n",
       "      <td>0.009693</td>\n",
       "      <td>-0.563780</td>\n",
       "      <td>0.185896</td>\n",
       "      <td>-0.671181</td>\n",
       "      <td>0.003093</td>\n",
       "    </tr>\n",
       "    <tr>\n",
       "      <th>...</th>\n",
       "      <td>...</td>\n",
       "      <td>...</td>\n",
       "      <td>...</td>\n",
       "      <td>...</td>\n",
       "      <td>...</td>\n",
       "      <td>...</td>\n",
       "      <td>...</td>\n",
       "      <td>...</td>\n",
       "      <td>...</td>\n",
       "      <td>...</td>\n",
       "      <td>...</td>\n",
       "      <td>...</td>\n",
       "      <td>...</td>\n",
       "      <td>...</td>\n",
       "      <td>...</td>\n",
       "      <td>...</td>\n",
       "      <td>...</td>\n",
       "      <td>...</td>\n",
       "      <td>...</td>\n",
       "      <td>...</td>\n",
       "      <td>...</td>\n",
       "    </tr>\n",
       "    <tr>\n",
       "      <th>6005</th>\n",
       "      <td>1.0</td>\n",
       "      <td>-1.000000</td>\n",
       "      <td>0.346861</td>\n",
       "      <td>0.364821</td>\n",
       "      <td>0.371555</td>\n",
       "      <td>0.379085</td>\n",
       "      <td>-0.966703</td>\n",
       "      <td>-0.216623</td>\n",
       "      <td>-1.0</td>\n",
       "      <td>-1.0</td>\n",
       "      <td>...</td>\n",
       "      <td>-0.266435</td>\n",
       "      <td>-0.052</td>\n",
       "      <td>-0.763158</td>\n",
       "      <td>0.650079</td>\n",
       "      <td>0.609013</td>\n",
       "      <td>0.030316</td>\n",
       "      <td>0.709606</td>\n",
       "      <td>0.714584</td>\n",
       "      <td>0.203150</td>\n",
       "      <td>0.293050</td>\n",
       "    </tr>\n",
       "    <tr>\n",
       "      <th>6006</th>\n",
       "      <td>1.0</td>\n",
       "      <td>-0.986550</td>\n",
       "      <td>-0.849567</td>\n",
       "      <td>-0.853420</td>\n",
       "      <td>-0.845645</td>\n",
       "      <td>-0.843137</td>\n",
       "      <td>-0.904065</td>\n",
       "      <td>-0.216623</td>\n",
       "      <td>-1.0</td>\n",
       "      <td>-1.0</td>\n",
       "      <td>...</td>\n",
       "      <td>0.117739</td>\n",
       "      <td>-0.184</td>\n",
       "      <td>-0.952632</td>\n",
       "      <td>-0.709606</td>\n",
       "      <td>-0.122470</td>\n",
       "      <td>0.013817</td>\n",
       "      <td>-0.203150</td>\n",
       "      <td>-0.235552</td>\n",
       "      <td>0.007559</td>\n",
       "      <td>0.026707</td>\n",
       "    </tr>\n",
       "    <tr>\n",
       "      <th>6007</th>\n",
       "      <td>1.0</td>\n",
       "      <td>0.113203</td>\n",
       "      <td>-0.515152</td>\n",
       "      <td>-0.497286</td>\n",
       "      <td>-0.511025</td>\n",
       "      <td>-0.486928</td>\n",
       "      <td>-0.981406</td>\n",
       "      <td>-0.216623</td>\n",
       "      <td>-1.0</td>\n",
       "      <td>-1.0</td>\n",
       "      <td>...</td>\n",
       "      <td>0.014957</td>\n",
       "      <td>-0.040</td>\n",
       "      <td>-0.694737</td>\n",
       "      <td>0.203150</td>\n",
       "      <td>-0.714584</td>\n",
       "      <td>0.035677</td>\n",
       "      <td>-0.007559</td>\n",
       "      <td>0.243480</td>\n",
       "      <td>-0.158425</td>\n",
       "      <td>0.009693</td>\n",
       "    </tr>\n",
       "    <tr>\n",
       "      <th>6008</th>\n",
       "      <td>1.0</td>\n",
       "      <td>0.361130</td>\n",
       "      <td>-0.478896</td>\n",
       "      <td>-0.477742</td>\n",
       "      <td>-0.467475</td>\n",
       "      <td>-0.468954</td>\n",
       "      <td>-0.994132</td>\n",
       "      <td>-0.216623</td>\n",
       "      <td>-1.0</td>\n",
       "      <td>-1.0</td>\n",
       "      <td>...</td>\n",
       "      <td>0.004870</td>\n",
       "      <td>-0.176</td>\n",
       "      <td>-0.921053</td>\n",
       "      <td>0.007559</td>\n",
       "      <td>0.235552</td>\n",
       "      <td>0.020004</td>\n",
       "      <td>0.158425</td>\n",
       "      <td>0.051116</td>\n",
       "      <td>0.152756</td>\n",
       "      <td>0.519076</td>\n",
       "    </tr>\n",
       "    <tr>\n",
       "      <th>6009</th>\n",
       "      <td>1.0</td>\n",
       "      <td>1.000000</td>\n",
       "      <td>-0.750541</td>\n",
       "      <td>-0.748643</td>\n",
       "      <td>-0.751378</td>\n",
       "      <td>-0.738017</td>\n",
       "      <td>-0.830350</td>\n",
       "      <td>-0.216623</td>\n",
       "      <td>-1.0</td>\n",
       "      <td>-1.0</td>\n",
       "      <td>...</td>\n",
       "      <td>0.093739</td>\n",
       "      <td>-0.144</td>\n",
       "      <td>-0.836842</td>\n",
       "      <td>-0.158425</td>\n",
       "      <td>-0.243480</td>\n",
       "      <td>0.018767</td>\n",
       "      <td>0.002835</td>\n",
       "      <td>0.051116</td>\n",
       "      <td>-0.002835</td>\n",
       "      <td>0.009693</td>\n",
       "    </tr>\n",
       "  </tbody>\n",
       "</table>\n",
       "<p>6010 rows × 30 columns</p>\n",
       "</div>"
      ],
      "text/plain": [
       "      Date  SecuritiesCode      Open      High       Low     Close    Volume  \\\n",
       "0     -1.0       -1.000000  0.327381  0.372421  0.355017  0.383442 -0.913559   \n",
       "1     -1.0       -0.986550 -0.811688 -0.813246 -0.807056 -0.803377 -0.972110   \n",
       "2     -1.0        0.113203 -0.499459 -0.504343 -0.499449 -0.503268 -0.997890   \n",
       "3     -1.0        0.361130 -0.471861 -0.470141 -0.461411 -0.461329 -0.948307   \n",
       "4     -1.0        1.000000 -0.650433 -0.636808 -0.644432 -0.625817 -0.786305   \n",
       "...    ...             ...       ...       ...       ...       ...       ...   \n",
       "6005   1.0       -1.000000  0.346861  0.364821  0.371555  0.379085 -0.966703   \n",
       "6006   1.0       -0.986550 -0.849567 -0.853420 -0.845645 -0.843137 -0.904065   \n",
       "6007   1.0        0.113203 -0.515152 -0.497286 -0.511025 -0.486928 -0.981406   \n",
       "6008   1.0        0.361130 -0.478896 -0.477742 -0.467475 -0.468954 -0.994132   \n",
       "6009   1.0        1.000000 -0.750541 -0.748643 -0.751378 -0.738017 -0.830350   \n",
       "\n",
       "      EarningsPerShare  TotalAssets  ForecastProfit  ...  Low_lag_1  \\\n",
       "0            -0.216623         -1.0            -1.0  ...  -1.000000   \n",
       "1            -0.216623         -1.0            -1.0  ...   1.000000   \n",
       "2            -0.216623         -1.0            -1.0  ...   0.266783   \n",
       "3            -0.216623         -1.0            -1.0  ...   0.151770   \n",
       "4            -0.216623         -1.0            -1.0  ...   0.106261   \n",
       "...                ...          ...             ...  ...        ...   \n",
       "6005         -0.216623         -1.0            -1.0  ...  -0.266435   \n",
       "6006         -0.216623         -1.0            -1.0  ...   0.117739   \n",
       "6007         -0.216623         -1.0            -1.0  ...   0.014957   \n",
       "6008         -0.216623         -1.0            -1.0  ...   0.004870   \n",
       "6009         -0.216623         -1.0            -1.0  ...   0.093739   \n",
       "\n",
       "      Daily_Spread  Daily_Max_Min  1_Day_Spread  2_Day_Spread  1_Week_Spread  \\\n",
       "0            0.124      -0.531579     -0.002835     -0.051116       0.009693   \n",
       "1           -0.172      -0.931579     -0.689134     -0.051116       0.009693   \n",
       "2           -0.276      -0.873684      0.170709     -0.730440       0.009693   \n",
       "3           -0.172      -0.905263      0.021417      0.210933       0.009693   \n",
       "4           -0.060      -0.773684     -0.097953     -0.145003       0.009693   \n",
       "...            ...            ...           ...           ...            ...   \n",
       "6005        -0.052      -0.763158      0.650079      0.609013       0.030316   \n",
       "6006        -0.184      -0.952632     -0.709606     -0.122470       0.013817   \n",
       "6007        -0.040      -0.694737      0.203150     -0.714584       0.035677   \n",
       "6008        -0.176      -0.921053      0.007559      0.235552       0.020004   \n",
       "6009        -0.144      -0.836842     -0.158425     -0.243480       0.018767   \n",
       "\n",
       "      MA_Prior_1day  MA_Prior_2day  MA_Prior_diff  ExPost_SR  \n",
       "0          0.689134       0.730440       0.170709   0.010930  \n",
       "1         -0.170709      -0.210933       0.021417   0.017117  \n",
       "2         -0.021417       0.145003      -0.097953   0.010105  \n",
       "3          0.097953      -0.573545       0.563780   0.007630  \n",
       "4         -0.563780       0.185896      -0.671181   0.003093  \n",
       "...             ...            ...            ...        ...  \n",
       "6005       0.709606       0.714584       0.203150   0.293050  \n",
       "6006      -0.203150      -0.235552       0.007559   0.026707  \n",
       "6007      -0.007559       0.243480      -0.158425   0.009693  \n",
       "6008       0.158425       0.051116       0.152756   0.519076  \n",
       "6009       0.002835       0.051116      -0.002835   0.009693  \n",
       "\n",
       "[6010 rows x 30 columns]"
      ]
     },
     "execution_count": 264,
     "metadata": {},
     "output_type": "execute_result"
    }
   ],
   "source": [
    "X"
   ]
  },
  {
   "cell_type": "code",
   "execution_count": 265,
   "metadata": {
    "ExecuteTime": {
     "end_time": "2022-06-03T20:32:03.514838Z",
     "start_time": "2022-06-03T20:32:03.397638Z"
    }
   },
   "outputs": [],
   "source": [
    "# Run Train, Test, Split with 85% train\n",
    "X_train, X_test, y_train, y_test = train_test_split(X, y, test_size=0.15, random_state=42)"
   ]
  },
  {
   "cell_type": "markdown",
   "metadata": {},
   "source": [
    "### Check train/test shape"
   ]
  },
  {
   "cell_type": "code",
   "execution_count": 266,
   "metadata": {
    "ExecuteTime": {
     "end_time": "2022-06-03T20:32:05.601661Z",
     "start_time": "2022-06-03T20:32:05.563420Z"
    }
   },
   "outputs": [
    {
     "name": "stdout",
     "output_type": "stream",
     "text": [
      "Training Features Shape: (5108, 30)\n",
      "Training Labels Shape: (902, 30)\n",
      "Testing Features Shape: (5108,)\n",
      "Testing Labels Shape: (902,)\n"
     ]
    }
   ],
   "source": [
    "print('Training Features Shape:', X_train.shape)\n",
    "print('Training Labels Shape:', X_test.shape)\n",
    "print('Testing Features Shape:', y_train.shape)\n",
    "print('Testing Labels Shape:', y_test.shape)"
   ]
  },
  {
   "cell_type": "markdown",
   "metadata": {},
   "source": [
    "### Train and Fit Model"
   ]
  },
  {
   "cell_type": "code",
   "execution_count": 267,
   "metadata": {
    "ExecuteTime": {
     "end_time": "2022-06-03T20:32:25.112311Z",
     "start_time": "2022-06-03T20:32:07.236140Z"
    }
   },
   "outputs": [],
   "source": [
    "# Instantiate model with 1000 decision trees\n",
    "rf = RandomForestRegressor(random_state = 42)\n",
    "\n",
    "# Train the model on training data\n",
    "rf.fit(X_train, y_train);"
   ]
  },
  {
   "cell_type": "markdown",
   "metadata": {},
   "source": [
    "### Predictions & Mean Absolute Error"
   ]
  },
  {
   "cell_type": "code",
   "execution_count": 268,
   "metadata": {
    "ExecuteTime": {
     "end_time": "2022-06-03T20:32:27.981329Z",
     "start_time": "2022-06-03T20:32:27.840841Z"
    }
   },
   "outputs": [
    {
     "name": "stdout",
     "output_type": "stream",
     "text": [
      "Mean Absolute Error: 0.06 of the Sharpe Ratio\n"
     ]
    }
   ],
   "source": [
    "# Use the forest's predict method on the test data\n",
    "predictions = rf.predict(X_test)\n",
    "\n",
    "# Calculate the absolute errors\n",
    "errors = abs(predictions - y_test)\n",
    "\n",
    "# Print out the mean absolute error (mae)\n",
    "print('Mean Absolute Error:', round(np.mean(errors), 2), 'of the Sharpe Ratio')"
   ]
  },
  {
   "cell_type": "markdown",
   "metadata": {},
   "source": [
    "### RMSE"
   ]
  },
  {
   "cell_type": "code",
   "execution_count": 269,
   "metadata": {
    "ExecuteTime": {
     "end_time": "2022-06-03T20:32:29.891756Z",
     "start_time": "2022-06-03T20:32:29.868412Z"
    }
   },
   "outputs": [
    {
     "name": "stdout",
     "output_type": "stream",
     "text": [
      "Test RMSE: 0.091\n"
     ]
    }
   ],
   "source": [
    "# evaluate forecasts\n",
    "rmse = sqrt(mean_squared_error(y_test, predictions))\n",
    "print('Test RMSE: %.3f' % rmse)"
   ]
  },
  {
   "cell_type": "markdown",
   "metadata": {},
   "source": [
    "### Feature Importance"
   ]
  },
  {
   "cell_type": "code",
   "execution_count": 270,
   "metadata": {
    "ExecuteTime": {
     "end_time": "2022-06-03T20:32:32.260907Z",
     "start_time": "2022-06-03T20:32:32.098245Z"
    }
   },
   "outputs": [
    {
     "name": "stdout",
     "output_type": "stream",
     "text": [
      "Variable: ExPost_SR            Importance: 0.11\n",
      "Variable: Volume               Importance: 0.08\n",
      "Variable: Volume_lag_1         Importance: 0.07\n",
      "Variable: Daily_Spread         Importance: 0.07\n",
      "Variable: 1_Week_Spread        Importance: 0.07\n",
      "Variable: Date                 Importance: 0.06\n",
      "Variable: Daily_Max_Min        Importance: 0.06\n",
      "Variable: 2_Day_Spread         Importance: 0.05\n",
      "Variable: MA_Prior_1day        Importance: 0.05\n",
      "Variable: MA_Prior_2day        Importance: 0.05\n",
      "Variable: MA_Prior_diff        Importance: 0.05\n",
      "Variable: 1_Day_Spread         Importance: 0.04\n",
      "Variable: High_lag_1           Importance: 0.03\n",
      "Variable: Open_lag_1           Importance: 0.03\n",
      "Variable: Close_lag_1          Importance: 0.03\n",
      "Variable: Low_lag_1            Importance: 0.03\n",
      "Variable: Open                 Importance: 0.02\n",
      "Variable: High                 Importance: 0.02\n",
      "Variable: Low                  Importance: 0.02\n",
      "Variable: Close                Importance: 0.02\n",
      "Variable: SecuritiesCode       Importance: 0.0\n",
      "Variable: EarningsPerShare     Importance: 0.0\n",
      "Variable: TotalAssets          Importance: 0.0\n",
      "Variable: ForecastProfit       Importance: 0.0\n",
      "Variable: ForecastEarningsPerShare Importance: 0.0\n",
      "Variable: NetSales             Importance: 0.0\n",
      "Variable: EquityToAssetRatio   Importance: 0.0\n",
      "Variable: 33SectorCode         Importance: 0.0\n",
      "Variable: MarketCapitalization Importance: 0.0\n",
      "Variable: IssuedShares         Importance: 0.0\n"
     ]
    }
   ],
   "source": [
    "# Saving feature names\n",
    "feature_list = list(X.columns)\n",
    "\n",
    "# Get numerical feature importances\n",
    "importances = list(rf.feature_importances_)\n",
    "\n",
    "# List of tuples with variable and importance\n",
    "feature_importances = [(feature, round(importance, 2)) for feature, importance in zip(feature_list, importances)]\n",
    "\n",
    "# Sort the feature importances by most important first\n",
    "feature_importances = sorted(feature_importances, key = lambda x: x[1], reverse = True)\n",
    "\n",
    "# Print out the feature and importances \n",
    "[print('Variable: {:20} Importance: {}'.format(*pair)) for pair in feature_importances];"
   ]
  },
  {
   "cell_type": "markdown",
   "metadata": {},
   "source": [
    "### Summary: Feature Importance:\n",
    "* Adding the date as an integer proved to be the most valuable.\n",
    "* As this model trains over many (2000) stocks, I am guessing the sector code may make more of an impact."
   ]
  },
  {
   "cell_type": "markdown",
   "metadata": {},
   "source": [
    "# GridSearch Hyper-Parameters"
   ]
  },
  {
   "cell_type": "code",
   "execution_count": null,
   "metadata": {
    "ExecuteTime": {
     "end_time": "2022-05-20T19:34:45.806041Z",
     "start_time": "2022-05-20T19:34:17.256Z"
    }
   },
   "outputs": [],
   "source": [
    "#model = RandomForestRegressor()\n",
    "#grid_rf = {\n",
    "#'n_estimators': [20, 50, 100, 500, 1000],  \n",
    "#'max_depth': np.arange(1, 15, 1),  \n",
    "#'min_samples_split': [2, 10, 9], \n",
    "#'min_samples_leaf': np.arange(1, 15, 2, dtype=int),  \n",
    "#'bootstrap': [True, False], \n",
    "#'random_state': [1, 2, 30, 42]\n",
    "#}\n",
    "#rscv = RandomizedSearchCV(estimator=model,param_distributions=grid_rf, cv=3, n_jobs=-1, verbose=2, n_iter=2)\n",
    "#rscv_fit = rscv.fit(X_train, y_train)\n",
    "#best_parameters = rscv_fit.best_params_\n",
    "#print(best_parameters)"
   ]
  },
  {
   "cell_type": "markdown",
   "metadata": {},
   "source": [
    "# Submission Prediction - All Stocks"
   ]
  },
  {
   "cell_type": "code",
   "execution_count": 118,
   "metadata": {
    "ExecuteTime": {
     "end_time": "2022-06-02T20:53:19.472628Z",
     "start_time": "2022-06-02T20:53:06.441980Z"
    },
    "scrolled": true
   },
   "outputs": [],
   "source": [
    "df2 = df1.copy()\n",
    "df2.head()\n",
    "df2 = feature_train(df2)"
   ]
  },
  {
   "cell_type": "markdown",
   "metadata": {},
   "source": [
    "## Train & Test"
   ]
  },
  {
   "cell_type": "markdown",
   "metadata": {},
   "source": [
    "### Train, Test, Split"
   ]
  },
  {
   "cell_type": "code",
   "execution_count": 119,
   "metadata": {
    "ExecuteTime": {
     "end_time": "2022-06-02T20:53:26.706296Z",
     "start_time": "2022-06-02T20:53:26.412759Z"
    }
   },
   "outputs": [],
   "source": [
    "# create X and y df's\n",
    "X = df2.drop('Target', axis=1)\n",
    "y = df2['Target']"
   ]
  },
  {
   "cell_type": "code",
   "execution_count": 120,
   "metadata": {
    "ExecuteTime": {
     "end_time": "2022-06-02T20:53:29.090767Z",
     "start_time": "2022-06-02T20:53:27.442551Z"
    }
   },
   "outputs": [],
   "source": [
    "# Run Train, Test, Split with 85% train\n",
    "X_train, X_test, y_train, y_test = train_test_split(X, y, test_size=0.15, random_state=42)"
   ]
  },
  {
   "cell_type": "markdown",
   "metadata": {},
   "source": [
    "## Check train/test shape"
   ]
  },
  {
   "cell_type": "code",
   "execution_count": 121,
   "metadata": {
    "ExecuteTime": {
     "end_time": "2022-06-02T20:53:31.233062Z",
     "start_time": "2022-06-02T20:53:31.223881Z"
    }
   },
   "outputs": [
    {
     "name": "stdout",
     "output_type": "stream",
     "text": [
      "Training Features Shape: (1982651, 21)\n",
      "Training Labels Shape: (349880, 21)\n",
      "Testing Features Shape: (1982651,)\n",
      "Testing Labels Shape: (349880,)\n"
     ]
    }
   ],
   "source": [
    "print('Training Features Shape:', X_train.shape)\n",
    "print('Training Labels Shape:', X_test.shape)\n",
    "print('Testing Features Shape:', y_train.shape)\n",
    "print('Testing Labels Shape:', y_test.shape)"
   ]
  },
  {
   "cell_type": "markdown",
   "metadata": {},
   "source": [
    "## Train Model"
   ]
  },
  {
   "cell_type": "code",
   "execution_count": 122,
   "metadata": {
    "ExecuteTime": {
     "end_time": "2022-06-02T20:58:40.787965Z",
     "start_time": "2022-06-02T20:53:38.927065Z"
    }
   },
   "outputs": [
    {
     "ename": "KeyboardInterrupt",
     "evalue": "",
     "output_type": "error",
     "traceback": [
      "\u001b[0;31m---------------------------------------------------------------------------\u001b[0m",
      "\u001b[0;31mKeyboardInterrupt\u001b[0m                         Traceback (most recent call last)",
      "\u001b[0;32m<ipython-input-122-175bee923296>\u001b[0m in \u001b[0;36m<module>\u001b[0;34m\u001b[0m\n\u001b[1;32m      3\u001b[0m \u001b[0;34m\u001b[0m\u001b[0m\n\u001b[1;32m      4\u001b[0m \u001b[0;31m# Train the model on training data\u001b[0m\u001b[0;34m\u001b[0m\u001b[0;34m\u001b[0m\u001b[0;34m\u001b[0m\u001b[0m\n\u001b[0;32m----> 5\u001b[0;31m \u001b[0mrf\u001b[0m\u001b[0;34m.\u001b[0m\u001b[0mfit\u001b[0m\u001b[0;34m(\u001b[0m\u001b[0mX_train\u001b[0m\u001b[0;34m,\u001b[0m \u001b[0my_train\u001b[0m\u001b[0;34m)\u001b[0m\u001b[0;34m;\u001b[0m\u001b[0;34m\u001b[0m\u001b[0;34m\u001b[0m\u001b[0m\n\u001b[0m",
      "\u001b[0;32m~/opt/anaconda3/envs/learn-env/lib/python3.8/site-packages/sklearn/ensemble/_forest.py\u001b[0m in \u001b[0;36mfit\u001b[0;34m(self, X, y, sample_weight)\u001b[0m\n\u001b[1;32m    448\u001b[0m             \u001b[0;31m# parallel_backend contexts set at a higher level,\u001b[0m\u001b[0;34m\u001b[0m\u001b[0;34m\u001b[0m\u001b[0;34m\u001b[0m\u001b[0m\n\u001b[1;32m    449\u001b[0m             \u001b[0;31m# since correctness does not rely on using threads.\u001b[0m\u001b[0;34m\u001b[0m\u001b[0;34m\u001b[0m\u001b[0;34m\u001b[0m\u001b[0m\n\u001b[0;32m--> 450\u001b[0;31m             trees = Parallel(\n\u001b[0m\u001b[1;32m    451\u001b[0m                 \u001b[0mn_jobs\u001b[0m\u001b[0;34m=\u001b[0m\u001b[0mself\u001b[0m\u001b[0;34m.\u001b[0m\u001b[0mn_jobs\u001b[0m\u001b[0;34m,\u001b[0m\u001b[0;34m\u001b[0m\u001b[0;34m\u001b[0m\u001b[0m\n\u001b[1;32m    452\u001b[0m                 \u001b[0mverbose\u001b[0m\u001b[0;34m=\u001b[0m\u001b[0mself\u001b[0m\u001b[0;34m.\u001b[0m\u001b[0mverbose\u001b[0m\u001b[0;34m,\u001b[0m\u001b[0;34m\u001b[0m\u001b[0;34m\u001b[0m\u001b[0m\n",
      "\u001b[0;32m~/opt/anaconda3/envs/learn-env/lib/python3.8/site-packages/joblib/parallel.py\u001b[0m in \u001b[0;36m__call__\u001b[0;34m(self, iterable)\u001b[0m\n\u001b[1;32m   1049\u001b[0m                 \u001b[0mself\u001b[0m\u001b[0;34m.\u001b[0m\u001b[0m_iterating\u001b[0m \u001b[0;34m=\u001b[0m \u001b[0mself\u001b[0m\u001b[0;34m.\u001b[0m\u001b[0m_original_iterator\u001b[0m \u001b[0;32mis\u001b[0m \u001b[0;32mnot\u001b[0m \u001b[0;32mNone\u001b[0m\u001b[0;34m\u001b[0m\u001b[0;34m\u001b[0m\u001b[0m\n\u001b[1;32m   1050\u001b[0m \u001b[0;34m\u001b[0m\u001b[0m\n\u001b[0;32m-> 1051\u001b[0;31m             \u001b[0;32mwhile\u001b[0m \u001b[0mself\u001b[0m\u001b[0;34m.\u001b[0m\u001b[0mdispatch_one_batch\u001b[0m\u001b[0;34m(\u001b[0m\u001b[0miterator\u001b[0m\u001b[0;34m)\u001b[0m\u001b[0;34m:\u001b[0m\u001b[0;34m\u001b[0m\u001b[0;34m\u001b[0m\u001b[0m\n\u001b[0m\u001b[1;32m   1052\u001b[0m                 \u001b[0;32mpass\u001b[0m\u001b[0;34m\u001b[0m\u001b[0;34m\u001b[0m\u001b[0m\n\u001b[1;32m   1053\u001b[0m \u001b[0;34m\u001b[0m\u001b[0m\n",
      "\u001b[0;32m~/opt/anaconda3/envs/learn-env/lib/python3.8/site-packages/joblib/parallel.py\u001b[0m in \u001b[0;36mdispatch_one_batch\u001b[0;34m(self, iterator)\u001b[0m\n\u001b[1;32m    864\u001b[0m                 \u001b[0;32mreturn\u001b[0m \u001b[0;32mFalse\u001b[0m\u001b[0;34m\u001b[0m\u001b[0;34m\u001b[0m\u001b[0m\n\u001b[1;32m    865\u001b[0m             \u001b[0;32melse\u001b[0m\u001b[0;34m:\u001b[0m\u001b[0;34m\u001b[0m\u001b[0;34m\u001b[0m\u001b[0m\n\u001b[0;32m--> 866\u001b[0;31m                 \u001b[0mself\u001b[0m\u001b[0;34m.\u001b[0m\u001b[0m_dispatch\u001b[0m\u001b[0;34m(\u001b[0m\u001b[0mtasks\u001b[0m\u001b[0;34m)\u001b[0m\u001b[0;34m\u001b[0m\u001b[0;34m\u001b[0m\u001b[0m\n\u001b[0m\u001b[1;32m    867\u001b[0m                 \u001b[0;32mreturn\u001b[0m \u001b[0;32mTrue\u001b[0m\u001b[0;34m\u001b[0m\u001b[0;34m\u001b[0m\u001b[0m\n\u001b[1;32m    868\u001b[0m \u001b[0;34m\u001b[0m\u001b[0m\n",
      "\u001b[0;32m~/opt/anaconda3/envs/learn-env/lib/python3.8/site-packages/joblib/parallel.py\u001b[0m in \u001b[0;36m_dispatch\u001b[0;34m(self, batch)\u001b[0m\n\u001b[1;32m    782\u001b[0m         \u001b[0;32mwith\u001b[0m \u001b[0mself\u001b[0m\u001b[0;34m.\u001b[0m\u001b[0m_lock\u001b[0m\u001b[0;34m:\u001b[0m\u001b[0;34m\u001b[0m\u001b[0;34m\u001b[0m\u001b[0m\n\u001b[1;32m    783\u001b[0m             \u001b[0mjob_idx\u001b[0m \u001b[0;34m=\u001b[0m \u001b[0mlen\u001b[0m\u001b[0;34m(\u001b[0m\u001b[0mself\u001b[0m\u001b[0;34m.\u001b[0m\u001b[0m_jobs\u001b[0m\u001b[0;34m)\u001b[0m\u001b[0;34m\u001b[0m\u001b[0;34m\u001b[0m\u001b[0m\n\u001b[0;32m--> 784\u001b[0;31m             \u001b[0mjob\u001b[0m \u001b[0;34m=\u001b[0m \u001b[0mself\u001b[0m\u001b[0;34m.\u001b[0m\u001b[0m_backend\u001b[0m\u001b[0;34m.\u001b[0m\u001b[0mapply_async\u001b[0m\u001b[0;34m(\u001b[0m\u001b[0mbatch\u001b[0m\u001b[0;34m,\u001b[0m \u001b[0mcallback\u001b[0m\u001b[0;34m=\u001b[0m\u001b[0mcb\u001b[0m\u001b[0;34m)\u001b[0m\u001b[0;34m\u001b[0m\u001b[0;34m\u001b[0m\u001b[0m\n\u001b[0m\u001b[1;32m    785\u001b[0m             \u001b[0;31m# A job can complete so quickly than its callback is\u001b[0m\u001b[0;34m\u001b[0m\u001b[0;34m\u001b[0m\u001b[0;34m\u001b[0m\u001b[0m\n\u001b[1;32m    786\u001b[0m             \u001b[0;31m# called before we get here, causing self._jobs to\u001b[0m\u001b[0;34m\u001b[0m\u001b[0;34m\u001b[0m\u001b[0;34m\u001b[0m\u001b[0m\n",
      "\u001b[0;32m~/opt/anaconda3/envs/learn-env/lib/python3.8/site-packages/joblib/_parallel_backends.py\u001b[0m in \u001b[0;36mapply_async\u001b[0;34m(self, func, callback)\u001b[0m\n\u001b[1;32m    206\u001b[0m     \u001b[0;32mdef\u001b[0m \u001b[0mapply_async\u001b[0m\u001b[0;34m(\u001b[0m\u001b[0mself\u001b[0m\u001b[0;34m,\u001b[0m \u001b[0mfunc\u001b[0m\u001b[0;34m,\u001b[0m \u001b[0mcallback\u001b[0m\u001b[0;34m=\u001b[0m\u001b[0;32mNone\u001b[0m\u001b[0;34m)\u001b[0m\u001b[0;34m:\u001b[0m\u001b[0;34m\u001b[0m\u001b[0;34m\u001b[0m\u001b[0m\n\u001b[1;32m    207\u001b[0m         \u001b[0;34m\"\"\"Schedule a func to be run\"\"\"\u001b[0m\u001b[0;34m\u001b[0m\u001b[0;34m\u001b[0m\u001b[0m\n\u001b[0;32m--> 208\u001b[0;31m         \u001b[0mresult\u001b[0m \u001b[0;34m=\u001b[0m \u001b[0mImmediateResult\u001b[0m\u001b[0;34m(\u001b[0m\u001b[0mfunc\u001b[0m\u001b[0;34m)\u001b[0m\u001b[0;34m\u001b[0m\u001b[0;34m\u001b[0m\u001b[0m\n\u001b[0m\u001b[1;32m    209\u001b[0m         \u001b[0;32mif\u001b[0m \u001b[0mcallback\u001b[0m\u001b[0;34m:\u001b[0m\u001b[0;34m\u001b[0m\u001b[0;34m\u001b[0m\u001b[0m\n\u001b[1;32m    210\u001b[0m             \u001b[0mcallback\u001b[0m\u001b[0;34m(\u001b[0m\u001b[0mresult\u001b[0m\u001b[0;34m)\u001b[0m\u001b[0;34m\u001b[0m\u001b[0;34m\u001b[0m\u001b[0m\n",
      "\u001b[0;32m~/opt/anaconda3/envs/learn-env/lib/python3.8/site-packages/joblib/_parallel_backends.py\u001b[0m in \u001b[0;36m__init__\u001b[0;34m(self, batch)\u001b[0m\n\u001b[1;32m    570\u001b[0m         \u001b[0;31m# Don't delay the application, to avoid keeping the input\u001b[0m\u001b[0;34m\u001b[0m\u001b[0;34m\u001b[0m\u001b[0;34m\u001b[0m\u001b[0m\n\u001b[1;32m    571\u001b[0m         \u001b[0;31m# arguments in memory\u001b[0m\u001b[0;34m\u001b[0m\u001b[0;34m\u001b[0m\u001b[0;34m\u001b[0m\u001b[0m\n\u001b[0;32m--> 572\u001b[0;31m         \u001b[0mself\u001b[0m\u001b[0;34m.\u001b[0m\u001b[0mresults\u001b[0m \u001b[0;34m=\u001b[0m \u001b[0mbatch\u001b[0m\u001b[0;34m(\u001b[0m\u001b[0;34m)\u001b[0m\u001b[0;34m\u001b[0m\u001b[0;34m\u001b[0m\u001b[0m\n\u001b[0m\u001b[1;32m    573\u001b[0m \u001b[0;34m\u001b[0m\u001b[0m\n\u001b[1;32m    574\u001b[0m     \u001b[0;32mdef\u001b[0m \u001b[0mget\u001b[0m\u001b[0;34m(\u001b[0m\u001b[0mself\u001b[0m\u001b[0;34m)\u001b[0m\u001b[0;34m:\u001b[0m\u001b[0;34m\u001b[0m\u001b[0;34m\u001b[0m\u001b[0m\n",
      "\u001b[0;32m~/opt/anaconda3/envs/learn-env/lib/python3.8/site-packages/joblib/parallel.py\u001b[0m in \u001b[0;36m__call__\u001b[0;34m(self)\u001b[0m\n\u001b[1;32m    260\u001b[0m         \u001b[0;31m# change the default number of processes to -1\u001b[0m\u001b[0;34m\u001b[0m\u001b[0;34m\u001b[0m\u001b[0;34m\u001b[0m\u001b[0m\n\u001b[1;32m    261\u001b[0m         \u001b[0;32mwith\u001b[0m \u001b[0mparallel_backend\u001b[0m\u001b[0;34m(\u001b[0m\u001b[0mself\u001b[0m\u001b[0;34m.\u001b[0m\u001b[0m_backend\u001b[0m\u001b[0;34m,\u001b[0m \u001b[0mn_jobs\u001b[0m\u001b[0;34m=\u001b[0m\u001b[0mself\u001b[0m\u001b[0;34m.\u001b[0m\u001b[0m_n_jobs\u001b[0m\u001b[0;34m)\u001b[0m\u001b[0;34m:\u001b[0m\u001b[0;34m\u001b[0m\u001b[0;34m\u001b[0m\u001b[0m\n\u001b[0;32m--> 262\u001b[0;31m             return [func(*args, **kwargs)\n\u001b[0m\u001b[1;32m    263\u001b[0m                     for func, args, kwargs in self.items]\n\u001b[1;32m    264\u001b[0m \u001b[0;34m\u001b[0m\u001b[0m\n",
      "\u001b[0;32m~/opt/anaconda3/envs/learn-env/lib/python3.8/site-packages/joblib/parallel.py\u001b[0m in \u001b[0;36m<listcomp>\u001b[0;34m(.0)\u001b[0m\n\u001b[1;32m    260\u001b[0m         \u001b[0;31m# change the default number of processes to -1\u001b[0m\u001b[0;34m\u001b[0m\u001b[0;34m\u001b[0m\u001b[0;34m\u001b[0m\u001b[0m\n\u001b[1;32m    261\u001b[0m         \u001b[0;32mwith\u001b[0m \u001b[0mparallel_backend\u001b[0m\u001b[0;34m(\u001b[0m\u001b[0mself\u001b[0m\u001b[0;34m.\u001b[0m\u001b[0m_backend\u001b[0m\u001b[0;34m,\u001b[0m \u001b[0mn_jobs\u001b[0m\u001b[0;34m=\u001b[0m\u001b[0mself\u001b[0m\u001b[0;34m.\u001b[0m\u001b[0m_n_jobs\u001b[0m\u001b[0;34m)\u001b[0m\u001b[0;34m:\u001b[0m\u001b[0;34m\u001b[0m\u001b[0;34m\u001b[0m\u001b[0m\n\u001b[0;32m--> 262\u001b[0;31m             return [func(*args, **kwargs)\n\u001b[0m\u001b[1;32m    263\u001b[0m                     for func, args, kwargs in self.items]\n\u001b[1;32m    264\u001b[0m \u001b[0;34m\u001b[0m\u001b[0m\n",
      "\u001b[0;32m~/opt/anaconda3/envs/learn-env/lib/python3.8/site-packages/sklearn/utils/fixes.py\u001b[0m in \u001b[0;36m__call__\u001b[0;34m(self, *args, **kwargs)\u001b[0m\n\u001b[1;32m    214\u001b[0m     \u001b[0;32mdef\u001b[0m \u001b[0m__call__\u001b[0m\u001b[0;34m(\u001b[0m\u001b[0mself\u001b[0m\u001b[0;34m,\u001b[0m \u001b[0;34m*\u001b[0m\u001b[0margs\u001b[0m\u001b[0;34m,\u001b[0m \u001b[0;34m**\u001b[0m\u001b[0mkwargs\u001b[0m\u001b[0;34m)\u001b[0m\u001b[0;34m:\u001b[0m\u001b[0;34m\u001b[0m\u001b[0;34m\u001b[0m\u001b[0m\n\u001b[1;32m    215\u001b[0m         \u001b[0;32mwith\u001b[0m \u001b[0mconfig_context\u001b[0m\u001b[0;34m(\u001b[0m\u001b[0;34m**\u001b[0m\u001b[0mself\u001b[0m\u001b[0;34m.\u001b[0m\u001b[0mconfig\u001b[0m\u001b[0;34m)\u001b[0m\u001b[0;34m:\u001b[0m\u001b[0;34m\u001b[0m\u001b[0;34m\u001b[0m\u001b[0m\n\u001b[0;32m--> 216\u001b[0;31m             \u001b[0;32mreturn\u001b[0m \u001b[0mself\u001b[0m\u001b[0;34m.\u001b[0m\u001b[0mfunction\u001b[0m\u001b[0;34m(\u001b[0m\u001b[0;34m*\u001b[0m\u001b[0margs\u001b[0m\u001b[0;34m,\u001b[0m \u001b[0;34m**\u001b[0m\u001b[0mkwargs\u001b[0m\u001b[0;34m)\u001b[0m\u001b[0;34m\u001b[0m\u001b[0;34m\u001b[0m\u001b[0m\n\u001b[0m\u001b[1;32m    217\u001b[0m \u001b[0;34m\u001b[0m\u001b[0m\n\u001b[1;32m    218\u001b[0m \u001b[0;34m\u001b[0m\u001b[0m\n",
      "\u001b[0;32m~/opt/anaconda3/envs/learn-env/lib/python3.8/site-packages/sklearn/ensemble/_forest.py\u001b[0m in \u001b[0;36m_parallel_build_trees\u001b[0;34m(tree, forest, X, y, sample_weight, tree_idx, n_trees, verbose, class_weight, n_samples_bootstrap)\u001b[0m\n\u001b[1;32m    183\u001b[0m             \u001b[0mcurr_sample_weight\u001b[0m \u001b[0;34m*=\u001b[0m \u001b[0mcompute_sample_weight\u001b[0m\u001b[0;34m(\u001b[0m\u001b[0;34m\"balanced\"\u001b[0m\u001b[0;34m,\u001b[0m \u001b[0my\u001b[0m\u001b[0;34m,\u001b[0m \u001b[0mindices\u001b[0m\u001b[0;34m=\u001b[0m\u001b[0mindices\u001b[0m\u001b[0;34m)\u001b[0m\u001b[0;34m\u001b[0m\u001b[0;34m\u001b[0m\u001b[0m\n\u001b[1;32m    184\u001b[0m \u001b[0;34m\u001b[0m\u001b[0m\n\u001b[0;32m--> 185\u001b[0;31m         \u001b[0mtree\u001b[0m\u001b[0;34m.\u001b[0m\u001b[0mfit\u001b[0m\u001b[0;34m(\u001b[0m\u001b[0mX\u001b[0m\u001b[0;34m,\u001b[0m \u001b[0my\u001b[0m\u001b[0;34m,\u001b[0m \u001b[0msample_weight\u001b[0m\u001b[0;34m=\u001b[0m\u001b[0mcurr_sample_weight\u001b[0m\u001b[0;34m,\u001b[0m \u001b[0mcheck_input\u001b[0m\u001b[0;34m=\u001b[0m\u001b[0;32mFalse\u001b[0m\u001b[0;34m)\u001b[0m\u001b[0;34m\u001b[0m\u001b[0;34m\u001b[0m\u001b[0m\n\u001b[0m\u001b[1;32m    186\u001b[0m     \u001b[0;32melse\u001b[0m\u001b[0;34m:\u001b[0m\u001b[0;34m\u001b[0m\u001b[0;34m\u001b[0m\u001b[0m\n\u001b[1;32m    187\u001b[0m         \u001b[0mtree\u001b[0m\u001b[0;34m.\u001b[0m\u001b[0mfit\u001b[0m\u001b[0;34m(\u001b[0m\u001b[0mX\u001b[0m\u001b[0;34m,\u001b[0m \u001b[0my\u001b[0m\u001b[0;34m,\u001b[0m \u001b[0msample_weight\u001b[0m\u001b[0;34m=\u001b[0m\u001b[0msample_weight\u001b[0m\u001b[0;34m,\u001b[0m \u001b[0mcheck_input\u001b[0m\u001b[0;34m=\u001b[0m\u001b[0;32mFalse\u001b[0m\u001b[0;34m)\u001b[0m\u001b[0;34m\u001b[0m\u001b[0;34m\u001b[0m\u001b[0m\n",
      "\u001b[0;32m~/opt/anaconda3/envs/learn-env/lib/python3.8/site-packages/sklearn/tree/_classes.py\u001b[0m in \u001b[0;36mfit\u001b[0;34m(self, X, y, sample_weight, check_input, X_idx_sorted)\u001b[0m\n\u001b[1;32m   1313\u001b[0m         \"\"\"\n\u001b[1;32m   1314\u001b[0m \u001b[0;34m\u001b[0m\u001b[0m\n\u001b[0;32m-> 1315\u001b[0;31m         super().fit(\n\u001b[0m\u001b[1;32m   1316\u001b[0m             \u001b[0mX\u001b[0m\u001b[0;34m,\u001b[0m\u001b[0;34m\u001b[0m\u001b[0;34m\u001b[0m\u001b[0m\n\u001b[1;32m   1317\u001b[0m             \u001b[0my\u001b[0m\u001b[0;34m,\u001b[0m\u001b[0;34m\u001b[0m\u001b[0;34m\u001b[0m\u001b[0m\n",
      "\u001b[0;32m~/opt/anaconda3/envs/learn-env/lib/python3.8/site-packages/sklearn/tree/_classes.py\u001b[0m in \u001b[0;36mfit\u001b[0;34m(self, X, y, sample_weight, check_input, X_idx_sorted)\u001b[0m\n\u001b[1;32m    418\u001b[0m             )\n\u001b[1;32m    419\u001b[0m \u001b[0;34m\u001b[0m\u001b[0m\n\u001b[0;32m--> 420\u001b[0;31m         \u001b[0mbuilder\u001b[0m\u001b[0;34m.\u001b[0m\u001b[0mbuild\u001b[0m\u001b[0;34m(\u001b[0m\u001b[0mself\u001b[0m\u001b[0;34m.\u001b[0m\u001b[0mtree_\u001b[0m\u001b[0;34m,\u001b[0m \u001b[0mX\u001b[0m\u001b[0;34m,\u001b[0m \u001b[0my\u001b[0m\u001b[0;34m,\u001b[0m \u001b[0msample_weight\u001b[0m\u001b[0;34m)\u001b[0m\u001b[0;34m\u001b[0m\u001b[0;34m\u001b[0m\u001b[0m\n\u001b[0m\u001b[1;32m    421\u001b[0m \u001b[0;34m\u001b[0m\u001b[0m\n\u001b[1;32m    422\u001b[0m         \u001b[0;32mif\u001b[0m \u001b[0mself\u001b[0m\u001b[0;34m.\u001b[0m\u001b[0mn_outputs_\u001b[0m \u001b[0;34m==\u001b[0m \u001b[0;36m1\u001b[0m \u001b[0;32mand\u001b[0m \u001b[0mis_classifier\u001b[0m\u001b[0;34m(\u001b[0m\u001b[0mself\u001b[0m\u001b[0;34m)\u001b[0m\u001b[0;34m:\u001b[0m\u001b[0;34m\u001b[0m\u001b[0;34m\u001b[0m\u001b[0m\n",
      "\u001b[0;31mKeyboardInterrupt\u001b[0m: "
     ]
    }
   ],
   "source": [
    "# Instantiate model with 1000 decision trees\n",
    "rf = RandomForestRegressor(random_state = 42)\n",
    "\n",
    "# Train the model on training data\n",
    "rf.fit(X_train, y_train);"
   ]
  },
  {
   "cell_type": "markdown",
   "metadata": {},
   "source": [
    "## Predictions & Mean Absolute Error"
   ]
  },
  {
   "cell_type": "code",
   "execution_count": null,
   "metadata": {
    "ExecuteTime": {
     "end_time": "2022-06-02T20:58:41.521703Z",
     "start_time": "2022-06-02T20:53:42.470Z"
    }
   },
   "outputs": [],
   "source": [
    "# Use the forest's predict method on the test data\n",
    "predictions = rf.predict(X_test)\n",
    "\n",
    "# Calculate the absolute errors\n",
    "errors = abs(predictions - y_test)\n",
    "\n",
    "# Print out the mean absolute error (mae)\n",
    "print('Mean Absolute Error:', round(np.mean(errors), 2), 'of the Sharpe Ratio')"
   ]
  },
  {
   "cell_type": "markdown",
   "metadata": {},
   "source": [
    "## RMSE"
   ]
  },
  {
   "cell_type": "code",
   "execution_count": null,
   "metadata": {
    "ExecuteTime": {
     "end_time": "2022-06-02T20:58:41.523219Z",
     "start_time": "2022-06-02T20:53:43.750Z"
    }
   },
   "outputs": [],
   "source": [
    "# evaluate forecasts\n",
    "rmse = sqrt(mean_squared_error(y_test, predictions))\n",
    "print('Test RMSE: %.3f' % rmse)"
   ]
  },
  {
   "cell_type": "markdown",
   "metadata": {},
   "source": [
    "## Feature Importance"
   ]
  },
  {
   "cell_type": "code",
   "execution_count": 200,
   "metadata": {
    "ExecuteTime": {
     "end_time": "2022-05-20T19:44:08.350449Z",
     "start_time": "2022-05-20T19:44:08.312211Z"
    }
   },
   "outputs": [
    {
     "name": "stdout",
     "output_type": "stream",
     "text": [
      "Variable: 1_day_spread         Importance: 0.21\n",
      "Variable: 2_day_spread         Importance: 0.18\n",
      "Variable: volume               Importance: 0.15\n",
      "Variable: daily_spread         Importance: 0.09\n",
      "Variable: 1_week_spread        Importance: 0.09\n",
      "Variable: open                 Importance: 0.07\n",
      "Variable: high                 Importance: 0.06\n",
      "Variable: close                Importance: 0.06\n",
      "Variable: low                  Importance: 0.05\n",
      "Variable: ExpectedDividend     Importance: 0.02\n",
      "Variable: AdjustmentFactor     Importance: 0.0\n",
      "Variable: SupervisionFlag      Importance: 0.0\n"
     ]
    }
   ],
   "source": [
    "# Saving feature names\n",
    "feature_list = list(X.columns)\n",
    "\n",
    "# Get numerical feature importances\n",
    "importances = list(rf.feature_importances_)\n",
    "\n",
    "# List of tuples with variable and importance\n",
    "feature_importances = [(feature, round(importance, 2)) for feature, importance in zip(feature_list, importances)]\n",
    "\n",
    "# Sort the feature importances by most important first\n",
    "feature_importances = sorted(feature_importances, key = lambda x: x[1], reverse = True)\n",
    "\n",
    "# Print out the feature and importances \n",
    "[print('Variable: {:20} Importance: {}'.format(*pair)) for pair in feature_importances];"
   ]
  },
  {
   "cell_type": "markdown",
   "metadata": {},
   "source": [
    "### Summary: Feature Importance:\n",
    "* Neat to see that my engineered features are in the top 3 most important features"
   ]
  }
 ],
 "metadata": {
  "kernelspec": {
   "display_name": "Python 3",
   "language": "python",
   "name": "python3"
  },
  "language_info": {
   "codemirror_mode": {
    "name": "ipython",
    "version": 3
   },
   "file_extension": ".py",
   "mimetype": "text/x-python",
   "name": "python",
   "nbconvert_exporter": "python",
   "pygments_lexer": "ipython3",
   "version": "3.8.5"
  },
  "toc": {
   "base_numbering": 1,
   "nav_menu": {},
   "number_sections": true,
   "sideBar": true,
   "skip_h1_title": false,
   "title_cell": "Table of Contents",
   "title_sidebar": "Contents",
   "toc_cell": true,
   "toc_position": {
    "height": "calc(100% - 180px)",
    "left": "10px",
    "top": "150px",
    "width": "176px"
   },
   "toc_section_display": true,
   "toc_window_display": true
  }
 },
 "nbformat": 4,
 "nbformat_minor": 4
}
